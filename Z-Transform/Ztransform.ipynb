{
  "nbformat": 4,
  "nbformat_minor": 0,
  "metadata": {
    "colab": {
      "name": "Ztransform.ipynb",
      "provenance": [],
      "collapsed_sections": []
    },
    "kernelspec": {
      "name": "python3",
      "display_name": "Python 3"
    }
  },
  "cells": [
    {
      "cell_type": "code",
      "metadata": {
        "id": "kIA_ze7yYIMk",
        "colab_type": "code",
        "colab": {}
      },
      "source": [
        "from IPython.display import (Image,\n",
        "                             display,\n",
        "                             Latex)\n",
        "from sympy import (symbols, \n",
        "                   latex,              \n",
        "                   DiracDelta,\n",
        "                   Heaviside,\n",
        "                   solve_poly_inequality,\n",
        "                   Poly,\n",
        "                   oo,Sum,symbols,Add,\n",
        "                   Piecewise,cos,sin,exp,log)\n",
        " \n",
        "n=symbols('n',integer=True)\n",
        "a , N, z =symbols('a, N, z')\n",
        "r, ω_0 =symbols('r, ω_0', real=True)\n",
        " \n",
        "def dlatex(arg):\n",
        "  display(Latex(arg))\n",
        "  return None\n",
        " \n",
        "def u(n):\n",
        "  return(Heaviside(n,1))"
      ],
      "execution_count": null,
      "outputs": []
    },
    {
      "cell_type": "code",
      "metadata": {
        "id": "WSnJ2Se5YfDC",
        "colab_type": "code",
        "colab": {}
      },
      "source": [
        "def zztrans(x_n, args):\n",
        "  z=symbols('z')\n",
        "  x_t, u_t = x_n.as_independent(args)\n",
        "  arg_1=u_t.args[0] # Linear equation (polinomial)\n",
        "  n_t=u_t.free_symbols # N is the only one variable. \n",
        "  # The rest of all coefficients is constant.\n",
        "  solve_p=solve_poly_inequality\n",
        "  if(args == Heaviside ):\n",
        "    interval=solve_p(Poly(arg_1, n_t, domain='ZZ'), '>')\n",
        "    MIN=interval[0].left\n",
        "    MAX=interval[0].right\n",
        "  if(args == DiracDelta ):\n",
        "    interval=solve_p(Poly(arg_1, n_t, domain='ZZ'), '==')\n",
        "    MIN=interval[0].args[0]\n",
        "    MAX=interval[0].args[0]\n",
        "  return(Sum(x_t*(z**-n),(n_t,MIN,MAX)).doit())\n",
        "\n",
        "def ztransf(x_n):\n",
        "  if(x_n.has(Heaviside)):\n",
        "    return(\n",
        "        zztrans(x_n,Heaviside)\n",
        "    )\n",
        "\n",
        "  if(x_n.has(DiracDelta)):\n",
        "    return(\n",
        "        zztrans(x_n,DiracDelta)\n",
        "    )\n",
        "def ztrans(x_n):\n",
        "  \"\"\"\n",
        "    Input is x[n]\n",
        "  \"\"\"\n",
        "  ztransformation=0\n",
        "  for x_term in Add.make_args(x_n):\n",
        "    ztransformation+=ztransf(x_term)\n",
        "  return (ztransformation.doit())#.simplify().simplify())\n",
        "  #return (ztransformation.doit().simplify().simplify())"
      ],
      "execution_count": null,
      "outputs": []
    },
    {
      "cell_type": "code",
      "metadata": {
        "id": "D8epg_FhY_uH",
        "colab_type": "code",
        "colab": {
          "base_uri": "https://localhost:8080/",
          "height": 68
        },
        "outputId": "abd7b129-c698-4ab1-944a-99903b1a7d35"
      },
      "source": [
        "\n",
        "\n",
        "dlatex(latex(\n",
        "    ztrans((a**n)*Heaviside(n,1) - (a**n)*Heaviside(n-3,1)).simplify().simplify()\n",
        "  )\n",
        ")"
      ],
      "execution_count": null,
      "outputs": [
        {
          "output_type": "display_data",
          "data": {
            "text/latex": "\\begin{cases} \\frac{a^{3} - z^{3}}{z^{2} \\left(a - z\\right)} & \\text{for}\\: \\left|{\\frac{a}{z}}\\right| < 1 \\\\\\sum_{n=0}^{\\infty} a^{n} z^{- n} - \\sum_{n=3}^{\\infty} a^{n} z^{- n} & \\text{otherwise} \\end{cases}",
            "text/plain": [
              "<IPython.core.display.Latex object>"
            ]
          },
          "metadata": {
            "tags": []
          }
        }
      ]
    },
    {
      "cell_type": "code",
      "metadata": {
        "id": "MD2C_qbdeJvF",
        "colab_type": "code",
        "colab": {
          "base_uri": "https://localhost:8080/",
          "height": 54
        },
        "outputId": "a071a16b-88b6-48da-a731-e3e4c3a1940b"
      },
      "source": [
        "ztrans((a**n)*Heaviside(n,1) - (a**n)*Heaviside(n-3,1))"
      ],
      "execution_count": null,
      "outputs": [
        {
          "output_type": "execute_result",
          "data": {
            "text/plain": [
              "-Piecewise((a**3/(z**3*(-a/z + 1)), Abs(a/z) < 1), (Sum(a**n*z**(-n), (n, 3, oo)), True)) + Piecewise((1/(-a/z + 1), Abs(a/z) < 1), (Sum(a**n*z**(-n), (n, 0, oo)), True))"
            ]
          },
          "metadata": {
            "tags": []
          },
          "execution_count": 4
        }
      ]
    },
    {
      "cell_type": "code",
      "metadata": {
        "id": "smUOS8xiezMo",
        "colab_type": "code",
        "colab": {}
      },
      "source": [
        "result=-Piecewise((a**3/(z**3*(-a/z + 1)), True), (Sum(a**n*z**(-n), (n, 3, oo)), True)) + Piecewise((1/(-a/z + 1), True), (Sum(a**n*z**(-n), (n, 0, oo)), True))"
      ],
      "execution_count": null,
      "outputs": []
    },
    {
      "cell_type": "code",
      "metadata": {
        "id": "T9mV45MqfDZw",
        "colab_type": "code",
        "colab": {
          "base_uri": "https://localhost:8080/",
          "height": 40
        },
        "outputId": "24e08214-36e6-46ba-ec73-8880fde24929"
      },
      "source": [
        "dlatex(latex(result.simplify()))"
      ],
      "execution_count": null,
      "outputs": [
        {
          "output_type": "display_data",
          "data": {
            "text/latex": "\\frac{a^{2}}{z^{2}} + \\frac{a}{z} + 1",
            "text/plain": [
              "<IPython.core.display.Latex object>"
            ]
          },
          "metadata": {
            "tags": []
          }
        }
      ]
    },
    {
      "cell_type": "code",
      "metadata": {
        "id": "D1oreA-CfIz4",
        "colab_type": "code",
        "colab": {
          "base_uri": "https://localhost:8080/",
          "height": 48
        },
        "outputId": "49984e80-8f35-452a-8f5f-d311e45e395b"
      },
      "source": [
        "dlatex(latex(result))"
      ],
      "execution_count": null,
      "outputs": [
        {
          "output_type": "display_data",
          "data": {
            "text/latex": "- \\frac{a^{3}}{z^{3} \\left(- \\frac{a}{z} + 1\\right)} + \\frac{1}{- \\frac{a}{z} + 1}",
            "text/plain": [
              "<IPython.core.display.Latex object>"
            ]
          },
          "metadata": {
            "tags": []
          }
        }
      ]
    },
    {
      "cell_type": "code",
      "metadata": {
        "id": "jsYO87iafoRf",
        "colab_type": "code",
        "colab": {}
      },
      "source": [
        ""
      ],
      "execution_count": null,
      "outputs": []
    },
    {
      "cell_type": "code",
      "metadata": {
        "id": "6rEpTgt7gBPx",
        "colab_type": "code",
        "colab": {
          "base_uri": "https://localhost:8080/",
          "height": 75
        },
        "outputId": "ce2e8ef3-94d0-42d1-b929-00c31d517f55"
      },
      "source": [
        "\"\"\"Fórmula 1\"\"\"\n",
        "\n",
        "\n",
        "A=r\"\\text{Fórmula 1 :}\"\n",
        "dlatex(A)\n",
        "print(\"\")\n",
        "\n",
        "A=r\"\\delta[n] \\; \\leftrightarrow \\;\"\n",
        "\n",
        "A+=latex(ztrans(DiracDelta(n)))\n",
        "dlatex(\n",
        "    A\n",
        ")"
      ],
      "execution_count": null,
      "outputs": [
        {
          "output_type": "display_data",
          "data": {
            "text/latex": "\\text{Fórmula 1 :}",
            "text/plain": [
              "<IPython.core.display.Latex object>"
            ]
          },
          "metadata": {
            "tags": []
          }
        },
        {
          "output_type": "stream",
          "text": [
            "\n"
          ],
          "name": "stdout"
        },
        {
          "output_type": "display_data",
          "data": {
            "text/latex": "\\delta[n] \\; \\leftrightarrow \\;1",
            "text/plain": [
              "<IPython.core.display.Latex object>"
            ]
          },
          "metadata": {
            "tags": []
          }
        }
      ]
    },
    {
      "cell_type": "code",
      "metadata": {
        "id": "VrqMzRQf9_9L",
        "colab_type": "code",
        "colab": {
          "base_uri": "https://localhost:8080/",
          "height": 35
        },
        "outputId": "d572fdef-623e-4622-837d-bdaaef8f1a70"
      },
      "source": [
        "latex(ztrans(DiracDelta(n)))"
      ],
      "execution_count": null,
      "outputs": [
        {
          "output_type": "execute_result",
          "data": {
            "application/vnd.google.colaboratory.intrinsic": {
              "type": "string"
            },
            "text/plain": [
              "'1'"
            ]
          },
          "metadata": {
            "tags": []
          },
          "execution_count": 9
        }
      ]
    },
    {
      "cell_type": "code",
      "metadata": {
        "id": "dEsLAb9a997Y",
        "colab_type": "code",
        "colab": {}
      },
      "source": [
        ""
      ],
      "execution_count": null,
      "outputs": []
    },
    {
      "cell_type": "code",
      "metadata": {
        "id": "04IkQtZehCrd",
        "colab_type": "code",
        "colab": {
          "base_uri": "https://localhost:8080/",
          "height": 105
        },
        "outputId": "7d733f3e-9376-44c5-e3c4-988c446408a8"
      },
      "source": [
        "\"\"\"Fórmula 2\"\"\"\n",
        "\n",
        "A=r\"\\text{Fórmula 2 :}\"\n",
        "dlatex(A)\n",
        "print(\"\")\n",
        "\n",
        "A=r\"u[n] \\; \\leftrightarrow \\;\"\n",
        "\n",
        "A+=latex(ztrans(\n",
        "    u(n)\n",
        "  ).simplify()\n",
        ")\n",
        "dlatex(\n",
        "    A\n",
        ")"
      ],
      "execution_count": null,
      "outputs": [
        {
          "output_type": "display_data",
          "data": {
            "text/latex": "\\text{Fórmula 2 :}",
            "text/plain": [
              "<IPython.core.display.Latex object>"
            ]
          },
          "metadata": {
            "tags": []
          }
        },
        {
          "output_type": "stream",
          "text": [
            "\n"
          ],
          "name": "stdout"
        },
        {
          "output_type": "display_data",
          "data": {
            "text/latex": "u[n] \\; \\leftrightarrow \\;\\begin{cases} \\frac{z}{z - 1} & \\text{for}\\: \\left|{\\frac{1}{z}}\\right| < 1 \\\\\\sum_{n=0}^{\\infty} z^{- n} & \\text{otherwise} \\end{cases}",
            "text/plain": [
              "<IPython.core.display.Latex object>"
            ]
          },
          "metadata": {
            "tags": []
          }
        }
      ]
    },
    {
      "cell_type": "code",
      "metadata": {
        "id": "kg2TEpU7Aom5",
        "colab_type": "code",
        "colab": {
          "base_uri": "https://localhost:8080/",
          "height": 52
        },
        "outputId": "2ba470bf-9cce-4170-940b-dcb867281612"
      },
      "source": [
        "latex(ztrans(\n",
        "    u(n)\n",
        "  ))"
      ],
      "execution_count": null,
      "outputs": [
        {
          "output_type": "execute_result",
          "data": {
            "application/vnd.google.colaboratory.intrinsic": {
              "type": "string"
            },
            "text/plain": [
              "'\\\\begin{cases} \\\\frac{1}{1 - \\\\frac{1}{z}} & \\\\text{for}\\\\: \\\\left|{\\\\frac{1}{z}}\\\\right| < 1 \\\\\\\\\\\\sum_{n=0}^{\\\\infty} z^{- n} & \\\\text{otherwise} \\\\end{cases}'"
            ]
          },
          "metadata": {
            "tags": []
          },
          "execution_count": 11
        }
      ]
    },
    {
      "cell_type": "code",
      "metadata": {
        "id": "QFricuXyhtbb",
        "colab_type": "code",
        "colab": {
          "base_uri": "https://localhost:8080/",
          "height": 105
        },
        "outputId": "5918ed11-20f1-4449-9782-72aba4511dad"
      },
      "source": [
        "\"\"\"Fórmula 3\"\"\"\n",
        "\n",
        "A=r\"\\text{Fórmula 3 :}\"\n",
        "dlatex(A)\n",
        "print(\"\")\n",
        "\n",
        "A=r\"-u[-n-1] \\; \\leftrightarrow \\;\"\n",
        "\n",
        "A+=latex(ztrans(\n",
        "    -u(-n-1)\n",
        "  ).simplify()\n",
        ")\n",
        "dlatex(\n",
        "    A\n",
        ")"
      ],
      "execution_count": null,
      "outputs": [
        {
          "output_type": "display_data",
          "data": {
            "text/latex": "\\text{Fórmula 3 :}",
            "text/plain": [
              "<IPython.core.display.Latex object>"
            ]
          },
          "metadata": {
            "tags": []
          }
        },
        {
          "output_type": "stream",
          "text": [
            "\n"
          ],
          "name": "stdout"
        },
        {
          "output_type": "display_data",
          "data": {
            "text/latex": "-u[-n-1] \\; \\leftrightarrow \\;\\begin{cases} \\frac{z}{z - 1} & \\text{for}\\: \\left|{z}\\right| < 1 \\\\- \\sum_{n=-\\infty}^{-1} z^{- n} & \\text{otherwise} \\end{cases}",
            "text/plain": [
              "<IPython.core.display.Latex object>"
            ]
          },
          "metadata": {
            "tags": []
          }
        }
      ]
    },
    {
      "cell_type": "code",
      "metadata": {
        "id": "82X5oYNgGSvT",
        "colab_type": "code",
        "colab": {
          "base_uri": "https://localhost:8080/",
          "height": 35
        },
        "outputId": "de508187-8666-4f15-d8f9-3b924f79094b"
      },
      "source": [
        "latex(ztrans(\n",
        "    -u(-n-1)\n",
        "  )\n",
        ")"
      ],
      "execution_count": null,
      "outputs": [
        {
          "output_type": "execute_result",
          "data": {
            "application/vnd.google.colaboratory.intrinsic": {
              "type": "string"
            },
            "text/plain": [
              "'- \\\\begin{cases} \\\\frac{z}{- z + 1} & \\\\text{for}\\\\: \\\\left|{z}\\\\right| < 1 \\\\\\\\\\\\sum_{n=-\\\\infty}^{-1} z^{- n} & \\\\text{otherwise} \\\\end{cases}'"
            ]
          },
          "metadata": {
            "tags": []
          },
          "execution_count": 13
        }
      ]
    },
    {
      "cell_type": "code",
      "metadata": {
        "id": "RfGYcYgIh3yT",
        "colab_type": "code",
        "colab": {
          "base_uri": "https://localhost:8080/",
          "height": 75
        },
        "outputId": "9a9d35ad-576d-4e2f-e845-980227db6623"
      },
      "source": [
        "\"\"\"Fórmula 4\"\"\"\n",
        "\n",
        "A=r\"\\text{Fórmula 4 :}\"\n",
        "dlatex(A)\n",
        "print(\"\")\n",
        "\n",
        "A=r\"\\delta[n-5] \\; \\leftrightarrow \\;\"\n",
        "\n",
        "A+=latex(ztrans(\n",
        "    DiracDelta(n-5)\n",
        "  )\n",
        ")\n",
        "dlatex(\n",
        "    A\n",
        ")"
      ],
      "execution_count": null,
      "outputs": [
        {
          "output_type": "display_data",
          "data": {
            "text/latex": "\\text{Fórmula 4 :}",
            "text/plain": [
              "<IPython.core.display.Latex object>"
            ]
          },
          "metadata": {
            "tags": []
          }
        },
        {
          "output_type": "stream",
          "text": [
            "\n"
          ],
          "name": "stdout"
        },
        {
          "output_type": "display_data",
          "data": {
            "text/latex": "\\delta[n-5] \\; \\leftrightarrow \\;\\frac{1}{z^{5}}",
            "text/plain": [
              "<IPython.core.display.Latex object>"
            ]
          },
          "metadata": {
            "tags": []
          }
        }
      ]
    },
    {
      "cell_type": "code",
      "metadata": {
        "id": "-bFPRJWlWP2e",
        "colab_type": "code",
        "colab": {
          "base_uri": "https://localhost:8080/",
          "height": 35
        },
        "outputId": "528a9308-9398-4c05-b8ca-f50c62c965a0"
      },
      "source": [
        "latex(ztrans(\n",
        "    DiracDelta(n-5)\n",
        "  )\n",
        ")"
      ],
      "execution_count": null,
      "outputs": [
        {
          "output_type": "execute_result",
          "data": {
            "application/vnd.google.colaboratory.intrinsic": {
              "type": "string"
            },
            "text/plain": [
              "'\\\\frac{1}{z^{5}}'"
            ]
          },
          "metadata": {
            "tags": []
          },
          "execution_count": 15
        }
      ]
    },
    {
      "cell_type": "code",
      "metadata": {
        "id": "0R7AbR9HLO9z",
        "colab_type": "code",
        "colab": {
          "base_uri": "https://localhost:8080/",
          "height": 35
        },
        "outputId": "cad82b4d-4695-466d-8211-759c715df626"
      },
      "source": [
        "latex(ztrans(\n",
        "    DiracDelta(n-5)\n",
        "  ))"
      ],
      "execution_count": null,
      "outputs": [
        {
          "output_type": "execute_result",
          "data": {
            "application/vnd.google.colaboratory.intrinsic": {
              "type": "string"
            },
            "text/plain": [
              "'\\\\frac{1}{z^{5}}'"
            ]
          },
          "metadata": {
            "tags": []
          },
          "execution_count": 16
        }
      ]
    },
    {
      "cell_type": "code",
      "metadata": {
        "id": "gRSlPwCjjOyA",
        "colab_type": "code",
        "colab": {
          "base_uri": "https://localhost:8080/",
          "height": 105
        },
        "outputId": "39c1f36b-2cac-4995-e53d-857ffc021809"
      },
      "source": [
        "\"\"\"Fórmula 5\"\"\"\n",
        "\n",
        "A=r\"\\text{Fórmula 5 :}\"\n",
        "dlatex(A)\n",
        "print(\"\")\n",
        "\n",
        "A=r\"a^{n}u[n] \\; \\leftrightarrow \\;\"\n",
        "\n",
        "A+=latex(ztrans(\n",
        "    a**n*u(n)\n",
        "  ).simplify()\n",
        ")\n",
        "dlatex(\n",
        "    A\n",
        ")"
      ],
      "execution_count": null,
      "outputs": [
        {
          "output_type": "display_data",
          "data": {
            "text/latex": "\\text{Fórmula 5 :}",
            "text/plain": [
              "<IPython.core.display.Latex object>"
            ]
          },
          "metadata": {
            "tags": []
          }
        },
        {
          "output_type": "stream",
          "text": [
            "\n"
          ],
          "name": "stdout"
        },
        {
          "output_type": "display_data",
          "data": {
            "text/latex": "a^{n}u[n] \\; \\leftrightarrow \\;\\begin{cases} \\frac{z}{- a + z} & \\text{for}\\: \\left|{\\frac{a}{z}}\\right| < 1 \\\\\\sum_{n=0}^{\\infty} a^{n} z^{- n} & \\text{otherwise} \\end{cases}",
            "text/plain": [
              "<IPython.core.display.Latex object>"
            ]
          },
          "metadata": {
            "tags": []
          }
        }
      ]
    },
    {
      "cell_type": "code",
      "metadata": {
        "id": "TRFuXcgRXIaU",
        "colab_type": "code",
        "colab": {
          "base_uri": "https://localhost:8080/",
          "height": 52
        },
        "outputId": "bf3753c7-1ea9-4050-e549-5df87ca2636d"
      },
      "source": [
        "latex(ztrans(\n",
        "    a**n*u(n)\n",
        "  )\n",
        ")"
      ],
      "execution_count": null,
      "outputs": [
        {
          "output_type": "execute_result",
          "data": {
            "application/vnd.google.colaboratory.intrinsic": {
              "type": "string"
            },
            "text/plain": [
              "'\\\\begin{cases} \\\\frac{1}{- \\\\frac{a}{z} + 1} & \\\\text{for}\\\\: \\\\left|{\\\\frac{a}{z}}\\\\right| < 1 \\\\\\\\\\\\sum_{n=0}^{\\\\infty} a^{n} z^{- n} & \\\\text{otherwise} \\\\end{cases}'"
            ]
          },
          "metadata": {
            "tags": []
          },
          "execution_count": 18
        }
      ]
    },
    {
      "cell_type": "code",
      "metadata": {
        "id": "L__SenRmjlwr",
        "colab_type": "code",
        "colab": {
          "base_uri": "https://localhost:8080/",
          "height": 105
        },
        "outputId": "421f60f4-a325-4794-931b-10565be4288e"
      },
      "source": [
        "\"\"\"Fórmula 6\"\"\"\n",
        "\n",
        "A=r\"\\text{Fórmula 6 :}\"\n",
        "dlatex(A)\n",
        "print(\"\")\n",
        "\n",
        "A=r\"-a^{n}u[-n-1] \\; \\leftrightarrow \\;\"\n",
        "\n",
        "A+=latex(ztrans(\n",
        "    -a**n*u(-n-1)\n",
        "  ).simplify().simplify()\n",
        ")\n",
        "dlatex(\n",
        "    A\n",
        ")"
      ],
      "execution_count": null,
      "outputs": [
        {
          "output_type": "display_data",
          "data": {
            "text/latex": "\\text{Fórmula 6 :}",
            "text/plain": [
              "<IPython.core.display.Latex object>"
            ]
          },
          "metadata": {
            "tags": []
          }
        },
        {
          "output_type": "stream",
          "text": [
            "\n"
          ],
          "name": "stdout"
        },
        {
          "output_type": "display_data",
          "data": {
            "text/latex": "-a^{n}u[-n-1] \\; \\leftrightarrow \\;\\begin{cases} \\frac{z}{- a + z} & \\text{for}\\: \\left|{\\frac{z}{a}}\\right| < 1 \\\\- \\sum_{n=-\\infty}^{-1} a^{n} z^{- n} & \\text{otherwise} \\end{cases}",
            "text/plain": [
              "<IPython.core.display.Latex object>"
            ]
          },
          "metadata": {
            "tags": []
          }
        }
      ]
    },
    {
      "cell_type": "code",
      "metadata": {
        "id": "VF7NdKtdYH_q",
        "colab_type": "code",
        "colab": {
          "base_uri": "https://localhost:8080/",
          "height": 52
        },
        "outputId": "d2d164ee-ff2a-4153-f746-2ae68ef7ec4b"
      },
      "source": [
        "latex(ztrans(\n",
        "    -a**n*u(-n-1)\n",
        "  )\n",
        ")"
      ],
      "execution_count": null,
      "outputs": [
        {
          "output_type": "execute_result",
          "data": {
            "application/vnd.google.colaboratory.intrinsic": {
              "type": "string"
            },
            "text/plain": [
              "'- \\\\begin{cases} \\\\frac{z}{a \\\\left(1 - \\\\frac{z}{a}\\\\right)} & \\\\text{for}\\\\: \\\\left|{\\\\frac{z}{a}}\\\\right| < 1 \\\\\\\\\\\\sum_{n=-\\\\infty}^{-1} a^{n} z^{- n} & \\\\text{otherwise} \\\\end{cases}'"
            ]
          },
          "metadata": {
            "tags": []
          },
          "execution_count": 20
        }
      ]
    },
    {
      "cell_type": "code",
      "metadata": {
        "id": "s2qN_0jAkonU",
        "colab_type": "code",
        "colab": {
          "base_uri": "https://localhost:8080/",
          "height": 105
        },
        "outputId": "81d47102-6bdc-46b5-8cda-9be677a0667e"
      },
      "source": [
        "\"\"\"Fórmula 7\"\"\"\n",
        "\n",
        "A=r\"\\text{Fórmula 7 :}\"\n",
        "dlatex(A)\n",
        "print(\"\")\n",
        "\n",
        "A=r\"na^{n}u[n] \\; \\leftrightarrow \\;\"\n",
        "\n",
        "A+=latex(ztrans(\n",
        "    n*a**n*u(n)\n",
        "  ).simplify()\n",
        ")\n",
        "dlatex(\n",
        "    A\n",
        ")"
      ],
      "execution_count": null,
      "outputs": [
        {
          "output_type": "display_data",
          "data": {
            "text/latex": "\\text{Fórmula 7 :}",
            "text/plain": [
              "<IPython.core.display.Latex object>"
            ]
          },
          "metadata": {
            "tags": []
          }
        },
        {
          "output_type": "stream",
          "text": [
            "\n"
          ],
          "name": "stdout"
        },
        {
          "output_type": "display_data",
          "data": {
            "text/latex": "na^{n}u[n] \\; \\leftrightarrow \\;\\begin{cases} \\frac{a z}{\\left(a - z\\right)^{2}} & \\text{for}\\: \\left|{\\frac{a}{z}}\\right| < 1 \\\\\\sum_{n=0}^{\\infty} a^{n} n z^{- n} & \\text{otherwise} \\end{cases}",
            "text/plain": [
              "<IPython.core.display.Latex object>"
            ]
          },
          "metadata": {
            "tags": []
          }
        }
      ]
    },
    {
      "cell_type": "code",
      "metadata": {
        "id": "HO8UbyIWZOap",
        "colab_type": "code",
        "colab": {
          "base_uri": "https://localhost:8080/",
          "height": 52
        },
        "outputId": "86b22f3d-9ae5-449f-ef65-abe0fd238d8e"
      },
      "source": [
        "latex(ztrans(\n",
        "    n*a**n*u(n)\n",
        "  )\n",
        ")"
      ],
      "execution_count": null,
      "outputs": [
        {
          "output_type": "execute_result",
          "data": {
            "application/vnd.google.colaboratory.intrinsic": {
              "type": "string"
            },
            "text/plain": [
              "'\\\\begin{cases} \\\\frac{a}{z \\\\left(- \\\\frac{a}{z} + 1\\\\right)^{2}} & \\\\text{for}\\\\: \\\\left|{\\\\frac{a}{z}}\\\\right| < 1 \\\\\\\\\\\\sum_{n=0}^{\\\\infty} a^{n} n z^{- n} & \\\\text{otherwise} \\\\end{cases}'"
            ]
          },
          "metadata": {
            "tags": []
          },
          "execution_count": 22
        }
      ]
    },
    {
      "cell_type": "code",
      "metadata": {
        "id": "LWVjyZcpk93m",
        "colab_type": "code",
        "colab": {
          "base_uri": "https://localhost:8080/",
          "height": 105
        },
        "outputId": "2acf570e-3d28-4e14-ca38-4efc5d0671ac"
      },
      "source": [
        "\"\"\"Fórmula 8\"\"\"\n",
        "\n",
        "A=r\"\\text{Fórmula 8 :}\"\n",
        "dlatex(A)\n",
        "print(\"\")\n",
        "\n",
        "A=r\"-na^{n}u[-n-1] \\; \\leftrightarrow \\;\"\n",
        "\n",
        "A+=latex(ztrans(\n",
        "    -n*a**n*u(-n-1)\n",
        "  ).simplify()\n",
        ")\n",
        "dlatex(\n",
        "    A\n",
        ")"
      ],
      "execution_count": null,
      "outputs": [
        {
          "output_type": "display_data",
          "data": {
            "text/latex": "\\text{Fórmula 8 :}",
            "text/plain": [
              "<IPython.core.display.Latex object>"
            ]
          },
          "metadata": {
            "tags": []
          }
        },
        {
          "output_type": "stream",
          "text": [
            "\n"
          ],
          "name": "stdout"
        },
        {
          "output_type": "display_data",
          "data": {
            "text/latex": "-na^{n}u[-n-1] \\; \\leftrightarrow \\;\\begin{cases} \\frac{a z}{a^{2} - 2 a z + z^{2}} & \\text{for}\\: \\left|{\\frac{z}{a}}\\right| < 1 \\\\- \\sum_{n=-\\infty}^{-1} a^{n} n z^{- n} & \\text{otherwise} \\end{cases}",
            "text/plain": [
              "<IPython.core.display.Latex object>"
            ]
          },
          "metadata": {
            "tags": []
          }
        }
      ]
    },
    {
      "cell_type": "code",
      "metadata": {
        "id": "D7Eo9-zAaHsF",
        "colab_type": "code",
        "colab": {
          "base_uri": "https://localhost:8080/",
          "height": 52
        },
        "outputId": "101223b2-12d0-4ad5-dd30-71702f318ed5"
      },
      "source": [
        "latex(ztrans(\n",
        "    -n*a**n*u(-n-1)\n",
        "  )\n",
        ")"
      ],
      "execution_count": null,
      "outputs": [
        {
          "output_type": "execute_result",
          "data": {
            "application/vnd.google.colaboratory.intrinsic": {
              "type": "string"
            },
            "text/plain": [
              "'- \\\\begin{cases} - \\\\frac{z}{a \\\\left(1 - \\\\frac{z}{a}\\\\right)^{2}} & \\\\text{for}\\\\: \\\\left|{\\\\frac{z}{a}}\\\\right| < 1 \\\\\\\\\\\\sum_{n=-\\\\infty}^{-1} a^{n} n z^{- n} & \\\\text{otherwise} \\\\end{cases}'"
            ]
          },
          "metadata": {
            "tags": []
          },
          "execution_count": 24
        }
      ]
    },
    {
      "cell_type": "code",
      "metadata": {
        "id": "LVrI1sNfl0__",
        "colab_type": "code",
        "colab": {
          "base_uri": "https://localhost:8080/",
          "height": 75
        },
        "outputId": "e36d494a-7e56-4420-ac90-f5a50e9d0575"
      },
      "source": [
        "\"\"\"Fórmula 9\"\"\"\n",
        "\n",
        "A=r\"\\text{Fórmula 9 :}\"\n",
        "dlatex(A)\n",
        "print(\"\")\n",
        "\n",
        "A=r\"\\cos(\\omega_0 n)u[n] \\; \\leftrightarrow \\;\"\n",
        "\n",
        "A+=latex(ztrans(\n",
        "    cos(ω_0*n)*u(n)\n",
        "  ).doit()\n",
        ")\n",
        "dlatex(\n",
        "    A\n",
        ")"
      ],
      "execution_count": null,
      "outputs": [
        {
          "output_type": "display_data",
          "data": {
            "text/latex": "\\text{Fórmula 9 :}",
            "text/plain": [
              "<IPython.core.display.Latex object>"
            ]
          },
          "metadata": {
            "tags": []
          }
        },
        {
          "output_type": "stream",
          "text": [
            "\n"
          ],
          "name": "stdout"
        },
        {
          "output_type": "display_data",
          "data": {
            "text/latex": "\\cos(\\omega_0 n)u[n] \\; \\leftrightarrow \\;\\sum_{n=0}^{\\infty} z^{- n} \\cos{\\left (n ω_{0} \\right )}",
            "text/plain": [
              "<IPython.core.display.Latex object>"
            ]
          },
          "metadata": {
            "tags": []
          }
        }
      ]
    },
    {
      "cell_type": "code",
      "metadata": {
        "id": "HhQ1ORn8aoUy",
        "colab_type": "code",
        "colab": {
          "base_uri": "https://localhost:8080/",
          "height": 35
        },
        "outputId": "8b7d0526-219e-4eed-f937-f425704cf038"
      },
      "source": [
        "latex(ztrans(\n",
        "    cos(ω_0*n)*u(n)\n",
        "  ).doit()\n",
        ")"
      ],
      "execution_count": null,
      "outputs": [
        {
          "output_type": "execute_result",
          "data": {
            "application/vnd.google.colaboratory.intrinsic": {
              "type": "string"
            },
            "text/plain": [
              "'\\\\sum_{n=0}^{\\\\infty} z^{- n} \\\\cos{\\\\left (n ω_{0} \\\\right )}'"
            ]
          },
          "metadata": {
            "tags": []
          },
          "execution_count": 26
        }
      ]
    },
    {
      "cell_type": "markdown",
      "metadata": {
        "id": "IgIlN7d91SAq",
        "colab_type": "text"
      },
      "source": [
        "É necessário utilizar as relações de Euler sobre a propriedade 5."
      ]
    },
    {
      "cell_type": "code",
      "metadata": {
        "id": "4eUjZkTNm77O",
        "colab_type": "code",
        "colab": {
          "base_uri": "https://localhost:8080/",
          "height": 109
        },
        "outputId": "9d8fc420-dd71-472b-a761-515a3aa283e8"
      },
      "source": [
        "\"\"\"Fórmula 9\"\"\"\n",
        "\n",
        "A=r\"\\text{Fórmula 9 :}\"\n",
        "dlatex(A)\n",
        "print(\"\")\n",
        "\n",
        "A=r\"\\cos(\\omega_0 n)u[n] \\; \\leftrightarrow \\;\"\n",
        "\n",
        "r_1=ztrans(\n",
        "    (a**n +a**(-n))*u(n)*(1/2)\n",
        "  ).subs(a,exp(1j*ω_0))\n",
        "A+=latex((r_1).simplify())\n",
        "dlatex(A)"
      ],
      "execution_count": null,
      "outputs": [
        {
          "output_type": "display_data",
          "data": {
            "text/latex": "\\text{Fórmula 9 :}",
            "text/plain": [
              "<IPython.core.display.Latex object>"
            ]
          },
          "metadata": {
            "tags": []
          }
        },
        {
          "output_type": "stream",
          "text": [
            "\n"
          ],
          "name": "stdout"
        },
        {
          "output_type": "display_data",
          "data": {
            "text/latex": "\\cos(\\omega_0 n)u[n] \\; \\leftrightarrow \\;\\begin{cases} 0.5 z \\left(\\frac{e^{1.0 i ω_{0}}}{z e^{1.0 i ω_{0}} - 1} + \\frac{1}{z - e^{1.0 i ω_{0}}}\\right) & \\text{for}\\: \\left|{\\frac{1}{z}}\\right| < 1 \\\\0.5 \\sum_{n=0}^{\\infty} z^{- n} e^{- 1.0 i n ω_{0}} + 0.5 \\sum_{n=0}^{\\infty} z^{- n} e^{1.0 i n ω_{0}} & \\text{otherwise} \\end{cases}",
            "text/plain": [
              "<IPython.core.display.Latex object>"
            ]
          },
          "metadata": {
            "tags": []
          }
        }
      ]
    },
    {
      "cell_type": "code",
      "metadata": {
        "id": "_Fh4TYGBauGb",
        "colab_type": "code",
        "colab": {
          "base_uri": "https://localhost:8080/",
          "height": 52
        },
        "outputId": "7b9dd95e-7f64-46d2-8dd0-b74f27982966"
      },
      "source": [
        "r_1=ztrans(\n",
        "    (a**n +a**(-n))*u(n)*(1/2)\n",
        "  ).subs(a,exp(1j*ω_0))\n",
        "latex((r_1).simplify())"
      ],
      "execution_count": null,
      "outputs": [
        {
          "output_type": "execute_result",
          "data": {
            "application/vnd.google.colaboratory.intrinsic": {
              "type": "string"
            },
            "text/plain": [
              "'\\\\begin{cases} 0.5 z \\\\left(\\\\frac{e^{1.0 i ω_{0}}}{z e^{1.0 i ω_{0}} - 1} + \\\\frac{1}{z - e^{1.0 i ω_{0}}}\\\\right) & \\\\text{for}\\\\: \\\\left|{\\\\frac{1}{z}}\\\\right| < 1 \\\\\\\\0.5 \\\\sum_{n=0}^{\\\\infty} z^{- n} e^{- 1.0 i n ω_{0}} + 0.5 \\\\sum_{n=0}^{\\\\infty} z^{- n} e^{1.0 i n ω_{0}} & \\\\text{otherwise} \\\\end{cases}'"
            ]
          },
          "metadata": {
            "tags": []
          },
          "execution_count": 28
        }
      ]
    },
    {
      "cell_type": "code",
      "metadata": {
        "id": "ghQ8s5I701Kw",
        "colab_type": "code",
        "colab": {
          "base_uri": "https://localhost:8080/",
          "height": 109
        },
        "outputId": "5345d4e6-2c9d-4357-a801-dc16129e0ca2"
      },
      "source": [
        "\"\"\"Fórmula 10\"\"\"\n",
        "\n",
        "A=r\"\\text{Fórmula 10 :}\"\n",
        "dlatex(A)\n",
        "print(\"\")\n",
        "\n",
        "A=r\"\\sin(\\omega_0 n)u[n] \\; \\leftrightarrow \\;\"\n",
        "\n",
        "r_1=ztrans(\n",
        "    (a**n-a**(-n))*u(n)*(1/2j)\n",
        "  ).subs(a,exp(1j*ω_0))\n",
        "A+=latex((r_1).simplify())\n",
        "dlatex(A)"
      ],
      "execution_count": null,
      "outputs": [
        {
          "output_type": "display_data",
          "data": {
            "text/latex": "\\text{Fórmula 10 :}",
            "text/plain": [
              "<IPython.core.display.Latex object>"
            ]
          },
          "metadata": {
            "tags": []
          }
        },
        {
          "output_type": "stream",
          "text": [
            "\n"
          ],
          "name": "stdout"
        },
        {
          "output_type": "display_data",
          "data": {
            "text/latex": "\\sin(\\omega_0 n)u[n] \\; \\leftrightarrow \\;\\begin{cases} 0.5 i z \\left(\\frac{e^{1.0 i ω_{0}}}{z e^{1.0 i ω_{0}} - 1} - \\frac{1}{z - e^{1.0 i ω_{0}}}\\right) & \\text{for}\\: \\left|{\\frac{1}{z}}\\right| < 1 \\\\0.5 i \\left(\\sum_{n=0}^{\\infty} z^{- n} e^{- 1.0 i n ω_{0}} - \\sum_{n=0}^{\\infty} z^{- n} e^{1.0 i n ω_{0}}\\right) & \\text{otherwise} \\end{cases}",
            "text/plain": [
              "<IPython.core.display.Latex object>"
            ]
          },
          "metadata": {
            "tags": []
          }
        }
      ]
    },
    {
      "cell_type": "code",
      "metadata": {
        "id": "m60MIihbcOlm",
        "colab_type": "code",
        "colab": {
          "base_uri": "https://localhost:8080/",
          "height": 69
        },
        "outputId": "397db7b0-79ca-4983-809c-db897c8b1d9a"
      },
      "source": [
        "r_1=ztrans(\n",
        "    (a**n-a**(-n))*u(n)*(1/2j)\n",
        "  ).subs(a,exp(1j*ω_0))\n",
        "latex((r_1).simplify())"
      ],
      "execution_count": null,
      "outputs": [
        {
          "output_type": "execute_result",
          "data": {
            "application/vnd.google.colaboratory.intrinsic": {
              "type": "string"
            },
            "text/plain": [
              "'\\\\begin{cases} 0.5 i z \\\\left(\\\\frac{e^{1.0 i ω_{0}}}{z e^{1.0 i ω_{0}} - 1} - \\\\frac{1}{z - e^{1.0 i ω_{0}}}\\\\right) & \\\\text{for}\\\\: \\\\left|{\\\\frac{1}{z}}\\\\right| < 1 \\\\\\\\0.5 i \\\\left(\\\\sum_{n=0}^{\\\\infty} z^{- n} e^{- 1.0 i n ω_{0}} - \\\\sum_{n=0}^{\\\\infty} z^{- n} e^{1.0 i n ω_{0}}\\\\right) & \\\\text{otherwise} \\\\end{cases}'"
            ]
          },
          "metadata": {
            "tags": []
          },
          "execution_count": 30
        }
      ]
    },
    {
      "cell_type": "code",
      "metadata": {
        "id": "bMQE5qQc5OV-",
        "colab_type": "code",
        "colab": {
          "base_uri": "https://localhost:8080/",
          "height": 109
        },
        "outputId": "327478ba-0f18-4fb7-bf2b-b24fc5c48993"
      },
      "source": [
        "\"\"\"Fórmula 11\"\"\"\n",
        "\n",
        "A=r\"\\text{Fórmula 11 :}\"\n",
        "dlatex(A)\n",
        "print(\"\")\n",
        "\n",
        "A=r\"r^{n}\\cos(\\omega_0 n)u[n] \\; \\leftrightarrow \\;\"\n",
        "\n",
        "r_1=ztrans(\n",
        "    r**n*(a**n+a**(-n))*u(n)*(1/2)\n",
        "  ).subs(a,exp(1j*ω_0))\n",
        "A+=latex((r_1).simplify())\n",
        "dlatex(A)"
      ],
      "execution_count": null,
      "outputs": [
        {
          "output_type": "display_data",
          "data": {
            "text/latex": "\\text{Fórmula 11 :}",
            "text/plain": [
              "<IPython.core.display.Latex object>"
            ]
          },
          "metadata": {
            "tags": []
          }
        },
        {
          "output_type": "stream",
          "text": [
            "\n"
          ],
          "name": "stdout"
        },
        {
          "output_type": "display_data",
          "data": {
            "text/latex": "r^{n}\\cos(\\omega_0 n)u[n] \\; \\leftrightarrow \\;\\begin{cases} 0.5 z \\left(\\frac{1}{- r e^{1.0 i ω_{0}} + z} + \\frac{e^{1.0 i ω_{0}}}{- r + z e^{1.0 i ω_{0}}}\\right) & \\text{for}\\: \\left|{\\frac{r}{z}}\\right| < 1 \\\\0.5 \\sum_{n=0}^{\\infty} r^{n} z^{- n} e^{- 1.0 i n ω_{0}} + 0.5 \\sum_{n=0}^{\\infty} r^{n} z^{- n} e^{1.0 i n ω_{0}} & \\text{otherwise} \\end{cases}",
            "text/plain": [
              "<IPython.core.display.Latex object>"
            ]
          },
          "metadata": {
            "tags": []
          }
        }
      ]
    },
    {
      "cell_type": "code",
      "metadata": {
        "id": "vlKS-kGiefK_",
        "colab_type": "code",
        "colab": {
          "base_uri": "https://localhost:8080/",
          "height": 69
        },
        "outputId": "a1bb8b50-34b9-4d50-e0dc-d20bfb626e6f"
      },
      "source": [
        "r_1=ztrans(\n",
        "    r**n*(a**n+a**(-n))*u(n)*(1/2)\n",
        "  ).subs(a,exp(1j*ω_0))\n",
        "latex((r_1).simplify())"
      ],
      "execution_count": null,
      "outputs": [
        {
          "output_type": "execute_result",
          "data": {
            "application/vnd.google.colaboratory.intrinsic": {
              "type": "string"
            },
            "text/plain": [
              "'\\\\begin{cases} 0.5 z \\\\left(\\\\frac{1}{- r e^{1.0 i ω_{0}} + z} + \\\\frac{e^{1.0 i ω_{0}}}{- r + z e^{1.0 i ω_{0}}}\\\\right) & \\\\text{for}\\\\: \\\\left|{\\\\frac{r}{z}}\\\\right| < 1 \\\\\\\\0.5 \\\\sum_{n=0}^{\\\\infty} r^{n} z^{- n} e^{- 1.0 i n ω_{0}} + 0.5 \\\\sum_{n=0}^{\\\\infty} r^{n} z^{- n} e^{1.0 i n ω_{0}} & \\\\text{otherwise} \\\\end{cases}'"
            ]
          },
          "metadata": {
            "tags": []
          },
          "execution_count": 32
        }
      ]
    },
    {
      "cell_type": "code",
      "metadata": {
        "id": "eohPBkDn6UPn",
        "colab_type": "code",
        "colab": {
          "base_uri": "https://localhost:8080/",
          "height": 109
        },
        "outputId": "32f8b4bc-2610-41f3-a04e-92d0bbf25a4d"
      },
      "source": [
        "\"\"\"Fórmula 12\"\"\"\n",
        "\n",
        "A=r\"\\text{Fórmula 12 :}\"\n",
        "dlatex(A)\n",
        "print(\"\")\n",
        "\n",
        "A=r\"r^{n}\\sin(\\omega_0 n)u[n] \\; \\leftrightarrow \\;\"\n",
        "\n",
        "r_1=ztrans(\n",
        "    r**n*(a**n-a**(-n))*u(n)*(1/2j)\n",
        "  ).subs(a,exp(1j*ω_0))\n",
        "A+=latex((r_1).simplify())\n",
        "dlatex(A)"
      ],
      "execution_count": null,
      "outputs": [
        {
          "output_type": "display_data",
          "data": {
            "text/latex": "\\text{Fórmula 12 :}",
            "text/plain": [
              "<IPython.core.display.Latex object>"
            ]
          },
          "metadata": {
            "tags": []
          }
        },
        {
          "output_type": "stream",
          "text": [
            "\n"
          ],
          "name": "stdout"
        },
        {
          "output_type": "display_data",
          "data": {
            "text/latex": "r^{n}\\sin(\\omega_0 n)u[n] \\; \\leftrightarrow \\;\\begin{cases} 0.5 i z \\left(- \\frac{1}{- r e^{1.0 i ω_{0}} + z} + \\frac{e^{1.0 i ω_{0}}}{- r + z e^{1.0 i ω_{0}}}\\right) & \\text{for}\\: \\left|{\\frac{r}{z}}\\right| < 1 \\\\0.5 i \\left(\\sum_{n=0}^{\\infty} r^{n} z^{- n} e^{- 1.0 i n ω_{0}} - \\sum_{n=0}^{\\infty} r^{n} z^{- n} e^{1.0 i n ω_{0}}\\right) & \\text{otherwise} \\end{cases}",
            "text/plain": [
              "<IPython.core.display.Latex object>"
            ]
          },
          "metadata": {
            "tags": []
          }
        }
      ]
    },
    {
      "cell_type": "code",
      "metadata": {
        "id": "EOHK_YIsg912",
        "colab_type": "code",
        "colab": {
          "base_uri": "https://localhost:8080/",
          "height": 69
        },
        "outputId": "30e19dec-32af-45c9-84ab-7719edd372a1"
      },
      "source": [
        "r_1=ztrans(\n",
        "    r**n*(a**n-a**(-n))*u(n)*(1/2j)\n",
        "  ).subs(a,exp(1j*ω_0))\n",
        "latex((r_1).simplify())"
      ],
      "execution_count": null,
      "outputs": [
        {
          "output_type": "execute_result",
          "data": {
            "application/vnd.google.colaboratory.intrinsic": {
              "type": "string"
            },
            "text/plain": [
              "'\\\\begin{cases} 0.5 i z \\\\left(- \\\\frac{1}{- r e^{1.0 i ω_{0}} + z} + \\\\frac{e^{1.0 i ω_{0}}}{- r + z e^{1.0 i ω_{0}}}\\\\right) & \\\\text{for}\\\\: \\\\left|{\\\\frac{r}{z}}\\\\right| < 1 \\\\\\\\0.5 i \\\\left(\\\\sum_{n=0}^{\\\\infty} r^{n} z^{- n} e^{- 1.0 i n ω_{0}} - \\\\sum_{n=0}^{\\\\infty} r^{n} z^{- n} e^{1.0 i n ω_{0}}\\\\right) & \\\\text{otherwise} \\\\end{cases}'"
            ]
          },
          "metadata": {
            "tags": []
          },
          "execution_count": 34
        }
      ]
    }
  ]
}