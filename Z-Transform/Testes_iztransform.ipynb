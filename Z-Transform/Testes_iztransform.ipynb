{
  "nbformat": 4,
  "nbformat_minor": 0,
  "metadata": {
    "colab": {
      "name": "Testes_iztransform.ipynb",
      "provenance": [],
      "collapsed_sections": []
    },
    "kernelspec": {
      "name": "python3",
      "display_name": "Python 3"
    }
  },
  "cells": [
    {
      "cell_type": "code",
      "metadata": {
        "id": "j2x2vxmy9zTB",
        "colab_type": "code",
        "colab": {}
      },
      "source": [
        "from IPython.display import (Image,\n",
        "                             display,\n",
        "                             Latex)\n",
        "from sympy import (symbols, \n",
        "                   latex,              \n",
        "                   DiracDelta,\n",
        "                   Heaviside,\n",
        "                   solve_poly_inequality,\n",
        "                   Poly,\n",
        "                   oo,Sum,Add,\n",
        "                   Piecewise)\n",
        "\n",
        "from sympy import (pi,\n",
        "                   integrate,\n",
        "                   cos,sin,Abs)\n",
        "\n",
        "def dlatex(arg):\n",
        "  display(Latex(arg))\n",
        "  return None"
      ],
      "execution_count": 1,
      "outputs": []
    },
    {
      "cell_type": "code",
      "metadata": {
        "id": "l9zpgPOm-XW4",
        "colab_type": "code",
        "colab": {}
      },
      "source": [
        "def zztrans(x_n, args):\n",
        "  z=symbols('z')\n",
        "  x_t, u_t = x_n.as_independent(args)\n",
        "  arg_1=u_t.args[0] # Linear equation (polinomial)\n",
        "  n_t=u_t.free_symbols # N is the only one variable. \n",
        "  # All the rest of coefficients are constant.\n",
        "  solve_p=solve_poly_inequality\n",
        "  if(args == Heaviside ):\n",
        "    interval=solve_p(Poly(arg_1, n_t, domain='ZZ'), '>')\n",
        "    MIN=interval[0].left\n",
        "    MAX=interval[0].right\n",
        "  if(args == DiracDelta ):\n",
        "    interval=solve_p(Poly(arg_1, n_t, domain='ZZ'), '==')\n",
        "    MIN=interval[0].args[0]\n",
        "    MAX=interval[0].args[0]\n",
        "  return(Sum(x_t*(z**-n),(n_t,MIN,MAX)).doit())\n",
        "\n",
        "def ztransf(x_n):\n",
        "  if(x_n.has(Heaviside)):\n",
        "    return(\n",
        "        zztrans(x_n,Heaviside)\n",
        "    )\n",
        "\n",
        "  if(x_n.has(DiracDelta)):\n",
        "    return(\n",
        "        zztrans(x_n,DiracDelta)\n",
        "    )\n",
        "def ztrans(x_n):\n",
        "  \"\"\"\n",
        "    Input is x[n]\n",
        "  \"\"\"\n",
        "  ztransformation=0\n",
        "  for x_term in Add.make_args(x_n):\n",
        "    ztransformation+=ztransf(x_term)\n",
        "  return (ztransformation.doit())#.simplify().simplify())\n",
        "  #return (ztransformation.doit().simplify().simplify())\n",
        "\n",
        "def u(n):\n",
        "  return(Heaviside(n,1))"
      ],
      "execution_count": 2,
      "outputs": []
    },
    {
      "cell_type": "code",
      "metadata": {
        "id": "CohqlziU_LH6",
        "colab_type": "code",
        "colab": {}
      },
      "source": [
        "def iztrans(F,n,m=1.0):\n",
        "  # m = |(z/a)|\n",
        "  from sympy import symbols\n",
        "  z,t=symbols('z,t')\n",
        "  from numpy import pi as npi\n",
        "  from sympy import pi as spi\n",
        "  from sympy import (limit,\n",
        "                     integrate)\n",
        "  from sympy import (log,cos,sin)\n",
        "  from numpy import log as nplog\n",
        "  from numpy import cos as npcos\n",
        "  from numpy import sin as npsin\n",
        "  from numpy import exp as npexp\n",
        "  from sympy import Heaviside \n",
        "\n",
        "  func=F\n",
        "\n",
        " # GAMBIARRA\n",
        "  \"\"\"Corrigindo Bugs de integrate\"\"\"\n",
        "  if(abs(m)<1):\n",
        "    #n=n+1\n",
        "    n=-1*n\n",
        "    func=-F*z**(n-1)\n",
        "  else:\n",
        "    func=F*z**(n-1)\n",
        "\n",
        "  m=1\n",
        "  \"\"\"Corrigindo Bugs de integrate\"\"\"\n",
        "  # GAMBIARRA\n",
        "\n",
        "  #func=func.subs(z,m*cos(t)+m*1j*sin(t))\n",
        "  #func=func*(-sin(t)+1j*cos(t))*m\n",
        "  integral_result=integrate(func,z)\n",
        "  \n",
        "  \n",
        "  int_param=integral_result.subs(z,abs(m)*(cos(t)+1j*sin(t)) )\n",
        "  result=(int_param.subs(t,npi)-int_param.subs(t,-npi)).simplify()\n",
        "  result=(spi/npi)*result.simplify()\n",
        "  result=result/(2*spi*1j).simplify()\n",
        "\n",
        "  \"\"\"Corrigindo Bugs de integrate\"\"\"\n",
        "  if(abs(m)<1):\n",
        "    result=result*Heaviside(-n-1,1)\n",
        "  \"\"\"Corrigindo Bugs de integrate\"\"\"\n",
        "  \n",
        "  return(result.simplify())"
      ],
      "execution_count": 3,
      "outputs": []
    },
    {
      "cell_type": "code",
      "metadata": {
        "id": "DiJL-6jKI35k",
        "colab_type": "code",
        "colab": {}
      },
      "source": [
        "z=symbols('z')\n",
        "a=symbols('a')\n",
        "from numpy import arange as nparange\n",
        "from matplotlib.pyplot import stem,show,figure"
      ],
      "execution_count": 4,
      "outputs": []
    },
    {
      "cell_type": "code",
      "metadata": {
        "id": "__isW-E8IunC",
        "colab_type": "code",
        "colab": {
          "base_uri": "https://localhost:8080/",
          "height": 304
        },
        "outputId": "3e78f81e-b091-4ad0-eeb4-33535abf08b8"
      },
      "source": [
        "title=\"\"\"Simétrico da Fórmula 1\"\"\"\n",
        "N=20\n",
        "X_z=1.0\n",
        "results=[ iztrans(X_z,i) for i in nparange(-N,N+1)]\n",
        "\n",
        "fig = figure()\n",
        "ax1 = fig.add_subplot(111)\n",
        "ax1.set_ylabel('Valor',fontsize=15)\n",
        "ax1.set_xlabel('N',fontsize=15)\n",
        "ax1.set_title(title,fontsize=18)\n",
        "stem(nparange(-N,N+1),results, use_line_collection=True,linefmt=None, \n",
        "     markerfmt=None, basefmt=None)\n",
        "show()"
      ],
      "execution_count": 5,
      "outputs": [
        {
          "output_type": "display_data",
          "data": {
            "image/png": "[encoded data removed]",
            "text/plain": [
              "<Figure size 432x288 with 1 Axes>"
            ]
          },
          "metadata": {
            "tags": [],
            "needs_background": "light"
          }
        }
      ]
    },
    {
      "cell_type": "code",
      "metadata": {
        "id": "RegFdtM1M5l1",
        "colab_type": "code",
        "colab": {
          "base_uri": "https://localhost:8080/",
          "height": 34
        },
        "outputId": "4c08f838-f737-47ca-a262-11445adf50eb"
      },
      "source": [
        "n=symbols('n')\n",
        "print(ztrans(\n",
        "    u(n)\n",
        "  )\n",
        ")"
      ],
      "execution_count": 6,
      "outputs": [
        {
          "output_type": "stream",
          "text": [
            "Piecewise((1/(1 - 1/z), Abs(1/z) < 1), (Sum(z**(-n), (n, 0, oo)), True))\n"
          ],
          "name": "stdout"
        }
      ]
    },
    {
      "cell_type": "code",
      "metadata": {
        "id": "izsKFWuFMyJo",
        "colab_type": "code",
        "colab": {
          "base_uri": "https://localhost:8080/",
          "height": 304
        },
        "outputId": "dc4bd999-7b10-4e71-c020-4796a3afee23"
      },
      "source": [
        "title=\"\"\"Simétrico da Fórmula 2\"\"\"\n",
        "N=20\n",
        "X_z=Piecewise((z/(z - 1), True), (Sum(z**(-n), (n, 0, oo)), True))\n",
        "results=[ iztrans(X_z,i) for i in nparange(-N,N+1)]\n",
        "\n",
        "fig = figure()\n",
        "ax1 = fig.add_subplot(111)\n",
        "ax1.set_ylabel('Valor',fontsize=15)\n",
        "ax1.set_xlabel('N',fontsize=15)\n",
        "ax1.set_title(title,fontsize=18)\n",
        "stem(nparange(-N,N+1),results, use_line_collection=True,linefmt=None, \n",
        "     markerfmt=None, basefmt=None)\n",
        "show()"
      ],
      "execution_count": 7,
      "outputs": [
        {
          "output_type": "display_data",
          "data": {
            "image/png": "[encoded data removed]",
            "text/plain": [
              "<Figure size 432x288 with 1 Axes>"
            ]
          },
          "metadata": {
            "tags": [],
            "needs_background": "light"
          }
        }
      ]
    },
    {
      "cell_type": "code",
      "metadata": {
        "id": "GwRs9w3oNzBm",
        "colab_type": "code",
        "colab": {
          "base_uri": "https://localhost:8080/",
          "height": 34
        },
        "outputId": "486397a2-99e3-4032-b5fa-df4febf24072"
      },
      "source": [
        "print(ztrans(\n",
        "    -u(-n-1)\n",
        "  )\n",
        ")"
      ],
      "execution_count": 8,
      "outputs": [
        {
          "output_type": "stream",
          "text": [
            "-Piecewise((z/(-z + 1), Abs(z) < 1), (Sum(z**(-n), (n, -oo, -1)), True))\n"
          ],
          "name": "stdout"
        }
      ]
    },
    {
      "cell_type": "code",
      "metadata": {
        "id": "Q3nnq-e1M4x2",
        "colab_type": "code",
        "colab": {
          "base_uri": "https://localhost:8080/",
          "height": 304
        },
        "outputId": "e3d97f6f-0b34-4167-f1db-11ad656fc770"
      },
      "source": [
        "title=\"\"\"Simétrico da Fórmula 3\"\"\"\n",
        "\n",
        "N=20\n",
        "\n",
        "X=Piecewise((z/(z - 1), True), (-Sum(z**(-n), (n, -oo, -1)), True))\n",
        "m=0.01\n",
        "\n",
        "\n",
        "results=[ iztrans(X,i,m) for i in nparange(-N,N+1)]\n",
        "\n",
        "fig = figure()\n",
        "ax1 = fig.add_subplot(111)\n",
        "ax1.set_ylabel('Valor',fontsize=15)\n",
        "ax1.set_xlabel('N',fontsize=15)\n",
        "ax1.set_title(title,fontsize=18)\n",
        "stem(nparange(-N,N+1),results, use_line_collection=True,linefmt=None, markerfmt=None, basefmt=None)\n",
        "show()"
      ],
      "execution_count": 9,
      "outputs": [
        {
          "output_type": "display_data",
          "data": {
            "image/png": "[encoded data removed]",
            "text/plain": [
              "<Figure size 432x288 with 1 Axes>"
            ]
          },
          "metadata": {
            "tags": [],
            "needs_background": "light"
          }
        }
      ]
    },
    {
      "cell_type": "code",
      "metadata": {
        "id": "0lr4Wv6EQUwz",
        "colab_type": "code",
        "colab": {
          "base_uri": "https://localhost:8080/",
          "height": 34
        },
        "outputId": "297c1986-dd64-4a50-cdd7-97abed61448e"
      },
      "source": [
        "print(ztrans(\n",
        "    DiracDelta(n-5)\n",
        "  )\n",
        ")"
      ],
      "execution_count": 10,
      "outputs": [
        {
          "output_type": "stream",
          "text": [
            "z**(-5)\n"
          ],
          "name": "stdout"
        }
      ]
    },
    {
      "cell_type": "code",
      "metadata": {
        "id": "hqP0nwCGUJUS",
        "colab_type": "code",
        "colab": {
          "base_uri": "https://localhost:8080/",
          "height": 304
        },
        "outputId": "21e4089c-1339-484f-a6f5-2622f3b5c90b"
      },
      "source": [
        "title=\"\"\"Simétrico da Fórmula 4\"\"\"\n",
        "\n",
        "N=20\n",
        "\n",
        "X=z**(-5)\n",
        "\n",
        "m=1.0\n",
        "\n",
        "\n",
        "results=[ iztrans(X,i,m) for i in nparange(-N,N+1)]\n",
        "\n",
        "fig = figure()\n",
        "ax1 = fig.add_subplot(111)\n",
        "ax1.set_ylabel('Valor',fontsize=15)\n",
        "ax1.set_xlabel('N',fontsize=15)\n",
        "ax1.set_title(title,fontsize=18)\n",
        "stem(nparange(-N,N+1),results, use_line_collection=True,linefmt=None, markerfmt=None, basefmt=None)\n",
        "show()"
      ],
      "execution_count": 11,
      "outputs": [
        {
          "output_type": "display_data",
          "data": {
            "image/png": "[encoded data removed]",
            "text/plain": [
              "<Figure size 432x288 with 1 Axes>"
            ]
          },
          "metadata": {
            "tags": [],
            "needs_background": "light"
          }
        }
      ]
    },
    {
      "cell_type": "code",
      "metadata": {
        "id": "iTjoM-B_Q8yA",
        "colab_type": "code",
        "colab": {
          "base_uri": "https://localhost:8080/",
          "height": 34
        },
        "outputId": "a2ccd717-551a-4fa2-ff80-2507c7ef149d"
      },
      "source": [
        "print(ztrans(\n",
        "    a**n*u(n)\n",
        "  )\n",
        ")"
      ],
      "execution_count": 12,
      "outputs": [
        {
          "output_type": "stream",
          "text": [
            "Piecewise((1/(-a/z + 1), Abs(a/z) < 1), (Sum(a**n*z**(-n), (n, 0, oo)), True))\n"
          ],
          "name": "stdout"
        }
      ]
    },
    {
      "cell_type": "code",
      "metadata": {
        "id": "1U5qoEfwQ6Ej",
        "colab_type": "code",
        "colab": {
          "base_uri": "https://localhost:8080/",
          "height": 304
        },
        "outputId": "22896869-de47-452c-a367-f632406271e2"
      },
      "source": [
        "title=\"\"\"Simétrico da Fórmula 5\"\"\"\n",
        "\n",
        "N=6\n",
        "\n",
        "X=Piecewise((z/(-a+z), True), (Sum(a**n*z**(-n), (n, 0, oo)), True))\n",
        "X=X.subs(a,2)\n",
        "# a deve ser substituído por um INTEIRO !\n",
        "\n",
        "m=1.0\n",
        "\n",
        "\n",
        "results=[ iztrans(X,i,m) for i in nparange(-N,N+1)]\n",
        "\n",
        "fig = figure()\n",
        "ax1 = fig.add_subplot(111)\n",
        "ax1.set_ylabel('Valor',fontsize=15)\n",
        "ax1.set_xlabel('N',fontsize=15)\n",
        "ax1.set_title(title,fontsize=18)\n",
        "stem(nparange(-N,N+1),results, use_line_collection=True,linefmt=None, markerfmt=None, basefmt=None)\n",
        "show()"
      ],
      "execution_count": 13,
      "outputs": [
        {
          "output_type": "display_data",
          "data": {
            "image/png": "[encoded data removed]",
            "text/plain": [
              "<Figure size 432x288 with 1 Axes>"
            ]
          },
          "metadata": {
            "tags": [],
            "needs_background": "light"
          }
        }
      ]
    },
    {
      "cell_type": "code",
      "metadata": {
        "id": "V6Hfs6jqSBE6",
        "colab_type": "code",
        "colab": {
          "base_uri": "https://localhost:8080/",
          "height": 34
        },
        "outputId": "ddec1728-fb6a-4e29-99a5-c7f68a3b48fa"
      },
      "source": [
        "print(ztrans(\n",
        "    -a**n*u(-n-1)\n",
        "  )\n",
        ")"
      ],
      "execution_count": 14,
      "outputs": [
        {
          "output_type": "stream",
          "text": [
            "-Piecewise((z/(a*(1 - z/a)), Abs(z/a) < 1), (Sum(a**n*z**(-n), (n, -oo, -1)), True))\n"
          ],
          "name": "stdout"
        }
      ]
    },
    {
      "cell_type": "code",
      "metadata": {
        "id": "9sjfHpTFSFCh",
        "colab_type": "code",
        "colab": {
          "base_uri": "https://localhost:8080/",
          "height": 304
        },
        "outputId": "2ea5f439-8811-4589-eb3e-35909e30f214"
      },
      "source": [
        "title=\"\"\"Simétrico da Fórmula 6\"\"\"\n",
        "\n",
        "N=6\n",
        "\n",
        "X=Piecewise((z/(-a + z), True), (-Sum(a**n*z**(-n), (n, -oo, -1)), True))\n",
        "X=X.subs(a,2)\n",
        "# a deve ser substituído por um INTEIRO !\n",
        "\n",
        "#######\n",
        "m=0.999\n",
        "#######\n",
        "\n",
        "\n",
        "results=[ iztrans(X,i,m) for i in nparange(-N,N+1)]\n",
        "\n",
        "fig = figure()\n",
        "ax1 = fig.add_subplot(111)\n",
        "ax1.set_ylabel('Valor',fontsize=15)\n",
        "ax1.set_xlabel('N',fontsize=15)\n",
        "ax1.set_title(title,fontsize=18)\n",
        "stem(nparange(-N,N+1),results, use_line_collection=True,linefmt=None, \n",
        "     markerfmt=None, basefmt=None)\n",
        "show()"
      ],
      "execution_count": 15,
      "outputs": [
        {
          "output_type": "display_data",
          "data": {
            "image/png": "[encoded data removed]",
            "text/plain": [
              "<Figure size 432x288 with 1 Axes>"
            ]
          },
          "metadata": {
            "tags": [],
            "needs_background": "light"
          }
        }
      ]
    },
    {
      "cell_type": "code",
      "metadata": {
        "id": "4YwAI7IzSY5D",
        "colab_type": "code",
        "colab": {
          "base_uri": "https://localhost:8080/",
          "height": 34
        },
        "outputId": "244cee7f-b4e4-489e-fea8-0c082970a05d"
      },
      "source": [
        "print(ztrans(\n",
        "    n*a**n*u(n)\n",
        "  )\n",
        ")"
      ],
      "execution_count": 22,
      "outputs": [
        {
          "output_type": "stream",
          "text": [
            "Piecewise((a/(z*(-a/z + 1)**2), Abs(a/z) < 1), (Sum(a**n*n*z**(-n), (n, 0, oo)), True))\n"
          ],
          "name": "stdout"
        }
      ]
    },
    {
      "cell_type": "code",
      "metadata": {
        "id": "2V0idhY7SfgK",
        "colab_type": "code",
        "colab": {
          "base_uri": "https://localhost:8080/",
          "height": 304
        },
        "outputId": "aaa50fab-7006-4420-81f9-30c3554e980f"
      },
      "source": [
        "title=\"\"\"Simétrico da Fórmula 7\"\"\"\n",
        "\n",
        "N=6\n",
        "\n",
        "X=Piecewise((a*z/(a - z)**2, True), (Sum(a**n*n*z**(-n), (n, 0, oo)), True))\n",
        "X=X.subs(a,2)\n",
        "# a deve ser substituído por um INTEIRO !\n",
        "\n",
        "#######\n",
        "m=39\n",
        "#######\n",
        "\n",
        "\n",
        "results=[ iztrans(X,i,m) for i in nparange(-N,N+1)]\n",
        "\n",
        "fig = figure()\n",
        "ax1 = fig.add_subplot(111)\n",
        "ax1.set_ylabel('Valor',fontsize=15)\n",
        "ax1.set_xlabel('N',fontsize=15)\n",
        "ax1.set_title(title,fontsize=18)\n",
        "stem(nparange(-N,N+1),results, use_line_collection=True,linefmt=None, \n",
        "     markerfmt=None, basefmt=None)\n",
        "show()"
      ],
      "execution_count": 17,
      "outputs": [
        {
          "output_type": "display_data",
          "data": {
            "image/png": "[encoded data removed]",
            "text/plain": [
              "<Figure size 432x288 with 1 Axes>"
            ]
          },
          "metadata": {
            "tags": [],
            "needs_background": "light"
          }
        }
      ]
    },
    {
      "cell_type": "code",
      "metadata": {
        "id": "gEprXIwqTF0O",
        "colab_type": "code",
        "colab": {
          "base_uri": "https://localhost:8080/",
          "height": 34
        },
        "outputId": "c707e395-053e-4d4e-beb0-6e2819fa05e7"
      },
      "source": [
        "print(ztrans(\n",
        "    -n*a**n*u(-n-1)\n",
        "  )\n",
        ")"
      ],
      "execution_count": 18,
      "outputs": [
        {
          "output_type": "stream",
          "text": [
            "-Piecewise((-z/(a*(1 - z/a)**2), Abs(z/a) < 1), (Sum(a**n*n*z**(-n), (n, -oo, -1)), True))\n"
          ],
          "name": "stdout"
        }
      ]
    },
    {
      "cell_type": "code",
      "metadata": {
        "id": "gAwKgUyWTHx_",
        "colab_type": "code",
        "colab": {
          "base_uri": "https://localhost:8080/",
          "height": 304
        },
        "outputId": "23bf4023-0447-499c-d115-8221f999a8a1"
      },
      "source": [
        "title=\"\"\"Simétrico da Fórmula 8\"\"\"\n",
        "\n",
        "N=6\n",
        "\n",
        "X=Piecewise((a*z/(a**2 - 2*a*z + z**2), True), (-Sum(a**n*n*z**(-n), (n, -oo, -1)), True))\n",
        "X=X.subs(a,2)\n",
        "# a deve ser substituído por um INTEIRO !\n",
        "\n",
        "#######\n",
        "m=0.001\n",
        "#######\n",
        "\n",
        "\n",
        "results=[ iztrans(X,i,m) for i in nparange(-N,N+1)]\n",
        "\n",
        "fig = figure()\n",
        "ax1 = fig.add_subplot(111)\n",
        "ax1.set_ylabel('Valor',fontsize=15)\n",
        "ax1.set_xlabel('N',fontsize=15)\n",
        "ax1.set_title(title,fontsize=18)\n",
        "stem(nparange(-N,N+1),results, use_line_collection=True,linefmt=None, \n",
        "     markerfmt=None, basefmt=None)\n",
        "show()"
      ],
      "execution_count": 19,
      "outputs": [
        {
          "output_type": "display_data",
          "data": {
            "image/png": "[encoded data removed]",
            "text/plain": [
              "<Figure size 432x288 with 1 Axes>"
            ]
          },
          "metadata": {
            "tags": [],
            "needs_background": "light"
          }
        }
      ]
    }
  ]
}