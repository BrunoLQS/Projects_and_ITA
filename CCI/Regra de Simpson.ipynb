{
 "cells": [
  {
   "cell_type": "markdown",
   "metadata": {},
   "source": [
    "### Regra de Simpson simples"
   ]
  },
  {
   "cell_type": "code",
   "execution_count": 1,
   "metadata": {},
   "outputs": [
    {
     "name": "stdout",
     "output_type": "stream",
     "text": [
      "O resultado pela Regra de Simpson simples foi I_s = 6.518519\n"
     ]
    }
   ],
   "source": [
    "import numpy as np\n",
    "#Número de sub-intervalos [MÉTODO SIMPLES N=2 !]\n",
    "N=2\n",
    "\n",
    "# ============================ INTERVALO ===================#\n",
    "#Extrema esquerda do intervalo\n",
    "a=0.0\n",
    "#Extrema direita do intervalo\n",
    "b=2.0\n",
    "#Comprimento de cada intervalo\n",
    "h=(b-a)/N\n",
    "\n",
    "#Função cuja integral será estimada numericamente\n",
    "# ======================== FUNÇÃO ===================== #\n",
    "def f(x):\n",
    "    y=x**4\n",
    "    return y\n",
    "\n",
    "X=np.zeros(N+1)\n",
    "# Preenchendo o vetor X com as abcissas dos nodos de interpolação .\n",
    "# O loop é exclusivo à direita\n",
    "for i in np.arange(0,N+1,1):\n",
    "    X[i]=a+i*h\n",
    "# Gerando a ordenada de cada um desses nodos de interpolação.   \n",
    "Y=f(X)\n",
    "\n",
    "#MATRIZ DE vandermonde\n",
    "A= np.zeros([(N+1),(N+1)])\n",
    "# UMA MATRIZ N+1 x N+1 foi criada\n",
    "\n",
    "# Inserindo no vetor X |INSERINDO NA FILA 0 | O ELEMENTO [1] | ao longo de AXIS 0  -> FILA=LINHA\n",
    "#TODOS OS OUTROS ELEMENTOS SÃO SHIFTADOS ADIANTE [NO SENTIDO CRESCENTE DO ÍNDICE].\n",
    "L=np.insert(X,0,[1],axis=0)\n",
    "del(L)\n",
    "#foi desnecessário , mas vale a observação.\n",
    "\n",
    "#copiando todo o vetor na coluna da matriz A\n",
    "for i in np.arange(0,N+1,1):\n",
    "    A[:][i]=np.copy(X**i)\n",
    "    \n",
    "#PORTANTO O VETOR Y foi construído na forma de vetor-coluna !\n",
    "\n",
    "v= np.zeros(N+1)\n",
    "for i in np.arange(0,N+1,1):\n",
    "    k=i+1\n",
    "    v[i]= (   ( (b**k)-(a**k) )/ ( k )   )\n",
    "    \n",
    "# Resolvendo a EQUAÇÃO LINEAR Ax = v\n",
    "# no caso r = x\n",
    "r = np.linalg.solve(A, v)\n",
    "\n",
    "I_s=np.dot(np.transpose(r),Y)\n",
    "print(\"O resultado pela Regra de Simpson simples foi I_s = %.6f\" %(I_s))"
   ]
  },
  {
   "cell_type": "markdown",
   "metadata": {},
   "source": [
    "Logo, o resultado pela Regra de Simpson zimples foi $I_{s}(x^{4}) = 6.518519$ no intervalo $[0,2]$."
   ]
  },
  {
   "cell_type": "code",
   "execution_count": 2,
   "metadata": {},
   "outputs": [],
   "source": [
    "#DELETANDO FORÇADAMENTE\n",
    "%reset -f"
   ]
  },
  {
   "cell_type": "markdown",
   "metadata": {},
   "source": [
    "### Regra de Simpson composta"
   ]
  },
  {
   "cell_type": "code",
   "execution_count": 3,
   "metadata": {},
   "outputs": [
    {
     "name": "stdout",
     "output_type": "stream",
     "text": [
      "O resultado pela Regra de Simpson composta foi:\n",
      "S_20 = 4.662413\n"
     ]
    }
   ],
   "source": [
    "import numpy as np\n",
    "# intervalo [a,b]\n",
    "# ============================ INTERVALO ===================#\n",
    "#Extrema esquerda do intervalo\n",
    "a=0\n",
    "#Extrema direita do intervalo\n",
    "b=2\n",
    "#Número de sub-intervalos.\n",
    "#------------> PARA A Regra de Simpson composta DEVE SER PAR <-------------------------#\n",
    "N=20\n",
    "\n",
    "#Diferença entre as abcissas de dois nós adjacentes.\n",
    "h=(b-a)/N\n",
    "#Vetor cujas entradas são os abcissas dos nós.\n",
    "X=np.zeros(N+1)\n",
    "\n",
    "#Loops são não inclusivos à direita.\n",
    "for i in np.arange(0,N+1,1):\n",
    "    X[i]= (a + i*h)\n",
    "# ======================== FUNÇÃO ===================== #\n",
    "def f(x):\n",
    "    y= x**4\n",
    "    return y\n",
    "\n",
    "Y=f(X)\n",
    "\n",
    "k=N/2\n",
    "\n",
    "impar=0.0\n",
    "par=0.0\n",
    "# contabilizando o somatorio de índices par\n",
    "# loop é não inclusivo à EXTREMA DIREITA\n",
    "for i in np.arange(2,N,2): \n",
    "    par = Y[i] + par\n",
    "# contabilizando o somatorio de índices ímpar\n",
    "# loop é não inclusivo à EXTREMA DIREITA\n",
    "for i in np.arange(1,N-1,2): \n",
    "    impar=Y[i] + impar\n",
    "#Integração por Regra de Simpson composta\n",
    "S_N= (h/3)*( Y[0] + Y[N] +4*impar +2*par  )    \n",
    "\n",
    "print(\"O resultado pela Regra de Simpson composta foi:\\nS_20 = %.6f\" %(S_N))"
   ]
  },
  {
   "cell_type": "markdown",
   "metadata": {},
   "source": [
    "Logo, o resultado pela Regra de Simpson composta foi $I_{20}(x^{4}) = 4.662413$ no intervalo $ [0,2]$&nbsp;."
   ]
  },
  {
   "cell_type": "code",
   "execution_count": 2,
   "metadata": {},
   "outputs": [],
   "source": [
    "#DELETANDO FORÇADAMENTE\n",
    "%reset -f"
   ]
  }
 ],
 "metadata": {
  "kernelspec": {
   "display_name": "Python 3",
   "language": "python",
   "name": "python3"
  },
  "language_info": {
   "codemirror_mode": {
    "name": "ipython",
    "version": 3
   },
   "file_extension": ".py",
   "mimetype": "text/x-python",
   "name": "python",
   "nbconvert_exporter": "python",
   "pygments_lexer": "ipython3",
   "version": "3.7.3"
  }
 },
 "nbformat": 4,
 "nbformat_minor": 2
}
