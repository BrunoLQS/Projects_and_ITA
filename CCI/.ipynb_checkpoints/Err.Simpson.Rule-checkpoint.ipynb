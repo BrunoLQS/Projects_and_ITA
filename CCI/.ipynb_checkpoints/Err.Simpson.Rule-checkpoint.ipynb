{
 "cells": [
  {
   "cell_type": "markdown",
   "metadata": {},
   "source": [
    "### Erro da regra de Simpson simples"
   ]
  },
  {
   "cell_type": "code",
   "execution_count": null,
   "metadata": {},
   "outputs": [],
   "source": [
    "import numpy as np\n",
    "\n",
    "# ============== INTERVALO ================= #\n",
    "\n",
    "b=2.0\n",
    "a=0\n",
    "\n",
    "h=(b-a)/2\n",
    "\n",
    "ξ = (a+b)/2\n",
    "#================ FUNCAO ======================#\n",
    "def f(x):\n",
    "    y = x**4\n",
    "    return y\n",
    "# ================DERIVADA de ordem 4 da função em ξ ================= #\n",
    "def d4f(x):\n",
    "    y = 1\n",
    "    return y\n",
    "\n",
    "# ============= ERROR ================== #\n",
    "\n",
    "def E_s(h):\n",
    "    return -(   ((h**5)/90)*d4f(ξ) )\n"
   ]
  },
  {
   "cell_type": "markdown",
   "metadata": {},
   "source": [
    "### Erro da regra de Simpson composta"
   ]
  },
  {
   "cell_type": "code",
   "execution_count": null,
   "metadata": {},
   "outputs": [],
   "source": [
    "import numpy as np\n",
    "\n",
    "# ============== INTERVALO ================= #\n",
    "\n",
    "b=2.0\n",
    "a=0\n",
    "\n",
    "#------------> PARA A Regra de Simpson composta DEVE SER PAR <-------------------------#\n",
    "N=20\n",
    "\n",
    "#Diferença entre as abcissas de dois nós adjacentes.\n",
    "h=(b-a)/N\n",
    "\n",
    "ξ = (a+b)/2\n",
    "#================ FUNCAO ======================#\n",
    "def f(x):\n",
    "    y = x**4\n",
    "    return y\n",
    "# ================DERIVADA de ordem 4 da função em ξ ================= #\n",
    "def d4f(x):\n",
    "    y = 1\n",
    "    return y\n",
    "\n",
    "# ============= ERROR ================== #\n",
    "\n",
    "def E_s(h):\n",
    "    return -((h**4)/180)*( (b-a)*d4f(ξ) )\n"
   ]
  }
 ],
 "metadata": {
  "kernelspec": {
   "display_name": "Python 3",
   "language": "python",
   "name": "python3"
  },
  "language_info": {
   "codemirror_mode": {
    "name": "ipython",
    "version": 3
   },
   "file_extension": ".py",
   "mimetype": "text/x-python",
   "name": "python",
   "nbconvert_exporter": "python",
   "pygments_lexer": "ipython3",
   "version": "3.7.3"
  }
 },
 "nbformat": 4,
 "nbformat_minor": 2
}
