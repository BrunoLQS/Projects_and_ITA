{
 "cells": [
  {
   "cell_type": "markdown",
   "metadata": {},
   "source": [
    "Bruno Lima Queiroz Santos\n",
    "CCI"
   ]
  },
  {
   "cell_type": "markdown",
   "metadata": {},
   "source": [
    "# Capítulo 9 : EDO"
   ]
  },
  {
   "cell_type": "markdown",
   "metadata": {},
   "source": [
    "## Questão 1"
   ]
  },
  {
   "cell_type": "code",
   "execution_count": 1,
   "metadata": {},
   "outputs": [],
   "source": [
    "import numpy as np\n",
    "\n",
    "def dydt(t,y):\n",
    "    z=1.0-0.25*y+0.2*t\n",
    "    return z\n"
   ]
  },
  {
   "cell_type": "code",
   "execution_count": 2,
   "metadata": {},
   "outputs": [],
   "source": [
    "#Número n=N+1 de nós, para N intervalos igualmente espaçados\n",
    "def A_E_1(N,t0,tf1,y0):\n",
    "    h = (tf1-t0)/N\n",
    "    X=np.zeros((1,1))\n",
    "    Y=np.zeros((1,1))\n",
    "    X[0,0]=t0\n",
    "    Y[0,0]=y0\n",
    "    for i in np.arange(0,N+1,1):\n",
    "        y0 = y0+h*dydt(t0, y0)\n",
    "        aux=Y\n",
    "        Y=np.insert(Y,0,[y0],axis=1)# axis = 1 é inserção vertical\n",
    "        del aux\n",
    "        t0=t0+h # x0 +=h\n",
    "        aux=X\n",
    "        X=np.insert(X,0,[t0],axis=1)# axis = 1 é inserção vertical\n",
    "        del aux\n",
    "        #O \" 0 \" no np.insert denota que a informação mais recente é adicionada na primeira fila.\n",
    "        #as demais são avançadas em 1 posição positiva.\n",
    "    return [X,Y]       "
   ]
  },
  {
   "cell_type": "code",
   "execution_count": 3,
   "metadata": {},
   "outputs": [
    {
     "name": "stdout",
     "output_type": "stream",
     "text": [
      "N=20,y(0.5) = 1.395327\n",
      "N=40,y(1.0) = 1.774665 \n",
      "N=60,y(1.5) = 2.156438\n"
     ]
    }
   ],
   "source": [
    "#(N = n_o de intervalos, t0, tf, y0 )\n",
    "[X1,Y1]=A_E_1(20, 0.0, 0.5, 1.0)\n",
    "[X2,Y2]=A_E_1(40, 0.0, 1.0, 1.0)\n",
    "[X3,Y3]=A_E_1(60, 0.0, 1.5, 1.0)\n",
    "\n",
    "print(\"N=20,y(0.5) = %.6f\" %(Y1[0,0]))\n",
    "print(\"N=40,y(1.0) = %.6f \" %(Y2[0,0]))\n",
    "print(\"N=60,y(1.5) = %.6f\" %(Y3[0,0]))"
   ]
  },
  {
   "cell_type": "code",
   "execution_count": 4,
   "metadata": {},
   "outputs": [
    {
     "name": "stdout",
     "output_type": "stream",
     "text": [
      "N=120,y(0.5) = 1.379637\n",
      "N=240,y(1.0) = 1.758911 \n",
      "N=360,y(1.5) = 2.140621\n"
     ]
    }
   ],
   "source": [
    "#(N = n_o de intervalos, t0, tf, y0 )\n",
    "[X1,Y1]=A_E_1(120, 0.0, 0.5, 1.0)\n",
    "[X2,Y2]=A_E_1(240, 0.0, 1.0, 1.0)\n",
    "[X3,Y3]=A_E_1(360, 0.0, 1.5, 1.0)\n",
    "\n",
    "print(\"N=120,y(0.5) = %.6f\" %(Y1[0,0]))\n",
    "print(\"N=240,y(1.0) = %.6f \" %(Y2[0,0]))\n",
    "print(\"N=360,y(1.5) = %.6f\" %(Y3[0,0]))"
   ]
  },
  {
   "cell_type": "code",
   "execution_count": 5,
   "metadata": {},
   "outputs": [
    {
     "name": "stdout",
     "output_type": "stream",
     "text": [
      "N=300,y(0.5) = 1.377755\n",
      "N=600,y(1.0) = 1.757020 \n",
      "N=900,y(1.5) = 2.138723\n"
     ]
    }
   ],
   "source": [
    "#(N = n_o de intervalos, t0, tf, y0 )\n",
    "[X1,Y1]=A_E_1(300, 0.0, 0.5, 1.0)\n",
    "[X2,Y2]=A_E_1(600, 0.0, 1.0, 1.0)\n",
    "[X3,Y3]=A_E_1(900, 0.0, 1.5, 1.0)\n",
    "\n",
    "print(\"N=300,y(0.5) = %.6f\" %(Y1[0,0]))\n",
    "print(\"N=600,y(1.0) = %.6f \" %(Y2[0,0]))\n",
    "print(\"N=900,y(1.5) = %.6f\" %(Y3[0,0]))"
   ]
  },
  {
   "cell_type": "code",
   "execution_count": 6,
   "metadata": {},
   "outputs": [
    {
     "name": "stdout",
     "output_type": "stream",
     "text": [
      "N=3000,y(0.5) = 1.376625\n",
      "N=6000,y(1.0) = 1.755886 \n",
      "N=9000,y(1.5) = 2.137584\n"
     ]
    }
   ],
   "source": [
    "#(N = n_o de intervalos, t0, tf, y0 )\n",
    "[X1,Y1]=A_E_1(3000, 0.0, 0.5, 1.0)\n",
    "[X2,Y2]=A_E_1(6000, 0.0, 1.0, 1.0)\n",
    "[X3,Y3]=A_E_1(9000, 0.0, 1.5, 1.0)\n",
    "\n",
    "print(\"N=3000,y(0.5) = %.6f\" %(Y1[0,0]))\n",
    "print(\"N=6000,y(1.0) = %.6f \" %(Y2[0,0]))\n",
    "print(\"N=9000,y(1.5) = %.6f\" %(Y3[0,0]))"
   ]
  },
  {
   "cell_type": "code",
   "execution_count": 7,
   "metadata": {},
   "outputs": [],
   "source": [
    "del X1,X2,X3,Y1,Y2,Y3"
   ]
  },
  {
   "cell_type": "markdown",
   "metadata": {},
   "source": [
    "## Questão 2"
   ]
  },
  {
   "cell_type": "code",
   "execution_count": 8,
   "metadata": {},
   "outputs": [
    {
     "name": "stdout",
     "output_type": "stream",
     "text": [
      "N=3000,y(1.5) = 2.353116\n",
      "N=6000,y(2.0) = 2.711639\n"
     ]
    }
   ],
   "source": [
    "#(N = n_o de intervalos, t0, tf, y0 )\n",
    "[X1,Y1]=A_E_1(3000, 1.0, 1.5, 2.0)\n",
    "[X2,Y2]=A_E_1(6000, 1.0, 2.0, 2.0)\n",
    "\n",
    "print(\"N=3000,y(1.5) = %.6f\" %(Y1[0,0]))\n",
    "print(\"N=6000,y(2.0) = %.6f\" %(Y2[0,0]))\n",
    "\n",
    "del X1,X2,Y1,Y2\n"
   ]
  },
  {
   "cell_type": "markdown",
   "metadata": {},
   "source": [
    "## Questão 3"
   ]
  },
  {
   "cell_type": "code",
   "execution_count": 9,
   "metadata": {},
   "outputs": [
    {
     "name": "stdout",
     "output_type": "stream",
     "text": [
      " h <= 0.000013\n"
     ]
    }
   ],
   "source": [
    "hmax=0.0001/8\n",
    "print(\" h <= %.6f\" %(hmax))\n",
    "\n",
    "del hmax"
   ]
  },
  {
   "cell_type": "markdown",
   "metadata": {},
   "source": [
    "## Questão 4"
   ]
  },
  {
   "cell_type": "code",
   "execution_count": 10,
   "metadata": {},
   "outputs": [],
   "source": [
    "del dydt\n",
    "\n",
    "def dydt(t,y):\n",
    "    z=1.0-0.25*y+0.2*t\n",
    "    return z\n",
    "\n",
    "#Número n=N+1 de nós, para N intervalos igualmente espaçados\n",
    "# MÉTODO DE HEUN\n",
    "def A_H_1(N,t0,tf1,y0):\n",
    "    h = (tf1-t0)/N\n",
    "    k1=0\n",
    "    k2=0\n",
    "    X=np.zeros((1,1))\n",
    "    Y=np.zeros((1,1))\n",
    "    X[0,0]=t0\n",
    "    Y[0,0]=y0\n",
    "    for i in np.arange(0,N+1,1):\n",
    "        k1 = dydt(t0, y0)\n",
    "        k2 = dydt(t0+h, y0+k1)\n",
    "        y0 = y0 + h*((k1+k2)/(2))\n",
    "        aux=Y\n",
    "        Y=np.insert(Y,0,[y0],axis=1)# axis = 1 é inserção vertical\n",
    "        del aux\n",
    "        t0=t0+h # x0 +=h\n",
    "        aux=X\n",
    "        X=np.insert(X,0,[t0],axis=1)# axis = 1 é inserção vertical\n",
    "        del aux\n",
    "        #O \" 0 \" no np.insert denota que a informação mais recente é adicionada na primeira fila.\n",
    "        #as demais são avançadas em 1 posição positiva.\n",
    "    return [X,Y]       "
   ]
  },
  {
   "cell_type": "code",
   "execution_count": 11,
   "metadata": {},
   "outputs": [
    {
     "name": "stdout",
     "output_type": "stream",
     "text": [
      "N=20,y(0.5) = 1.349762\n",
      "N=40,y(1.0) = 1.689985\n",
      "N=60,y(1.5) = 2.036416\n"
     ]
    }
   ],
   "source": [
    "#(N = n_o de intervalos, t0, tf, y0 )\n",
    "[X1,Y1]=A_H_1(20, 0.0, 0.5, 1.0)\n",
    "[X2,Y2]=A_H_1(40, 0.0, 1.0, 1.0)\n",
    "[X3,Y3]=A_H_1(60, 0.0, 1.5, 1.0)\n",
    "\n",
    "print(\"N=20,y(0.5) = %.6f\" %(Y1[0,0]))\n",
    "print(\"N=40,y(1.0) = %.6f\" %(Y2[0,0]))\n",
    "print(\"N=60,y(1.5) = %.6f\" %(Y3[0,0]))"
   ]
  },
  {
   "cell_type": "code",
   "execution_count": 12,
   "metadata": {},
   "outputs": [
    {
     "name": "stdout",
     "output_type": "stream",
     "text": [
      "N=120,y(0.5) = 1.334882\n",
      "N=240,y(1.0) = 1.674061 \n",
      "N=360,y(1.5) = 2.019545\n"
     ]
    }
   ],
   "source": [
    "#(N = n_o de intervalos, t0, tf, y0 )\n",
    "[X1,Y1]=A_H_1(120, 0.0, 0.5, 1.0)\n",
    "[X2,Y2]=A_H_1(240, 0.0, 1.0, 1.0)\n",
    "[X3,Y3]=A_H_1(360, 0.0, 1.5, 1.0)\n",
    "\n",
    "print(\"N=120,y(0.5) = %.6f\" %(Y1[0,0]))\n",
    "print(\"N=240,y(1.0) = %.6f \" %(Y2[0,0]))\n",
    "print(\"N=360,y(1.5) = %.6f\" %(Y3[0,0]))"
   ]
  },
  {
   "cell_type": "code",
   "execution_count": 13,
   "metadata": {},
   "outputs": [
    {
     "name": "stdout",
     "output_type": "stream",
     "text": [
      "N=300,y(0.5) = 1.333102\n",
      "N=600,y(1.0) = 1.672156 \n",
      "N=900,y(1.5) = 2.017525\n"
     ]
    }
   ],
   "source": [
    "#(N = n_o de intervalos, t0, tf, y0 )\n",
    "[X1,Y1]=A_H_1(300, 0.0, 0.5, 1.0)\n",
    "[X2,Y2]=A_H_1(600, 0.0, 1.0, 1.0)\n",
    "[X3,Y3]=A_H_1(900, 0.0, 1.5, 1.0)\n",
    "\n",
    "print(\"N=300,y(0.5) = %.6f\" %(Y1[0,0]))\n",
    "print(\"N=600,y(1.0) = %.6f \" %(Y2[0,0]))\n",
    "print(\"N=900,y(1.5) = %.6f\" %(Y3[0,0]))"
   ]
  },
  {
   "cell_type": "code",
   "execution_count": 14,
   "metadata": {},
   "outputs": [
    {
     "name": "stdout",
     "output_type": "stream",
     "text": [
      "N=3000,y(0.5) = 1.332035\n",
      "N=6000,y(1.0) = 1.671013 \n",
      "N=9000,y(1.5) = 2.016314\n"
     ]
    }
   ],
   "source": [
    "#(N = n_o de intervalos, t0, tf, y0 )\n",
    "[X1,Y1]=A_H_1(3000, 0.0, 0.5, 1.0)\n",
    "[X2,Y2]=A_H_1(6000, 0.0, 1.0, 1.0)\n",
    "[X3,Y3]=A_H_1(9000, 0.0, 1.5, 1.0)\n",
    "\n",
    "print(\"N=3000,y(0.5) = %.6f\" %(Y1[0,0]))\n",
    "print(\"N=6000,y(1.0) = %.6f \" %(Y2[0,0]))\n",
    "print(\"N=9000,y(1.5) = %.6f\" %(Y3[0,0]))"
   ]
  },
  {
   "cell_type": "code",
   "execution_count": 15,
   "metadata": {},
   "outputs": [],
   "source": [
    "del X1,X2,X3,Y1,Y2,Y3"
   ]
  },
  {
   "cell_type": "markdown",
   "metadata": {},
   "source": [
    "## Questão 5"
   ]
  },
  {
   "cell_type": "code",
   "execution_count": 16,
   "metadata": {},
   "outputs": [
    {
     "name": "stdout",
     "output_type": "stream",
     "text": [
      "N=3000,y(1.5) = 2.311307\n",
      "N=6000,y(2.0) = 2.631711\n"
     ]
    }
   ],
   "source": [
    "#(N = n_o de intervalos, t0, tf, y0 )\n",
    "[X1,Y1]=A_H_1(3000, 1.0, 1.5, 2.0)\n",
    "[X2,Y2]=A_H_1(6000, 1.0, 2.0, 2.0)\n",
    "\n",
    "print(\"N=3000,y(1.5) = %.6f\" %(Y1[0,0]))\n",
    "print(\"N=6000,y(2.0) = %.6f\" %(Y2[0,0]))\n",
    "\n",
    "del X1,X2,Y1,Y2\n"
   ]
  },
  {
   "cell_type": "markdown",
   "metadata": {},
   "source": [
    "## Questão 6"
   ]
  },
  {
   "cell_type": "code",
   "execution_count": 17,
   "metadata": {},
   "outputs": [],
   "source": [
    "# MÉTODO RUNGE-KUTTA de 4_a ordem\n",
    "\n",
    "del dydt\n",
    "\n",
    "def dydt(t,y):\n",
    "    z=1.0-0.25*y+0.2*t\n",
    "    return z\n",
    "\n",
    "#Número n=N+1 de nós, para N intervalos igualmente espaçados\n",
    "# MÉTODO DE HEUN\n",
    "def A_RK_4(N,t0,tf1,y0):\n",
    "    h = (tf1-t0)/N\n",
    "    X=np.zeros((1,1))\n",
    "    Y=np.zeros((1,1))\n",
    "    k1=0\n",
    "    k2=0\n",
    "    k3=0\n",
    "    k4=0\n",
    "    X[0]= t0\n",
    "    Y[0]= y0\n",
    "    for i in np.arange(0,N+1,1):\n",
    "        k1 = h*dydt( t0, y0 )\n",
    "        k2 = h*dydt( t0+(h/2), y0+(k1/2) )\n",
    "        k3 = h*dydt( t0+(h/2), y0+(k2/2) )\n",
    "        k4 = h*dydt( t0+h, y0+k3 )\n",
    "        y0 = y0 + ( ( (k1)+(2*k2) + (3*k3) + k4)/(6))\n",
    "        aux=Y\n",
    "        Y=np.insert(Y,0,[y0],axis=1)# axis = 1 é inserção vertical\n",
    "        del aux\n",
    "        t0=t0+h # x0 +=h\n",
    "        aux=X\n",
    "        X=np.insert(X,0,[t0],axis=1)# axis = 1 é inserção vertical\n",
    "        del aux\n",
    "        #O \" 0 \" no np.insert denota que a informação mais recente é adicionada na primeira fila.\n",
    "        #as demais são avançadas em 1 posição positiva.\n",
    "    return [X,Y]       "
   ]
  },
  {
   "cell_type": "code",
   "execution_count": 18,
   "metadata": {},
   "outputs": [
    {
     "name": "stdout",
     "output_type": "stream",
     "text": [
      "N=20,y(0.5) = 1.456729\n",
      "N=40,y(1.0) = 1.886848\n",
      "N=60,y(1.5) = 2.312877\n"
     ]
    }
   ],
   "source": [
    "#(N = n_o de intervalos, t0, tf, y0 )\n",
    "[X1,Y1]=A_RK_4(20, 0.0, 0.5, 1.0)\n",
    "[X2,Y2]=A_RK_4(40, 0.0, 1.0, 1.0)\n",
    "[X3,Y3]=A_RK_4(60, 0.0, 1.5, 1.0)\n",
    "\n",
    "print(\"N=20,y(0.5) = %.6f\" %(Y1[0,0]))\n",
    "print(\"N=40,y(1.0) = %.6f\" %(Y2[0,0]))\n",
    "print(\"N=60,y(1.5) = %.6f\" %(Y3[0,0]))"
   ]
  },
  {
   "cell_type": "code",
   "execution_count": 19,
   "metadata": {},
   "outputs": [
    {
     "name": "stdout",
     "output_type": "stream",
     "text": [
      "N=3000,y(0.5) = 1.435039\n",
      "N=6000,y(1.0) = 1.865198 \n",
      "N=9000,y(1.5) = 2.291264\n"
     ]
    }
   ],
   "source": [
    "#(N = n_o de intervalos, t0, tf, y0 )\n",
    "[X1,Y1]=A_RK_4(3000, 0.0, 0.5, 1.0)\n",
    "[X2,Y2]=A_RK_4(6000, 0.0, 1.0, 1.0)\n",
    "[X3,Y3]=A_RK_4(9000, 0.0, 1.5, 1.0)\n",
    "\n",
    "print(\"N=3000,y(0.5) = %.6f\" %(Y1[0,0]))\n",
    "print(\"N=6000,y(1.0) = %.6f \" %(Y2[0,0]))\n",
    "print(\"N=9000,y(1.5) = %.6f\" %(Y3[0,0]))"
   ]
  },
  {
   "cell_type": "code",
   "execution_count": 20,
   "metadata": {},
   "outputs": [],
   "source": [
    "del X1,X2,X3,Y1,Y2,Y3"
   ]
  },
  {
   "cell_type": "markdown",
   "metadata": {},
   "source": [
    "## Questão 7"
   ]
  },
  {
   "cell_type": "code",
   "execution_count": 21,
   "metadata": {},
   "outputs": [
    {
     "name": "stdout",
     "output_type": "stream",
     "text": [
      "N=3000,y(1.5) = 2.407891\n",
      "N=6000,y(2.0) = 2.814594\n"
     ]
    }
   ],
   "source": [
    "#(N = n_o de intervalos, t0, tf, y0 )\n",
    "[X1,Y1]=A_RK_4(3000, 1.0, 1.5, 2.0)\n",
    "[X2,Y2]=A_RK_4(6000, 1.0, 2.0, 2.0)\n",
    "\n",
    "print(\"N=3000,y(1.5) = %.6f\" %(Y1[0,0]))\n",
    "print(\"N=6000,y(2.0) = %.6f\" %(Y2[0,0]))\n",
    "\n",
    "del X1,X2,Y1,Y2\n"
   ]
  },
  {
   "cell_type": "markdown",
   "metadata": {},
   "source": [
    "## Questão 8"
   ]
  },
  {
   "cell_type": "code",
   "execution_count": 22,
   "metadata": {},
   "outputs": [],
   "source": [
    "def dydt(t,g):\n",
    "    z0 = -0.6*g[0,0] +1.8*g[1,0]  # X'\n",
    "    z1 = -2.6*g[0,0] -0.3*g[1,0]  # Y'\n",
    "    k=np.array([[z0],\n",
    "                [z1]])\n",
    "    return k\n",
    "    #return np.array([z0,\n",
    "                    #z1])\n",
    "#Número n=N+1 de nós, para N intervalos igualmente espaçados\n",
    "def A_ES_1(N,t0,y0):\n",
    "    h = 0.1\n",
    "    X=np.zeros((1,1))\n",
    "    Y=y0 # 1 nó já foi armazenado, restam N\n",
    "    for i in np.arange(0,N,1): # N operações\n",
    "        y0 = y0+h*dydt(t0, y0)\n",
    "        Y=np.insert(Y,[0],y0,axis=1)# axis = 1 é inserção vertical\n",
    "        t0=t0+h # x0 +=h\n",
    "        X=np.insert(X,[0],t0,axis=1)# axis = 1 é inserção vertical\n",
    "        #O \" 0 \" no np.insert denota que a informação mais recente é adicionada na primeira fila.\n",
    "        #as demais são avançadas em 1 posição positiva.\n",
    "    return [X,Y]   \n",
    "\n",
    "# É SEMPRE MELHOR USAR, no insert [0] ! para não dar problema"
   ]
  },
  {
   "cell_type": "code",
   "execution_count": 23,
   "metadata": {
    "scrolled": true
   },
   "outputs": [],
   "source": [
    "#5 próximos valores => 6 nós(INCLUSIVE O INICIAL) = 6-1 intervalos\n",
    "y0=np.array([[1.0],\n",
    "             [1.0]])\n",
    "[X1,Y1] = A_ES_1(5,0.0,y0)"
   ]
  },
  {
   "cell_type": "code",
   "execution_count": 24,
   "metadata": {},
   "outputs": [
    {
     "name": "stdout",
     "output_type": "stream",
     "text": [
      "x(0.0)  = 1.000000  |  y(0.0)  = 1.000000\n",
      "x(0.1)  = 1.120000  |  y(0.1)  = 0.710000\n",
      "x(0.2)  = 1.180600  |  y(0.2)  = 0.397500\n",
      "x(0.3)  = 1.181314  |  y(0.3)  = 0.078619\n",
      "x(0.4)  = 1.124587  |  y(0.4)  = -0.230881\n",
      "x(0.5)  = 1.015553  |  y(0.5)  = -0.516347\n"
     ]
    }
   ],
   "source": [
    "#não esquecer que python é exclusivo à extrema direita\n",
    "for i in np.arange(5,-1,-1):\n",
    "    print(\"x(%.1f) \" %(X1[0,i]), \"= %.6f\" %(Y1[0,i]) , \" |  y(%.1f) \" %(X1[0,i]), \"= %.6f\" %(Y1[1,i]) )"
   ]
  },
  {
   "cell_type": "markdown",
   "metadata": {},
   "source": [
    "## Questão 9"
   ]
  },
  {
   "cell_type": "code",
   "execution_count": 25,
   "metadata": {},
   "outputs": [],
   "source": [
    "def dydt(t,g): # Y->g->(Y,Y',Y'')\n",
    "    z0 = g[1,0]\n",
    "    z1 = g[2,0]\n",
    "    z2 = -(g[2,0]-g[1,0]+g[0,0]+3.0) # Y'->(y',y'',y''')\n",
    "    k=np.array([[z0],\n",
    "                [z1],\n",
    "                [z2]])\n",
    "    return k\n",
    "    #return np.array([z0,\n",
    "                    #z1])\n",
    "#Número n=N+1 de nós, para N intervalos igualmente espaçados\n",
    "def A_ES_1(N,t0,tf,y0):\n",
    "    h = (tf-t0)/N\n",
    "    X=np.zeros((1,1))\n",
    "    Y=y0 # 1 nó já foi armazenado, restam N\n",
    "    for i in np.arange(0,N,1): # N operações\n",
    "        y0 = y0+h*dydt(t0, y0)\n",
    "        Y=np.insert(Y,[0],y0,axis=1)# axis = 1 é inserção de uma coluna\n",
    "        t0=t0+h # x0 +=h\n",
    "        X=np.insert(X,[0],t0,axis=1)# axis = 1 é inserção de uma coluna\n",
    "        #O \" 0 \" no np.insert denota que a informação mais recente é adicionada na primeira fila.\n",
    "        #as demais são avançadas em 1 posição positiva.\n",
    "    return [X,Y]   \n",
    "\n",
    "# É SEMPRE MELHOR USAR, no insert [0] ! para não dar problema"
   ]
  },
  {
   "cell_type": "code",
   "execution_count": 26,
   "metadata": {},
   "outputs": [],
   "source": [
    "y_ini=np.array([[3.0],\n",
    "                [2.0],\n",
    "                [1.0]])\n",
    "# y , y' , y''\n",
    "\n",
    "[X1,Y1]=A_ES_1(1,0.0,1.0,y_ini)\n",
    "[X2,Y2]=A_ES_1(2,0.0,1.0,y_ini)\n",
    "[X4,Y4]=A_ES_1(4,0.0,1.0,y_ini)"
   ]
  },
  {
   "cell_type": "code",
   "execution_count": 27,
   "metadata": {},
   "outputs": [
    {
     "name": "stdout",
     "output_type": "stream",
     "text": [
      "1 passo  : y(1.0)  = 5.000000\n",
      "2 passos : y(1.0)  = 5.250000\n",
      "4 passos : y(1.0)  = 5.078125\n"
     ]
    }
   ],
   "source": [
    "print(\"1 passo  : y(%.1f) \" %(X1[0,0]), \"= %.6f\" %(Y1[0,0]) )\n",
    "print(\"2 passos : y(%.1f) \" %(X2[0,0]), \"= %.6f\" %(Y2[0,0]) )\n",
    "print(\"4 passos : y(%.1f) \" %(X4[0,0]), \"= %.6f\" %(Y4[0,0]) )\n",
    "    "
   ]
  },
  {
   "cell_type": "markdown",
   "metadata": {},
   "source": [
    "## Questão 10"
   ]
  },
  {
   "cell_type": "code",
   "execution_count": 28,
   "metadata": {},
   "outputs": [],
   "source": [
    "h=0.5\n",
    "\n",
    "A=np.array([[2.0*(h**2-1.0),1.0,0.0],\n",
    "            [1.0,2.0*(h**2-1.0),1.0],\n",
    "            [0.0,1.0,2.0*(h**2-1.0)]])\n",
    "b=np.array([[ h**2],\n",
    "            [h**2],\n",
    "            [h**2-1]])\n",
    "\n",
    "# b pode ser escrito no formato coluna ou na forma linha, mais simples."
   ]
  },
  {
   "cell_type": "code",
   "execution_count": 29,
   "metadata": {},
   "outputs": [],
   "source": [
    "Y=np.linalg.solve(A,b) # O vetor solução é unidimensional"
   ]
  },
  {
   "cell_type": "code",
   "execution_count": 30,
   "metadata": {},
   "outputs": [
    {
     "name": "stdout",
     "output_type": "stream",
     "text": [
      "y(0)   = 0\n",
      "y(0.5) = 0.166667\n",
      "y(1.0) = 0.500000\n",
      "y(1.5) = 0.833333\n",
      "y(2)   = 1\n"
     ]
    }
   ],
   "source": [
    "print(\"y(0)   = 0\")\n",
    "print(\"y(0.5) = %.6f\" %(Y[0]))\n",
    "print(\"y(1.0) = %.6f\" %(Y[1]))\n",
    "print(\"y(1.5) = %.6f\" %(Y[2]))\n",
    "print(\"y(2)   = 1\")"
   ]
  },
  {
   "cell_type": "markdown",
   "metadata": {},
   "source": [
    "## Questão 11"
   ]
  },
  {
   "cell_type": "markdown",
   "metadata": {},
   "source": [
    "A ideia básica consiste em aproveitar as qualidades dos métodos de série de Taylor e ,ao mesmo tempo, eliminar sua maior dificuldade de implementação: o cálculo das derivadas de f(x,y).\n",
    "\n",
    "Características dos Métodos de Runge-Kutta de ordem n:\n",
    "\n",
    "i  ) São passos simples\n",
    "\n",
    "ii ) Não exigem o cálculo de qualquer derivada de f(x,y); por esse motivo, calculam f(x,y) em vários pontos.\n",
    "\n",
    "iii) Após expandir f(x,y) por Taylor para função de duas variáveis em torno de ($x_{i},y_{i}$) e agrupar os termos semelhantes, sua expressão coincide com a do método de série de Taylor de ordem n\n",
    "\n",
    "O Método de Euler (equivalente ao método de série de Taylor de 1_a ordem) é um Método de Runge-Kutta de 1_a ordem, e o Método de Euler Aperfeiçoado é um Método de Runge-Kutta de 2_a ordem\n",
    "\n",
    "Fórmula geral dos Métodos de Runge-Kutta:\n",
    "\n",
    "$y_{i+1}=y_{i}+\\Phi(x_{i},y_{i},h)h$\n",
    "\n",
    "$\\Phi (x_{i},y_{i},h)$ é chamada função incremento, e pode ser interpretada como a inclinação no intervalo considerado\n",
    "\n",
    "Fórmula geral da função incremento de ordem n :\n",
    "\n",
    "$\\Phi (x_{i},y_{i},h) = a_{1}k_{1} + a_{2}k_{2} + \\ldots + a_{n}k_{n}$\n",
    "\n",
    "$k_{1} = f(x_{i},y_{i})$\n",
    "\n",
    "$k_{2} = f(x_{i}+p_{1}h,y_{i} + q_{11}k_{1}h)$\n",
    "\n",
    "$k_{3} = f(x_{i}+p_{2}h,y_{i} + q_{21}k_{1}h + q_{22}k_{2}h)$\n",
    "\n",
    "$\\vdots$\n",
    "\n",
    "$k_{n} = f(x_{i}+p_{n-1}h, y_{i} + q_{(n-1)1}k_{1}h + q_{(n-1)(n-1)}k_{n-1}h)$\n",
    "\n",
    "$a_{i},p_{i}$ e $q_{ij}$ :  constantes obtidas igualando-se a fórmula geral de Runge-Kutta com os termos da expansão em série de Taylor\n",
    "\n",
    "$k_{i}$ :  relações de recorrência (cálculo computacional eficiente)\n",
    "\n",
    "Os termos desprezados são de ordem O$(h^{n+1})$ ,o que acarreta um erro global de ordem O$(h^{n})$, pois $h<1$"
   ]
  },
  {
   "cell_type": "markdown",
   "metadata": {},
   "source": [
    "A partir dessa definição, o Método de Runge-Kutta de 2_a ordem é $y_{i+1}= y_{i} +(a_{1}k_{1} + a_{2}k_{2})h$ , onde $k_{1}=f(x_{i},y_{i})$ e $k_{2}=f(x_{i}+p_{1}h),y_{i}+q_{11}k_{1}h)$.\n",
    "\n",
    "Expandindo $k_{2}$ por Taylor em torno de $(x_{i},y_{i})$ :\n",
    "\n",
    "$f(x_{i}+p_{1}h,y_{i}+q_{11}k_{1}h) = f(x_{i},y_{i}) + p_{1}hf_{x}(x_{i},y_{i}) + q_{11}k_{1}hf_{y}(x_{i},y_{i})f(x_{i},y_{i}) +$ O$(h^{2})$"
   ]
  },
  {
   "cell_type": "markdown",
   "metadata": {},
   "source": [
    "Substituindo na fórmula de Runge-Kutta:\n",
    "\n",
    "$y_{i+1} = y_{i} + a_{1}k_{1}h + a_{2}[f(x_{i},y_{i})+p_{1}hf_{x}(x_{i},y_{i}) +q_{11}k_{1}hf_{y}(x_{i},y_{i})f(x_{i},y_{i}) + O(h^{2})]h$ \n",
    "\n",
    "$y_{i+1} = y_{i} + a_{1}hf(x_{i},y_{i})+ a_{2}hf(x_{i},y_{i}) + a_{2}p_{1}h^{2}f_{x}(x_{i},y_{i}) + a_{2}q_{11}h^{2}f_{y}(x_{i},y_{i})f(x_{i},y_{i}) + O(h^{3})$ "
   ]
  },
  {
   "cell_type": "markdown",
   "metadata": {},
   "source": [
    "Por outro lado, a série de Taylor de ordem 2 para $y_{i+1}$ é:\n",
    "\n",
    "$y_{i+1}=y_{i}+f(x_{i},y_{i})h + f^{'}(x_{i},y_{i})h^{2}/2!$\n",
    "\n",
    "$y_{i+1}=y_{i}+f(x_{i},y_{i})h + [f_{x}(x_{i},y_{i})+f_{y}(x_{i},y_{i})f(x_{i},y_{i})]h^{2}/2$\n",
    "\n",
    "$y_{i+1}=y_{i}+f(x_{i},y_{i})h + h^{2}f_{x}(x_{i},y_{i})/2+h^{2}f_{y}(x_{i},y_{i})f(x_{i},y_{i})/2$"
   ]
  },
  {
   "cell_type": "markdown",
   "metadata": {},
   "source": [
    "Desprezando os termos de $O(h^{3})$ , para que ambas expressões sejam iguais, é preciso que:"
   ]
  },
  {
   "cell_type": "markdown",
   "metadata": {},
   "source": [
    "$a_{1} + a_{2} = 1$\n",
    "\n",
    "$a_{2}p_{1} = 1/2$\n",
    "\n",
    "$a_{2}q_{11} = 1/2$\n",
    "\n",
    "3 equações e 4 incógnitas: há infinitas soluções.Há três versões mais utilizadas: "
   ]
  },
  {
   "cell_type": "markdown",
   "metadata": {},
   "source": [
    "Método de Euler aperfeiçoado ( ou método de Heun)\n",
    "\n",
    "$(a_{2}=1/2,a_{1}=1/2,p_{1}=q_{11}=1)$:\n",
    "\n",
    "$y_{i+1}=y_{i} + (1/2k_{1} + 1/2k_{2})h$\n",
    "\n",
    "$k_{1}=f(x_{i},y_{i})$\n",
    "\n",
    "$k_{2}=f(x_{i}+h,y_{i} + k_{1}h)$"
   ]
  },
  {
   "cell_type": "markdown",
   "metadata": {},
   "source": [
    "Método do Ponto médio \n",
    "\n",
    "$(a_{2}=1,a_{1}=0,p_{1}=q_{11}=1/2)$:\n",
    "\n",
    "$y_{i+1}=y_{i} + k_{2}h$\n",
    "\n",
    "$k_{1}=f(x_{i},y_{i})$\n",
    "\n",
    "$k_{2}=f(x_{i}+1/2h,y_{i} + 1/2k_{1}h)$"
   ]
  },
  {
   "cell_type": "markdown",
   "metadata": {},
   "source": [
    "Método de Ralston\n",
    "\n",
    "$a_{2}= 2/3,a_{1}=1/3, p_{1}=q_{11}=3/4$\n",
    "\n",
    "$y_{i+1}=y_{i}+(k_{1}/3+2k_{2}/3)h$\n",
    "\n",
    "$k_{1}=f(x_{i},y_{i})$\n",
    "\n",
    "$k_{2}=f(x_{i} +3h/4,y_{i} + 3k_{1}h/4)$\n"
   ]
  },
  {
   "cell_type": "markdown",
   "metadata": {},
   "source": [
    "De modo semelhante, podem ser deduzidas as fórmulas de Runge-Kutta de ordens superiores. Em cada ordem, também haverá infinitas versões. A seguir foram anotados os métodos de Runge-Kutta mais conhecidos:\n",
    "\n",
    "Ordem 3 :\n",
    "\n",
    "$y_{i+1}=y_{i} +(k_{1}+4k_{2}+k_{3})h/6$\n",
    "\n",
    "$k_{1}=f(x_{i},y_{i})$\n",
    "\n",
    "$k_{2}=f(x_{i}+h/2,y_{i} +k_{1}h/2)$\n",
    "\n",
    "$k_{3}=f(x_{i} + h,y_{i} -k_{1}h + 2k_{2}h)$\n",
    "\n",
    "\n",
    "Ordem 4 :\n",
    "\n",
    "$y_{i+1}=y_{i}+(k_{1}+2k_{2}+2k_{3}+k_{4})h/6$\n",
    "\n",
    "$k_{1}=f(x_{i},y_{i})$\n",
    "\n",
    "$k_{2}=f(x_{i}+h/2,y_{i}+k_{1}h/2)$\n",
    "\n",
    "$k_{3}=f(x_{i}+h/2,y_{i} +k_{2}h)$\n",
    "\n",
    "$k_{4}=f(x_{i}+h,y_{i}+k_{3}h)$\n"
   ]
  },
  {
   "cell_type": "markdown",
   "metadata": {},
   "source": [
    "# Questão 12"
   ]
  },
  {
   "cell_type": "markdown",
   "metadata": {},
   "source": [
    "Para encontrar uma aproximação de $y(x_{i+1)})$, os métodos de passo simples precisam apenas de $y(x_{i})$, além de cálculos de $y^{'}=f(x,y)$ e de outras derivadas em vários pontos.\n",
    "\n",
    "Por outro lado, suponhamos que, além de $y(x_{0})$, também são conhecidas aproximações $y(x_{i}), \\ldots , y(x_{k})$ em pontos equidistantes , ou seja, $x_{i+1}-x_{i}=h , 0 \\leq i <k$ .\n",
    "\n",
    "Os métodos que utilizam o valor de $y$ em mais de um ponto são chamados métodos de passo múltiplo. Esses métodos baseiam-se na percepção de que, uma vez que o cálculo tenha começado, informação valiosa já está à disposição: a curvatura formada pelos valores anteriores permite uma melhor aproximação da trajetória da solução.\n",
    "\n"
   ]
  },
  {
   "cell_type": "markdown",
   "metadata": {},
   "source": [
    "Entre os métodos de passo múltiplo, há uma classe conhecida como Métodos de Adams, que se baseia na integração numérica de $y^{'}=f(x,y)$ de $x_{i}$ até $x_{i+1}$:\n",
    "\n",
    "$\\int_{x_{i}}^{x_{i+1}}y^{'}(x)dx=\\int_{x_{i}}^{x_{i+1}}f(x,y(x))dx\\Leftrightarrow y(x_{i+1})=y(x_{i})+\\int_{x_{i}}^{x_{i+1}}f(x,y(x))dx$"
   ]
  },
  {
   "cell_type": "markdown",
   "metadata": {},
   "source": [
    "Por sua vez, isso pode ser feito por meio de dois tipos de métodos:\n",
    "\n",
    "Adams-Bashforth ( métodos explícitos ou fórmulas abertas): sem usar o ponto $x_{i+1}$.\n",
    "\n",
    "Adams-Moulton ( métodos implícitos ou fórmulas fechadas ): usando o ponto $x_{i+1}$."
   ]
  },
  {
   "cell_type": "markdown",
   "metadata": {},
   "source": [
    "Na aproximação dessa integral, os Métodos de Adams-Bashfort utilizam m+1 pontos $x_{i}, x_{i-1},\\ldots , x_{i-m}$\n",
    "\n",
    "Por isso , são chamados métodos de ordem $m+1$. Isso é feito por meio da integração do polinômio interpolador $p_{m}(x)$:\n",
    "\n",
    "$y(x_{i+1}) \\approx y(x_{i}) + \\int_{x_{i}}^{x_{i+1}}p_{m}(x)dx$\n",
    "\n",
    "A função $f(x,y(x))$ é aproximada pelo polinômio $p_m(x)$, que interpola a função $f(x,y(x))$ nos pontos $x_{i},x_{i-1}, \\ldots , x_{i-m}$. Basta escolher o valor de m.\n",
    "\n",
    "Chamando $f_{i-j}=f(x_{i-j},y_{i-j})$, $0 \\leq j \\leq m$ , podemos expressar $p_m(x)$ por meio da forma de Lagrange:\n",
    "\n",
    "$p_m(x) = L_{-m}(x)f_{i-m} + \\ldots + L_{-1}(x)f_{i-1} + L_{0}(x)f_{i}$"
   ]
  },
  {
   "cell_type": "markdown",
   "metadata": {},
   "source": [
    "Ordem 3: polinômio $p_{2}(x)$ de grau 2.\n",
    "\n",
    "Pontos de interpolação: $(x_{i},y_{i}),(x_{i-1},y_{i-1}),(x_{i-2},y_{i-2})$ \n",
    "\n",
    "$f(x,y(x))=y^{'}(x) \\approx p_{2}(x) = L_{-2}(x)f_{i-2} + L_{-1}(x)f_{i-1} + L_{0}(x)f_{0}$\n",
    "\n",
    "$L_{-2}(x)= [(x-x_{i-1})(x-x_{i})]/(-h)(-2h)$\n",
    "\n",
    "$L_{-1}(x)= [(x-x_{i-2})(x-x_{i})]/(h)(-h)$\n",
    "\n",
    "$L_{0}(x)= [(x-x_{i-2})(x-x_{i-1})]/(2h)(h)$\n",
    "\n",
    "Sejam $s = (x-x_{i})/h$ , $dx = h\\cdot ds$ e $x = hs + x_{i}$."
   ]
  },
  {
   "cell_type": "markdown",
   "metadata": {},
   "source": [
    "\n",
    "Então:\n",
    "\n",
    "$L_{-2}(s) = (s+1)s/2 = (s^{2}+s)/2$\n",
    "\n",
    "$L_{-1}(s) = -(s+2)s = -(s^{2}+2s)$\n",
    "\n",
    "$L_{0}(s) = (s+2)(s+1)/2 = (s^{2}+3s+2)/2$"
   ]
  },
  {
   "cell_type": "markdown",
   "metadata": {},
   "source": [
    "Substituindo na integral:\n",
    "\n",
    "$\\int_{x_{i}}^{x_{i+1}}f(x,y(x))dx \\approx \\int_{x_{i}}^{x_{i+1}}p_{2}(x)dx = \\frac{h}{2}f_{i-2}\\int_{0}^{1}L_{-2}(s)ds +hf_{i-1}\\int_{0}^{1}L_{-1}(s)ds +\\frac{h}{2}f_{i}\\int_{0}^{1}L_{0}(s)ds$"
   ]
  },
  {
   "cell_type": "code",
   "execution_count": 31,
   "metadata": {},
   "outputs": [],
   "source": [
    "import sympy as sp"
   ]
  },
  {
   "cell_type": "markdown",
   "metadata": {},
   "source": [
    "Calculando :  $A_{2}=hf_{i-2}\\int_{0}^{1}L_{-2}(s)ds = hf_{i-2}\\int_{0}^{1}\\frac{(s^{2}+s)}{2}ds$"
   ]
  },
  {
   "cell_type": "code",
   "execution_count": 32,
   "metadata": {},
   "outputs": [],
   "source": [
    "h,s=sp.symbols(('h','s'))\n",
    "fi_2=sp.Symbol(('f_(i-2)'))\n",
    "fi_1=sp.Symbol(('f_(i-1)'))\n",
    "fi_0=sp.Symbol(('f_(i)'))"
   ]
  },
  {
   "cell_type": "code",
   "execution_count": 33,
   "metadata": {},
   "outputs": [
    {
     "data": {
      "text/latex": [
       "$\\displaystyle \\frac{s^{2}}{2} + \\frac{s}{2}$"
      ],
      "text/plain": [
       "s**2/2 + s/2"
      ]
     },
     "execution_count": 33,
     "metadata": {},
     "output_type": "execute_result"
    }
   ],
   "source": [
    "def L_2_(s):\n",
    "    return (s**2 +s)/2\n",
    "L_2_(s)"
   ]
  },
  {
   "cell_type": "code",
   "execution_count": 34,
   "metadata": {
    "scrolled": true
   },
   "outputs": [
    {
     "data": {
      "text/latex": [
       "$\\displaystyle \\frac{5 f_{(i-2)} h}{12}$"
      ],
      "text/plain": [
       "5*f_(i-2)*h/12"
      ]
     },
     "execution_count": 34,
     "metadata": {},
     "output_type": "execute_result"
    }
   ],
   "source": [
    "A2 = (h*fi_2)*sp.integrate(L_2_(s),(s,0,1))\n",
    "\n",
    "A2"
   ]
  },
  {
   "cell_type": "markdown",
   "metadata": {},
   "source": [
    "Calculando :  $A_{1}=hf_{i-1}\\int_{0}^{1}L_{-1}(s)ds = hf_{i-1}\\int_{0}^{1}-(s^{2}+2s)ds$"
   ]
  },
  {
   "cell_type": "code",
   "execution_count": 35,
   "metadata": {},
   "outputs": [
    {
     "data": {
      "text/latex": [
       "$\\displaystyle - s^{2} - 2 s$"
      ],
      "text/plain": [
       "-s**2 - 2*s"
      ]
     },
     "execution_count": 35,
     "metadata": {},
     "output_type": "execute_result"
    }
   ],
   "source": [
    "def L_1_(s):\n",
    "    return (-(s**2 +2*s))\n",
    "L_1_(s)"
   ]
  },
  {
   "cell_type": "code",
   "execution_count": 36,
   "metadata": {},
   "outputs": [
    {
     "data": {
      "text/latex": [
       "$\\displaystyle - \\frac{4 f_{(i-1)} h}{3}$"
      ],
      "text/plain": [
       "-4*f_(i-1)*h/3"
      ]
     },
     "execution_count": 36,
     "metadata": {},
     "output_type": "execute_result"
    }
   ],
   "source": [
    "A1 = h*fi_1*sp.integrate(L_1_(s),(s,0,1))\n",
    "\n",
    "A1"
   ]
  },
  {
   "cell_type": "markdown",
   "metadata": {},
   "source": [
    "Calculando :  $A_{0}=hf_{i}\\int_{0}^{1}L_{0}(s)ds = {h}f_{i}\\int_{0}^{1}\\frac{(s^{2}+3s+2)}{2}ds$"
   ]
  },
  {
   "cell_type": "code",
   "execution_count": 37,
   "metadata": {},
   "outputs": [
    {
     "data": {
      "text/latex": [
       "$\\displaystyle \\frac{s^{2}}{2} + \\frac{3 s}{2} + 1$"
      ],
      "text/plain": [
       "s**2/2 + 3*s/2 + 1"
      ]
     },
     "execution_count": 37,
     "metadata": {},
     "output_type": "execute_result"
    }
   ],
   "source": [
    "def L_0_(s):\n",
    "    return ((s**2 +3*s+2)/2)\n",
    "L_0_(s)"
   ]
  },
  {
   "cell_type": "code",
   "execution_count": 38,
   "metadata": {},
   "outputs": [
    {
     "data": {
      "text/latex": [
       "$\\displaystyle \\frac{23 f_{(i)} h}{12}$"
      ],
      "text/plain": [
       "23*f_(i)*h/12"
      ]
     },
     "execution_count": 38,
     "metadata": {},
     "output_type": "execute_result"
    }
   ],
   "source": [
    "A0 = h*fi_0*sp.integrate(L_0_(s),(s,0,1))\n",
    "\n",
    "A0"
   ]
  },
  {
   "cell_type": "markdown",
   "metadata": {},
   "source": [
    "$\\int_{x_{i}}^{x_{i+1}}f(x,y(x))dx \\approx \\int_{x_{i}}^{x_{i+1}}p_{2}(x)dx =A_{0}+A_{1}+A_{2}$"
   ]
  },
  {
   "cell_type": "code",
   "execution_count": 39,
   "metadata": {},
   "outputs": [
    {
     "data": {
      "text/latex": [
       "$\\displaystyle \\frac{23 f_{(i)} h}{12} - \\frac{4 f_{(i-1)} h}{3} + \\frac{5 f_{(i-2)} h}{12}$"
      ],
      "text/plain": [
       "23*f_(i)*h/12 - 4*f_(i-1)*h/3 + 5*f_(i-2)*h/12"
      ]
     },
     "execution_count": 39,
     "metadata": {},
     "output_type": "execute_result"
    }
   ],
   "source": [
    "A0+A1+A2"
   ]
  },
  {
   "cell_type": "markdown",
   "metadata": {},
   "source": [
    "Finalmente,\n",
    "\n",
    "$Y_{i+1}=Y_{i}+hf_{i}\\frac{23}{12}-hf_{i-1}\\frac{4}{3}+hf_{i-2}\\frac{5}{12}$."
   ]
  },
  {
   "cell_type": "markdown",
   "metadata": {},
   "source": [
    "# Questão 13"
   ]
  },
  {
   "cell_type": "markdown",
   "metadata": {},
   "source": [
    "O erro cometido no cálculo de $y^{'}(x_{i})$ por meio da diferença avançada pode ser estimado com a fórmula de Taylor de $y(x)$ em torno de $x_{i}$, considerando $k=1$:\n",
    "\n",
    "$y(x) = y(x_{i})+ y^{'}(x_{i})(x-x_{i}) + y^{''}(\\xi)(x-x_{i})^{2}/2$\n",
    "\n",
    "No ponto  $x= x_{i+1}=x_{i}+h$:\n",
    "\n",
    "$y(x_{i+1})=y(x_{i})+y^{'}(x_{i})h+y^{''}(\\xi_{i+1})(h)^{2}/2 \\Rightarrow$\n",
    "\n",
    "$y^{'}(x_{i})=[y(x_{i+1})-y(x_{i})]/h -y^{''}(\\xi_{i+1})(h)/2$\n",
    "\n",
    "Se $y^{''}(x)$ for limitada em $[a,b]$, então:\n",
    "\n",
    "$y^{'}(x_{i})=y(x_{i+1})-y(x_{i})/h + O(h)$"
   ]
  }
 ],
 "metadata": {
  "kernelspec": {
   "display_name": "Python 3",
   "language": "python",
   "name": "python3"
  },
  "language_info": {
   "codemirror_mode": {
    "name": "ipython",
    "version": 3
   },
   "file_extension": ".py",
   "mimetype": "text/x-python",
   "name": "python",
   "nbconvert_exporter": "python",
   "pygments_lexer": "ipython3",
   "version": "3.7.3"
  }
 },
 "nbformat": 4,
 "nbformat_minor": 2
}
