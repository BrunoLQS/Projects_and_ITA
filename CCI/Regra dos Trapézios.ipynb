{
 "cells": [
  {
   "cell_type": "markdown",
   "metadata": {},
   "source": [
    "### Regra dos Trapézios simples"
   ]
  },
  {
   "cell_type": "code",
   "execution_count": 1,
   "metadata": {
    "scrolled": false
   },
   "outputs": [
    {
     "name": "stdout",
     "output_type": "stream",
     "text": [
      "O valor da integral estimada é :\n",
      "T_simples(f) = 5.000227\n"
     ]
    }
   ],
   "source": [
    "import numpy as np\n",
    "\n",
    "# Função a ser integrada\n",
    "def f(x):\n",
    "    y= np.exp(-x)\n",
    "    return y\n",
    "\n",
    "# T(f) = I1(f) = ( f(a) + f(b) )( b - a )/2\n",
    "#Extrema direita\n",
    "b=10.0\n",
    "#Extrema esquerda\n",
    "a=0.0\n",
    "#Estimativa da integral\n",
    "T_1 = ( ( f(a) + f(b) )*( b - a ) )/2;\n",
    "\n",
    "print( \"O valor da integral estimada é :\\nT_simples(f) = %.6f\" %(T_1) )"
   ]
  },
  {
   "cell_type": "markdown",
   "metadata": {},
   "source": [
    "Assim, o valor obtido para a integral estimada pela regra simples foi $T_{1}(e^{-x})=5.000227$&nbsp; no intervalo $[0,10]$&nbsp;."
   ]
  },
  {
   "cell_type": "markdown",
   "metadata": {},
   "source": [
    "\n",
    "\n",
    "### Regra dos Trapézios composta"
   ]
  },
  {
   "cell_type": "code",
   "execution_count": null,
   "metadata": {},
   "outputs": [],
   "source": [
    "import numpy as np\n",
    "#definindo a função\n",
    "def f(x):\n",
    "    y=np.exp(-x)\n",
    "    return y\n",
    "#a é a extrema esquerda e b é a extrema direita\n",
    "def T(N,a,b):\n",
    "# Comprimento de um sub-intervalo\n",
    "    h=(b-a)/N\n",
    "    X=np.zeros(N+1)\n",
    "    Y=np.zeros(N+1)\n",
    "    for i in np.arange(0,N+1,1):\n",
    "        X[i]=a+h*i\n",
    "    Y=f(X)\n",
    "    retorno = h*( -((f(a)+f(b))/2) + np.sum(Y) )\n",
    "    return retorno"
   ]
  },
  {
   "cell_type": "markdown",
   "metadata": {},
   "source": [
    "Assim, o valor obtido para a integral estimada pela regra composta foi $T_{100}(x^4)= 6.4011$ no intervalo  $[0,2]$."
   ]
  },
  {
   "cell_type": "code",
   "execution_count": 26,
   "metadata": {},
   "outputs": [],
   "source": [
    "# -f faz uma ação forçada sem o prompt preguntar SIM ou NÃO\n",
    "%reset -f\n",
    "# DELETANDO TODAS AS VARIÁVEIS"
   ]
  }
 ],
 "metadata": {
  "kernelspec": {
   "display_name": "Python 3",
   "language": "python",
   "name": "python3"
  },
  "language_info": {
   "codemirror_mode": {
    "name": "ipython",
    "version": 3
   },
   "file_extension": ".py",
   "mimetype": "text/x-python",
   "name": "python",
   "nbconvert_exporter": "python",
   "pygments_lexer": "ipython3",
   "version": "3.7.3"
  }
 },
 "nbformat": 4,
 "nbformat_minor": 2
}
