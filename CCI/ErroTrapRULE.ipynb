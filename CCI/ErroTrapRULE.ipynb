{
 "cells": [
  {
   "cell_type": "markdown",
   "metadata": {},
   "source": [
    "### Erro da regra dos trapézios composta"
   ]
  },
  {
   "cell_type": "code",
   "execution_count": 1,
   "metadata": {},
   "outputs": [
    {
     "name": "stdout",
     "output_type": "stream",
     "text": [
      "O erro estimado para o valor na regra composta foi : E_8(f) = -0.021\n"
     ]
    }
   ],
   "source": [
    "#================= INTERVALO [a,b] ====================#\n",
    "# SEGUNDA DERIVADA da função !\n",
    "def f_2(x):\n",
    "    y=2.0  \n",
    "    return y\n",
    "#N é o número de intervalos.\n",
    "#=============== FUNÇÃO ERRO =======================#\n",
    "def E(N,a,b):\n",
    "    h=(b-a)/N\n",
    "    y = -( ((b-a)*(h**2))/12 )*f_2((a+b)/2)\n",
    "    return y\n",
    "\n",
    "E_8=E(h)\n",
    "\n",
    "print(\"O erro estimado para o valor na regra composta foi : E_8(f) = %.3f\" %(E_8))"
   ]
  },
  {
   "cell_type": "markdown",
   "metadata": {},
   "source": [
    "### Erro para a regra dos Trapézios simples"
   ]
  },
  {
   "cell_type": "code",
   "execution_count": 3,
   "metadata": {},
   "outputs": [
    {
     "name": "stdout",
     "output_type": "stream",
     "text": [
      "O erro estimado para o valor na regra simples foi : E_1(f) = -1.333\n"
     ]
    }
   ],
   "source": [
    "#================= INTERVALO ====================#\n",
    "b=2.0\n",
    "a=0.0\n",
    "f_2=2.0\n",
    "#=============== FUNÇÃO =======================#\n",
    "def E(h):\n",
    "    y = -( ((b-a)**3)/12 )*f_2\n",
    "    return y\n",
    "\n",
    "E_1=E(h)\n",
    "\n",
    "print(\"O erro estimado para o valor na regra simples foi : E_1(f) = %.3f\" %(E_1))"
   ]
  },
  {
   "cell_type": "code",
   "execution_count": 4,
   "metadata": {},
   "outputs": [],
   "source": [
    "# -f faz uma ação forçada sem o prompt preguntar SIM ou NÃO\n",
    "%reset -f\n",
    "# DELETANDO TODAS AS VARIÁVEIS"
   ]
  }
 ],
 "metadata": {
  "kernelspec": {
   "display_name": "Python 3",
   "language": "python",
   "name": "python3"
  },
  "language_info": {
   "codemirror_mode": {
    "name": "ipython",
    "version": 3
   },
   "file_extension": ".py",
   "mimetype": "text/x-python",
   "name": "python",
   "nbconvert_exporter": "python",
   "pygments_lexer": "ipython3",
   "version": "3.7.3"
  }
 },
 "nbformat": 4,
 "nbformat_minor": 2
}
