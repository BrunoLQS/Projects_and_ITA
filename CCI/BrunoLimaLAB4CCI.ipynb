{
 "cells": [
  {
   "cell_type": "markdown",
   "metadata": {},
   "source": [
    "Bruno Lima Queiroz Santos \n",
    "\n",
    "LAB4\n",
    "\n",
    "# Capítulo 8: Integração numérica\n"
   ]
  },
  {
   "cell_type": "markdown",
   "metadata": {},
   "source": [
    "\n",
    "## Questão 1"
   ]
  },
  {
   "cell_type": "markdown",
   "metadata": {},
   "source": [
    "### Regra dos Trapézios simples"
   ]
  },
  {
   "cell_type": "code",
   "execution_count": 279,
   "metadata": {
    "scrolled": false
   },
   "outputs": [
    {
     "name": "stdout",
     "output_type": "stream",
     "text": [
      "O valor da integral estimada é :\n",
      "T_simples(f) = 5.000227\n"
     ]
    }
   ],
   "source": [
    "import numpy as np\n",
    "\n",
    "# Função a ser integrada\n",
    "def f(x):\n",
    "    y= np.exp(-x)\n",
    "    return y\n",
    "\n",
    "# T(f) = I1(f) = ( f(a) + f(b) )( b - a )/2\n",
    "#Extrema direita\n",
    "b=10.0\n",
    "#Extrema esquerda\n",
    "a=0.0\n",
    "#Estimativa da integral\n",
    "T_1 = ( ( f(a) + f(b) )*( b - a ) )/2;\n",
    "\n",
    "print( \"O valor da integral estimada é :\\nT_simples(f) = %.6f\" %(T_1) )"
   ]
  },
  {
   "cell_type": "markdown",
   "metadata": {},
   "source": [
    "Assim, o valor obtido para a integral estimada pela regra simples foi $T_{1}\\,(e^{-x})=5.000227\\,\\,\\,\\,$ no intervalo $[0,10]$."
   ]
  },
  {
   "cell_type": "code",
   "execution_count": 280,
   "metadata": {},
   "outputs": [],
   "source": [
    "# -f faz uma ação forçada sem o prompt preguntar SIM ou NÃO\n",
    "%reset -f\n",
    "# DELETANDO TODAS AS VARIÁVEIS"
   ]
  },
  {
   "cell_type": "markdown",
   "metadata": {},
   "source": [
    "### Regra dos Trapézios composta"
   ]
  },
  {
   "cell_type": "code",
   "execution_count": 281,
   "metadata": {},
   "outputs": [
    {
     "name": "stdout",
     "output_type": "stream",
     "text": [
      "O valor da integral estimada é :\n",
      "T_simples(f) = 1.081928\n"
     ]
    }
   ],
   "source": [
    "import numpy as np\n",
    "#definindo a função\n",
    "def f(x):\n",
    "    y=np.exp(-x)\n",
    "    return y\n",
    "\n",
    "def T(N,a,b):\n",
    "# Comprimento de um sub-intervalo\n",
    "    h=(b-a)/N\n",
    "    X=np.zeros(N+1)\n",
    "    Y=np.zeros(N+1)\n",
    "    for i in np.arange(0,N+1,1):\n",
    "        X[i]=a+h*i\n",
    "    Y=f(X)\n",
    "    retorno = h*( -((f(a)+f(b))/2) + np.sum(Y) )\n",
    "    return retorno\n",
    "T_10=T(10,0,10)\n",
    "print( \"O valor da integral estimada é :\\nT_simples(f) = %.6f\" %(T_10) )\n"
   ]
  },
  {
   "cell_type": "markdown",
   "metadata": {},
   "source": [
    "Assim, o valor obtido para a integral estimada pela regra composta foi $T_{10}\\,(e^{-x}\\,)=1.081928$ no intervalo $[\\,0,10\\,]$."
   ]
  },
  {
   "cell_type": "code",
   "execution_count": 282,
   "metadata": {},
   "outputs": [],
   "source": [
    "# -f faz uma ação forçada sem o prompt preguntar SIM ou NÃO\n",
    "%reset -f\n",
    "# DELETANDO TODAS AS VARIÁVEIS"
   ]
  },
  {
   "cell_type": "markdown",
   "metadata": {},
   "source": [
    "## Questão 2"
   ]
  },
  {
   "cell_type": "markdown",
   "metadata": {},
   "source": [
    "### Regra dos Trapézios simples"
   ]
  },
  {
   "cell_type": "code",
   "execution_count": 283,
   "metadata": {
    "scrolled": false
   },
   "outputs": [
    {
     "name": "stdout",
     "output_type": "stream",
     "text": [
      "O valor da integral estimada é :\n",
      "T_1(f) = 4.00\n"
     ]
    }
   ],
   "source": [
    "import numpy as np\n",
    "\n",
    "# Função a ser integrada\n",
    "def f(x):\n",
    "    y=x**2\n",
    "    return y\n",
    "\n",
    "# T(f) = I1(f) = ( f(a) + f(b) )( b - a )/2\n",
    "#Extrema direita\n",
    "b=2.0\n",
    "#Extrema esquerda\n",
    "a=0.0\n",
    "#Estimativa da integral\n",
    "T_1 = ( ( f(a) + f(b) )*( b - a ) )/2;\n",
    "\n",
    "print( \"O valor da integral estimada é :\\nT_1(f) = %.2f\" %(T_1) )"
   ]
  },
  {
   "cell_type": "markdown",
   "metadata": {},
   "source": [
    "Assim, o valor obtido para a integral estimada pelo regra simples foi $T_{1}\\,(x^{2})=4.0$ no intervalo $[0,2]$."
   ]
  },
  {
   "cell_type": "code",
   "execution_count": 284,
   "metadata": {},
   "outputs": [],
   "source": [
    "# -f faz uma ação forçada sem o prompt preguntar SIM ou NÃO\n",
    "%reset -f\n",
    "# DELETANDO TODAS AS VARIÁVEIS"
   ]
  },
  {
   "cell_type": "markdown",
   "metadata": {},
   "source": [
    "### Regra dos Trapézios composta"
   ]
  },
  {
   "cell_type": "code",
   "execution_count": 285,
   "metadata": {},
   "outputs": [],
   "source": [
    "import numpy as np\n",
    "#definindo a função\n",
    "def f(x):\n",
    "    y=x**2\n",
    "    return y\n",
    "\n",
    "def T(N,a,b):\n",
    "# Comprimento de um sub-intervalo\n",
    "    h=(b-a)/N\n",
    "    X=np.zeros(N+1)\n",
    "    Y=np.zeros(N+1)\n",
    "    for i in np.arange(0,N+1,1):\n",
    "        X[i]=a+h*i\n",
    "    Y=f(X)\n",
    "    retorno = h*( -((f(a)+f(b))/2) + np.sum(Y) )\n",
    "    return retorno\n"
   ]
  },
  {
   "cell_type": "code",
   "execution_count": 286,
   "metadata": {},
   "outputs": [
    {
     "name": "stdout",
     "output_type": "stream",
     "text": [
      "O valor estimado foi T_10(f) = 2.680000\n"
     ]
    }
   ],
   "source": [
    "T_n= T(10,0,2.0)\n",
    "print(\"O valor estimado foi T_10(f) = %.6f\" %(T_n))"
   ]
  },
  {
   "cell_type": "markdown",
   "metadata": {},
   "source": [
    "Assim, o valor obtido para a integral estimada pela regra composta foi $T_{10}\\,(x^{2})=2.680$ no intervalo $[0,2]$."
   ]
  },
  {
   "cell_type": "code",
   "execution_count": 287,
   "metadata": {},
   "outputs": [],
   "source": [
    "# -f faz uma ação forçada sem o prompt preguntar SIM ou NÃO\n",
    "%reset -f\n",
    "# DELETANDO TODAS AS VARIÁVEIS"
   ]
  },
  {
   "cell_type": "markdown",
   "metadata": {},
   "source": [
    "## Questão 3"
   ]
  },
  {
   "cell_type": "markdown",
   "metadata": {},
   "source": [
    "### Regra dos Trapézios composta"
   ]
  },
  {
   "cell_type": "code",
   "execution_count": 288,
   "metadata": {
    "scrolled": false
   },
   "outputs": [],
   "source": [
    "import numpy as np\n",
    "#definindo a função\n",
    "def f(x):\n",
    "    y=x**2\n",
    "    return y\n",
    "#a é a extrema esquerda e b é a extrema direita\n",
    "def T(N,a,b):\n",
    "# Comprimento de um sub-intervalo\n",
    "    h=(b-a)/N\n",
    "    X=np.zeros(N+1)\n",
    "    Y=np.zeros(N+1)\n",
    "    for i in np.arange(0,N+1,1):\n",
    "        X[i]=a+h*i\n",
    "    Y=f(X)\n",
    "    retorno = h*( -((f(a)+f(b))/2) + np.sum(Y) )\n",
    "    return retorno"
   ]
  },
  {
   "cell_type": "code",
   "execution_count": 289,
   "metadata": {
    "scrolled": true
   },
   "outputs": [
    {
     "name": "stdout",
     "output_type": "stream",
     "text": [
      "O valor estimado T_8 = 2.687500\n"
     ]
    }
   ],
   "source": [
    "T_n= T(8,0,2.0)\n",
    "print(\"O valor estimado T_8 = %.6f\" %(T_n))"
   ]
  },
  {
   "cell_type": "markdown",
   "metadata": {},
   "source": [
    "Assim, o valor obtido para a integral estimada pela regra composta foi $T_{8}\\,(x^{2})=2.687500$ no intervalo $[\\,0,2\\,]$."
   ]
  },
  {
   "cell_type": "code",
   "execution_count": 290,
   "metadata": {},
   "outputs": [],
   "source": [
    "# -f faz uma ação forçada sem o prompt preguntar SIM ou NÃO\n",
    "%reset -f\n",
    "# DELETANDO TODAS AS VARIÁVEIS"
   ]
  },
  {
   "cell_type": "markdown",
   "metadata": {},
   "source": [
    "### Erro da regra dos trapézios composta"
   ]
  },
  {
   "cell_type": "markdown",
   "metadata": {},
   "source": [
    "O erro é dado por: $E_{8}\\,=-\\frac{(b-a)h^{2\\,}}{12}\\,f^{''}\\,(\\xi)$ , onde $\\xi \\in$  $]a,b[ \\,$ . Dessa forma, o erro pode ser calculado por meio das seguintes substituições:\n",
    "\n",
    "$b=2.0$\n",
    "\n",
    "$a=0$\n",
    "\n",
    "$h=\\frac{(b-a)}{8} =0.25$\n",
    "\n",
    "$f^{''}\\,(\\xi) = 2$"
   ]
  },
  {
   "cell_type": "code",
   "execution_count": 291,
   "metadata": {
    "scrolled": false
   },
   "outputs": [
    {
     "name": "stdout",
     "output_type": "stream",
     "text": [
      "O erro estimado para o valor na regra composta foi : E_8(f) = -0.021\n"
     ]
    }
   ],
   "source": [
    "b=2.0\n",
    "a=0.0\n",
    "N=8.0\n",
    "h=(b-a)/N\n",
    "f_2=2.0\n",
    "\n",
    "def E(h):\n",
    "    y = -( ((b-a)*(h**2))/12 )*f_2\n",
    "    return y\n",
    "\n",
    "E_8=E(h)\n",
    "\n",
    "print(\"O erro estimado para o valor na regra composta foi : E_8(f) = %.3f\" %(E_8))"
   ]
  },
  {
   "cell_type": "markdown",
   "metadata": {},
   "source": [
    "O erro estimado para a regra dos Trapézios composta por 8 sub-intervalos foi $E_{8}\\,(x^{2}\\,) = -0.021$ no intervalo $[\\,0,2\\,]$ ."
   ]
  },
  {
   "cell_type": "code",
   "execution_count": 292,
   "metadata": {},
   "outputs": [],
   "source": [
    "# -f faz uma ação forçada sem o prompt preguntar SIM ou NÃO\n",
    "%reset -f\n",
    "# DELETANDO TODAS AS VARIÁVEIS"
   ]
  },
  {
   "cell_type": "markdown",
   "metadata": {},
   "source": [
    "### Erro para a regra dos Trapézios simples"
   ]
  },
  {
   "cell_type": "markdown",
   "metadata": {},
   "source": [
    "O erro é dado por: $E_{8}\\,=-\\frac{(b-a)^{3\\,}}{12}\\,f^{''}\\,(\\xi)$ , onde $\\xi \\, \\in$ $]a,b[$ . Dessa forma, o erro pode ser calculado por meio das seguintes substituições:\n",
    "\n",
    "$b=2.0$\n",
    "\n",
    "$a=0$\n",
    "\n",
    "$f^{''}\\,(\\xi) = 2$"
   ]
  },
  {
   "cell_type": "code",
   "execution_count": 293,
   "metadata": {
    "scrolled": true
   },
   "outputs": [
    {
     "name": "stdout",
     "output_type": "stream",
     "text": [
      "O erro estimado para o valor na regra simples foi : E_1(f) = -1.333\n"
     ]
    }
   ],
   "source": [
    "b=2.0\n",
    "a=0.0\n",
    "f_2=2.0\n",
    "\n",
    "def E(a,b):\n",
    "    y = -( ((b-a)**3)/12 )*f_2\n",
    "    return y\n",
    "\n",
    "E_1=E(0,2)\n",
    "\n",
    "print(\"O erro estimado para o valor na regra simples foi : E_1(f) = %.3f\" %(E_1))"
   ]
  },
  {
   "cell_type": "markdown",
   "metadata": {},
   "source": [
    "O erro estimado para a regra do Trapézio simples  foi $E_{1}\\,(x^{2}) = -1.333$ no intervalo $[0,2]$\n",
    "\n",
    "Então: \n",
    "\n",
    "$E_{1}\\,(x^{2}) = -1.333$\n",
    "\n",
    "$E_{8}\\,(x^{2}) = -0.021$\n",
    "\n",
    "O que evidencia que o valor absoluto do erro é maior para a regra simples, ou seja a estimativa composta de 8 intervalos se aproxima melhor do resultado verdadeiro.\n"
   ]
  },
  {
   "cell_type": "code",
   "execution_count": 294,
   "metadata": {},
   "outputs": [],
   "source": [
    "# -f faz uma ação forçada sem o prompt preguntar SIM ou NÃO\n",
    "%reset -f\n",
    "# DELETANDO TODAS AS VARIÁVEIS"
   ]
  },
  {
   "cell_type": "markdown",
   "metadata": {},
   "source": [
    "## Questão 4"
   ]
  },
  {
   "cell_type": "markdown",
   "metadata": {},
   "source": [
    "### Regra dos Trapézios simples"
   ]
  },
  {
   "cell_type": "code",
   "execution_count": 295,
   "metadata": {
    "scrolled": false
   },
   "outputs": [
    {
     "name": "stdout",
     "output_type": "stream",
     "text": [
      "O valor da integral estimada é :\n",
      "T_1 = 16.00\n"
     ]
    }
   ],
   "source": [
    "import numpy as np\n",
    "\n",
    "# Função a ser integrada\n",
    "def f(x):\n",
    "    y=x**4\n",
    "    return y\n",
    "\n",
    "# T(f) = I1(f) = ( f(a) + f(b) )( b - a )/2\n",
    "#Extrema direita\n",
    "b=2.0\n",
    "#Extrema esquerda\n",
    "a=0.0\n",
    "#Estimativa da integral\n",
    "I_1 = ( ( f(a) + f(b) )*( b - a ) )/2;\n",
    "\n",
    "print( \"O valor da integral estimada é :\\nT_1 = %.2f\" %(I_1) )"
   ]
  },
  {
   "cell_type": "markdown",
   "metadata": {},
   "source": [
    "Assim, o valor obtido para a integral estimada pelo regra simples foi $T_{1}\\,(x^4)=16.0$ no intervalo  $[0,2]$."
   ]
  },
  {
   "cell_type": "code",
   "execution_count": 296,
   "metadata": {},
   "outputs": [],
   "source": [
    "# -f faz uma ação forçada sem o prompt preguntar SIM ou NÃO\n",
    "%reset -f\n",
    "# DELETANDO TODAS AS VARIÁVEIS"
   ]
  },
  {
   "cell_type": "markdown",
   "metadata": {},
   "source": [
    "### Regra dos Trapézios composta"
   ]
  },
  {
   "cell_type": "code",
   "execution_count": 297,
   "metadata": {},
   "outputs": [],
   "source": [
    "import numpy as np\n",
    "#definindo a função\n",
    "def f(x):\n",
    "    y=x**4\n",
    "    return y\n",
    "#a é a extrema esquerda e b é a extrema direita\n",
    "def T(N,a,b):\n",
    "# Comprimento de um sub-intervalo\n",
    "    h=(b-a)/N\n",
    "    X=np.zeros(N+1)\n",
    "    Y=np.zeros(N+1)\n",
    "    for i in np.arange(0,N+1,1):\n",
    "        X[i]=a+h*i\n",
    "    Y=f(X)\n",
    "    retorno = h*( -((f(a)+f(b))/2) + np.sum(Y) )\n",
    "    return retorno"
   ]
  },
  {
   "cell_type": "code",
   "execution_count": 298,
   "metadata": {},
   "outputs": [
    {
     "name": "stdout",
     "output_type": "stream",
     "text": [
      "O valor da integral estimada pela regra dos Trapézios composta foi T_100 = 6.401067\n"
     ]
    }
   ],
   "source": [
    "I_n= T(100,0,2.0)\n",
    "print(\"O valor da integral estimada pela regra dos Trapézios composta foi T_100 = %.6f\" %(I_n))"
   ]
  },
  {
   "cell_type": "markdown",
   "metadata": {},
   "source": [
    "Assim, o valor obtido para a integral estimada pela regra composta foi $T_{100}\\,(x^4)= 6.401067$ no intervalo  $[0,2]$."
   ]
  },
  {
   "cell_type": "code",
   "execution_count": 299,
   "metadata": {},
   "outputs": [],
   "source": [
    "# -f faz uma ação forçada sem o prompt preguntar SIM ou NÃO\n",
    "%reset -f\n",
    "# DELETANDO TODAS AS VARIÁVEIS"
   ]
  },
  {
   "cell_type": "markdown",
   "metadata": {},
   "source": [
    "## Questão 5"
   ]
  },
  {
   "cell_type": "markdown",
   "metadata": {},
   "source": [
    "### Erro da regra dos trapézios composta"
   ]
  },
  {
   "cell_type": "markdown",
   "metadata": {},
   "source": [
    "O erro é dado por: $E_{8}\\,=-\\frac{(b-a)h^{2}}{12} f^{''}\\,(\\xi)$ , onde $\\xi \\in$  $]a,b[$ . Dessa forma, o erro pode ser calculado por meio das seguintes substituições:\n",
    "\n",
    "$b=2.0$\n",
    "\n",
    "$a=0$\n",
    "\n",
    "$h=\\frac{(b-a)}{8} =0.25$\n",
    "\n",
    "$f^{''}\\,(\\xi) = 4\\cdot 3 \\xi^{2}$\n",
    "\n",
    "Sem perda de generalidade, podemos estimar o erro com $\\xi = \\frac{(b+a)}{2} \\Rightarrow \\xi = 1.0$ \n",
    "Logo,$f^{''}\\,(\\xi) = 12$"
   ]
  },
  {
   "cell_type": "code",
   "execution_count": 300,
   "metadata": {
    "scrolled": false
   },
   "outputs": [
    {
     "name": "stdout",
     "output_type": "stream",
     "text": [
      "O erro estimado para o valor na regra dos Trapézios composta foi : E_100 = -0.000800\n"
     ]
    }
   ],
   "source": [
    "b=2.0\n",
    "a=0.0\n",
    "N=100\n",
    "h=(b-a)/N\n",
    "f_2=12.0\n",
    "\n",
    "def E(h):\n",
    "    y = -( ((b-a)*(h**2))/12 )*f_2\n",
    "    return y\n",
    "\n",
    "E_n=E(h)\n",
    "\n",
    "print(\"O erro estimado para o valor na regra dos Trapézios composta foi : E_100 = %.6f\" %(E_n))"
   ]
  },
  {
   "cell_type": "markdown",
   "metadata": {},
   "source": [
    "O erro estimado para a regra dos Trapézios composta por 8 intervalos foi $E_{100}\\,(x^4) = -0.000800$ no intervalo $[0,2]$."
   ]
  },
  {
   "cell_type": "code",
   "execution_count": 301,
   "metadata": {},
   "outputs": [],
   "source": [
    "# -f faz uma ação forçada sem o prompt preguntar SIM ou NÃO\n",
    "%reset -f\n",
    "# DELETANDO TODAS AS VARIÁVEIS"
   ]
  },
  {
   "cell_type": "markdown",
   "metadata": {},
   "source": [
    "### Erro para a regra dos Trapézios simples"
   ]
  },
  {
   "cell_type": "markdown",
   "metadata": {},
   "source": [
    "O erro é dado por: $E_{8}\\,=-\\frac{(b-a)^{3}}{12} f^{''}\\,(\\xi)$ , onde $\\xi \\in  (a,b)$ . Dessa forma, o erro pode ser calculado por meio das seguintes substituições:\n",
    "\n",
    "$b=2.0$\n",
    "\n",
    "$a=0$\n",
    "\n",
    "$f^{''}\\,(\\xi) = 4\\cdot 3 \\xi^{2}$\n",
    "\n",
    "Sem perda de generalidade, podemos estimar o erro com $\\xi = \\frac{(b+a)}{2} \\Rightarrow \\xi = 1.0$ \n",
    "Logo,$f^{''}\\,(\\xi) = 12$"
   ]
  },
  {
   "cell_type": "code",
   "execution_count": 302,
   "metadata": {
    "scrolled": true
   },
   "outputs": [
    {
     "name": "stdout",
     "output_type": "stream",
     "text": [
      "O erro estimado para o valor na regra simples foi : E_1 = -8.000\n"
     ]
    }
   ],
   "source": [
    "b=2.0\n",
    "a=0.0\n",
    "f_2=12.0\n",
    "\n",
    "def E(a,b):\n",
    "    y = -( ((b-a)**3)/12 )*f_2\n",
    "    return y\n",
    "\n",
    "E_1=E(0,2)\n",
    "\n",
    "print(\"O erro estimado para o valor na regra simples foi : E_1 = %.3f\" %(E_1))"
   ]
  },
  {
   "cell_type": "markdown",
   "metadata": {},
   "source": [
    "O erro estimado para a regra do Trapézio simples  foi $E_{1}\\,(x^4) = -8.000$ no intervalo $[0,2]$\n",
    "\n",
    "Então: \n",
    "\n",
    "$E_{1} = -8.000$\n",
    "\n",
    "$E_{100} = −0.000800$\n",
    "\n",
    "O que evidencia que o valor absoluto do erro é maior para a regra simples. Isso ainda é destacado pelo fato de que o erro $E_{100}$ foi 1000 vezes menor que $E_{1}$ ,isto é, $E_{100}=\\frac{E_{1}}{1000}$\n"
   ]
  },
  {
   "cell_type": "code",
   "execution_count": 303,
   "metadata": {},
   "outputs": [],
   "source": [
    "# -f faz uma ação forçada sem o prompt preguntar SIM ou NÃO\n",
    "%reset -f\n",
    "# DELETANDO TODAS AS VARIÁVEIS"
   ]
  },
  {
   "cell_type": "markdown",
   "metadata": {},
   "source": [
    "## Questão 6"
   ]
  },
  {
   "cell_type": "markdown",
   "metadata": {},
   "source": [
    "### Regra de Simpson simples"
   ]
  },
  {
   "cell_type": "markdown",
   "metadata": {},
   "source": [
    "Tal como a Regra dos Trapézios, é um outro exemplo da Fórmula de Newton-Cotes fechada.Contudo, em vez de considerarmos a aproximação a cada sub-intervalo para um polinômio interpolador do 1o grau, ou seja, uma reta, pode-se pensar numa aproximação melhor: um polinômio interpolador do 2o grau, isto é, uma parábola. Para isso, considera-se neste método a regra de integração simples, o que exige um ponto adicional intermediário aos extremos de integração em relação ao intervalo sobre o domínio da função.\n",
    "\n",
    "Nesse caso,para N intervalos de interpolação, isto é , N+1 nodos de interpolação $I_{N}\\,(f) = r_{0}f(x_{0}) + r_{1}f(x_{1}) + ... + r_{N-1}f(x_{N-1}) +r_{N}f(x_{N})$ , $N \\geq 2$ . Com $r_{i}$ sendo uma constante a determinar  $\\forall i \\in \\{0,1,\\ldots,N-1,N\\}$ e $f(x)$ sendo a função cuja integração $I_{N}$ ao longo do intervalo será estimada. Desde que já conhecemos os valores de $f$ no intervalo, resta determinar uma equação para determinar as constantes.\n",
    "\n",
    "Na Regra de Simpson simples, o número dos nodos de interpolação é m=3. Por essa técnica, há um sistema de equações que determina as constantes.Isso foi feito no código a seguir.\n",
    "\n",
    "Observação: Os vetores serão anotados na forma não transposta como vetor-coluna, a forma mais tradicional na Álgebra Linear, para evitar confusão."
   ]
  },
  {
   "cell_type": "code",
   "execution_count": 304,
   "metadata": {},
   "outputs": [],
   "source": [
    "import numpy as np\n",
    "#Número de sub-intervalos [Regra de Simpson simples => N=2]\n",
    "N=2\n",
    "#Extrema esquerda do intervalo\n",
    "a=0\n",
    "#Extrema direita do intervalo\n",
    "b=10.0\n",
    "#Comprimento de cada intervalo\n",
    "h=(b-a)/N\n",
    "\n",
    "#Função cuja integral será estimada numericamente\n",
    "def f(x):\n",
    "    y=np.exp(-x)\n",
    "    return y\n",
    "\n",
    "X=np.zeros(N+1)\n",
    "# Preenchendo o vetor X com as abcissas dos nodos de interpolação .\n",
    "# O loop é exclusivo à direita\n",
    "for i in np.arange(0,N+1,1):\n",
    "    X[i]=a+i*h\n",
    "# Gerando a ordenada de cada um desses nodos de interpolação.   \n",
    "Y=f(X)"
   ]
  },
  {
   "cell_type": "markdown",
   "metadata": {},
   "source": [
    "Gerou-se o vetor-imagem $\\boldsymbol{Y}$ do vetor $\\boldsymbol {X}$ cujos elementos são os N+1 nodos de interpolação. Assim, $\\boldsymbol{Y}=f(\\boldsymbol {X} )$ . A técnica também tem como passo determinar os coeficientes constantes ,isto é, o vetor linha ${r}^{T}=(r_{0},r_{1},\\cdots,r_{N},r_{N+1})$ por meio da equação linear decorrente desta regra: \n",
    "\n",
    "$\\left[\\begin{matrix}\n",
    "1 & 1 & \\ldots & 1 & 1 \\\\\n",
    "x_{0} & x_{1} & \\ldots & x_{N-1} & x_{N}\\\\\n",
    "x_{0}^{2} & x_{1}^{2} & \\ldots & x_{N-1}^{2} & x_{N}^{2}\\\\\n",
    "\\vdots & \\vdots \\,\\, & \\vdots \\,\\,\\,\\,  & \\vdots   & \\vdots \\,\\, \\\\\n",
    "x_{0}^{N-1} & x_{1}^{N-1} & \\ldots & x_{N-1}^{N-1} & x_{N}^{N-1}\\\\\n",
    "x_{0}^{N} & x_{1}^{N} & \\ldots & x_{N-1}^{N} & x_{N}^{N}\\\\\n",
    "\\end{matrix}\\right]\n",
    "\\cdot \n",
    "\\left[\\begin{matrix}\n",
    "r_{0} \\\\\n",
    "r_{1} \\\\\n",
    "\\vdots \\\\\n",
    "r_{N-1} \\\\\n",
    "r_{N}  \\\\\n",
    "\\end{matrix}\\right]\n",
    "=\n",
    "\\left[\\begin{matrix}\n",
    "b^{1}-a^{1} \\\\\n",
    "(b^{2}-a^{2})/2 \\\\\n",
    "(b^{3}-a^{3})/3 \\\\\n",
    "\\vdots \\\\\n",
    "(b^{N}-a^{N})/(N) \\\\\n",
    "(b^{N +1}-a^{N + 1})/(N + 1)  \\\\\n",
    "\\end{matrix}\\right] = \\boldsymbol{v}$\n",
    "\n",
    "\n",
    "Ou seja, a técnica implica resolver um sistema linear possível e determinado, conforme a Teoria de Vandermonde. \n",
    "\n",
    "OBSERVAÇÃO: Para a Regra de Simpson, N=2 .\n"
   ]
  },
  {
   "cell_type": "markdown",
   "metadata": {},
   "source": [
    "Sendo $A=\\left[\\begin{matrix}\n",
    "1 & 1 & \\ldots & 1 & 1 \\\\\n",
    "x_{0} & x_{1} & \\ldots & x_{N-1} & x_{N}\\\\\n",
    "x_{0}^{2} & x_{1}^{2} & \\ldots & x_{N-1}^{2} & x_{N}^{2}\\\\\n",
    "\\vdots & \\vdots \\,\\, & \\vdots \\,\\,\\,\\,  & \\vdots   & \\vdots \\,\\, \\\\\n",
    "x_{0}^{N-1} & x_{1}^{N-1} & \\ldots & x_{N-1}^{n-1} & x_{N}^{N-1}\\\\\n",
    "x_{0}^{N} & x_{1}^{N} & \\ldots & x_{N-1}^{N} & x_{N}^{N}\\\\\n",
    "\\end{matrix}\\right]_{(N+1)x(N+1)}$, a matriz de coeficientes constantes , há uma equação linear a ser resolvida da forma $A\\cdot \\boldsymbol{r} =  \\boldsymbol{v}$ que permite determinar $\\boldsymbol{r}$\n",
    "\n",
    "OBSERVAÇÃO: Para a Regra de Simpson simples, N=2 ."
   ]
  },
  {
   "cell_type": "markdown",
   "metadata": {},
   "source": [
    "Para isso, percebe-se que\n",
    "$A=\\left[\\begin{matrix}\n",
    "\\arrowvert & \\ldots & \\arrowvert \\\\\n",
    "\\boldsymbol{X.}^{0} & \\ldots & \\boldsymbol{X.}^{n} \\\\\n",
    "\\arrowvert & \\ldots & \\arrowvert \\\\\n",
    "\\end{matrix}\\right]$ e $(\\boldsymbol{X.}^{k})^{T} = (X_{0}^{k},X_{1}^{k},\\ldots,X_{N-1}^{k},X_{N}^{k})$ , com $k \\in \\{ 0,1,\\ldots,N-1,N\\}$ , ou seja ,  $(\\boldsymbol{X.}^{k})$ é uma potenciação $k$ sobre cada elemento do vetor $\\boldsymbol{X}$ inserido na forma coluna sobre a k -ésima coluna anteriormente nula na matriz A. \n",
    "\n",
    "OBSERVAÇÃO: Para a Regra de Simpson simples, N=2 .\n",
    "\n",
    "Assim, há um direcionamento para construir a matriz $\\boldsymbol{A}$ , em código equivale ao seguinte:"
   ]
  },
  {
   "cell_type": "code",
   "execution_count": 305,
   "metadata": {},
   "outputs": [],
   "source": [
    "\n",
    "#MATRIZ DE vandermonde\n",
    "A= np.zeros([(N+1),(N+1)])\n",
    "# UMA MATRIZ N+1 x N+1 foi criada\n",
    "\n",
    "# Inserindo no vetor X |INSERINDO NA FILA 0 | O ELEMENTO [1] | ao longo de AXIS 0  -> FILA=LINHA\n",
    "#TODOS OS OUTROS ELEMENTOS SÃO SHIFTADOS ADIANTE [NO SENTIDO CRESCENTE DO ÍNDICE].\n",
    "L=np.insert(X,0,[1],axis=0)\n",
    "del(L)\n",
    "#foi desnecessário , mas vale a observação.\n",
    "\n",
    "#copiando todo o vetor na coluna da matriz A\n",
    "for i in np.arange(0,N+1,1):\n",
    "    A[:][i]=np.copy(X**i)\n",
    "    \n",
    "#PORTANTO O VETOR Y foi construído na forma de vetor-coluna !\n",
    "\n"
   ]
  },
  {
   "cell_type": "markdown",
   "metadata": {},
   "source": [
    "Para a construção do vetor $\\boldsymbol{v}$ seguinte, é útil perceber que:\n",
    "$\\boldsymbol{v}=\n",
    "\\left[\\begin{matrix}\n",
    "b^{0+1}-a^{0+1}/(0+1) \\\\\n",
    "(b^{1+1}-a^{1+1})/2 \\\\\n",
    "(b^{2+1}-a^{2+1})/3 \\\\\n",
    "\\vdots \\\\\n",
    "(b^{N-1 +1}-a^{N-1 +1})/(N-1 + 1) \\\\\n",
    "(b^{N +1}-a^{N +1})/(N + 1)  \\\\\n",
    "\\end{matrix}\\right]$\n",
    "\n",
    "Observação: Na Regra de Simpson simples N=2.\n",
    "\n",
    "\n",
    "Isso se traduz no código a seguir:"
   ]
  },
  {
   "cell_type": "code",
   "execution_count": 306,
   "metadata": {},
   "outputs": [],
   "source": [
    "v= np.zeros(N+1)\n",
    "for i in np.arange(0,N+1,1):\n",
    "    k=i+1\n",
    "    v[i]= (   ( (b**k)-(a**k) )/ ( k )   )\n",
    "\n"
   ]
  },
  {
   "cell_type": "markdown",
   "metadata": {},
   "source": [
    "Então, o vetor das constantes pode ser determinado , ou seja, a equação $\\boldsymbol{A} \\cdot \\boldsymbol{r}=\\boldsymbol{v}$ pode ser resolvida, e o vetor $\\boldsymbol{r}$ pode ser obtido, por meio do seguinte código:"
   ]
  },
  {
   "cell_type": "code",
   "execution_count": 307,
   "metadata": {},
   "outputs": [],
   "source": [
    "# Resolvendo a EQUAÇÃO LINEAR Ax = v\n",
    "# no caso r = x\n",
    "r = np.linalg.solve(A, v)\n",
    "    "
   ]
  },
  {
   "cell_type": "markdown",
   "metadata": {},
   "source": [
    "\n",
    "O passo final para finalizar a estimativa é utilizar que $I_{N}\\,(f) = r_{0}f(x_{0}) + r_{1}f(x_{1}) + ... + r_{N-1}f(x_{N-1}) +r_{N}f(x_{N})$ é equivalente ao produto interno entre os vetores $\\boldsymbol{r}^{T}$ e $\\boldsymbol{Y}$. \n",
    "\n",
    "Desde que ambos sejam uma matriz - fila de elementos, isto é , ou matriz-linha ou matriz-coluna, não precisa , em python , se preocupar em transpor qualquer dos dois vetores, pois a orientação positiva dos vetores é considerada adequadamente para o produto interno.Contudo, para que fique mais rigoroso, pode-se considerar o que foi feito até aqui, todos os vetores foram representados como matriz-coluna. Logo tem-se o código a seguir com  resultado que orienta r na forma matriz-linha:\n",
    "\n"
   ]
  },
  {
   "cell_type": "code",
   "execution_count": 308,
   "metadata": {},
   "outputs": [
    {
     "name": "stdout",
     "output_type": "stream",
     "text": [
      "O resultado pela Regra de Simpson simples foi I_s = 1.711662\n"
     ]
    }
   ],
   "source": [
    "I_s=np.dot(np.transpose(r),Y)\n",
    "print(\"O resultado pela Regra de Simpson simples foi I_s = %.6f\" %(I_s))"
   ]
  },
  {
   "cell_type": "markdown",
   "metadata": {},
   "source": [
    "o código a seguir tem o mesmo resultado a despeito da orientação de r na forma matriz-coluna:"
   ]
  },
  {
   "cell_type": "code",
   "execution_count": 309,
   "metadata": {},
   "outputs": [
    {
     "name": "stdout",
     "output_type": "stream",
     "text": [
      "O resultado pela Regra de Simpson simples foi I_s= 1.711662\n"
     ]
    }
   ],
   "source": [
    "I_s_=np.dot(r,Y)\n",
    "print(\"O resultado pela Regra de Simpson simples foi I_s= %.6f\" %(I_s_))"
   ]
  },
  {
   "cell_type": "markdown",
   "metadata": {},
   "source": [
    "Logo, o resultado pela Regra de Simpson simples foi $I_{s}\\,(e^{-x}) = 1.711662$ no intervalo $[0,10]$."
   ]
  },
  {
   "cell_type": "code",
   "execution_count": 310,
   "metadata": {},
   "outputs": [],
   "source": [
    "#DELETANDO FORÇADAMENTE\n",
    "%reset -f"
   ]
  },
  {
   "cell_type": "markdown",
   "metadata": {},
   "source": [
    "### Regra de Simpson composta"
   ]
  },
  {
   "cell_type": "markdown",
   "metadata": {},
   "source": [
    "Enquanto a Regra dos Trapézios composta utiliza uma spline linear, seria de se esperar que a Regra de Simpson composta fosse uma spline de grau 2, porque não se exige regularidade da função nos nós de interpolação.\n",
    "\n",
    "Antes de mais nada, para aplicar a Regra de Simpson composta, é necessário dividir o intervalo $[a,b]$ em um número N par de sub-intervalos, isto é , em um número $N+1$ ímpar de nós.\n",
    "\n"
   ]
  },
  {
   "cell_type": "markdown",
   "metadata": {},
   "source": [
    "Nesse contexto, dividiremos o intervalo $[a,b]$ em 20 partes, ou seja, 20 sub-intervalos. A função cuja integral será estimada é $f(x)=e^{-x}$ , há o intervalo $[a,b] \\equiv [0,10]$. Também, os nós possuem abcissa conforme $x_{i}= a + i\\,h$ , para $i \\in \\{0,1,\\ldots,N\\}$ , com $h=\\frac{(b-a)}{N}$ \n",
    "\n",
    "Isso se expressa pelo seguinte código: "
   ]
  },
  {
   "cell_type": "code",
   "execution_count": 311,
   "metadata": {},
   "outputs": [],
   "source": [
    "import numpy as np\n",
    "#Extrema esquerda do intervalo\n",
    "a=0\n",
    "#Extrema direita do intervalo\n",
    "b=10\n",
    "#Número de sub-intervalos.\n",
    "#------------> PARA A Regra de Simpson composta DEVE SER PAR <-------------------------#\n",
    "N=20\n",
    "\n",
    "#Diferença entre as abcissas de dois nós adjacentes.\n",
    "h=(b-a)/N\n",
    "#Vetor cujas entradas são os abcissas dos nós.\n",
    "X=np.zeros(N+1)\n",
    "\n",
    "#Loops são não inclusivos à direita.\n",
    "for i in np.arange(0,N+1,1):\n",
    "    X[i]= (a + i*h)\n",
    "\n",
    "def f(x):\n",
    "    y=np.exp(-x)\n",
    "    return y\n",
    "\n",
    "Y=f(X)"
   ]
  },
  {
   "cell_type": "markdown",
   "metadata": {},
   "source": [
    "Agora, consideram-se três nós em cada sub-intervalo $[x_{2k-2},x_{2k}]$ :\n",
    "\n",
    "$\\displaystyle x_{2k-2},x_{2k-1},x_{2k}$ para $k \\in \\{0,1,\\ldots,\\frac{N}{2}\\}$ . Então, aplica-se a Regra de Simpson simples para cada um dos sub-intervalos. Então,chega-se a:\n",
    "\n",
    "$S_{N}(f) = \\frac{h}{3} ( f(x_{0}) + f(x_{N}) +4\\sum_{k=1}^{N/2} f(x_{2k-1}) +2\\sum_{k=1}^{N/2-1}f(x_{2k})  )$\n",
    "\n",
    "Aplicar-se-á pelo código seguinte.\n"
   ]
  },
  {
   "cell_type": "code",
   "execution_count": 312,
   "metadata": {
    "scrolled": false
   },
   "outputs": [
    {
     "name": "stdout",
     "output_type": "stream",
     "text": [
      "O resultado pela Regra de Simpson composta foi:\n",
      "S_20 = 1.000242\n"
     ]
    }
   ],
   "source": [
    "k=N/2\n",
    "\n",
    "impar=0.0\n",
    "par=0.0\n",
    "# contabilizando o somatorio de índices par\n",
    "# loop é não inclusivo à EXTREMA DIREITA\n",
    "for i in np.arange(2,N,2): \n",
    "    par = Y[i] + par\n",
    "# contabilizando o somatorio de índices ímpar\n",
    "# loop é não inclusivo à EXTREMA DIREITA\n",
    "for i in np.arange(1,N-1,2): \n",
    "    impar=Y[i] + impar\n",
    "#Integração por Regra de Simpson composta\n",
    "S_N= (h/3)*( Y[0] + Y[N] +4*impar +2*par  )    \n",
    "\n",
    "print(\"O resultado pela Regra de Simpson composta foi:\\nS_20 = %.6f\" %(S_N))"
   ]
  },
  {
   "cell_type": "markdown",
   "metadata": {},
   "source": [
    "Logo, o resultado pela Regra de Simpson composta foi $I_{20}\\,(e^{-x}) = 1.000242$ no intervalo $[0,10]$."
   ]
  },
  {
   "cell_type": "code",
   "execution_count": 313,
   "metadata": {},
   "outputs": [],
   "source": [
    "#DELETANDO FORÇADAMENTE\n",
    "%reset -f"
   ]
  },
  {
   "cell_type": "markdown",
   "metadata": {},
   "source": [
    "## Questão 7"
   ]
  },
  {
   "cell_type": "markdown",
   "metadata": {},
   "source": [
    "### Regra de Simpson simples"
   ]
  },
  {
   "cell_type": "code",
   "execution_count": 314,
   "metadata": {},
   "outputs": [
    {
     "name": "stdout",
     "output_type": "stream",
     "text": [
      "O resultado pela Regra de Simpson simples foi I_s = 2.666667\n"
     ]
    }
   ],
   "source": [
    "import numpy as np\n",
    "#Número de sub-intervalos [ N=2 !]\n",
    "N=2\n",
    "#Extrema esquerda do intervalo\n",
    "a=0.0\n",
    "#Extrema direita do intervalo\n",
    "b=2.0\n",
    "#Comprimento de cada intervalo\n",
    "h=(b-a)/N\n",
    "\n",
    "#Função cuja integral será estimada numericamente\n",
    "def f(x):\n",
    "    y=x**2\n",
    "    return y\n",
    "\n",
    "X=np.zeros(N+1)\n",
    "# Preenchendo o vetor X com as abcissas dos nodos de interpolação .\n",
    "# O loop é exclusivo à direita\n",
    "for i in np.arange(0,N+1,1):\n",
    "    X[i]=a+i*h\n",
    "# Gerando a ordenada de cada um desses nodos de interpolação.   \n",
    "Y=f(X)\n",
    "\n",
    "#MATRIZ DE vandermonde\n",
    "A= np.zeros([(N+1),(N+1)])\n",
    "# UMA MATRIZ N+1 x N+1 foi criada\n",
    "\n",
    "# Inserindo no vetor X |INSERINDO NA FILA 0 | O ELEMENTO [1] | ao longo de AXIS 0  -> FILA=LINHA\n",
    "#TODOS OS OUTROS ELEMENTOS SÃO SHIFTADOS ADIANTE [NO SENTIDO CRESCENTE DO ÍNDICE].\n",
    "L=np.insert(X,0,[1],axis=0)\n",
    "del(L)\n",
    "#foi desnecessário , mas vale a observação.\n",
    "\n",
    "#copiando todo o vetor na coluna da matriz A\n",
    "for i in np.arange(0,N+1,1):\n",
    "    A[:][i]=np.copy(X**i)\n",
    "    \n",
    "#PORTANTO O VETOR Y foi construído na forma de vetor-coluna !\n",
    "\n",
    "v= np.zeros(N+1)\n",
    "for i in np.arange(0,N+1,1):\n",
    "    k=i+1\n",
    "    v[i]= (   ( (b**k)-(a**k) )/ ( k )   )\n",
    "    \n",
    "# Resolvendo a EQUAÇÃO LINEAR Ax = v\n",
    "# no caso r = x\n",
    "r = np.linalg.solve(A, v)\n",
    "\n",
    "I_s=np.dot(np.transpose(r),Y)\n",
    "print(\"O resultado pela Regra de Simpson simples foi I_s = %.6f\" %(I_s))"
   ]
  },
  {
   "cell_type": "markdown",
   "metadata": {},
   "source": [
    "Logo, o resultado pela Regra de Simpson zimples foi $I_{s}\\,(x^{2}) = 2.666667$ no intervalo $[0,2]$."
   ]
  },
  {
   "cell_type": "code",
   "execution_count": 315,
   "metadata": {},
   "outputs": [],
   "source": [
    "#DELETANDO FORÇADAMENTE\n",
    "%reset -f"
   ]
  },
  {
   "cell_type": "markdown",
   "metadata": {},
   "source": [
    "### Regra de Simpson composta"
   ]
  },
  {
   "cell_type": "code",
   "execution_count": 316,
   "metadata": {},
   "outputs": [
    {
     "name": "stdout",
     "output_type": "stream",
     "text": [
      "O resultado pela Regra de Simpson composta foi:\n",
      "S_20 = 2.185333\n"
     ]
    }
   ],
   "source": [
    "import numpy as np\n",
    "# intervalo [a,b]\n",
    "\n",
    "#Extrema esquerda do intervalo\n",
    "a=0\n",
    "#Extrema direita do intervalo\n",
    "b=2\n",
    "#Número de sub-intervalos.\n",
    "#------------> PARA A Regra de Simpson composta DEVE SER PAR <-------------------------#\n",
    "N=20\n",
    "\n",
    "#Diferença entre as abcissas de dois nós adjacentes.\n",
    "h=(b-a)/N\n",
    "#Vetor cujas entradas são os abcissas dos nós.\n",
    "X=np.zeros(N+1)\n",
    "\n",
    "#Loops são não inclusivos à direita.\n",
    "for i in np.arange(0,N+1,1):\n",
    "    X[i]= (a + i*h)\n",
    "\n",
    "def f(x):\n",
    "    y= x**2\n",
    "    return y\n",
    "\n",
    "Y=f(X)\n",
    "\n",
    "k=N/2\n",
    "\n",
    "impar=0.0\n",
    "par=0.0\n",
    "# contabilizando o somatorio de índices par\n",
    "# loop é não inclusivo à EXTREMA DIREITA\n",
    "for i in np.arange(2,N,2): \n",
    "    par = Y[i] + par\n",
    "# contabilizando o somatorio de índices ímpar\n",
    "# loop é não inclusivo à EXTREMA DIREITA\n",
    "for i in np.arange(1,N-1,2): \n",
    "    impar=Y[i] + impar\n",
    "#Integração por Regra de Simpson composta\n",
    "S_N= (h/3)*( Y[0] + Y[N] +4*impar +2*par  )    \n",
    "\n",
    "print(\"O resultado pela Regra de Simpson composta foi:\\nS_20 = %.6f\" %(S_N))"
   ]
  },
  {
   "cell_type": "markdown",
   "metadata": {},
   "source": [
    "Logo, o resultado pela Regra de Simpson composta foi $I_{20}\\,(x^{2}) = 2.185333$ no intervalo $[0,2]$."
   ]
  },
  {
   "cell_type": "code",
   "execution_count": 317,
   "metadata": {},
   "outputs": [],
   "source": [
    "# -f faz uma ação forçada sem o prompt preguntar SIM ou NÃO\n",
    "%reset -f\n",
    "# DELETANDO TODAS AS VARIÁVEIS"
   ]
  },
  {
   "cell_type": "markdown",
   "metadata": {},
   "source": [
    "## Questão 8"
   ]
  },
  {
   "cell_type": "markdown",
   "metadata": {},
   "source": [
    "### Regra de Simpson simples"
   ]
  },
  {
   "cell_type": "code",
   "execution_count": 318,
   "metadata": {},
   "outputs": [
    {
     "name": "stdout",
     "output_type": "stream",
     "text": [
      "O resultado pela Regra de Simpson simples foi I_s = 6.666667\n"
     ]
    }
   ],
   "source": [
    "import numpy as np\n",
    "#Número de sub-intervalos [MÉTODO SIMPLES N=2 !]\n",
    "N=2\n",
    "#Extrema esquerda do intervalo\n",
    "a=0.0\n",
    "#Extrema direita do intervalo\n",
    "b=2.0\n",
    "#Comprimento de cada intervalo\n",
    "h=(b-a)/N\n",
    "\n",
    "#Função cuja integral será estimada numericamente\n",
    "def f(x):\n",
    "    y=x**4\n",
    "    return y\n",
    "\n",
    "X=np.zeros(N+1)\n",
    "# Preenchendo o vetor X com as abcissas dos nodos de interpolação .\n",
    "# O loop é exclusivo à direita\n",
    "for i in np.arange(0,N+1,1):\n",
    "    X[i]=a+i*h\n",
    "# Gerando a ordenada de cada um desses nodos de interpolação.   \n",
    "Y=f(X)\n",
    "\n",
    "#MATRIZ DE vandermonde\n",
    "A= np.zeros([(N+1),(N+1)])\n",
    "# UMA MATRIZ N+1 x N+1 foi criada\n",
    "\n",
    "# Inserindo no vetor X |INSERINDO NA FILA 0 | O ELEMENTO [1] | ao longo de AXIS 0  -> FILA=LINHA\n",
    "#TODOS OS OUTROS ELEMENTOS SÃO SHIFTADOS ADIANTE [NO SENTIDO CRESCENTE DO ÍNDICE].\n",
    "L=np.insert(X,0,[1],axis=0)\n",
    "del(L)\n",
    "#foi desnecessário , mas vale a observação.\n",
    "\n",
    "#copiando todo o vetor na coluna da matriz A\n",
    "for i in np.arange(0,N+1,1):\n",
    "    A[:][i]=np.copy(X**i)\n",
    "    \n",
    "#PORTANTO O VETOR Y foi construído na forma de vetor-coluna !\n",
    "\n",
    "v= np.zeros(N+1)\n",
    "for i in np.arange(0,N+1,1):\n",
    "    k=i+1\n",
    "    v[i]= (   ( (b**k)-(a**k) )/ ( k )   )\n",
    "    \n",
    "# Resolvendo a EQUAÇÃO LINEAR Ax = v\n",
    "# no caso r = x\n",
    "r = np.linalg.solve(A, v)\n",
    "\n",
    "I_s=np.dot(np.transpose(r),Y)\n",
    "print(\"O resultado pela Regra de Simpson simples foi I_s = %.6f\" %(I_s))"
   ]
  },
  {
   "cell_type": "markdown",
   "metadata": {},
   "source": [
    "Logo, o resultado pela Regra de Simpson zimples foi $I_{s}\\,(x^{4}) = 6.666667$ no intervalo $[0,2]$."
   ]
  },
  {
   "cell_type": "code",
   "execution_count": 319,
   "metadata": {},
   "outputs": [],
   "source": [
    "#DELETANDO FORÇADAMENTE\n",
    "%reset -f"
   ]
  },
  {
   "cell_type": "markdown",
   "metadata": {},
   "source": [
    "### Regra de Simpson composta"
   ]
  },
  {
   "cell_type": "code",
   "execution_count": 320,
   "metadata": {},
   "outputs": [
    {
     "name": "stdout",
     "output_type": "stream",
     "text": [
      "O resultado pela Regra de Simpson composta foi:\n",
      "S_20 = 4.662413\n"
     ]
    }
   ],
   "source": [
    "import numpy as np\n",
    "# intervalo [a,b]\n",
    "\n",
    "#Extrema esquerda do intervalo\n",
    "a=0\n",
    "#Extrema direita do intervalo\n",
    "b=2\n",
    "#Número de sub-intervalos.\n",
    "#------------> PARA A Regra de Simpson composta DEVE SER PAR <-------------------------#\n",
    "N=20\n",
    "\n",
    "#Diferença entre as abcissas de dois nós adjacentes.\n",
    "h=(b-a)/N\n",
    "#Vetor cujas entradas são os abcissas dos nós.\n",
    "X=np.zeros(N+1)\n",
    "\n",
    "#Loops são não inclusivos à direita.\n",
    "for i in np.arange(0,N+1,1):\n",
    "    X[i]= (a + i*h)\n",
    "\n",
    "def f(x):\n",
    "    y= x**4\n",
    "    return y\n",
    "\n",
    "Y=f(X)\n",
    "\n",
    "k=N/2\n",
    "\n",
    "impar=0.0\n",
    "par=0.0\n",
    "# contabilizando o somatorio de índices par\n",
    "# loop é não inclusivo à EXTREMA DIREITA\n",
    "for i in np.arange(2,N,2): \n",
    "    par = Y[i] + par\n",
    "# contabilizando o somatorio de índices ímpar\n",
    "# loop é não inclusivo à EXTREMA DIREITA\n",
    "for i in np.arange(1,N-1,2): \n",
    "    impar=Y[i] + impar\n",
    "#Integração por Regra de Simpson composta\n",
    "S_N= (h/3)*( Y[0] + Y[N] +4*impar +2*par  )    \n",
    "\n",
    "print(\"O resultado pela Regra de Simpson composta foi:\\nS_20 = %.6f\" %(S_N))"
   ]
  },
  {
   "cell_type": "markdown",
   "metadata": {},
   "source": [
    "Logo, o resultado pela Regra de Simpson composta foi $I_{20}\\,(x^{4}) = 4.662413$ no intervalo $[0,2]$."
   ]
  },
  {
   "cell_type": "code",
   "execution_count": 321,
   "metadata": {},
   "outputs": [],
   "source": [
    "#DELETANDO FORÇADAMENTE\n",
    "%reset -f"
   ]
  },
  {
   "cell_type": "markdown",
   "metadata": {},
   "source": [
    "## Questão 9"
   ]
  },
  {
   "cell_type": "markdown",
   "metadata": {},
   "source": [
    "### Erro da regra de Simpson simples"
   ]
  },
  {
   "cell_type": "code",
   "execution_count": 322,
   "metadata": {},
   "outputs": [
    {
     "name": "stdout",
     "output_type": "stream",
     "text": [
      "O erro da regra de Simpson simples foi estimado em E_s = -0.266667\n"
     ]
    }
   ],
   "source": [
    "import numpy as np\n",
    "\n",
    "# ============== INTERVALO ================= #\n",
    "\n",
    "b=2.0\n",
    "a=0\n",
    "\n",
    "h=(b-a)/2\n",
    "\n",
    "ξ = (a+b)/2\n",
    "#================ FUNCAO ======================#\n",
    "def f(x):\n",
    "    y = x**4\n",
    "    return y\n",
    "# ================DERIVADA de ordem 4 da função em ξ ================= #\n",
    "def d4f(x):\n",
    "    y = (4*3*2*1)\n",
    "    return y\n",
    "\n",
    "# ============= ERROR ================== #\n",
    "\n",
    "def Errs(h):\n",
    "    return -(   ((h**5)/90)*d4f(ξ) )\n",
    "\n",
    "E_s=Errs(h)\n",
    "print(\"O erro da regra de Simpson simples foi estimado em E_s = %.6f\" %(E_s))\n"
   ]
  },
  {
   "cell_type": "code",
   "execution_count": 323,
   "metadata": {},
   "outputs": [],
   "source": [
    "# -f faz uma ação forçada sem o prompt preguntar SIM ou NÃO\n",
    "%reset -f\n",
    "# DELETANDO TODAS AS VARIÁVEIS"
   ]
  },
  {
   "cell_type": "markdown",
   "metadata": {},
   "source": [
    "### Erro da regra de Simpson composta"
   ]
  },
  {
   "cell_type": "code",
   "execution_count": 324,
   "metadata": {},
   "outputs": [
    {
     "name": "stdout",
     "output_type": "stream",
     "text": [
      "O erro da regra de Simpson composta foi estimado em E_c = -0.000027\n"
     ]
    }
   ],
   "source": [
    "import numpy as np\n",
    "\n",
    "# ============== INTERVALO ================= #\n",
    "\n",
    "b=2.0\n",
    "a=0\n",
    "#------------> PARA A Regra de Simpson composta DEVE SER PAR <-------------------------#\n",
    "N=20\n",
    "\n",
    "#Diferença entre as abcissas de dois nós adjacentes.\n",
    "h=(b-a)/N\n",
    "\n",
    "ξ = (a+b)/2\n",
    "#================ FUNCAO ======================#\n",
    "def f(x):\n",
    "    y = x**4\n",
    "    return y\n",
    "# ================DERIVADA de ordem 4 da função em ξ ================= #\n",
    "def d4f(x):\n",
    "    y = 4*3*2*1\n",
    "    return y\n",
    "\n",
    "# ============= ERROR ================== #\n",
    "\n",
    "def Errc(h):\n",
    "    return -((h**4)/180)*( (b-a)*d4f(ξ) )\n",
    "\n",
    "E_c=Errc(h)\n",
    "print(\"O erro da regra de Simpson composta foi estimado em E_c = %.6f\" %(E_c))\n"
   ]
  },
  {
   "cell_type": "markdown",
   "metadata": {},
   "source": [
    "\n",
    "\n",
    "Então, para a Regra de Simpson simples encontrou-se o erro estimado $E_{s}\\,(x^{4}) = -0.266667$ no intervalo , $[0, 2]$. \n",
    "\n",
    "Para a Regra de Simpson composta encontrou-se o erro estimado $E_{c}\\,(x^{4}) = -0.000027$ no intervalo $[0, 2]$.  "
   ]
  },
  {
   "cell_type": "code",
   "execution_count": 325,
   "metadata": {},
   "outputs": [],
   "source": [
    "# -f faz uma ação forçada sem o prompt preguntar SIM ou NÃO\n",
    "%reset -f\n",
    "# DELETANDO TODAS AS VARIÁVEIS"
   ]
  },
  {
   "cell_type": "markdown",
   "metadata": {},
   "source": [
    "## Questão 10"
   ]
  },
  {
   "cell_type": "code",
   "execution_count": 326,
   "metadata": {},
   "outputs": [
    {
     "name": "stdout",
     "output_type": "stream",
     "text": [
      "O resultado pela Regra de Simpson composta foi:\n",
      "S_40 = 0.992091\n"
     ]
    }
   ],
   "source": [
    "import numpy as np\n",
    "# intervalo [a,b]\n",
    "# ============================ INTERVALO ===================#\n",
    "#Extrema esquerda do intervalo\n",
    "a=0\n",
    "#Extrema direita do intervalo\n",
    "b=1.5\n",
    "#Número de sub-intervalos.\n",
    "#------------> PARA A Regra de Simpson composta DEVE SER PAR <-------------------------#\n",
    "N=40\n",
    "### NUMERO DEVE SER PAR ###\n",
    "\n",
    "#Diferença entre as abcissas de dois nós adjacentes.\n",
    "h=(b-a)/N\n",
    "#Vetor cujas entradas são os abcissas dos nós.\n",
    "X=np.zeros(N+1)\n",
    "\n",
    "#Loops são não inclusivos à direita.\n",
    "for i in np.arange(0,N+1,1):\n",
    "    X[i]= (a + i*h)\n",
    "# ======================== FUNÇÃO ===================== #\n",
    "def f(x):\n",
    "    y= np.cos(x)\n",
    "    return y\n",
    "\n",
    "Y=f(X)\n",
    "\n",
    "k=N/2\n",
    "\n",
    "impar=0.0\n",
    "par=0.0\n",
    "# contabilizando o somatorio de índices par\n",
    "# loop é não inclusivo à EXTREMA DIREITA\n",
    "for i in np.arange(2,N,2): \n",
    "    par = Y[i] + par\n",
    "# contabilizando o somatorio de índices ímpar\n",
    "# loop é não inclusivo à EXTREMA DIREITA\n",
    "for i in np.arange(1,N-1,2): \n",
    "    impar=Y[i] + impar\n",
    "#Integração por Regra de Simpson composta\n",
    "S_N= (h/3)*( Y[0] + Y[N] +4*impar +2*par  )    \n",
    "\n",
    "print(\"O resultado pela Regra de Simpson composta foi:\\nS_40 = %.6f\" %(S_N))"
   ]
  },
  {
   "cell_type": "markdown",
   "metadata": {},
   "source": [
    "\n",
    "\n",
    "Para a Regra de Simpson composta encontrou-se o resultado estimado $S_{40}\\,(\\cos x) = 0.992091$ no intervalo $[0, 1.5]$ .  "
   ]
  },
  {
   "cell_type": "code",
   "execution_count": 327,
   "metadata": {},
   "outputs": [],
   "source": [
    "# -f faz uma ação forçada sem o prompt preguntar SIM ou NÃO\n",
    "%reset -f\n",
    "# DELETANDO TODAS AS VARIÁVEIS"
   ]
  },
  {
   "cell_type": "markdown",
   "metadata": {},
   "source": [
    "## Questão 11"
   ]
  },
  {
   "cell_type": "code",
   "execution_count": 328,
   "metadata": {},
   "outputs": [
    {
     "name": "stdout",
     "output_type": "stream",
     "text": [
      "O resultado pela Regra de Simpson composta foi:\n",
      "S_20 = 1.000242\n"
     ]
    }
   ],
   "source": [
    "import numpy as np\n",
    "# intervalo [a,b]\n",
    "# ============================ INTERVALO ===================#\n",
    "#Extrema esquerda do intervalo\n",
    "a=0\n",
    "#Extrema direita do intervalo\n",
    "b=10\n",
    "#Número de sub-intervalos.\n",
    "#------------> PARA A Regra de Simpson composta DEVE SER PAR <-------------------------#\n",
    "N=20\n",
    "### NUMERO DEVE SER PAR ###\n",
    "\n",
    "#Diferença entre as abcissas de dois nós adjacentes.\n",
    "h=(b-a)/N\n",
    "#Vetor cujas entradas são os abcissas dos nós.\n",
    "X=np.zeros(N+1)\n",
    "\n",
    "#Loops são não inclusivos à direita.\n",
    "for i in np.arange(0,N+1,1):\n",
    "    X[i]= (a + i*h)\n",
    "# ======================== FUNÇÃO ===================== #\n",
    "def f(x):\n",
    "    y= np.exp(-x)\n",
    "    return y\n",
    "\n",
    "Y=f(X)\n",
    "\n",
    "k=N/2\n",
    "\n",
    "impar=0.0\n",
    "par=0.0\n",
    "# contabilizando o somatorio de índices par\n",
    "# loop é não inclusivo à EXTREMA DIREITA\n",
    "for i in np.arange(2,N,2): \n",
    "    par = Y[i] + par\n",
    "# contabilizando o somatorio de índices ímpar\n",
    "# loop é não inclusivo à EXTREMA DIREITA\n",
    "for i in np.arange(1,N-1,2): \n",
    "    impar=Y[i] + impar\n",
    "#Integração por Regra de Simpson composta\n",
    "S_N= (h/3)*( Y[0] + Y[N] +4*impar +2*par  )    \n",
    "\n",
    "print(\"O resultado pela Regra de Simpson composta foi:\\nS_20 = %.6f\" %(S_N))"
   ]
  },
  {
   "cell_type": "markdown",
   "metadata": {},
   "source": [
    "\n",
    "\n",
    "Para a Regra de Simpson composta encontrou-se o resultado estimado $S_{20}\\,(e^{-x}) = 1.000242$ no intervalo $[0, 10]$.  "
   ]
  },
  {
   "cell_type": "code",
   "execution_count": 329,
   "metadata": {},
   "outputs": [],
   "source": [
    "# -f faz uma ação forçada sem o prompt preguntar SIM ou NÃO\n",
    "%reset -f\n",
    "# DELETANDO TODAS AS VARIÁVEIS"
   ]
  },
  {
   "cell_type": "markdown",
   "metadata": {},
   "source": [
    "## Questão 12"
   ]
  },
  {
   "cell_type": "code",
   "execution_count": 330,
   "metadata": {},
   "outputs": [
    {
     "name": "stdout",
     "output_type": "stream",
     "text": [
      "True\n",
      "z = 255\n",
      "T(z-1) - T(z) < 0.000001 :  False\n"
     ]
    }
   ],
   "source": [
    "# Regra dos Trapézios composta\n",
    "\n",
    "import numpy as np\n",
    "#Extrema direita\n",
    "b=10.0\n",
    "#Extrema esquerda\n",
    "a=0.0\n",
    "def f(x):\n",
    "    y=np.exp(-x)\n",
    "    return y\n",
    "\n",
    "def T(N):\n",
    "# Comprimento de um sub-intervalo\n",
    "    h=(b-a)/N\n",
    "    X=np.zeros(N+1)\n",
    "    Y=np.zeros(N+1)\n",
    "    for i in np.arange(0,N+1,1):\n",
    "        X[i]=a+h*i\n",
    "    Y=f(X)\n",
    "    retorno = h*( -((f(a)+f(b))/2) + np.sum(Y) )\n",
    "    return retorno\n",
    "\n",
    "z=1\n",
    "while( T(z) - T(z+1) >= 0.000001 ):\n",
    "    z+=1\n",
    "ε = T(z) - T(z+1)\n",
    "print (ε < 0.000001)\n",
    "print(\"z = %d\" %(z))\n",
    "print(\"T(z-1) - T(z) < 0.000001 : \", T(z-1) - T(z) < 0.000001 )\n"
   ]
  },
  {
   "cell_type": "code",
   "execution_count": 331,
   "metadata": {},
   "outputs": [
    {
     "data": {
      "text/plain": [
       "1.0000827468049556"
      ]
     },
     "execution_count": 331,
     "metadata": {},
     "output_type": "execute_result"
    }
   ],
   "source": [
    "T(z)"
   ]
  },
  {
   "cell_type": "markdown",
   "metadata": {},
   "source": [
    "Assim, pode-se concluir que o resultado aproximado obtido foi $T(z) = 1.000083$ . No intervalo $[0,10]$ para a função $e^{-x}$"
   ]
  },
  {
   "cell_type": "code",
   "execution_count": 332,
   "metadata": {},
   "outputs": [],
   "source": [
    "# -f faz uma ação forçada sem o prompt preguntar SIM ou NÃO\n",
    "%reset -f\n",
    "# DELETANDO TODAS AS VARIÁVEIS"
   ]
  },
  {
   "cell_type": "markdown",
   "metadata": {},
   "source": [
    "## Questão 13"
   ]
  },
  {
   "cell_type": "code",
   "execution_count": 333,
   "metadata": {},
   "outputs": [
    {
     "name": "stdout",
     "output_type": "stream",
     "text": [
      "Os resultados obtidos pela regra do trapézio composta foram :\n",
      "T_4 = 6.000000 \n",
      "T_8 = 5.500000\n"
     ]
    }
   ],
   "source": [
    "# Regra dos Trapézios composta\n",
    "\n",
    "import numpy as np\n",
    "#definindo a função\n",
    "def f(x):\n",
    "    y=x**2\n",
    "    return y\n",
    "#a é a extrema esquerda e b é a extrema direita\n",
    "def T(N,a,b):\n",
    "# Comprimento de um sub-intervalo\n",
    "    h=(b-a)/N\n",
    "    X=np.zeros(N+1)\n",
    "    Y=np.zeros(N+1)\n",
    "    for i in np.arange(0,N+1,1):\n",
    "        X[i]=a+h*i\n",
    "    Y=f(X)\n",
    "    retorno = h*( -((f(a)+f(b))/2) + np.sum(Y) )\n",
    "    return retorno\n",
    "\n",
    "T_4 = T(4,-2.0,2.0)\n",
    "T_8 = T(8,-2.0,2.0)\n",
    "\n",
    "print(\"Os resultados obtidos pela regra do trapézio composta foram :\")\n",
    "print(\"T_4 = %.6f\" %(T_4) , \"\\nT_8 = %.6f\" %(T_8))"
   ]
  },
  {
   "cell_type": "markdown",
   "metadata": {},
   "source": [
    "Conclui-se que os resultados obtidos pela regra do trapézio foram: \n",
    "$T_{4}\\,(x^{2}) = 6.0$ e $T_{8}\\,(x^{2}) = 5.5$ ambos no intervalo $[-2,2]$."
   ]
  },
  {
   "cell_type": "code",
   "execution_count": 334,
   "metadata": {},
   "outputs": [],
   "source": [
    "# -f faz uma ação forçada sem o prompt preguntar SIM ou NÃO\n",
    "%reset -f\n",
    "# DELETANDO TODAS AS VARIÁVEIS"
   ]
  },
  {
   "cell_type": "markdown",
   "metadata": {},
   "source": [
    "## Questão 14"
   ]
  },
  {
   "cell_type": "code",
   "execution_count": 335,
   "metadata": {},
   "outputs": [
    {
     "name": "stdout",
     "output_type": "stream",
     "text": [
      "Os resultados obtidos foram:\n",
      "E_4c = -0.666667 \n",
      "E_8c = -0.166667\n"
     ]
    }
   ],
   "source": [
    "f_2=2.0  # SEGUNDA DERIVADA !\n",
    "#=============== FUNÇÃO =======================#\n",
    "def E(N,a,b):\n",
    "    h=(b-a)/N\n",
    "    y = -( ((b-a)*(h**2))/12 )*f_2\n",
    "    return y\n",
    "\n",
    "E_4c=E(4,-2,2)\n",
    "E_8c=E(8,-2,2)\n",
    "\n",
    "print(\"Os resultados obtidos foram:\")\n",
    "print(\"E_4c = %.6f\" %(E_4c) ,\"\\nE_8c = %.6f\" %(E_8c) )"
   ]
  },
  {
   "cell_type": "markdown",
   "metadata": {},
   "source": [
    "Então, os resultados obtidos foram $E_{4c}\\,(x^{2}) = -0.666667$ e $E_{8c}\\,(x^{2}) = -0.166667$ para a estimativa dos erro das integrais sobre o intervalo $[-2,2]$ pela regra dos trapézios composta."
   ]
  },
  {
   "cell_type": "code",
   "execution_count": 336,
   "metadata": {},
   "outputs": [],
   "source": [
    "# -f faz uma ação forçada sem o prompt preguntar SIM ou NÃO\n",
    "%reset -f\n",
    "# DELETANDO TODAS AS VARIÁVEIS"
   ]
  },
  {
   "cell_type": "markdown",
   "metadata": {},
   "source": [
    "## Questão 15"
   ]
  },
  {
   "cell_type": "code",
   "execution_count": 337,
   "metadata": {},
   "outputs": [
    {
     "name": "stdout",
     "output_type": "stream",
     "text": [
      "O resultado pela Regra de Simpson composta foi:\n",
      "S_4 = 12.000000\n"
     ]
    }
   ],
   "source": [
    "import numpy as np\n",
    "# intervalo [a,b]\n",
    "# ============================ INTERVALO ===================#\n",
    "#Extrema esquerda do intervalo\n",
    "a=-2\n",
    "#Extrema direita do intervalo\n",
    "b=2\n",
    "#Número de sub-intervalos.\n",
    "#------------> PARA A Regra de Simpson composta DEVE SER PAR <-------------------------#\n",
    "N=4\n",
    "\n",
    "#Diferença entre as abcissas de dois nós adjacentes.\n",
    "h=(b-a)/N\n",
    "#Vetor cujas entradas são os abcissas dos nós.\n",
    "X=np.zeros(N+1)\n",
    "\n",
    "#Loops são não inclusivos à direita.\n",
    "for i in np.arange(0,N+1,1):\n",
    "    X[i]= (a + i*h)\n",
    "# ======================== FUNÇÃO ===================== #\n",
    "def f(x):\n",
    "    y= x**4\n",
    "    return y\n",
    "\n",
    "Y=f(X)\n",
    "\n",
    "k=N/2\n",
    "\n",
    "impar=0.0\n",
    "par=0.0\n",
    "# contabilizando o somatorio de índices par\n",
    "# loop é não inclusivo à EXTREMA DIREITA\n",
    "for i in np.arange(2,N,2): \n",
    "    par = Y[i] + par\n",
    "# contabilizando o somatorio de índices ímpar\n",
    "# loop é não inclusivo à EXTREMA DIREITA\n",
    "for i in np.arange(1,N-1,2): \n",
    "    impar=Y[i] + impar\n",
    "#Integração por Regra de Simpson composta\n",
    "S_N= (h/3)*( Y[0] + Y[N] +4*impar +2*par  )    \n",
    "\n",
    "print(\"O resultado pela Regra de Simpson composta foi:\\nS_4 = %.6f\" %(S_N))"
   ]
  },
  {
   "cell_type": "code",
   "execution_count": 338,
   "metadata": {},
   "outputs": [
    {
     "name": "stdout",
     "output_type": "stream",
     "text": [
      "O resultado pela Regra de Simpson composta foi:\n",
      "S_8 = 9.458333\n"
     ]
    }
   ],
   "source": [
    "import numpy as np\n",
    "# intervalo [a,b]\n",
    "# ============================ INTERVALO ===================#\n",
    "#Extrema esquerda do intervalo\n",
    "a=-2\n",
    "#Extrema direita do intervalo\n",
    "b=2\n",
    "#Número de sub-intervalos.\n",
    "#------------> PARA A Regra de Simpson composta DEVE SER PAR <-------------------------#\n",
    "N=8\n",
    "\n",
    "#Diferença entre as abcissas de dois nós adjacentes.\n",
    "h=(b-a)/N\n",
    "#Vetor cujas entradas são os abcissas dos nós.\n",
    "X=np.zeros(N+1)\n",
    "\n",
    "#Loops são não inclusivos à direita.\n",
    "for i in np.arange(0,N+1,1):\n",
    "    X[i]= (a + i*h)\n",
    "# ======================== FUNÇÃO ===================== #\n",
    "def f(x):\n",
    "    y= x**4\n",
    "    return y\n",
    "\n",
    "Y=f(X)\n",
    "\n",
    "k=N/2\n",
    "\n",
    "impar=0.0\n",
    "par=0.0\n",
    "# contabilizando o somatorio de índices par\n",
    "# loop é não inclusivo à EXTREMA DIREITA\n",
    "for i in np.arange(2,N,2): \n",
    "    par = Y[i] + par\n",
    "# contabilizando o somatorio de índices ímpar\n",
    "# loop é não inclusivo à EXTREMA DIREITA\n",
    "for i in np.arange(1,N-1,2): \n",
    "    impar=Y[i] + impar\n",
    "#Integração por Regra de Simpson composta\n",
    "S_N= (h/3)*( Y[0] + Y[N] +4*impar +2*par  )    \n",
    "\n",
    "print(\"O resultado pela Regra de Simpson composta foi:\\nS_8 = %.6f\" %(S_N))"
   ]
  },
  {
   "cell_type": "markdown",
   "metadata": {},
   "source": [
    "Logo, os resultados obtidos foram $S_{4}\\,(x^{4})=12.0$ e $S_{8}\\,(x^{4})=9.458333$ para a integração pelo Regra de Simpson composta no intervalo $[-2,2]$."
   ]
  },
  {
   "cell_type": "code",
   "execution_count": 339,
   "metadata": {},
   "outputs": [],
   "source": [
    "# -f faz uma ação forçada sem o prompt preguntar SIM ou NÃO\n",
    "%reset -f\n",
    "# DELETANDO TODAS AS VARIÁVEIS"
   ]
  },
  {
   "cell_type": "markdown",
   "metadata": {},
   "source": [
    "## Questão 16"
   ]
  },
  {
   "cell_type": "code",
   "execution_count": 340,
   "metadata": {},
   "outputs": [
    {
     "name": "stdout",
     "output_type": "stream",
     "text": [
      "Os resultados obtidos foram:\n",
      "E_4 = -0.533333 \n",
      "E_8 = -0.033333\n"
     ]
    }
   ],
   "source": [
    "import numpy as np\n",
    "\n",
    "# ============== INTERVALO ================= #\n",
    "\n",
    "b=2.0\n",
    "a=-2.0\n",
    "\n",
    "#------------> PARA A Regra de Simpson composta DEVE SER PAR <-------------------------#\n",
    "N=4\n",
    "\n",
    "#Diferença entre as abcissas de dois nós adjacentes.\n",
    "h=(b-a)/N\n",
    "\n",
    "ξ = (a+b)/2\n",
    "#================ FUNCAO ======================#\n",
    "def f(x):\n",
    "    y = x**4\n",
    "    return y\n",
    "# ================DERIVADA de ordem 4 da função em ξ ================= #\n",
    "def d4f(x):\n",
    "    y = 4*3*2*1\n",
    "    return y\n",
    "\n",
    "# ============= ERROR ================== #\n",
    "\n",
    "def E_s(h):\n",
    "    return -((h**4)/180)*( (b-a)*d4f(ξ) )\n",
    "\n",
    "E_4= E_s(h)\n",
    "N=8\n",
    "h=(b-a)/N\n",
    "E_8= E_s(h)\n",
    "print(\"Os resultados obtidos foram:\")\n",
    "print(\"E_4 = %.6f\" %( E_4 ),\"\\nE_8 = %.6f\" %( E_8 ) )"
   ]
  },
  {
   "cell_type": "markdown",
   "metadata": {},
   "source": [
    "Logo, a estimativa dos erros foram respectivamente $E_{4}\\,(x^4)= -0.533$ e $E_{8}\\,(x^4)= -0.033$ para a Regra dos Trapézios composta no intervalo  $[-2,2]$."
   ]
  },
  {
   "cell_type": "code",
   "execution_count": 341,
   "metadata": {},
   "outputs": [],
   "source": [
    "# -f faz uma ação forçada sem o prompt preguntar SIM ou NÃO\n",
    "%reset -f\n",
    "# DELETANDO TODAS AS VARIÁVEIS"
   ]
  },
  {
   "cell_type": "markdown",
   "metadata": {},
   "source": [
    "## Questão 17"
   ]
  },
  {
   "cell_type": "markdown",
   "metadata": {},
   "source": [
    "Determinando as majorações para o valor absoluto do erro:\n",
    "\n",
    "$E(f) = I(f) - T(f)$ \n",
    "\n",
    "Sabe-se que $E(f) = I(f) - T(f) = I(f) - I(p_{1}) = I(f-p_{1})$\n",
    "\n",
    "Da fórmula do erro de interpolação temos que \n",
    "\n",
    "$f(x) -p_{1}(x) = f[a,\\,b,\\,x](x-a)(x-b)$ \n",
    "\n",
    "e como $(x-a)(x-b)$ não muda de sinal no intervalo $[a,b]$ podemos aplicar o Teorema do Valor Intermédio para Integrais e obtemos\n",
    "\n",
    "$\\int_{a}^{b}f[a,\\,b,\\,x](x-a)(x-b)dx = f[a,\\,b,\\,\\xi]\\int_{a}^{b}(x-a)(x-b)dx$\n",
    "\n",
    "para um certo $\\xi \\in ]a,b[$\n",
    "\n",
    "e supondo que $f$ é $C^{2}[a,b]$, obtemos a fórmula do erro:\n",
    "\n",
    "$E(f) = -\\frac{(b-a)^{3}}{12}f^{''}(\\xi)$ , para um certo $\\xi \\in ]a,b[$\n",
    "\n",
    "sendo $N=2$ o número de nós,o número de intervalos é dado por $m=1$ e o comprimento do intervalo é $h=(b-a)/1$ , $x_{0} = a$,$x_{1} = b$\n",
    "\n",
    "finalmente $E_{TS}=-\\frac{(h)^{3}}{12}f^{''}(\\xi)$ , $\\xi \\in (x_{0},x_{1})$"
   ]
  },
  {
   "cell_type": "markdown",
   "metadata": {},
   "source": [
    "## Questão 18"
   ]
  },
  {
   "cell_type": "markdown",
   "metadata": {},
   "source": [
    "o erro da regra dos trapézios composta será a soma dos erros cometidos em cada sub-intervalo, de $1$ a $N$, isto é :\n",
    "\n",
    "$E_{N}(f)= - \\sum_{i=1}^{N}\\frac{h^3}{12}f^{''}(\\xi_{i}) = -\\frac{h^{3}N}{12}(\\frac{1}{N}\\sum_{i=1}^{N}f^{''}(\\xi_{i}))$\n",
    "\n",
    "como $N=h(b-a)$, pode-se aplicar o teorema clássico do valor intermediário à média das derivadas de ordem 2, obtendo-se a fórmula do erro da regra dos trapézios composta:\n",
    "\n",
    "$E_{N}(f)=-\\frac{(b-a)h^{2}}{12}f^{''}(\\xi)$, onde $\\xi \\in ]a,b[$\n",
    "\n",
    "sendo $m\\cdot h=(b-a)$, com $m$ sendo o número de intervalos $n-1$ , $x_{0} = a$,$x_{n} = b$ , finalmente:\n",
    "\n",
    "$E_{m}(f)=-m\\frac{h^{3}}{12}f^{''}(\\xi)$, onde $\\xi \\in (x_{0},x_{n})$\n",
    "\n"
   ]
  },
  {
   "cell_type": "markdown",
   "metadata": {},
   "source": [
    "## Questão 19"
   ]
  },
  {
   "cell_type": "markdown",
   "metadata": {},
   "source": [
    "Neste caso, usa-se um polinômio interpolador do 2º grau e a fórmula do erro de interpolação é dada por :\n",
    "\n",
    "$f(x) - p_{2}(x) = f[a,b,c,x](x-a)(x-b)(x-c)$ portanto\n",
    "\n",
    "$E_{s}(f) = I(f) - S(f) = I(f) - I(p_{2}) = \\int_{a}^{b}f[a,b,c,x](x-a)(x-b)(x-c)dx$\n",
    "\n",
    "Nesse momento, não se pode aplicar diretamente o Teorema do Valor Intermediário para integrais, porque $(x-a)(x-b)(x-c)$ muda de sinal no intervao$[a,b]$. Introduzindo um ponto auxiliar $d$ pertencente ao intervalo $[a,b]$, podemos usar a definição de $f[a,b,c,d,x]$ para obter \n",
    "\n",
    "$f[a,b,c,x] = f[a,b,c,d] + f[a,b,c,d,x](x-d)$\n",
    "\n",
    "Substitui-se essa expressão na integral :\n",
    "\n",
    "$\\int_{a}^{b}(x-a)(x-b)(x-c)dx = 0$ \n",
    "\n",
    "Fazendo $d$ tender a $c$ , e aplicando o Teorema do Valor Intermediário para integrais, pois $(x-a)(x-b)(x-c)^{2}$ não muda de sinal no intervalo $[a,b]$ :\n",
    "\n",
    "$E_{s}(f) = f[a,b,c,c]\\cdot 0 + \\int_{a}^{b}f[a,b,c,c,x](x-a)(x-b)(x-c)^{2}dx\\,\\,=$\n",
    "\n",
    "$=f[a,b,c,c,\\eta]\\int_{a}^{b}(x-a)(x-b)(x-c)^2dx$ , onde $\\eta \\in ]a,b[$.\n",
    "\n",
    "Sendo $f[a,b,c,c,\\eta] = \\frac{f^{4}(\\xi)}{4!}$ , $\\int_{a}^{b}(x-a)(x-b)(x-c)^2dx=-\\frac{4}{15}h^{5}$ , admitindo que a função $f$ está , pelo menos, em $C^{4}[a,b]$, sendo $(x_{0},x_{2}) = ]a,b[$ , o Erro da Regra de Simpson simples se resume a finalmente :\n",
    "\n",
    "$E_{SS}=-\\frac{h^{5}}{90}f^{4}(\\xi)$ , $\\xi \\in (x_{0},x_{2})$\n"
   ]
  },
  {
   "cell_type": "markdown",
   "metadata": {},
   "source": [
    "## Questão 20"
   ]
  },
  {
   "cell_type": "markdown",
   "metadata": {},
   "source": [
    "Tal como no caso da Regra dos Trapézios composta, o erro da Regra de Simpson composta resulta da soma dos erros em cada sub-intervalo, ou seja:\n",
    "\n",
    "$E_{N}(f) = I(f) - S_{N}(f) =E_{1} + \\ldots + E_{N}=  - \\sum_{k=1}^{N/2}\\frac{h^5}{90}f^{4}(\\xi_{k})=-\\frac{h^5}{90}\\frac{N}{2}(\\frac{2}{N}\\sum_{k=1}^{N/2}f^{4}(\\xi_{k})$\n",
    "\n",
    "A partir dessa expressão, aplicando o Teorema do Valor Intermediário, considerando a função $f$ de classe $C^{2}$ no intervalo $]a,b[$, obtém-se :\n",
    "$E_{N}(f) = -\\frac{h^{4}(b-a)}{180}f^{4}(\\xi)$ , onde $\\xi \\in ]a,b[$.\n",
    "\n",
    "sendo $m\\cdot h=(b-a)$, com $m$ sendo o número de intervalos $n-1$ , $x_{0} = a$,$x_{n} = b$ , finalmente:\n",
    "\n",
    "$E_{N}(f) = -m\\frac{h^{5}}{180}f^{4}(\\xi)$ , onde $\\xi \\in (x_{0},x_{n})$.\n"
   ]
  },
  {
   "cell_type": "markdown",
   "metadata": {},
   "source": [
    "## Questão 21"
   ]
  },
  {
   "cell_type": "markdown",
   "metadata": {},
   "source": [
    "A distribuição normal padrão tem como densidade de probabilidade:\n",
    "\n",
    "$f(x)=\\frac{1}{\\sqrt{2\\pi}}e^{-\\frac{x^{2}}{2}}$ .\n",
    "\n",
    "Então, pode-se calcular, por meio da Regra dos Trapézios composta, os valores de a e b no qual aproximadamente:\n",
    "\n",
    "$P(x\\leq a)=2,5 \\%$\n",
    "\n",
    "$P(a<x<b)=95 \\%$\n",
    "\n",
    "$P(x\\geq b )= 2,5 \\%$"
   ]
  },
  {
   "cell_type": "code",
   "execution_count": 342,
   "metadata": {},
   "outputs": [],
   "source": [
    "# -f faz uma ação forçada sem o prompt preguntar SIM ou NÃO\n",
    "%reset -f\n",
    "# DELETANDO TODAS AS VARIÁVEIS"
   ]
  },
  {
   "cell_type": "code",
   "execution_count": 343,
   "metadata": {},
   "outputs": [
    {
     "name": "stdout",
     "output_type": "stream",
     "text": [
      " A função definida foi:\n"
     ]
    },
    {
     "data": {
      "text/latex": [
       "$\\displaystyle \\frac{\\sqrt{2} e^{- \\frac{x^{2}}{2}}}{2 \\sqrt{\\pi}}$"
      ],
      "text/plain": [
       "sqrt(2)*exp(-x**2/2)/(2*sqrt(pi))"
      ]
     },
     "execution_count": 343,
     "metadata": {},
     "output_type": "execute_result"
    }
   ],
   "source": [
    "import numpy as np\n",
    "import sympy as sp\n",
    "#definindo a função\n",
    "def f(x):\n",
    "    y=(1/np.sqrt(2*np.pi))*np.exp(-((x)**2)/2)\n",
    "    return y\n",
    "\n",
    "#a é a extrema esquerda e b é a extrema direita\n",
    "def T(N,a,b):\n",
    "# Comprimento de um sub-intervalo\n",
    "    h=(b-a)/N\n",
    "    X=np.zeros(N+1)\n",
    "    Y=np.zeros(N+1)\n",
    "    for i in np.arange(0,N+1,1):\n",
    "        X[i]=a+h*i\n",
    "    Y=f(X)\n",
    "    retorno = h*( -((f(a)+f(b))/2) + np.sum(Y) )\n",
    "    return retorno\n",
    "\n",
    "print(\" A função definida foi:\")\n",
    "import sympy as sp\n",
    "q = sp.Symbol('x')\n",
    "((1/sp.sqrt(2*sp.pi))*sp.exp(-((q)**2)/2))\n"
   ]
  },
  {
   "cell_type": "code",
   "execution_count": 344,
   "metadata": {},
   "outputs": [
    {
     "name": "stdout",
     "output_type": "stream",
     "text": [
      "a = -1.960215 \n",
      "b =  1.960215\n",
      "T(a,b) = 0.950\n"
     ]
    }
   ],
   "source": [
    "a=-0.5\n",
    "b=0.5\n",
    "\n",
    "while((0.95-T(100,a,b))>0.000000000000001):\n",
    "    ao=a\n",
    "    bo=b\n",
    "    a=a-1\n",
    "    b=b+1\n",
    "    while(T(100,a,b)-0.95>0):\n",
    "        a=(a+ao)/2\n",
    "        b=(b+bo)/2\n",
    "\n",
    "print(\"a = %.6f\" %(a), \"\\nb =  %.6f\" %(b))\n",
    "\n",
    "print(\"T(a,b) = %.3f\" %(T(100,a,b)))       \n"
   ]
  },
  {
   "cell_type": "markdown",
   "metadata": {},
   "source": [
    "Pela simetria da função, garante-se que:\n",
    "\n",
    "$P(x\\leq a) = 2,5\\%$\n",
    "\n",
    "$P(a < x < b) = 95\\%$\n",
    "\n",
    "$P(x\\geq b) = 2,5\\%$\n",
    "\n",
    "onde $a= -1,960215$ e $b=1,960215$ ."
   ]
  },
  {
   "cell_type": "code",
   "execution_count": 345,
   "metadata": {},
   "outputs": [],
   "source": [
    "#fo = open(\"C:\\\\Users\\\\Bruno Lima\\\\Jupyter\\\\CCI\\\\input LAB3\\\\dados_norte.txt\", \"r\")\n",
    "#fo.readlines()\n",
    "import pandas as pd\n",
    "import numpy as np\n",
    "\n",
    "dados=pd.read_csv(\"C:\\\\Users\\\\Bruno Lima\\\\Jupyter\\\\CCI\\\\input LAB4\\\\dados_lab4.csv\")\n",
    "\n",
    "#retorna os valores unicos em ordem crescente ao longo do np.array data\n",
    "valores,indices, freqs = np.unique(dados, return_index=True, return_counts=True)\n",
    "\n",
    "# obtendo a probabilidade de cada valor único\n",
    "rfreqs=freqs/dados.size\n",
    "\n",
    "#x = a +i*(b-a)/N\n",
    "#h= (b-a)/N\n",
    "#Nós = N+1\n",
    "\n"
   ]
  },
  {
   "cell_type": "code",
   "execution_count": 346,
   "metadata": {},
   "outputs": [
    {
     "data": {
      "text/plain": [
       "3.41666566"
      ]
     },
     "execution_count": 346,
     "metadata": {},
     "output_type": "execute_result"
    }
   ],
   "source": [
    "-3.39430317\n",
    "\n",
    "3.41666566"
   ]
  },
  {
   "cell_type": "code",
   "execution_count": 347,
   "metadata": {},
   "outputs": [],
   "source": [
    "#Números de intervalos\n",
    "N=50\n",
    "#Vetor do valor médio da função em cada i-ésimo intervalo\n",
    "Z=np.zeros(N+1)\n",
    "#distribuição de probabilidade no intervalo [a,b]\n",
    "#vetor valores em ordem crescente.\n",
    "X=np.zeros([N+1])\n",
    "\n",
    "def P(a,b):\n",
    "    i_data=0\n",
    "    h=(b-a)/N\n",
    "    for i in np.arange(0,N+1,1):\n",
    "        X[i]=((a+i*h) + (a+(i+1)*h ))/2\n",
    "    for i_z in np.arange(0,N+1,1):\n",
    "        x_e=a+i_z*h\n",
    "        x_d=a+(i_z+1)*h\n",
    "        while(i_data<len(valores) and valores[i_data]<x_e):\n",
    "            i_data=i_data+1\n",
    "        while(i_data<len(valores) and x_e<=valores[i_data] and valores[i_data]<x_d):\n",
    "            Z[i_z]=Z[i_z]+rfreqs[i_data]\n",
    "            i_data=i_data+1\n",
    "    return None\n",
    "#CALCULANDO A DISTRIBUIÇÃO DE PROBABILIDADE Z ( X )\n",
    "P(-5,5)\n",
    "\n",
    "\n",
    "\n",
    "\n",
    "            "
   ]
  },
  {
   "cell_type": "code",
   "execution_count": 348,
   "metadata": {
    "scrolled": false
   },
   "outputs": [
    {
     "data": {
      "image/png": "[encoded data removed]",
      "text/plain": [
       "<Figure size 360x216 with 1 Axes>"
      ]
     },
     "metadata": {
      "needs_background": "light"
     },
     "output_type": "display_data"
    }
   ],
   "source": [
    "import matplotlib.pyplot as plt\n",
    "import numpy as np\n",
    "\n",
    "#para barra vertical#\n",
    "#plt.bar(X, Z)\n",
    "plt.barh(X, Z)\n",
    "# X tornou-se o eixo y e Z o eixo x\n",
    "plt.xlabel('probabilidade', fontsize=20)\n",
    "plt.ylabel('variável', fontsize=20)\n",
    "#plt.xticks(X,X, fontsize=90) #rotation=30)\n",
    "plt.title('distribuição de probabilidade',fontsize=30)\n",
    "\n",
    "\n",
    "# Get current size\n",
    "fig_size = plt.rcParams[\"figure.figsize\"]\n",
    "\n",
    "# Set figure width to 5 and height to 20\n",
    "fig_size[0] = 5\n",
    "fig_size[1] = 3\n",
    "plt.rcParams[\"figure.figsize\"] = fig_size\n",
    "plt.show()\n",
    "\n",
    "\n",
    "    "
   ]
  },
  {
   "cell_type": "markdown",
   "metadata": {},
   "source": [
    "\n",
    "\n",
    "O gráfico acima foi referente à distribuição de probabilidades, isto é , $Probabilidade(x)$.\n",
    "Para achar a função densidade de probabilidades, considera-se $f.d.p(x)=\\lim_{h \\to 0} \\frac{\\Delta P}{h}$ , onde $h=\\Delta x$"
   ]
  },
  {
   "cell_type": "code",
   "execution_count": 355,
   "metadata": {},
   "outputs": [],
   "source": [
    "f_d_p=Z/h"
   ]
  },
  {
   "cell_type": "code",
   "execution_count": 350,
   "metadata": {},
   "outputs": [],
   "source": [
    "#%reset -f"
   ]
  },
  {
   "cell_type": "markdown",
   "metadata": {},
   "source": [
    "\n",
    "\n",
    "Resta calcular a área da função densidade de probabilidade aproximada por um conjunto discreto de dados. Utilizar-se-á como nodos de integração os pontos médio dos intervalos de probabilidade constante."
   ]
  },
  {
   "cell_type": "code",
   "execution_count": 372,
   "metadata": {},
   "outputs": [],
   "source": [
    "import numpy as np\n",
    "\n",
    "def Sum(Z,i,j):\n",
    "    y=0\n",
    "    for k in np.arange(i,j+1,1):\n",
    "        y+=Z[k]\n",
    "    return y\n",
    "\n",
    "def T(a,b,N):\n",
    "    #extrema esquerda , menor que valores[0]\n",
    "    ##a=-5\n",
    "    #extrema direita, maior que valores [ N+1]\n",
    "    #b=5\n",
    "    #quantidade de intervalos\n",
    "    #N=50\n",
    "    #faixa de probabilidade constante\n",
    "    h=(b-a)/N\n",
    "    d_a=0\n",
    "    e_b=N\n",
    "    #estimativa para a integral em [a,b].\n",
    "    while(valores[d_a]<a):\n",
    "        d_a+=1\n",
    "    while(valores[e_b]>b):\n",
    "        e_b-=1\n",
    "    if(e_b<d_a):\n",
    "        aux=e_b\n",
    "        e_b=e_a\n",
    "        e_a=aux\n",
    "        del(aux)\n",
    "    T_c=h*( -((f_d_p[d_a]+f_d_p[e_b])/2) + Sum(f_d_p,d_a,e_b))\n",
    "    return T_c\n",
    "\n"
   ]
  },
  {
   "cell_type": "code",
   "execution_count": 371,
   "metadata": {},
   "outputs": [
    {
     "data": {
      "text/plain": [
       "0.9999999999999996"
      ]
     },
     "execution_count": 371,
     "metadata": {},
     "output_type": "execute_result"
    }
   ],
   "source": [
    "T(-5,5,50)"
   ]
  },
  {
   "cell_type": "code",
   "execution_count": 373,
   "metadata": {},
   "outputs": [
    {
     "data": {
      "text/plain": [
       "0.4999999999999998"
      ]
     },
     "execution_count": 373,
     "metadata": {},
     "output_type": "execute_result"
    }
   ],
   "source": [
    "T(-2.5,2.5,50)"
   ]
  },
  {
   "cell_type": "code",
   "execution_count": 374,
   "metadata": {},
   "outputs": [
    {
     "data": {
      "text/plain": [
       "0.6999999999999997"
      ]
     },
     "execution_count": 374,
     "metadata": {},
     "output_type": "execute_result"
    }
   ],
   "source": [
    "T(-3.5,3.5,50)"
   ]
  },
  {
   "cell_type": "code",
   "execution_count": 375,
   "metadata": {},
   "outputs": [
    {
     "data": {
      "text/plain": [
       "0.7999999999999996"
      ]
     },
     "execution_count": 375,
     "metadata": {},
     "output_type": "execute_result"
    }
   ],
   "source": [
    "T(-4,4,50)"
   ]
  },
  {
   "cell_type": "code",
   "execution_count": 376,
   "metadata": {},
   "outputs": [
    {
     "data": {
      "text/plain": [
       "0.8999999999999995"
      ]
     },
     "execution_count": 376,
     "metadata": {},
     "output_type": "execute_result"
    }
   ],
   "source": [
    "T(-4.5,4.5,50)"
   ]
  },
  {
   "cell_type": "code",
   "execution_count": 377,
   "metadata": {},
   "outputs": [
    {
     "data": {
      "text/plain": [
       "0.9399999999999995"
      ]
     },
     "execution_count": 377,
     "metadata": {},
     "output_type": "execute_result"
    }
   ],
   "source": [
    "T(-4.7,4.7,50)"
   ]
  },
  {
   "cell_type": "code",
   "execution_count": 378,
   "metadata": {},
   "outputs": [
    {
     "data": {
      "text/plain": [
       "0.9799999999999995"
      ]
     },
     "execution_count": 378,
     "metadata": {},
     "output_type": "execute_result"
    }
   ],
   "source": [
    "T(-4.9,4.9,50)"
   ]
  },
  {
   "cell_type": "code",
   "execution_count": 379,
   "metadata": {},
   "outputs": [
    {
     "data": {
      "text/plain": [
       "0.9599999999999995"
      ]
     },
     "execution_count": 379,
     "metadata": {},
     "output_type": "execute_result"
    }
   ],
   "source": [
    "T(-4.8,4.8,50)"
   ]
  },
  {
   "cell_type": "code",
   "execution_count": 387,
   "metadata": {},
   "outputs": [
    {
     "data": {
      "text/plain": [
       "0.9500199999999994"
      ]
     },
     "execution_count": 387,
     "metadata": {},
     "output_type": "execute_result"
    }
   ],
   "source": [
    "T(-4.7501,4.7501,50)"
   ]
  },
  {
   "cell_type": "markdown",
   "metadata": {},
   "source": [
    "Pela sucessão de cálculos pela Regra dos Trapézios composta,determinou-se que $a=-4,75$ e $b=4,75$ para que $P(a \\leq x \\leq b) = 95\\%$ , $P(x \\leq a)=2,5\\%$ e $P(b \\leq x)=2,5\\%$."
   ]
  }
 ],
 "metadata": {
  "kernelspec": {
   "display_name": "Python 3",
   "language": "python",
   "name": "python3"
  },
  "language_info": {
   "codemirror_mode": {
    "name": "ipython",
    "version": 3
   },
   "file_extension": ".py",
   "mimetype": "text/x-python",
   "name": "python",
   "nbconvert_exporter": "python",
   "pygments_lexer": "ipython3",
   "version": "3.7.3"
  }
 },
 "nbformat": 4,
 "nbformat_minor": 2
}
