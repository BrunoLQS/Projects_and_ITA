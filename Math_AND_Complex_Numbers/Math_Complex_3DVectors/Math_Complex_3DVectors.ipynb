{
  "nbformat": 4,
  "nbformat_minor": 0,
  "metadata": {
    "colab": {
      "name": "Math_Complex_3DVectors.ipynb",
      "provenance": [],
      "collapsed_sections": [
        "ffeU8v2rAA_E",
        "LC3Fwp9g-7jM",
        "59OJfqWNobYR",
        "yZwWUNlh61u8",
        "FxqR2iwLz_Qm",
        "aHBK9EPz-w1T",
        "KNQvySnRIDyE",
        "ZJvAqX6PV3VY",
        "WZrtSIDYYz5r",
        "6OOtDWNbZRxR",
        "uj5evAWnf2p4",
        "791tAlUAhcyx"
      ]
    },
    "kernelspec": {
      "name": "python3",
      "display_name": "Python 3"
    }
  },
  "cells": [
    {
      "cell_type": "markdown",
      "metadata": {
        "id": "HuOpJpiGsYiS",
        "colab_type": "text"
      },
      "source": [
        "# Bruno Lima Queiroz Santos"
      ]
    },
    {
      "cell_type": "markdown",
      "metadata": {
        "id": "j0U4Nralj0Jm",
        "colab_type": "text"
      },
      "source": [
        "# Guia de operação analítica e numérica com vetores 3D (funções vetoriais) INCLUSIVE considerando os números complexos no Python."
      ]
    },
    {
      "cell_type": "markdown",
      "metadata": {
        "id": "ui--_2EwA4Vr",
        "colab_type": "text"
      },
      "source": [
        "#### Guia para o cálculo com vetores (funções vetoriais) e números complexos a partir do Python com a \"library\" SymPy."
      ]
    },
    {
      "cell_type": "markdown",
      "metadata": {
        "id": "7pc4qd5oiMxs",
        "colab_type": "text"
      },
      "source": [
        "SUMÁRIO\n",
        "\n",
        "### I) Introdução ao sympy, ferramenta para expressões simbólicas, analíticas.\n",
        "\n",
        "a) Registro de variáveis independentes e variáveis dependentes(funções simbólicas)\n",
        "\n",
        "b) Cálculo de integral e derivada analiticamente\n",
        "\n",
        "c) “Displaying results in LaTex”. Exibindo resultados em LaTeX\n",
        "\n",
        "d) Conversão, em parte ou ao todo, de expressões simbólicas para numéricas.\n",
        "\n",
        "\n",
        "### II) Ferramentas para vetores 3D.\n",
        "\n",
        "a) Declarando-se um sistema de coordenadas conveniente\n",
        "\n",
        "b) Identificação das estruturas de um vetor ( função vetorial )\n",
        "\n",
        "c) Exibindo-se o vínculo entre sistemas de coordenadas pai e filho\n",
        "\n",
        "d) Declaração de um vetor ( função vetorial )\n",
        "\n",
        "e) Operações vetoriais comuns\n",
        "\n",
        "\n",
        "*   Produto interno (dot)\n",
        "* \tProduto externo (cross)\n",
        "*   Gradiente (gradient)\n",
        "*   Rotacional (curl)\n",
        "*   Divergente (divergence)\n",
        "\n",
        "f) Exibição das componentes de um vetor (função vetorial)\n",
        "\n",
        "g) Integral de uma função vetorial\n",
        "\n",
        "h) Derivada de um vetor ( uma função vetorial )\n",
        "\n",
        "i) Obtenção do conjugado de uma função vetorial\n",
        "\n",
        "j) Obtenção do módulo de uma função vetorial\n",
        "\n",
        "k) Obtenção da parte real de uma função vetorial\n",
        "\n",
        "l) Obtenção da parte imaginária de uma função vetorial\n"
      ]
    },
    {
      "cell_type": "markdown",
      "metadata": {
        "id": "8_NSDgNB7U3p",
        "colab_type": "text"
      },
      "source": [
        "# Cabeçalho de código"
      ]
    },
    {
      "cell_type": "code",
      "metadata": {
        "id": "6giCoNw65fMM",
        "colab_type": "code",
        "outputId": "672a6afc-3c50-464b-ad12-7178bd43cede",
        "colab": {
          "base_uri": "https://localhost:8080/",
          "height": 68
        }
      },
      "source": [
        "#@title  { form-width: \"400px\" }\n",
        "!pip install --upgrade pip\n",
        "!pip install sympy --upgrade"
      ],
      "execution_count": 1,
      "outputs": [
        {
          "output_type": "stream",
          "text": [
            "Requirement already up-to-date: pip in /usr/local/lib/python3.6/dist-packages (20.1.1)\n",
            "Requirement already up-to-date: sympy in /usr/local/lib/python3.6/dist-packages (1.6)\n",
            "Requirement already satisfied, skipping upgrade: mpmath>=0.19 in /usr/local/lib/python3.6/dist-packages (from sympy) (1.1.0)\n"
          ],
          "name": "stdout"
        }
      ]
    },
    {
      "cell_type": "code",
      "metadata": {
        "id": "i9vgVC6h13TJ",
        "colab_type": "code",
        "colab": {}
      },
      "source": [
        "#@title  { form-width: \"400px\" }\n",
        "import numpy as np\n",
        "import sympy as sp\n",
        "import sympy.vector as spv\n",
        "import IPython.display as disp\n",
        "from IPython.display import (Image, \n",
        "                            display, Latex)"
      ],
      "execution_count": 0,
      "outputs": []
    },
    {
      "cell_type": "markdown",
      "metadata": {
        "id": "rOVq6SuoAGpD",
        "colab_type": "text"
      },
      "source": [
        "# I) Introdução ao *SymPy*, ferramenta para expressões simbólicas e analíticas."
      ]
    },
    {
      "cell_type": "markdown",
      "metadata": {
        "id": "KYQERXki9tz-",
        "colab_type": "text"
      },
      "source": [
        "#### a) Registro de variáveis independentes e variáveis dependentes(funções simbólicas)"
      ]
    },
    {
      "cell_type": "code",
      "metadata": {
        "id": "hfJ0j8cd2wtk",
        "colab_type": "code",
        "colab": {}
      },
      "source": [
        "#@title  { form-width: \"400px\" }\n",
        "\n",
        "x,y = sp.symbols('x,y',real=True)\n",
        "# default é valor complexo"
      ],
      "execution_count": 0,
      "outputs": []
    },
    {
      "cell_type": "markdown",
      "metadata": {
        "id": "KObByrQg_Z7o",
        "colab_type": "text"
      },
      "source": [
        "A unidade imaginária é referenciada numericamente por `1j`. Para o `sympy`, o formato é `1.0*I`"
      ]
    },
    {
      "cell_type": "markdown",
      "metadata": {
        "id": "QS4hsxoZDY1I",
        "colab_type": "text"
      },
      "source": [
        "Pode-se registrar inclusive uma **variável simbólica dependente**, ou seja , uma **função simbólica**, indicando a dependência funcional da variável simbólica. Isso pode ser conseguido por meio da função `Function` , que nesse contexto seria utilizada como `sp.Function` . Para mais detalhes, veja [[Functions](https://docs.sympy.org/latest/modules/functions/index.html)]."
      ]
    },
    {
      "cell_type": "markdown",
      "metadata": {
        "id": "2vPQUYiG_DnO",
        "colab_type": "text"
      },
      "source": [
        "#### b) Cálculo de integral e derivada analiticamente"
      ]
    },
    {
      "cell_type": "code",
      "metadata": {
        "id": "4OCmAT27_IE0",
        "colab_type": "code",
        "outputId": "a98153bf-8193-4cd2-98e2-4217c906bb7c",
        "colab": {
          "base_uri": "https://localhost:8080/",
          "height": 122
        }
      },
      "source": [
        "#@title  { form-width: \"400px\" }\n",
        "\n",
        "# integral indefinida\n",
        "result = sp.integrate(x**2+2j*x, x)\n",
        "print(result) # <- Formato string\n",
        "print(\"\\n\\n\")\n",
        "result"
      ],
      "execution_count": 4,
      "outputs": [
        {
          "output_type": "stream",
          "text": [
            "x**3/3 + 1.0*I*x**2\n",
            "\n",
            "\n",
            "\n"
          ],
          "name": "stdout"
        },
        {
          "output_type": "execute_result",
          "data": {
            "text/latex": "$\\displaystyle \\frac{x^{3}}{3} + 1.0 i x^{2}$",
            "text/plain": [
              "x**3/3 + 1.0*I*x**2"
            ]
          },
          "metadata": {
            "tags": []
          },
          "execution_count": 4
        }
      ]
    },
    {
      "cell_type": "code",
      "metadata": {
        "id": "FE9-JlCwBfzS",
        "colab_type": "code",
        "outputId": "f36d8495-26bb-430f-b4a9-7d115d6c1b0e",
        "colab": {
          "base_uri": "https://localhost:8080/",
          "height": 119
        }
      },
      "source": [
        "#@title  { form-width: \"400px\" }\n",
        "\n",
        "# integral definida\n",
        "result = sp.integrate(x**2+2j*x, (x,0,1))\n",
        "print(result) # <- Formato string\n",
        "print(\"\\n\\n\")\n",
        "result"
      ],
      "execution_count": 5,
      "outputs": [
        {
          "output_type": "stream",
          "text": [
            "1/3 + 1.0*I\n",
            "\n",
            "\n",
            "\n"
          ],
          "name": "stdout"
        },
        {
          "output_type": "execute_result",
          "data": {
            "text/latex": "$\\displaystyle \\frac{1}{3} + 1.0 i$",
            "text/plain": [
              "1/3 + 1.0*I"
            ]
          },
          "metadata": {
            "tags": []
          },
          "execution_count": 5
        }
      ]
    },
    {
      "cell_type": "code",
      "metadata": {
        "id": "bAuHkA3dBsE5",
        "colab_type": "code",
        "outputId": "2df52c7e-faae-42ae-8e49-85bedf456865",
        "colab": {
          "base_uri": "https://localhost:8080/",
          "height": 122
        }
      },
      "source": [
        "#@title  { form-width: \"400px\" }\n",
        "\n",
        "# integral definida\n",
        "result = sp.integrate(x**2+2j*x, (x,0,y))\n",
        "print(result) # <- Formato string\n",
        "print(\"\\n\\n\")\n",
        "result"
      ],
      "execution_count": 6,
      "outputs": [
        {
          "output_type": "stream",
          "text": [
            "y**3/3 + 1.0*I*y**2\n",
            "\n",
            "\n",
            "\n"
          ],
          "name": "stdout"
        },
        {
          "output_type": "execute_result",
          "data": {
            "text/latex": "$\\displaystyle \\frac{y^{3}}{3} + 1.0 i y^{2}$",
            "text/plain": [
              "y**3/3 + 1.0*I*y**2"
            ]
          },
          "metadata": {
            "tags": []
          },
          "execution_count": 6
        }
      ]
    },
    {
      "cell_type": "markdown",
      "metadata": {
        "id": "Vh6QzO6dGxn_",
        "colab_type": "text"
      },
      "source": [
        "Pode-se ainda tomar cuidado com expressões do tipo `piecewise`. Pode-se simplificá-las manualmente assinalando `False` para todas as condições falsas. Por exemplo:"
      ]
    },
    {
      "cell_type": "code",
      "metadata": {
        "id": "nGIHjbCdG817",
        "colab_type": "code",
        "outputId": "ea82969e-3aba-4045-dd80-b6bc94c997b1",
        "colab": {
          "base_uri": "https://localhost:8080/",
          "height": 37
        }
      },
      "source": [
        "#@title  { form-width: \"400px\" }\n",
        "\n",
        "RESULT=result\n",
        "α=sp.symbols('α')\n",
        "result=sp.cos(α*sp.pi*x)\n",
        "result"
      ],
      "execution_count": 7,
      "outputs": [
        {
          "output_type": "execute_result",
          "data": {
            "text/latex": "$\\displaystyle \\cos{\\left(\\pi x α \\right)}$",
            "text/plain": [
              "cos(pi*x*α)"
            ]
          },
          "metadata": {
            "tags": []
          },
          "execution_count": 7
        }
      ]
    },
    {
      "cell_type": "code",
      "metadata": {
        "id": "Xv1EwSYaHrXb",
        "colab_type": "code",
        "outputId": "f8d1ef04-ccda-4b51-8608-977adc40e4b5",
        "colab": {
          "base_uri": "https://localhost:8080/",
          "height": 136
        }
      },
      "source": [
        "#@title  { form-width: \"400px\" }\n",
        "\n",
        "result=sp.integrate(result,(x,-1,1))\n",
        "print(result)\n",
        "print(\"\\n\\n\")\n",
        "result"
      ],
      "execution_count": 8,
      "outputs": [
        {
          "output_type": "stream",
          "text": [
            "Piecewise((2*sin(pi*α)/(pi*α), (α > -oo) & (α < oo) & Ne(α, 0)), (2, True))\n",
            "\n",
            "\n",
            "\n"
          ],
          "name": "stdout"
        },
        {
          "output_type": "execute_result",
          "data": {
            "text/latex": "$\\displaystyle \\begin{cases} \\frac{2 \\sin{\\left(\\pi α \\right)}}{\\pi α} & \\text{for}\\: α > -\\infty \\wedge α < \\infty \\wedge α \\neq 0 \\\\2 & \\text{otherwise} \\end{cases}$",
            "text/plain": [
              "Piecewise((2*sin(pi*α)/(pi*α), (α > -oo) & (α < oo) & Ne(α, 0)), (2, True))"
            ]
          },
          "metadata": {
            "tags": []
          },
          "execution_count": 8
        }
      ]
    },
    {
      "cell_type": "markdown",
      "metadata": {
        "id": "55NBeNVXH6Wi",
        "colab_type": "text"
      },
      "source": [
        "Pode-se usar como apoio um editor de texto para auxiliar as edições das strings para o cálculo. Considerando o caso de interesse ( não otherwise):"
      ]
    },
    {
      "cell_type": "code",
      "metadata": {
        "id": "coYlhzMxIS_r",
        "colab_type": "code",
        "outputId": "74d0c955-7ec1-4f92-ade1-b5b506953a89",
        "colab": {
          "base_uri": "https://localhost:8080/",
          "height": 53
        }
      },
      "source": [
        "#@title  { form-width: \"400px\" }\n",
        "\n",
        "from sympy import (Piecewise,sin,pi,cos,\n",
        "                  oo,Ne)\n",
        "Piecewise((2*sin(pi*α)/(pi*α), True), \n",
        "          (2, False))"
      ],
      "execution_count": 9,
      "outputs": [
        {
          "output_type": "execute_result",
          "data": {
            "text/latex": "$\\displaystyle \\frac{2 \\sin{\\left(\\pi α \\right)}}{\\pi α}$",
            "text/plain": [
              "2*sin(pi*α)/(pi*α)"
            ]
          },
          "metadata": {
            "tags": []
          },
          "execution_count": 9
        }
      ]
    },
    {
      "cell_type": "markdown",
      "metadata": {
        "id": "z1bF5l9gEOyh",
        "colab_type": "text"
      },
      "source": [
        "Para calcular derivadas, usa-se a função ``diff()`` , que , nesse contexto, seria ``sp.diff()`` . Para mais detalhes, visite [[Derivatives](https://docs.sympy.org/latest/tutorial/calculus.html)]."
      ]
    },
    {
      "cell_type": "markdown",
      "metadata": {
        "id": "ffeU8v2rAA_E",
        "colab_type": "text"
      },
      "source": [
        "#### c) \"Displaying results in LaTex\". Exibindo resultados em LaTeX."
      ]
    },
    {
      "cell_type": "code",
      "metadata": {
        "id": "DBv4j4Wp_XU3",
        "colab_type": "code",
        "colab": {}
      },
      "source": [
        "#@title  { form-width: \"400px\" }\n",
        "\n",
        "def dlatex(arg):\n",
        "  display(Latex(arg))\n",
        "  return None"
      ],
      "execution_count": 0,
      "outputs": []
    },
    {
      "cell_type": "code",
      "metadata": {
        "id": "EpBaqQ2VCeOq",
        "colab_type": "code",
        "outputId": "fff7bcf4-8a97-4174-ab62-003a18dfbc1c",
        "colab": {
          "base_uri": "https://localhost:8080/",
          "height": 0
        }
      },
      "source": [
        "#@title  { form-width: \"400px\" }\n",
        "\n",
        "result=x*1j+y**2\n",
        "print(\"exibindo código LaTeX: \" \n",
        "      + sp.latex(result))\n",
        "# + é um operador utilizado para \n",
        "# a concatenação de strings"
      ],
      "execution_count": 11,
      "outputs": [
        {
          "output_type": "stream",
          "text": [
            "exibindo código LaTeX: 1.0 i x + y^{2}\n"
          ],
          "name": "stdout"
        }
      ]
    },
    {
      "cell_type": "code",
      "metadata": {
        "id": "RmvT1rd2_QqY",
        "colab_type": "code",
        "outputId": "3836824b-28e5-4290-e173-f07df971ddef",
        "colab": {
          "base_uri": "https://localhost:8080/",
          "height": 0
        }
      },
      "source": [
        "#@title  { form-width: \"400px\" }\n",
        "\n",
        "A=r\"exibindo \\;código \\; \\mathbf{LaTeX}: \"\n",
        "# \"Note the use of Latex-style \\\\ newlines,\n",
        "# and the r'' string,\n",
        "# which will take the backslashes as \n",
        "# literal backslashes \n",
        "# and not see them as escape characters.\"\n",
        "# -sebas\n",
        "A=A+sp.latex(result)\n",
        "dlatex(A)\n",
        "print(\"\\n\")\n",
        "dlatex(A)"
      ],
      "execution_count": 12,
      "outputs": [
        {
          "output_type": "display_data",
          "data": {
            "text/latex": "exibindo \\;código \\; \\mathbf{LaTeX}: 1.0 i x + y^{2}",
            "text/plain": [
              "<IPython.core.display.Latex object>"
            ]
          },
          "metadata": {
            "tags": []
          }
        },
        {
          "output_type": "stream",
          "text": [
            "\n",
            "\n"
          ],
          "name": "stdout"
        },
        {
          "output_type": "display_data",
          "data": {
            "text/latex": "exibindo \\;código \\; \\mathbf{LaTeX}: 1.0 i x + y^{2}",
            "text/plain": [
              "<IPython.core.display.Latex object>"
            ]
          },
          "metadata": {
            "tags": []
          }
        }
      ]
    },
    {
      "cell_type": "markdown",
      "metadata": {
        "id": "mgFux6l3EWG2",
        "colab_type": "text"
      },
      "source": [
        "De acordo com [[1](https://stackoverflow.com/questions/20979993/how-to-pretty-print-in-ipython-notebook-via-sympy),[2](https://stackoverflow.com/questions/48422762/is-it-possible-to-show-print-output-as-latex-in-jupyter-notebook)], *acessados em 07/06/2020*."
      ]
    },
    {
      "cell_type": "markdown",
      "metadata": {
        "id": "LC3Fwp9g-7jM",
        "colab_type": "text"
      },
      "source": [
        "#### d) Conversão, em parte ou ao todo, de expressões simbólicas para numéricas."
      ]
    },
    {
      "cell_type": "code",
      "metadata": {
        "id": "Ee4D0AvkFICV",
        "colab_type": "code",
        "outputId": "4ad6e359-be34-44b3-e79f-6d6105453269",
        "colab": {
          "base_uri": "https://localhost:8080/",
          "height": 0
        }
      },
      "source": [
        "#@title  { form-width: \"400px\" }\n",
        "\n",
        "result=result*x\n",
        "dlatex(sp.latex(result))\n",
        "print(\"\\n\\n\")\n",
        "\n",
        "\n",
        "result_num = result.subs([\n",
        "                            (x,1),\n",
        "                            (y,x)\n",
        "                         ])\n",
        "\n",
        "A=r\"substituindo-se \\; (x \\rightarrow 1\\;,\\;\"\n",
        "A=A+r\"y \\rightarrow x)\\;:\\;\"\n",
        "A=A+sp.latex(result_num)\n",
        "dlatex(A)"
      ],
      "execution_count": 13,
      "outputs": [
        {
          "output_type": "display_data",
          "data": {
            "text/latex": "x \\left(1.0 i x + y^{2}\\right)",
            "text/plain": [
              "<IPython.core.display.Latex object>"
            ]
          },
          "metadata": {
            "tags": []
          }
        },
        {
          "output_type": "stream",
          "text": [
            "\n",
            "\n",
            "\n"
          ],
          "name": "stdout"
        },
        {
          "output_type": "display_data",
          "data": {
            "text/latex": "substituindo-se \\; (x \\rightarrow 1\\;,\\;y \\rightarrow x)\\;:\\;x^{2} + 1.0 i",
            "text/plain": [
              "<IPython.core.display.Latex object>"
            ]
          },
          "metadata": {
            "tags": []
          }
        }
      ]
    },
    {
      "cell_type": "markdown",
      "metadata": {
        "id": "SpxEdTfeXOmp",
        "colab_type": "text"
      },
      "source": [
        "Obs: Caso o formato final seja totalmente numérico, deve-se converter o tipo por meio da função `complex()`."
      ]
    },
    {
      "cell_type": "code",
      "metadata": {
        "id": "CUZph0W8WTp-",
        "colab_type": "code",
        "outputId": "545339e6-6784-486e-b09a-fa344d328fd2",
        "colab": {
          "base_uri": "https://localhost:8080/",
          "height": 0
        }
      },
      "source": [
        "#@title  { form-width: \"400px\" }\n",
        "\n",
        "result_num = complex(result.subs([\n",
        "                            (x,1),\n",
        "                            (y,1.0)\n",
        "                         ]))\n",
        "result_num"
      ],
      "execution_count": 14,
      "outputs": [
        {
          "output_type": "execute_result",
          "data": {
            "text/plain": [
              "(1+1j)"
            ]
          },
          "metadata": {
            "tags": []
          },
          "execution_count": 14
        }
      ]
    },
    {
      "cell_type": "markdown",
      "metadata": {
        "id": "SsFka1Z_Jv9a",
        "colab_type": "text"
      },
      "source": [
        "Embora haja a ferramenta `lambdify` para a transformação de expressão simbólica em função, é preferível utilizar *List comprehension* com a ferramenta `subs` para se conseguir esse efeito sobre vetores inclusive."
      ]
    },
    {
      "cell_type": "code",
      "metadata": {
        "id": "hDI4AXmNJwkD",
        "colab_type": "code",
        "outputId": "9a347c57-5fb9-4ced-8515-058ce3f1f872",
        "colab": {
          "base_uri": "https://localhost:8080/",
          "height": 0
        }
      },
      "source": [
        "#@title  { form-width: \"400px\" }\n",
        "\n",
        "dlatex(sp.latex(result))\n",
        "print(\"\\n\\n\")\n",
        "result_num = result.subs([\n",
        "                            (x,1),\n",
        "                            (y,x)\n",
        "                         ])\n",
        "i=np.array([1.0,2.0])\n",
        "j=[x,1.0]\n",
        "results_new=[\n",
        "                result.subs([\n",
        "                  (x,i_v),\n",
        "                  (y,j_v)         \n",
        "                ]) for i_v in i for j_v in j\n",
        "             ]\n",
        "# As iterações de j_v estão dentro \n",
        "# das iterações de i_v.\n",
        "\n",
        "print(results_new)\n",
        "print(\"\\n\\n\")\n",
        "\n",
        "A=r\"substituições \\;:\\;\"\n",
        "A=A+sp.latex(results_new)\n",
        "\n",
        "dlatex(A)"
      ],
      "execution_count": 15,
      "outputs": [
        {
          "output_type": "display_data",
          "data": {
            "text/latex": "x \\left(1.0 i x + y^{2}\\right)",
            "text/plain": [
              "<IPython.core.display.Latex object>"
            ]
          },
          "metadata": {
            "tags": []
          }
        },
        {
          "output_type": "stream",
          "text": [
            "\n",
            "\n",
            "\n",
            "[1.0*x**2 + 1.0*I, 1.0 + 1.0*I, 2.0*x**2 + 4.0*I, 2.0 + 4.0*I]\n",
            "\n",
            "\n",
            "\n"
          ],
          "name": "stdout"
        },
        {
          "output_type": "display_data",
          "data": {
            "text/latex": "substituições \\;:\\;\\left[ 1.0 x^{2} + 1.0 i, \\  1.0 + 1.0 i, \\  2.0 x^{2} + 4.0 i, \\  2.0 + 4.0 i\\right]",
            "text/plain": [
              "<IPython.core.display.Latex object>"
            ]
          },
          "metadata": {
            "tags": []
          }
        }
      ]
    },
    {
      "cell_type": "markdown",
      "metadata": {
        "id": "QztL8VPfNkzz",
        "colab_type": "text"
      },
      "source": [
        "Para mais informações, visite [Documentação SymPy](https://docs.sympy.org/latest/index.html)\n"
      ]
    },
    {
      "cell_type": "markdown",
      "metadata": {
        "id": "c5IJBjp7OwkI",
        "colab_type": "text"
      },
      "source": [
        "# II) Ferramentas para vetores 3D"
      ]
    },
    {
      "cell_type": "markdown",
      "metadata": {
        "id": "59OJfqWNobYR",
        "colab_type": "text"
      },
      "source": [
        "#### a) Declarando-se um sistema de coordenadas conveniente"
      ]
    },
    {
      "cell_type": "markdown",
      "metadata": {
        "id": "MI5_J2suP29e",
        "colab_type": "text"
      },
      "source": [
        "Como indicado por [[3](https://stackoverflow.com/questions/61100589/is-there-a-way-of-working-in-spherical-coordinates-in-sympy)] e se vê na documentação [[4](https://docs.sympy.org/latest/modules/vector/basics.html#coordinate-systems-and-vectors)], *acessados em 07/06/2020*, o módulo `vector` da library `sympy` é capaz de lidar com sistemas de coordenadas curvilíneas também, por exemplo \"*spherical*\".\n",
        "\n",
        "Observando a seção principal do módulo [[5](https://docs.sympy.org/latest/modules/vector/index.html)] e, depois [[6](https://docs.sympy.org/latest/modules/vector/api/classes.html#coordsys3d)], inserindo a palvra-chave \"*spherical*\" no mecanismo de busca `CTRL + F`, obteve-se rapidamente um exemplo de que a transformação é expressa por meio do parâmetro `transformation`. \n",
        "\n",
        "Para conhecer as outras transformações automaticamente disponibilizadas, além do `default`, que é um sistema cartesiano, analisou-se o código fonte de `CoordSys3D`, vide [source(CoordSys3D)](https://github.com/sympy/sympy/blob/b92b971eb4712e9ccfbdae993c42b3563ce8f86d/sympy/vector/coordsysrect.py#L26-L1039), *acessado em 07/06/2020*, buscando-se o objeto de interesse (as demais formas de transformação) por meio da palavra chave *spherical*, uma forma de transformação, no mecanismo de busca `CTRL + F`. A suposição feita era que as outras formas de transformação foram definidas nas proximades de onde essa transformação foi definida."
      ]
    },
    {
      "cell_type": "code",
      "metadata": {
        "id": "-g_ViqgMldtw",
        "colab_type": "code",
        "colab": {}
      },
      "source": [
        "#@title  { form-width: \"400px\" }\n",
        "\n",
        "#r=spv.CoordSys3D('r',transformation='spherical', \n",
        "#variable_names=(\"r\", \"θ\",\"ϕ\"))\n",
        "\n",
        "r_cart=spv.CoordSys3D('r')\n",
        "a=r_cart.create_new('a',\n",
        "                    transformation='spherical', \n",
        "                    variable_names=(\"r\", \"θ\",\"φ\"),\n",
        "                    vector_names=(\"r_d\", \"θ_d\",\n",
        "                                  \"φ_d\")\n",
        "                   )\n",
        "\n",
        "\n",
        "\n",
        "# Utilizar-se-ão letras minúsculas como \n",
        "# referência a variáveis e \n",
        "# incógnitas com valor real. \n",
        "# Por outro lado, utilizar-se-ão  letras \n",
        "# MAIÚSCULAS como referência a variáveis \n",
        "# e constantes com valor COMPLEXO."
      ],
      "execution_count": 0,
      "outputs": []
    },
    {
      "cell_type": "markdown",
      "metadata": {
        "id": "lXeCilZSlyzt",
        "colab_type": "text"
      },
      "source": [
        "É preciso ilustrar o estabelecimento da correspondência entre as variáveis e as estruturas dos vetores. No caso atual, `a` é a referência ao sistema 3D de coordenadas esféricas criado a partir de um sistema 3D cartesiano."
      ]
    },
    {
      "cell_type": "markdown",
      "metadata": {
        "id": "yZwWUNlh61u8",
        "colab_type": "text"
      },
      "source": [
        "#### b) Identificação das estruturas de um vetor ( função vetorial )\n"
      ]
    },
    {
      "cell_type": "markdown",
      "metadata": {
        "id": "TJobj8RYnqRp",
        "colab_type": "text"
      },
      "source": [
        "Abaixo ilustrou-se o vínculo entre os sistemas 3D."
      ]
    },
    {
      "cell_type": "code",
      "metadata": {
        "id": "8-ViuDdUnNzD",
        "colab_type": "code",
        "outputId": "feb06472-8ab7-4042-c79a-260743871b6d",
        "colab": {
          "base_uri": "https://localhost:8080/",
          "height": 0
        }
      },
      "source": [
        "#@title  { form-width: \"400px\" }\n",
        "\n",
        "from IPython.display import Image, display\n",
        "display(Image(\"Screenshot_4.png\"))"
      ],
      "execution_count": 17,
      "outputs": [
        {
          "output_type": "display_data",
          "data": {
            "image/png": "Screenshot_4.png",
            "text/plain": [
              "<IPython.core.display.Image object>"
            ]
          },
          "metadata": {
            "tags": []
          }
        }
      ]
    },
    {
      "cell_type": "markdown",
      "metadata": {
        "id": "FxqR2iwLz_Qm",
        "colab_type": "text"
      },
      "source": [
        "#### c) Exibindo-se o vínculo entre sistemas de coordenadas pai e filho"
      ]
    },
    {
      "cell_type": "code",
      "metadata": {
        "id": "wp1bD3benYul",
        "colab_type": "code",
        "outputId": "cf804108-5c0f-4e9d-a7e1-ddfaa99eb0ba",
        "colab": {
          "base_uri": "https://localhost:8080/",
          "height": 0
        }
      },
      "source": [
        "#@title  { form-width: \"400px\" }\n",
        "\n",
        "print(\"(x(r,θ,φ),y(r,θ,φ),z(r,θ,φ))=\",\n",
        "      a.transformation_to_parent())\n",
        "print(\"\\n\\n\")\n",
        "print(\"(r(x,y,z),θ(x,y,z),φ(x,y,z))=\" ,\n",
        "      a.transformation_from_parent())\n",
        "\n",
        "print(\"\\n\\n\")\n",
        "\n",
        "A=r\"(\\;x(r,θ,\\phi),\\;y(r,θ,\\phi),\"\n",
        "A=A+r\"\\;z(r,θ,\\phi)\\;)=\"\n",
        "B=sp.latex(\n",
        "      a.transformation_to_parent()\n",
        "    )\n",
        "C=A+B\n",
        "dlatex(C)\n",
        "\n",
        "print(\"\\n\\n\")\n",
        "\n",
        "A=r\"(\\;r(x,y,z), \\;\\;θ(x,y,z),\"\n",
        "A=A+r\"\\;\\;\\phi(x,y,z)\\;)=\"\n",
        "B=sp.latex(\n",
        "      a.transformation_from_parent()\n",
        "    )\n",
        "C=A+B\n",
        "\n",
        "print(\"Analogamente:\\n\\n\")\n",
        "\n",
        "dlatex(C)"
      ],
      "execution_count": 18,
      "outputs": [
        {
          "output_type": "stream",
          "text": [
            "(x(r,θ,φ),y(r,θ,φ),z(r,θ,φ))= (a.r*sin(a.θ)*cos(a.φ), a.r*sin(a.θ)*sin(a.φ), a.r*cos(a.θ))\n",
            "\n",
            "\n",
            "\n",
            "(r(x,y,z),θ(x,y,z),φ(x,y,z))= (sqrt(r.x**2 + r.y**2 + r.z**2), acos(r.z/sqrt(r.x**2 + r.y**2 + r.z**2)), atan2(r.y, r.x))\n",
            "\n",
            "\n",
            "\n"
          ],
          "name": "stdout"
        },
        {
          "output_type": "display_data",
          "data": {
            "text/latex": "(\\;x(r,θ,\\phi),\\;y(r,θ,\\phi),\\;z(r,θ,\\phi)\\;)=\\left( \\mathbf{{r}_{a}} \\sin{\\left(\\mathbf{{θ}_{a}} \\right)} \\cos{\\left(\\mathbf{{φ}_{a}} \\right)}, \\  \\mathbf{{r}_{a}} \\sin{\\left(\\mathbf{{θ}_{a}} \\right)} \\sin{\\left(\\mathbf{{φ}_{a}} \\right)}, \\  \\mathbf{{r}_{a}} \\cos{\\left(\\mathbf{{θ}_{a}} \\right)}\\right)",
            "text/plain": [
              "<IPython.core.display.Latex object>"
            ]
          },
          "metadata": {
            "tags": []
          }
        },
        {
          "output_type": "stream",
          "text": [
            "\n",
            "\n",
            "\n",
            "Analogamente:\n",
            "\n",
            "\n"
          ],
          "name": "stdout"
        },
        {
          "output_type": "display_data",
          "data": {
            "text/latex": "(\\;r(x,y,z), \\;\\;θ(x,y,z),\\;\\;\\phi(x,y,z)\\;)=\\left( \\sqrt{\\mathbf{{x}_{r}}^{2} + \\mathbf{{y}_{r}}^{2} + \\mathbf{{z}_{r}}^{2}}, \\  \\operatorname{acos}{\\left(\\frac{\\mathbf{{z}_{r}}}{\\sqrt{\\mathbf{{x}_{r}}^{2} + \\mathbf{{y}_{r}}^{2} + \\mathbf{{z}_{r}}^{2}}} \\right)}, \\  \\operatorname{atan_{2}}{\\left(\\mathbf{{y}_{r}},\\mathbf{{x}_{r}} \\right)}\\right)",
            "text/plain": [
              "<IPython.core.display.Latex object>"
            ]
          },
          "metadata": {
            "tags": []
          }
        }
      ]
    },
    {
      "cell_type": "code",
      "metadata": {
        "id": "6Ex0Ow8MwBku",
        "colab_type": "code",
        "outputId": "1864857e-2564-44bf-be7e-85bee7b40689",
        "colab": {
          "base_uri": "https://localhost:8080/",
          "height": 0
        }
      },
      "source": [
        "#@title  { form-width: \"400px\" }\n",
        "display(Image(\"Screenshot_2.png\"))"
      ],
      "execution_count": 19,
      "outputs": [
        {
          "output_type": "display_data",
          "data": {
            "image/png": "Screenshot_2.png",
            "text/plain": [
              "<IPython.core.display.Image object>"
            ]
          },
          "metadata": {
            "tags": []
          }
        }
      ]
    },
    {
      "cell_type": "markdown",
      "metadata": {
        "id": "ltFcXqiMzGYX",
        "colab_type": "text"
      },
      "source": [
        "[[Fonte 1](https://www.google.com/imgres?imgurl=https%3A%2F%2Fkeisan.casio.com%2Fkeisan%2Flib%2Freal%2Fsystem%2F2006%2F1359533867%2Fspherical%2520polar2.gif&imgrefurl=https%3A%2F%2Fkeisan.casio.com%2Fexec%2Fsystem%2F1359533867&tbnid=9UdY7pPSJU8aNM&vet=12ahUKEwie5_TAp_DpAhVuK7kGHTd6DrIQMygAegUIARDRAQ..i&docid=vwyziJTwtosv_M&w=252&h=198&q=spherical%20coordinates&hl=en&ved=2ahUKEwie5_TAp_DpAhVuK7kGHTd6DrIQMygAegUIARDRAQ)]"
      ]
    },
    {
      "cell_type": "markdown",
      "metadata": {
        "id": "aHBK9EPz-w1T",
        "colab_type": "text"
      },
      "source": [
        "#### d) Declaração de um vetor ( função vetorial )"
      ]
    },
    {
      "cell_type": "markdown",
      "metadata": {
        "id": "Kti31Or7_yYl",
        "colab_type": "text"
      },
      "source": [
        "**OBS**: Letras minúsculas serão reservadas a vetores reais e letras MAIÚSCULAS serão reservadas a vetores com números complexos em suas componentes.\n",
        "\n",
        "Conforme a identificação das estruturas de um vetor, declarar-se-á o vetor :\n",
        "\n",
        "$$\\mathbf{k}= r\\hat{r}+r\\sin(\\theta)\\hat{\\theta}+ r\\cos(φ)\\hat{φ}$$\n",
        "\n",
        "\n",
        "no sistema de referência *a*.\n"
      ]
    },
    {
      "cell_type": "code",
      "metadata": {
        "id": "_pHrk2ri_und",
        "colab_type": "code",
        "outputId": "9d0861f2-c098-4b27-b4f4-001a0d2a3611",
        "colab": {
          "base_uri": "https://localhost:8080/",
          "height": 0
        }
      },
      "source": [
        "#@title  { form-width: \"400px\" }\n",
        "\n",
        "k = (a.r)*a.r_d + (a.r*sp.sin(a.θ))*a.θ_d\n",
        "k = k + (a.r*sp.cos(a.φ))*a.φ_d\n",
        "\n",
        "print(k)\n",
        "print(\"\\n\")\n",
        "\n",
        "string=r\"\\mathbf{k}\\;=\\;\"\n",
        "string=string+sp.latex(k)\n",
        "dlatex(string)"
      ],
      "execution_count": 20,
      "outputs": [
        {
          "output_type": "stream",
          "text": [
            "a.r*a.r_d + (a.r*sin(a.θ))*a.θ_d + (a.r*cos(a.φ))*a.φ_d\n",
            "\n",
            "\n"
          ],
          "name": "stdout"
        },
        {
          "output_type": "display_data",
          "data": {
            "text/latex": "\\mathbf{k}\\;=\\;(\\mathbf{{r}_{a}})\\mathbf{\\hat{r_d}_{a}} + (\\mathbf{{r}_{a}} \\sin{\\left(\\mathbf{{θ}_{a}} \\right)})\\mathbf{\\hat{θ_d}_{a}} + (\\mathbf{{r}_{a}} \\cos{\\left(\\mathbf{{φ}_{a}} \\right)})\\mathbf{\\hat{φ_d}_{a}}",
            "text/plain": [
              "<IPython.core.display.Latex object>"
            ]
          },
          "metadata": {
            "tags": []
          }
        }
      ]
    },
    {
      "cell_type": "markdown",
      "metadata": {
        "id": "4bK6K6z1DBJM",
        "colab_type": "text"
      },
      "source": [
        "Pode-ser declarar também:\n",
        "\n",
        "$$\\mathbf{K}= ir\\hat{r}+r\\sin(\\theta)\\hat{\\theta}+ r\\cos(φ)\\hat{φ}$$"
      ]
    },
    {
      "cell_type": "markdown",
      "metadata": {
        "id": "AJ_RZIn4DY2Z",
        "colab_type": "text"
      },
      "source": [
        "Isso pode ser feito utilizando-se as operações de soma e subtração com os operadores `+` e `-`"
      ]
    },
    {
      "cell_type": "code",
      "metadata": {
        "id": "zY7rHRRKDNt9",
        "colab_type": "code",
        "outputId": "b24538f5-a50b-45e7-a8e7-c1493bdec2a9",
        "colab": {
          "base_uri": "https://localhost:8080/",
          "height": 0
        }
      },
      "source": [
        "#@title  { form-width: \"400px\" }\n",
        "K=k-(a.r)*a.r_d \n",
        "K=K + (sp.I*a.r)*a.r_d\n",
        "\n",
        "print(\"K = \",end=\"\")\n",
        "print(K)\n",
        "print(\"\\n\")\n",
        "\n",
        "string=r\"\\mathbf{K}\\;=\\;\"\n",
        "string=string+sp.latex(K)\n",
        "dlatex(string)"
      ],
      "execution_count": 21,
      "outputs": [
        {
          "output_type": "stream",
          "text": [
            "K = a.r*I*a.r_d + (a.r*sin(a.θ))*a.θ_d + (a.r*cos(a.φ))*a.φ_d\n",
            "\n",
            "\n"
          ],
          "name": "stdout"
        },
        {
          "output_type": "display_data",
          "data": {
            "text/latex": "\\mathbf{K}\\;=\\;(\\mathbf{{r}_{a}} i)\\mathbf{\\hat{r_d}_{a}} + (\\mathbf{{r}_{a}} \\sin{\\left(\\mathbf{{θ}_{a}} \\right)})\\mathbf{\\hat{θ_d}_{a}} + (\\mathbf{{r}_{a}} \\cos{\\left(\\mathbf{{φ}_{a}} \\right)})\\mathbf{\\hat{φ_d}_{a}}",
            "text/plain": [
              "<IPython.core.display.Latex object>"
            ]
          },
          "metadata": {
            "tags": []
          }
        }
      ]
    },
    {
      "cell_type": "markdown",
      "metadata": {
        "id": "dHi2XHIc1Vf2",
        "colab_type": "text"
      },
      "source": [
        "#### e) Operações vetoriais comuns"
      ]
    },
    {
      "cell_type": "markdown",
      "metadata": {
        "id": "plvFlLadGF1C",
        "colab_type": "text"
      },
      "source": [
        "Como já se sabe, a soma e subtração de vetores podem ser realizadas pelos operadores `+` e `-`.  Além disso, essa seção foca em:"
      ]
    },
    {
      "cell_type": "markdown",
      "metadata": {
        "id": "qCovf7BL11yq",
        "colab_type": "text"
      },
      "source": [
        "\n",
        "*   Produto interno (.dot)\n",
        "*   Produto externo (.cross)\n",
        "*   Gradiente (gradient)\n",
        "*   Rotacional (curl)\n",
        "*   Divergente (divergence)\n",
        "\n"
      ]
    },
    {
      "cell_type": "markdown",
      "metadata": {
        "id": "EYr4b0c12rlf",
        "colab_type": "text"
      },
      "source": [
        "Para mais informações, consulte [Vector API](https://docs.sympy.org/latest/modules/vector/index.html), *acesso em 08/06/2020*."
      ]
    },
    {
      "cell_type": "markdown",
      "metadata": {
        "id": "IjQboD7e4TUm",
        "colab_type": "text"
      },
      "source": [
        "Exemplos básicos abaixo.\n"
      ]
    },
    {
      "cell_type": "code",
      "metadata": {
        "id": "7eD5QkpIe6b1",
        "colab_type": "code",
        "outputId": "9ea68814-d948-4c11-fcd6-23ed7efe4df5",
        "colab": {
          "base_uri": "https://localhost:8080/",
          "height": 38
        }
      },
      "source": [
        "# PRODUTO INTERNO \n",
        "k.dot(K)"
      ],
      "execution_count": 22,
      "outputs": [
        {
          "output_type": "execute_result",
          "data": {
            "text/latex": "$\\displaystyle \\mathbf{{r}_{a}}^{2} \\sin^{2}{\\left(\\mathbf{{θ}_{a}} \\right)} + \\mathbf{{r}_{a}}^{2} \\cos^{2}{\\left(\\mathbf{{φ}_{a}} \\right)} + \\mathbf{{r}_{a}}^{2} i$",
            "text/plain": [
              "a.r**2*sin(a.θ)**2 + a.r**2*cos(a.φ)**2 + a.r**2*I"
            ]
          },
          "metadata": {
            "tags": []
          },
          "execution_count": 22
        }
      ]
    },
    {
      "cell_type": "code",
      "metadata": {
        "id": "cJG7gq3we-Od",
        "colab_type": "code",
        "outputId": "ee098ec6-e92a-4922-b366-64d015026e45",
        "colab": {
          "base_uri": "https://localhost:8080/",
          "height": 39
        }
      },
      "source": [
        "# PRODUTO VETORIAL\n",
        "k.cross(K)"
      ],
      "execution_count": 23,
      "outputs": [
        {
          "output_type": "execute_result",
          "data": {
            "text/latex": "$\\displaystyle (- \\mathbf{{r}_{a}}^{2} \\cos{\\left(\\mathbf{{φ}_{a}} \\right)} + \\mathbf{{r}_{a}}^{2} i \\cos{\\left(\\mathbf{{φ}_{a}} \\right)})\\mathbf{\\hat{θ_d}_{a}} + (\\mathbf{{r}_{a}}^{2} \\sin{\\left(\\mathbf{{θ}_{a}} \\right)} - \\mathbf{{r}_{a}}^{2} i \\sin{\\left(\\mathbf{{θ}_{a}} \\right)})\\mathbf{\\hat{φ_d}_{a}}$",
            "text/plain": [
              "(-a.r**2*cos(a.φ) + a.r**2*I*cos(a.φ))*a.θ_d + (a.r**2*sin(a.θ) - a.r**2*I*sin(a.θ))*a.φ_d"
            ]
          },
          "metadata": {
            "tags": []
          },
          "execution_count": 23
        }
      ]
    },
    {
      "cell_type": "code",
      "metadata": {
        "id": "a2lkJivV4A21",
        "colab_type": "code",
        "outputId": "9e84c35b-4a84-4769-b096-70a8e30b4a5a",
        "colab": {
          "base_uri": "https://localhost:8080/",
          "height": 477
        }
      },
      "source": [
        "#@title  { form-width: \"400px\" }\n",
        "\n",
        "\n",
        "A=r\"\\mathbf{k} \\cdot \\mathbf{K} \\;=\\;\"\n",
        "\n",
        "# PRODUTO INTERNO\n",
        "#k.dot(k)\n",
        "\n",
        "A=A+sp.latex(k.dot(K))\n",
        "dlatex(A)\n",
        "print(\"\\n\\n\")\n",
        "\n",
        "A=r\"\\mathbf{k} \\times \\mathbf{K} \\;=\\;\"\n",
        "\n",
        "# PRODUTO EXTERNO\n",
        "#k.cross(k)\n",
        "\n",
        "A=A+sp.latex(k.cross(K))\n",
        "dlatex(A)\n",
        "print(\"\\n\\n\")\n",
        "\n",
        "print(spv.gradient(a.φ*a.r))\n",
        "print(\"\\n\\n\")\n",
        "dlatex(\n",
        "    sp.latex(\n",
        "        spv.gradient(a.θ*a.r)\n",
        "    )\n",
        "  )\n",
        "\n",
        "k=a.θ*a.r_d\n",
        "print(\"\\n\\n\")\n",
        "dlatex(\n",
        "    sp.latex(\n",
        "        spv.curl(k)\n",
        "    )\n",
        "  )\n",
        "\n",
        "k=a.φ**2*a.φ_d\n",
        "\n",
        "print(\"\\n\\n\")\n",
        "\n",
        "A=r\"k=\"\n",
        "A=A+sp.latex(k)\n",
        "\n",
        "\n",
        "\n",
        "\n",
        "\n",
        "dlatex(A)\n",
        "\n",
        "print(\"\\n\\n\")\n",
        "\n",
        "A=r\"curl(\"\n",
        "A=A+sp.latex(k)\n",
        "A=A+r\")   =    \"\n",
        "A=A+sp.latex(spv.curl(k))\n",
        "\n",
        "\n",
        "dlatex(A)"
      ],
      "execution_count": 24,
      "outputs": [
        {
          "output_type": "display_data",
          "data": {
            "text/latex": "\\mathbf{k} \\cdot \\mathbf{K} \\;=\\;\\mathbf{{r}_{a}}^{2} \\sin^{2}{\\left(\\mathbf{{θ}_{a}} \\right)} + \\mathbf{{r}_{a}}^{2} \\cos^{2}{\\left(\\mathbf{{φ}_{a}} \\right)} + \\mathbf{{r}_{a}}^{2} i",
            "text/plain": [
              "<IPython.core.display.Latex object>"
            ]
          },
          "metadata": {
            "tags": []
          }
        },
        {
          "output_type": "stream",
          "text": [
            "\n",
            "\n",
            "\n"
          ],
          "name": "stdout"
        },
        {
          "output_type": "display_data",
          "data": {
            "text/latex": "\\mathbf{k} \\times \\mathbf{K} \\;=\\;(- \\mathbf{{r}_{a}}^{2} \\cos{\\left(\\mathbf{{φ}_{a}} \\right)} + \\mathbf{{r}_{a}}^{2} i \\cos{\\left(\\mathbf{{φ}_{a}} \\right)})\\mathbf{\\hat{θ_d}_{a}} + (\\mathbf{{r}_{a}}^{2} \\sin{\\left(\\mathbf{{θ}_{a}} \\right)} - \\mathbf{{r}_{a}}^{2} i \\sin{\\left(\\mathbf{{θ}_{a}} \\right)})\\mathbf{\\hat{φ_d}_{a}}",
            "text/plain": [
              "<IPython.core.display.Latex object>"
            ]
          },
          "metadata": {
            "tags": []
          }
        },
        {
          "output_type": "stream",
          "text": [
            "\n",
            "\n",
            "\n",
            "a.φ*a.r_d + (1/sin(a.θ))*a.φ_d\n",
            "\n",
            "\n",
            "\n"
          ],
          "name": "stdout"
        },
        {
          "output_type": "display_data",
          "data": {
            "text/latex": "(\\mathbf{{θ}_{a}})\\mathbf{\\hat{r_d}_{a}} + \\mathbf{\\hat{θ_d}_{a}}",
            "text/plain": [
              "<IPython.core.display.Latex object>"
            ]
          },
          "metadata": {
            "tags": []
          }
        },
        {
          "output_type": "stream",
          "text": [
            "\n",
            "\n",
            "\n"
          ],
          "name": "stdout"
        },
        {
          "output_type": "display_data",
          "data": {
            "text/latex": "(- \\frac{1}{\\mathbf{{r}_{a}}})\\mathbf{\\hat{φ_d}_{a}}",
            "text/plain": [
              "<IPython.core.display.Latex object>"
            ]
          },
          "metadata": {
            "tags": []
          }
        },
        {
          "output_type": "stream",
          "text": [
            "\n",
            "\n",
            "\n"
          ],
          "name": "stdout"
        },
        {
          "output_type": "display_data",
          "data": {
            "text/latex": "k=(\\mathbf{{φ}_{a}}^{2})\\mathbf{\\hat{φ_d}_{a}}",
            "text/plain": [
              "<IPython.core.display.Latex object>"
            ]
          },
          "metadata": {
            "tags": []
          }
        },
        {
          "output_type": "stream",
          "text": [
            "\n",
            "\n",
            "\n"
          ],
          "name": "stdout"
        },
        {
          "output_type": "display_data",
          "data": {
            "text/latex": "curl((\\mathbf{{φ}_{a}}^{2})\\mathbf{\\hat{φ_d}_{a}})   =    (\\frac{\\mathbf{{φ}_{a}}^{2} \\cos{\\left(\\mathbf{{θ}_{a}} \\right)}}{\\mathbf{{r}_{a}} \\sin{\\left(\\mathbf{{θ}_{a}} \\right)}})\\mathbf{\\hat{r_d}_{a}} + (- \\frac{\\mathbf{{φ}_{a}}^{2}}{\\mathbf{{r}_{a}}})\\mathbf{\\hat{θ_d}_{a}}",
            "text/plain": [
              "<IPython.core.display.Latex object>"
            ]
          },
          "metadata": {
            "tags": []
          }
        }
      ]
    },
    {
      "cell_type": "markdown",
      "metadata": {
        "id": "6mN0KIBqHRsG",
        "colab_type": "text"
      },
      "source": [
        "#### f) Exibição das componentes de um vetor (função vetorial) \n"
      ]
    },
    {
      "cell_type": "code",
      "metadata": {
        "id": "s-qh9OWmHpQS",
        "colab_type": "code",
        "outputId": "3bb979ca-d4a4-44fb-9a3a-186010451359",
        "colab": {
          "base_uri": "https://localhost:8080/",
          "height": 106
        }
      },
      "source": [
        "#@title  { form-width: \"400px\" }\n",
        "\n",
        "# return das componentes do vetor na forma de dicionário\n",
        "print(k.components)\n",
        "print(\"\\n\\n\")\n",
        "dlatex(sp.latex(k.components))"
      ],
      "execution_count": 25,
      "outputs": [
        {
          "output_type": "stream",
          "text": [
            "{a.φ_d: a.φ**2}\n",
            "\n",
            "\n",
            "\n"
          ],
          "name": "stdout"
        },
        {
          "output_type": "display_data",
          "data": {
            "text/latex": "\\left\\{ \\mathbf{\\hat{φ_d}_{a}} : \\mathbf{{φ}_{a}}^{2}\\right\\}",
            "text/plain": [
              "<IPython.core.display.Latex object>"
            ]
          },
          "metadata": {
            "tags": []
          }
        }
      ]
    },
    {
      "cell_type": "markdown",
      "metadata": {
        "id": "KNQvySnRIDyE",
        "colab_type": "text"
      },
      "source": [
        "#### g) Integral de uma função vetorial"
      ]
    },
    {
      "cell_type": "code",
      "metadata": {
        "id": "PPj8GBCZIb-0",
        "colab_type": "code",
        "outputId": "a27ca130-d11d-44e4-cc27-f7878ca5c9f4",
        "colab": {
          "base_uri": "https://localhost:8080/",
          "height": 0
        }
      },
      "source": [
        "#@title  { form-width: \"400px\" }\n",
        "\n",
        "# integral indefinida simples\n",
        "sp.simplify(sp.integrate(k,(a.φ)))"
      ],
      "execution_count": 26,
      "outputs": [
        {
          "output_type": "execute_result",
          "data": {
            "text/latex": "$\\displaystyle (\\frac{\\mathbf{{φ}_{a}}^{3}}{3})\\mathbf{\\hat{φ_d}_{a}}$",
            "text/plain": [
              "a.φ**3/3*a.φ_d"
            ]
          },
          "metadata": {
            "tags": []
          },
          "execution_count": 26
        }
      ]
    },
    {
      "cell_type": "markdown",
      "metadata": {
        "id": "NfNFg8M8RXc_",
        "colab_type": "text"
      },
      "source": [
        "Note que foi omitida a constante de integração. Portanto, pode ser mais conveniente obter  integrais indefinidas por integração definida com a partir de um valor incógnita até o valor variável final."
      ]
    },
    {
      "cell_type": "code",
      "metadata": {
        "id": "ck__2YSGRMEr",
        "colab_type": "code",
        "outputId": "09b60511-82d2-4080-8170-a28eab6b4448",
        "colab": {
          "base_uri": "https://localhost:8080/",
          "height": 0
        }
      },
      "source": [
        "#@title  { form-width: \"400px\" }\n",
        "\n",
        "# integral indefinida simples \n",
        "c=sp.symbols('c',real=True)\n",
        "sp.simplify(sp.integrate(k,(a.φ,c,a.φ)))"
      ],
      "execution_count": 27,
      "outputs": [
        {
          "output_type": "execute_result",
          "data": {
            "text/latex": "$\\displaystyle (\\frac{\\mathbf{{φ}_{a}}^{3}}{3} - \\frac{c^{3}}{3})\\mathbf{\\hat{φ_d}_{a}}$",
            "text/plain": [
              "(a.φ**3/3 - c**3/3)*a.φ_d"
            ]
          },
          "metadata": {
            "tags": []
          },
          "execution_count": 27
        }
      ]
    },
    {
      "cell_type": "markdown",
      "metadata": {
        "id": "FnWM1kwcJKzv",
        "colab_type": "text"
      },
      "source": [
        "**OBS**: é recomendado o uso da função `sp.simplify()` para forçar a exibição do resultado do cálculo da integral.\n",
        "\n",
        "A consequência disso é a necessidade de realizar **integrais múltiplas** por meio de repetidas execuções de integrais simples, cada uma utilizando a função `sp.simplify`."
      ]
    },
    {
      "cell_type": "code",
      "metadata": {
        "id": "BCKIVQLhM0Ti",
        "colab_type": "code",
        "outputId": "0d5df2b7-5625-488f-8377-ebb4b94974e2",
        "colab": {
          "base_uri": "https://localhost:8080/",
          "height": 0
        }
      },
      "source": [
        "#@title  { form-width: \"400px\" }\n",
        "\n",
        "# integral definida dupla\n",
        "sp.simplify(sp.integrate(k,(a.φ,0,a.φ),(a.r,0,x)))\n",
        "\n",
        "# Realizada da esquerda para a direita"
      ],
      "execution_count": 28,
      "outputs": [
        {
          "output_type": "execute_result",
          "data": {
            "text/latex": "$\\displaystyle (\\frac{\\mathbf{{φ}_{a}}^{3} x}{3})\\mathbf{\\hat{φ_d}_{a}}$",
            "text/plain": [
              "a.φ**3*x/3*a.φ_d"
            ]
          },
          "metadata": {
            "tags": []
          },
          "execution_count": 28
        }
      ]
    },
    {
      "cell_type": "code",
      "metadata": {
        "id": "6kKm1ExxSgHD",
        "colab_type": "code",
        "outputId": "9db190ed-f524-45df-de1e-425d48c8e72b",
        "colab": {
          "base_uri": "https://localhost:8080/",
          "height": 0
        }
      },
      "source": [
        "#@title  { form-width: \"400px\" }\n",
        "\n",
        "def integrate_v(k,args):\n",
        "  result=sp.simplify(sp.integrate(k,args))\n",
        "  return result\n",
        "\n",
        "integrate_v(\n",
        "    integrate_v(K,(a.φ,0,a.φ)),(a.φ,0,a.φ)\n",
        ")"
      ],
      "execution_count": 29,
      "outputs": [
        {
          "output_type": "execute_result",
          "data": {
            "text/latex": "$\\displaystyle (\\frac{\\mathbf{{r}_{a}} \\mathbf{{φ}_{a}}^{2} i}{2})\\mathbf{\\hat{r_d}_{a}} + (\\frac{\\mathbf{{r}_{a}} \\mathbf{{φ}_{a}}^{2} \\sin{\\left(\\mathbf{{θ}_{a}} \\right)}}{2})\\mathbf{\\hat{θ_d}_{a}} + (\\mathbf{{r}_{a}} \\left(1 - \\cos{\\left(\\mathbf{{φ}_{a}} \\right)}\\right))\\mathbf{\\hat{φ_d}_{a}}$",
            "text/plain": [
              "a.r*a.φ**2*I/2*a.r_d + (a.r*a.φ**2*sin(a.θ)/2)*a.θ_d + (a.r*(1 - cos(a.φ)))*a.φ_d"
            ]
          },
          "metadata": {
            "tags": []
          },
          "execution_count": 29
        }
      ]
    },
    {
      "cell_type": "code",
      "metadata": {
        "id": "iZ3mN6BwNRJp",
        "colab_type": "code",
        "outputId": "b7a9d2d7-9f27-4545-f059-4cd79d0fadce",
        "colab": {
          "base_uri": "https://localhost:8080/",
          "height": 0
        }
      },
      "source": [
        "#@title  { form-width: \"400px\" }\n",
        "sp.simplify(sp.integrate(K,(a.φ,0,a.φ),(a.r,0,x)))"
      ],
      "execution_count": 30,
      "outputs": [
        {
          "output_type": "execute_result",
          "data": {
            "text/latex": "$\\displaystyle (\\frac{\\mathbf{{φ}_{a}} i x^{2}}{2})\\mathbf{\\hat{r_d}_{a}} + (\\frac{\\mathbf{{φ}_{a}} x^{2} \\sin{\\left(\\mathbf{{θ}_{a}} \\right)}}{2})\\mathbf{\\hat{θ_d}_{a}} + (\\int\\limits_{0}^{x}\\int\\limits_{0}^{\\mathbf{{φ}_{a}}} \\mathbf{{r}_{a}} \\cos{\\left(\\mathbf{{φ}_{a}} \\right)}\\, d\\mathbf{{φ}_{a}}\\, d\\mathbf{{r}_{a}})\\mathbf{\\hat{φ_d}_{a}}$",
            "text/plain": [
              "a.φ*I*x**2/2*a.r_d + (a.φ*x**2*sin(a.θ)/2)*a.θ_d + (Integral(a.r*cos(a.φ), (a.φ, 0, a.φ), (a.r, 0, x)))*a.φ_d"
            ]
          },
          "metadata": {
            "tags": []
          },
          "execution_count": 30
        }
      ]
    },
    {
      "cell_type": "markdown",
      "metadata": {
        "id": "ZJvAqX6PV3VY",
        "colab_type": "text"
      },
      "source": [
        "#### h) Derivada de um vetor ( uma função vetorial )"
      ]
    },
    {
      "cell_type": "markdown",
      "metadata": {
        "id": "e2OQZhgFWdu0",
        "colab_type": "text"
      },
      "source": [
        "Não há necessidade de se preocupar com o cômputo de uma operação válida.\n",
        "Contudo, **é importante** observar se as componentes do vetor são deriváveis *no caso de uma derivada em relação a uma variável complexa*.\n"
      ]
    },
    {
      "cell_type": "code",
      "metadata": {
        "id": "E-YRh0ajWrR9",
        "colab_type": "code",
        "outputId": "199d7f8d-69e2-4b63-a1d4-672b40781fe1",
        "colab": {
          "base_uri": "https://localhost:8080/",
          "height": 0
        }
      },
      "source": [
        "#@title  { form-width: \"400px\" }\n",
        "K=K*a.φ\n",
        "\n",
        "dlatex(sp.latex(K))"
      ],
      "execution_count": 31,
      "outputs": [
        {
          "output_type": "display_data",
          "data": {
            "text/latex": "(\\mathbf{{r}_{a}} \\mathbf{{φ}_{a}} i)\\mathbf{\\hat{r_d}_{a}} + (\\mathbf{{r}_{a}} \\mathbf{{φ}_{a}} \\sin{\\left(\\mathbf{{θ}_{a}} \\right)})\\mathbf{\\hat{θ_d}_{a}} + (\\mathbf{{r}_{a}} \\mathbf{{φ}_{a}} \\cos{\\left(\\mathbf{{φ}_{a}} \\right)})\\mathbf{\\hat{φ_d}_{a}}",
            "text/plain": [
              "<IPython.core.display.Latex object>"
            ]
          },
          "metadata": {
            "tags": []
          }
        }
      ]
    },
    {
      "cell_type": "code",
      "metadata": {
        "id": "J1_uIuX8XBFd",
        "colab_type": "code",
        "outputId": "e3238f23-b5dc-47a3-e11e-e348a99773b1",
        "colab": {
          "base_uri": "https://localhost:8080/",
          "height": 0
        }
      },
      "source": [
        "#@title  { form-width: \"400px\" }\n",
        "A=r\"d(\\frac{d\\mathbf{K}}{dr})/ dφ\\;=\\;\"\n",
        "A=A+sp.latex(\n",
        "    sp.diff(K,a.r,a.φ)\n",
        "    )\n",
        "dlatex(A)"
      ],
      "execution_count": 32,
      "outputs": [
        {
          "output_type": "display_data",
          "data": {
            "text/latex": "d(\\frac{d\\mathbf{K}}{dr})/ dφ\\;=\\;(i)\\mathbf{\\hat{r_d}_{a}} + (\\sin{\\left(\\mathbf{{θ}_{a}} \\right)})\\mathbf{\\hat{θ_d}_{a}} + (- \\mathbf{{φ}_{a}} \\sin{\\left(\\mathbf{{φ}_{a}} \\right)} + \\cos{\\left(\\mathbf{{φ}_{a}} \\right)})\\mathbf{\\hat{φ_d}_{a}}",
            "text/plain": [
              "<IPython.core.display.Latex object>"
            ]
          },
          "metadata": {
            "tags": []
          }
        }
      ]
    },
    {
      "cell_type": "code",
      "metadata": {
        "id": "DnR9EVn4MeXg",
        "colab_type": "code",
        "outputId": "d59af292-cb9b-47ce-b66c-b325f7a9c8f9",
        "colab": {
          "base_uri": "https://localhost:8080/",
          "height": 0
        }
      },
      "source": [
        "#@title  { form-width: \"400px\" }\n",
        "sp.diff(K,a.r,a.φ)"
      ],
      "execution_count": 33,
      "outputs": [
        {
          "output_type": "execute_result",
          "data": {
            "text/latex": "$\\displaystyle (i)\\mathbf{\\hat{r_d}_{a}} + (\\sin{\\left(\\mathbf{{θ}_{a}} \\right)})\\mathbf{\\hat{θ_d}_{a}} + (- \\mathbf{{φ}_{a}} \\sin{\\left(\\mathbf{{φ}_{a}} \\right)} + \\cos{\\left(\\mathbf{{φ}_{a}} \\right)})\\mathbf{\\hat{φ_d}_{a}}$",
            "text/plain": [
              "I*a.r_d + (sin(a.θ))*a.θ_d + (-a.φ*sin(a.φ) + cos(a.φ))*a.φ_d"
            ]
          },
          "metadata": {
            "tags": []
          },
          "execution_count": 33
        }
      ]
    },
    {
      "cell_type": "markdown",
      "metadata": {
        "id": "WZrtSIDYYz5r",
        "colab_type": "text"
      },
      "source": [
        "####i) Obtenção do conjugado de uma função vetorial"
      ]
    },
    {
      "cell_type": "markdown",
      "metadata": {
        "id": "rUNoZtd9bA2Z",
        "colab_type": "text"
      },
      "source": [
        "A ferramenta `sp.conjugate()` requer cuidado na especificação do tipo de valor de cada símbolo no ato de sua definição, especialmente se `real=True`, pois o *default* é `real=False`. Assim, o resultado da conjugação sobre a variável será simplificado. O incoveniente é que a ferramenta não lida muito bem com as estruturas do vetor. Nesse sentido, é útil *transformar a estrutura de vetor para o formato matricial, depois substituir os símbolos vetoriais remanescentes*, em seguida aplicar a conjugação e finalmente desfazer o processo inverso ao destacado em itálico.\n",
        "\n",
        "Uma estratégia análoga deve ser usada para extração da parte real e imaginária de um vetor.\n",
        "\n",
        "O resultado dessas operações reconstruídas é a criação de uma função que tem como resultado o módulo do vetor, pois para números complexos a ferramenta `.magnitude()` não é consistente."
      ]
    },
    {
      "cell_type": "code",
      "metadata": {
        "id": "gpeFt1bliGHW",
        "colab_type": "code",
        "colab": {}
      },
      "source": [
        "#@title  { form-width: \"400px\" }\n",
        "# ====================================== #\n",
        "# Caixa de configurações dependem do \n",
        "# sistema de coordenadas adotado e\n",
        "# do valor das variáveis.\n",
        "\n",
        "# Assinalando variáveis reais !\n",
        "r,θ,φ=sp.symbols('r,θ,φ', real=True)\n",
        "\n",
        "# substituição direta (esquerda --> direita)\n",
        "subs_a=[(a.r,r),\n",
        "        (a.θ,θ),\n",
        "        (a.φ,φ)]\n",
        "\n",
        "# substituição reversa ( esquerda --> direita)\n",
        "subs_a_rev=[(r,a.r),\n",
        "        (θ,a.θ),\n",
        "        (φ,a.φ)]\n",
        "a_subs=[subs_a,subs_a_rev,a]\n",
        "# ====================================== #\n",
        "\n",
        "#def conjugate_v(D,[subs_a,subs_a_rev,a]):\n",
        "def conjugate_v(D,a_subs):\n",
        "  # D é o vetor a ser conjugado.\n",
        "  # subs_a é o assinalamento de variáveis reais.\n",
        "  # subs_a é a reatribuição dos objetos\n",
        "  # a é o sistema de referência.\n",
        "  D_conj=D.to_matrix(a_subs[2])\n",
        "\n",
        "  # ---------------------------------------- #\n",
        "  D_conj=sp.conjugate(D_conj.subs(a_subs[0]))\n",
        "  # ---------------------------------------- #\n",
        "\n",
        "  D_conj=spv.matrix_to_vector(D_conj,a_subs[2])\n",
        "  D_conj=D_conj.subs(a_subs[1])\n",
        "\n",
        "  return D_conj"
      ],
      "execution_count": 0,
      "outputs": []
    },
    {
      "cell_type": "code",
      "metadata": {
        "id": "RmQr4PrIkUfE",
        "colab_type": "code",
        "outputId": "2259ae47-b275-47e4-ae17-3308a0d963ec",
        "colab": {
          "base_uri": "https://localhost:8080/",
          "height": 0
        }
      },
      "source": [
        "#@title  { form-width: \"400px\" }\n",
        "\n",
        "################################\n",
        "\n",
        "K.dot(conjugate_v(K,a_subs))\n",
        "\n",
        "################################"
      ],
      "execution_count": 35,
      "outputs": [
        {
          "output_type": "execute_result",
          "data": {
            "text/latex": "$\\displaystyle \\mathbf{{r}_{a}}^{2} \\mathbf{{φ}_{a}}^{2} \\sin^{2}{\\left(\\mathbf{{θ}_{a}} \\right)} + \\mathbf{{r}_{a}}^{2} \\mathbf{{φ}_{a}}^{2} \\cos^{2}{\\left(\\mathbf{{φ}_{a}} \\right)} + \\mathbf{{r}_{a}}^{2} \\mathbf{{φ}_{a}}^{2}$",
            "text/plain": [
              "a.r**2*a.φ**2*sin(a.θ)**2 + a.r**2*a.φ**2*cos(a.φ)**2 + a.r**2*a.φ**2"
            ]
          },
          "metadata": {
            "tags": []
          },
          "execution_count": 35
        }
      ]
    },
    {
      "cell_type": "code",
      "metadata": {
        "id": "OBgNVaMnkcwF",
        "colab_type": "code",
        "outputId": "bf403af3-0a6a-4ab6-82f1-8bc645f84559",
        "colab": {
          "base_uri": "https://localhost:8080/",
          "height": 0
        }
      },
      "source": [
        "#@title  { form-width: \"400px\" }\n",
        "(K.magnitude())**2"
      ],
      "execution_count": 36,
      "outputs": [
        {
          "output_type": "execute_result",
          "data": {
            "text/latex": "$\\displaystyle \\mathbf{{r}_{a}}^{2} \\mathbf{{φ}_{a}}^{2} \\sin^{2}{\\left(\\mathbf{{θ}_{a}} \\right)} + \\mathbf{{r}_{a}}^{2} \\mathbf{{φ}_{a}}^{2} \\cos^{2}{\\left(\\mathbf{{φ}_{a}} \\right)} - \\mathbf{{r}_{a}}^{2} \\mathbf{{φ}_{a}}^{2}$",
            "text/plain": [
              "a.r**2*a.φ**2*sin(a.θ)**2 + a.r**2*a.φ**2*cos(a.φ)**2 - a.r**2*a.φ**2"
            ]
          },
          "metadata": {
            "tags": []
          },
          "execution_count": 36
        }
      ]
    },
    {
      "cell_type": "markdown",
      "metadata": {
        "id": "6OOtDWNbZRxR",
        "colab_type": "text"
      },
      "source": [
        "####j) Obtenção do módulo de uma função vetorial"
      ]
    },
    {
      "cell_type": "code",
      "metadata": {
        "id": "W4FaKGT7k5Xx",
        "colab_type": "code",
        "colab": {}
      },
      "source": [
        "#@title  { form-width: \"400px\" }\n",
        "# ====================================== #\n",
        "# Caixa de configurações dependem do \n",
        "# sistema de coordenadas adotado e\n",
        "# do valor das variáveis.\n",
        "\n",
        "# Assinalando variáveis reais !\n",
        "r,θ,φ=sp.symbols('r,θ,φ', real=True)\n",
        "\n",
        "# substituição direta (esquerda --> direita)\n",
        "subs_a=[(a.r,r),\n",
        "        (a.θ,θ),\n",
        "        (a.φ,φ)]\n",
        "\n",
        "# substituição reversa ( esquerda --> direita)\n",
        "subs_a_rev=[(r,a.r),\n",
        "        (θ,a.θ),\n",
        "        (φ,a.φ)]\n",
        "a_subs=[subs_a,subs_a_rev,a]\n",
        "# ====================================== #\n",
        "\n",
        "def magnitude_v(D,a_subs):\n",
        "  D_magnitude=sp.sqrt(D.dot(conjugate_v(D,a_subs)))\n",
        "  return(D_magnitude)"
      ],
      "execution_count": 0,
      "outputs": []
    },
    {
      "cell_type": "code",
      "metadata": {
        "id": "Fd7wYP4plJz-",
        "colab_type": "code",
        "outputId": "bcc0bc85-8b82-408a-bbdf-b77effcaecee",
        "colab": {
          "base_uri": "https://localhost:8080/",
          "height": 0
        }
      },
      "source": [
        "#@title  { form-width: \"400px\" }\n",
        "\n",
        "magnitude_v(K,a_subs)"
      ],
      "execution_count": 38,
      "outputs": [
        {
          "output_type": "execute_result",
          "data": {
            "text/latex": "$\\displaystyle \\sqrt{\\mathbf{{r}_{a}}^{2} \\mathbf{{φ}_{a}}^{2} \\sin^{2}{\\left(\\mathbf{{θ}_{a}} \\right)} + \\mathbf{{r}_{a}}^{2} \\mathbf{{φ}_{a}}^{2} \\cos^{2}{\\left(\\mathbf{{φ}_{a}} \\right)} + \\mathbf{{r}_{a}}^{2} \\mathbf{{φ}_{a}}^{2}}$",
            "text/plain": [
              "sqrt(a.r**2*a.φ**2*sin(a.θ)**2 + a.r**2*a.φ**2*cos(a.φ)**2 + a.r**2*a.φ**2)"
            ]
          },
          "metadata": {
            "tags": []
          },
          "execution_count": 38
        }
      ]
    },
    {
      "cell_type": "markdown",
      "metadata": {
        "id": "uj5evAWnf2p4",
        "colab_type": "text"
      },
      "source": [
        "####k) Obtenção da parte real de uma função vetorial"
      ]
    },
    {
      "cell_type": "code",
      "metadata": {
        "id": "SWuvqgcalyqm",
        "colab_type": "code",
        "colab": {}
      },
      "source": [
        "#@title  { form-width: \"400px\" }\n",
        "# ====================================== #\n",
        "# Caixa de configurações dependem do \n",
        "# sistema de coordenadas adotado e\n",
        "# do valor das variáveis.\n",
        "\n",
        "# Assinalando variáveis reais !\n",
        "r,θ,φ=sp.symbols('r,θ,φ', real=True)\n",
        "\n",
        "# substituição direta (esquerda --> direita)\n",
        "subs_a=[(a.r,r),\n",
        "        (a.θ,θ),\n",
        "        (a.φ,φ)]\n",
        "\n",
        "# substituição reversa ( esquerda --> direita)\n",
        "subs_a_rev=[(r,a.r),\n",
        "        (θ,a.θ),\n",
        "        (φ,a.φ)]\n",
        "a_subs=[subs_a,subs_a_rev,a]\n",
        "# ====================================== #\n",
        "\n",
        "def re_v(D,a_subs):\n",
        "  # D é o vetor a ser conjugado.\n",
        "  # subs_a é o assinalamento de variáveis reais.\n",
        "  # subs_a é a reatribuição dos objetos\n",
        "  # a é o sistema de referência.\n",
        "  D=D.to_matrix(a_subs[2]) # Não é o objeto em D que é atribuído.\n",
        "\n",
        "  # ---------------------------------------- #\n",
        "  D=sp.re(D.subs(a_subs[0]))\n",
        "  # ---------------------------------------- #\n",
        "\n",
        "  D=spv.matrix_to_vector(D,a_subs[2])\n",
        "  D=D.subs(a_subs[1])\n",
        "\n",
        "  return D "
      ],
      "execution_count": 0,
      "outputs": []
    },
    {
      "cell_type": "code",
      "metadata": {
        "id": "teT6VbvVmcO9",
        "colab_type": "code",
        "outputId": "447db3a7-218a-47f9-897d-be38e67b488d",
        "colab": {
          "base_uri": "https://localhost:8080/",
          "height": 0
        }
      },
      "source": [
        "re_v(K,a_subs)"
      ],
      "execution_count": 40,
      "outputs": [
        {
          "output_type": "execute_result",
          "data": {
            "text/latex": "$\\displaystyle (\\mathbf{{r}_{a}} \\mathbf{{φ}_{a}} \\sin{\\left(\\mathbf{{θ}_{a}} \\right)})\\mathbf{\\hat{θ_d}_{a}} + (\\mathbf{{r}_{a}} \\mathbf{{φ}_{a}} \\cos{\\left(\\mathbf{{φ}_{a}} \\right)})\\mathbf{\\hat{φ_d}_{a}}$",
            "text/plain": [
              "(a.r*a.φ*sin(a.θ))*a.θ_d + (a.r*a.φ*cos(a.φ))*a.φ_d"
            ]
          },
          "metadata": {
            "tags": []
          },
          "execution_count": 40
        }
      ]
    },
    {
      "cell_type": "markdown",
      "metadata": {
        "id": "791tAlUAhcyx",
        "colab_type": "text"
      },
      "source": [
        "####l) Obtenção da parte imaginária de uma função vetorial"
      ]
    },
    {
      "cell_type": "code",
      "metadata": {
        "id": "3bDA2Qi0mH7r",
        "colab_type": "code",
        "colab": {}
      },
      "source": [
        "#@title  { form-width: \"400px\" }\n",
        "# ====================================== #\n",
        "# Caixa de configurações dependem do \n",
        "# sistema de coordenadas adotado e\n",
        "# do valor das variáveis.\n",
        "\n",
        "# Assinalando variáveis reais !\n",
        "r,θ,φ=sp.symbols('r,θ,φ', real=True)\n",
        "\n",
        "# substituição direta (esquerda --> direita)\n",
        "subs_a=[(a.r,r),\n",
        "        (a.θ,θ),\n",
        "        (a.φ,φ)]\n",
        "\n",
        "# substituição reversa ( esquerda --> direita)\n",
        "subs_a_rev=[(r,a.r),\n",
        "        (θ,a.θ),\n",
        "        (φ,a.φ)]\n",
        "a_subs=[subs_a,subs_a_rev,a]\n",
        "# ====================================== #\n",
        "\n",
        "def im_v(D,a_subs):\n",
        "  # D é o vetor a ser conjugado.\n",
        "  # subs_a é o assinalamento de variáveis reais.\n",
        "  # subs_a é a reatribuição dos objetos\n",
        "  # a é o sistema de referência.\n",
        "  D=D.to_matrix(a_subs[2]) # Não é o objeto em D que é atribuído.\n",
        "\n",
        "  # ---------------------------------------- #\n",
        "  D=sp.im(D.subs(a_subs[0]))\n",
        "  # ---------------------------------------- #\n",
        "\n",
        "  D=spv.matrix_to_vector(D,a_subs[2])\n",
        "  D=D.subs(a_subs[1])\n",
        "\n",
        "  return D "
      ],
      "execution_count": 0,
      "outputs": []
    },
    {
      "cell_type": "code",
      "metadata": {
        "id": "iMaNVSFwmlKv",
        "colab_type": "code",
        "outputId": "348b45b8-494f-46a3-cbce-969bf932445f",
        "colab": {
          "base_uri": "https://localhost:8080/",
          "height": 0
        }
      },
      "source": [
        "im_v(K,a_subs)"
      ],
      "execution_count": 42,
      "outputs": [
        {
          "output_type": "execute_result",
          "data": {
            "text/latex": "$\\displaystyle (\\mathbf{{r}_{a}} \\mathbf{{φ}_{a}})\\mathbf{\\hat{r_d}_{a}}$",
            "text/plain": [
              "a.r*a.φ*a.r_d"
            ]
          },
          "metadata": {
            "tags": []
          },
          "execution_count": 42
        }
      ]
    }
  ]
}