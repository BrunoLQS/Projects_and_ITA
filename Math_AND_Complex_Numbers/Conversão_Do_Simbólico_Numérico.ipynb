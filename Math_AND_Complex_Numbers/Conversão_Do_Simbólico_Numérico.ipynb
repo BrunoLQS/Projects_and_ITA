{
  "nbformat": 4,
  "nbformat_minor": 0,
  "metadata": {
    "colab": {
      "name": "Conversão_Do_Simbólico_Numérico.ipynb",
      "provenance": [],
      "collapsed_sections": []
    },
    "kernelspec": {
      "name": "python3",
      "display_name": "Python 3"
    }
  },
  "cells": [
    {
      "cell_type": "markdown",
      "metadata": {
        "id": "EG7H6dlGfbeK",
        "colab_type": "text"
      },
      "source": [
        "# Este material tem como objetivo registrar a conversibilidade de expressões simbólicas Sympy, instrumento útil para manipulações analíticas, para funções numéricas em Numpy, instumento útil para representações gráficas e numéricas."
      ]
    },
    {
      "cell_type": "code",
      "metadata": {
        "id": "vmK8pDdz6oDx",
        "colab_type": "code",
        "colab": {}
      },
      "source": [
        "from sympy import *"
      ],
      "execution_count": 0,
      "outputs": []
    },
    {
      "cell_type": "code",
      "metadata": {
        "id": "cvuYTUz99A-w",
        "colab_type": "code",
        "colab": {}
      },
      "source": [
        "x=symbols('x')"
      ],
      "execution_count": 0,
      "outputs": []
    },
    {
      "cell_type": "code",
      "metadata": {
        "id": "LDSgQlv2AOhJ",
        "colab_type": "code",
        "colab": {}
      },
      "source": [
        "k=integrate(x**2+2j*x,x)"
      ],
      "execution_count": 0,
      "outputs": []
    },
    {
      "cell_type": "code",
      "metadata": {
        "id": "VlSL67dKEI-f",
        "colab_type": "code",
        "colab": {
          "base_uri": "https://localhost:8080/",
          "height": 33
        },
        "outputId": "026433b6-f78c-4bbf-9c87-2137de4225fa"
      },
      "source": [
        "k"
      ],
      "execution_count": 20,
      "outputs": [
        {
          "output_type": "execute_result",
          "data": {
            "text/plain": [
              "x**3/3 + 1.0*I*x**2"
            ]
          },
          "metadata": {
            "tags": []
          },
          "execution_count": 20
        }
      ]
    },
    {
      "cell_type": "code",
      "metadata": {
        "id": "ntsY5bOiAbKW",
        "colab_type": "code",
        "colab": {
          "base_uri": "https://localhost:8080/",
          "height": 33
        },
        "outputId": "b780dca8-43f6-434e-ba26-dc2691ad153c"
      },
      "source": [
        "b=k.subs(x,1.0)\n",
        "b"
      ],
      "execution_count": 40,
      "outputs": [
        {
          "output_type": "execute_result",
          "data": {
            "text/plain": [
              "0.0833333333333333 + 0.333333333333333*I"
            ]
          },
          "metadata": {
            "tags": []
          },
          "execution_count": 40
        }
      ]
    },
    {
      "cell_type": "code",
      "metadata": {
        "id": "jMhoJhpIBb4L",
        "colab_type": "code",
        "colab": {}
      },
      "source": [
        "from sympy.utilities.lambdify import lambdify, implemented_function\n",
        "#f = implemented_function('f', lambda x: k)\n",
        "#lam_f = lambdify(x, f(x))"
      ],
      "execution_count": 0,
      "outputs": []
    },
    {
      "cell_type": "markdown",
      "metadata": {
        "id": "MlMif4dsG77Y",
        "colab_type": "text"
      },
      "source": [
        "# Convertendo SYMPY expression to NUMPY function"
      ]
    },
    {
      "cell_type": "code",
      "metadata": {
        "id": "PI53No4QF43Y",
        "colab_type": "code",
        "colab": {}
      },
      "source": [
        "lam_f = lambdify(x, k)"
      ],
      "execution_count": 0,
      "outputs": []
    },
    {
      "cell_type": "markdown",
      "metadata": {
        "id": "ZvsHy4IuWOtP",
        "colab_type": "text"
      },
      "source": [
        "O resultado da função `lam_f` de entrada `x` terá o mesmo formato da entrada. Se for np.array, a saída será np.array; Se for variável simbólica, a saída será simbólica. Para aplicar sobre uma lista de valores, pode-se utilizar *list comprehension* ou um `for` com o operador `in`.\n",
        "\n",
        "\n",
        "\n",
        "---\n",
        "\n",
        "Uma alternativa é usar o mecanismo `subs` com *list comprehension* para alcançar o mesmo efeito.\n",
        "\n",
        "\n",
        "\n",
        "---\n",
        "\n",
        "\n"
      ]
    },
    {
      "cell_type": "markdown",
      "metadata": {
        "id": "nmm9yCiMdhk6",
        "colab_type": "text"
      },
      "source": [
        "To call a function like f(x, y) then [x, y] will be the first argument of the lambdify"
      ]
    },
    {
      "cell_type": "code",
      "metadata": {
        "id": "ilcBG85_YFrZ",
        "colab_type": "code",
        "colab": {}
      },
      "source": [
        "y=symbols('y')"
      ],
      "execution_count": 0,
      "outputs": []
    },
    {
      "cell_type": "code",
      "metadata": {
        "id": "98yTI3EUYaJX",
        "colab_type": "code",
        "colab": {
          "base_uri": "https://localhost:8080/",
          "height": 33
        },
        "outputId": "5495aee3-1b70-4a22-93de-20685647b037"
      },
      "source": [
        "[ lam_f(Input) for Input in [x,y]]"
      ],
      "execution_count": 50,
      "outputs": [
        {
          "output_type": "execute_result",
          "data": {
            "text/plain": [
              "[x**3/3 + 1.0*I*x**2, y**3/3 + 1.0*I*y**2]"
            ]
          },
          "metadata": {
            "tags": []
          },
          "execution_count": 50
        }
      ]
    },
    {
      "cell_type": "code",
      "metadata": {
        "id": "ZSVnqu9abdH6",
        "colab_type": "code",
        "colab": {
          "base_uri": "https://localhost:8080/",
          "height": 133
        },
        "outputId": "f765391a-0e0e-4c16-a958-4e98241da641"
      },
      "source": [
        "A=complex(k.subs(x,1.0))\n",
        "print(A)\n",
        "print(type(A))\n",
        "print(\"\\n\\n\")\n",
        "B=1+1j\n",
        "print(B)\n",
        "print(type(B))"
      ],
      "execution_count": 78,
      "outputs": [
        {
          "output_type": "stream",
          "text": [
            "(0.08333333333333333+0.3333333333333333j)\n",
            "<class 'complex'>\n",
            "\n",
            "\n",
            "\n",
            "(1+1j)\n",
            "<class 'complex'>\n"
          ],
          "name": "stdout"
        }
      ]
    },
    {
      "cell_type": "code",
      "metadata": {
        "id": "GOIHXGXmLoI2",
        "colab_type": "code",
        "colab": {
          "base_uri": "https://localhost:8080/",
          "height": 33
        },
        "outputId": "ee3e503f-05ba-4b6e-cc9f-b0adeb625613"
      },
      "source": [
        "type(lam_f)"
      ],
      "execution_count": 34,
      "outputs": [
        {
          "output_type": "execute_result",
          "data": {
            "text/plain": [
              "function"
            ]
          },
          "metadata": {
            "tags": []
          },
          "execution_count": 34
        }
      ]
    },
    {
      "cell_type": "code",
      "metadata": {
        "id": "GXWmNBnoKZCO",
        "colab_type": "code",
        "colab": {}
      },
      "source": [
        "import numpy as np\n",
        "lam_f(np.array([1.0 , 2.0]))"
      ],
      "execution_count": 0,
      "outputs": []
    },
    {
      "cell_type": "code",
      "metadata": {
        "id": "2cRCNTvdLr42",
        "colab_type": "code",
        "colab": {
          "base_uri": "https://localhost:8080/",
          "height": 50
        },
        "outputId": "5f89031c-c8ae-4f0e-e617-6a84c44c2889"
      },
      "source": [
        "print(lam_f(np.array([1.0 , 2.0])))\n",
        "print(type(lam_f(np.array([1.0 , 2.0]))))"
      ],
      "execution_count": 80,
      "outputs": [
        {
          "output_type": "stream",
          "text": [
            "[0.33333333+1.j 2.66666667+4.j]\n",
            "<class 'numpy.ndarray'>\n"
          ],
          "name": "stdout"
        }
      ]
    },
    {
      "cell_type": "code",
      "metadata": {
        "id": "0U1lTFqbKSZF",
        "colab_type": "code",
        "colab": {}
      },
      "source": [
        "kk=integrate(lam_f(x),x)"
      ],
      "execution_count": 0,
      "outputs": []
    },
    {
      "cell_type": "code",
      "metadata": {
        "id": "ql89EqOeKlQs",
        "colab_type": "code",
        "colab": {
          "base_uri": "https://localhost:8080/",
          "height": 33
        },
        "outputId": "5bf6e426-334c-46a3-849f-9e09f7b948b6"
      },
      "source": [
        "kk"
      ],
      "execution_count": 33,
      "outputs": [
        {
          "output_type": "execute_result",
          "data": {
            "text/plain": [
              "x**4/12 + 0.333333333333333*I*x**3"
            ]
          },
          "metadata": {
            "tags": []
          },
          "execution_count": 33
        }
      ]
    },
    {
      "cell_type": "code",
      "metadata": {
        "id": "mEiCZKT0V_bd",
        "colab_type": "code",
        "colab": {
          "base_uri": "https://localhost:8080/",
          "height": 33
        },
        "outputId": "11c0441a-bd05-43e6-9c36-4e446266e93d"
      },
      "source": [
        "lam_f(x)"
      ],
      "execution_count": 42,
      "outputs": [
        {
          "output_type": "execute_result",
          "data": {
            "text/plain": [
              "x**3/3 + 1.0*I*x**2"
            ]
          },
          "metadata": {
            "tags": []
          },
          "execution_count": 42
        }
      ]
    }
  ]
}