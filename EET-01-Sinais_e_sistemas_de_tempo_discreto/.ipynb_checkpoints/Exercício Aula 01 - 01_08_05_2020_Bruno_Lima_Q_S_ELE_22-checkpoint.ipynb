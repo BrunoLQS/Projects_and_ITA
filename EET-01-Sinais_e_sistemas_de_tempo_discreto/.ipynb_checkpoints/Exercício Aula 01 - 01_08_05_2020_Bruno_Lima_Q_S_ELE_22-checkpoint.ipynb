{
 "cells": [
  {
   "cell_type": "markdown",
   "metadata": {},
   "source": [
    "## EET-01-Sinais e sistemas de tempo discreto\n",
    "\n",
    "\n",
    "### Aluno: Bruno Lima Queiroz Santos\n"
   ]
  },
  {
   "cell_type": "markdown",
   "metadata": {},
   "source": [
    "#### Exercício Aula 01 - 01"
   ]
  },
  {
   "cell_type": "markdown",
   "metadata": {},
   "source": [
    "a) Representar graficamente as sequências básicas apresentadas na Aula 01 com a função \"stem\" do matlab (ou GNU Octave)."
   ]
  },
  {
   "cell_type": "markdown",
   "metadata": {},
   "source": [
    "A)Sequência pulso unitário, impulso de tempo discreto, ou impulso.\n",
    "\n",
    "i) \n",
    "\n",
    "$$\\delta[n]=\\begin{cases} 0, & \\mbox{if } n \\neq 0 \\\\ 1, & \\mbox{if } n = 0\\end{cases}$$"
   ]
  },
  {
   "cell_type": "code",
   "execution_count": 1,
   "metadata": {},
   "outputs": [],
   "source": [
    "import numpy as np"
   ]
  },
  {
   "cell_type": "code",
   "execution_count": 39,
   "metadata": {},
   "outputs": [],
   "source": [
    "\" Perfil do tempo (domínio) do sinal\"\n",
    "N=16\n",
    "From=-7\n",
    "To=From+(N-1)\n",
    "\n",
    "\" Formato do dado na forma de vetor \"\n",
    "x=np.linspace(start=From,\n",
    "              stop=To,\n",
    "              num=N\n",
    "             )\n",
    "\"\"\" Returns \n",
    "num evenly spaced samples, \n",
    "calculated over the interval [start, stop]. \"\"\"\n",
    "\n",
    "\n",
    "\n",
    "\" Formato do sinal na forma de vetor \"\n",
    "\n",
    "y=np.zeros(shape=(N))\n",
    "\n",
    "\n",
    "X=np.array([0])\n",
    "\n",
    "\" y e x estão relacionados por uma mesma indexação \"\n",
    "\n",
    "for i in X :\n",
    "    y[\n",
    "        np.where(\n",
    "            x==i\n",
    "        )[0]\n",
    "    ]=1.0"
   ]
  },
  {
   "cell_type": "code",
   "execution_count": 4,
   "metadata": {},
   "outputs": [],
   "source": [
    "import matplotlib.pyplot as plt"
   ]
  },
  {
   "cell_type": "code",
   "execution_count": 40,
   "metadata": {},
   "outputs": [
    {
     "data": {
      "image/png": "[encoded data removed]",
      "text/plain": [
       "<Figure size 432x288 with 1 Axes>"
      ]
     },
     "metadata": {
      "needs_background": "light"
     },
     "output_type": "display_data"
    },
    {
     "name": "stdout",
     "output_type": "stream",
     "text": [
      "Figura 1 representa a função do item i)\n"
     ]
    }
   ],
   "source": [
    "markerline, stemlines, baseline=plt.stem(x,\n",
    "                                         y,\n",
    "                                         markerfmt='or',\n",
    "                                         linefmt='-r',\n",
    "                                         basefmt=\"k\")\n",
    "#basefmt=\" \" oculta a baseline\n",
    "#markerline.set_markerfacecolor('none')\n",
    "plt.title('Sequência impulso')\n",
    "plt.ylabel('y')\n",
    "plt.xlabel('t')\n",
    "plt.show()\n",
    "\n",
    "print(\"Figura 1 representa a função do item i)\")"
   ]
  },
  {
   "cell_type": "markdown",
   "metadata": {},
   "source": [
    "ii) Segunda sequência pulso unitário, impulso de tempo discreto, ou impulso.\n",
    "\n",
    "$$\\rho[n]=\\begin{cases} 0, & \\mbox{if } n \\neq (-3,1,2,7) \\\\ 1, & \\mbox{if } n = (-3,1,2,7)\\end{cases}$$\n",
    "\n",
    "ou,\n",
    "\n",
    "$$\\rho[n]=a_{-3}\\delta[n+3]+\n",
    "a_{1}\\delta[n-1]+\n",
    "a_{2}\\delta[n-2]+\n",
    "a_{7}\\delta[n-7]$$"
   ]
  },
  {
   "cell_type": "markdown",
   "metadata": {},
   "source": [
    "**Cuidado**, o pacote abaixo não possui suporte para Windows. Apenas até a versão 2.9.4 há o bom funcionamento nesse sistema operacional. Ela encontra-se atualmente disponível pelo anaconda. (Basta incluir adequadamente a pasta rpy2 referente a essa versão no diretório do Python)."
   ]
  },
  {
   "cell_type": "markdown",
   "metadata": {},
   "source": [
    "A seguir, utiliza-se `R` para a resolução do problema. (Obviamente é um requisito ter essa linguagem também)."
   ]
  },
  {
   "cell_type": "code",
   "execution_count": 49,
   "metadata": {},
   "outputs": [
    {
     "data": {
      "image/png": "[encoded data removed]",
      "text/plain": [
       "<IPython.core.display.Image object>"
      ]
     },
     "metadata": {
      "image/png": {
       "height": 400,
       "width": 400
      }
     },
     "output_type": "display_data"
    },
    {
     "name": "stdout",
     "output_type": "stream",
     "text": [
      "figura 2 Sequência ii)\n"
     ]
    }
   ],
   "source": [
    "import rpy2.rinterface as ri\n",
    "ri.initr()\n",
    "#rr=ri.parse\n",
    "\n",
    "rb=ri.baseenv\n",
    "rg=ri.globalenv\n",
    "rs=ri.StrSexpVector\n",
    "rp=rb.get(\"parse\")\n",
    "re=rb[\"eval\"]\n",
    "\n",
    "\"\"\"~~~~~~~~~~~~~~~~~~~~~~~~~~~~~~~~\"\"\"\n",
    "\n",
    "filename=ri.StrSexpVector([\"\"]) \n",
    "n=ri.IntSexpVector([\"-1\"]) \n",
    "\"\"\"~~~~~~~~~~~~~~~~~~~~~~~~~~~~~~~~\"\"\"\n",
    "\n",
    "\"\"\" Estruturação da função \"\"\"\n",
    "\n",
    "\"\"\" ########################################      \"\"\"\n",
    "\n",
    "                # Código R #\n",
    "# ===================================================== #\n",
    "\n",
    "text=ri.StrSexpVector([\"\"\"\n",
    "#The function\n",
    "stem <- function(x,y,pch=16,linecol=1,clinecol=1,...){\n",
    "    if (missing(y)){\n",
    "        y = x\n",
    "        x = 1:length(x) \n",
    "    }\n",
    "    plot(x,y,pch=pch,...)\n",
    "    for (i in 1:length(x)){\n",
    "       lines(c(x[i],x[i]), c(0,y[i]),col=linecol)\n",
    "    }\n",
    "    lines(c(x[1]-2,x[length(x)]+2), c(0,0),col=clinecol)\n",
    "}\n",
    "\"\"\"])\n",
    "\n",
    "# ===================================================== #\n",
    "\n",
    "\"\"\" ########################################      \"\"\"\n",
    "\n",
    "\n",
    "k=rp(filename,n,text)\n",
    "k=re(k) \n",
    "\n",
    "\n",
    "\"\"\" ---------------------------------------------- \"\"\"\n",
    "\n",
    "\n",
    "\"\"\" Execução  \"\"\"\n",
    "\n",
    "\"\"\" ########################################      \"\"\"\n",
    "\n",
    "                # Código R #\n",
    "# ===================================================== #\n",
    "text=ri.StrSexpVector([\"\"\"                 \n",
    "#An example\n",
    "x <- seq(-4, 8, by = 1)\n",
    "#y <- seq(0,0,length.out=13)\n",
    "y <- rep(0,13)\n",
    "Y<-c(2,4,−2,−1.5) \n",
    "#Y<- as.numeric(c(2.0,4.0,-2.0,-1.5))\n",
    "X<-which(x %in% c(-3,1,2,7)) #match(c(-3,1,2,7),x)\n",
    "for (i in seq(1,length(Y),by=1))\n",
    "{\n",
    "    y[X[i]]<-Y[i]\n",
    "}\n",
    "png(file=\"fileName1.png\")\n",
    "stem(x,y,col=4,\n",
    "    linecol=4,clinecol=2,\n",
    "    main=\"Impulso de tempo discreto\",\n",
    "    xlab=\"t\"\n",
    ")\n",
    "dev.off()\n",
    "\"\"\"])\n",
    "\n",
    "\n",
    "# ===================================================== #\n",
    "\n",
    "\"\"\" ########################################      \"\"\"\n",
    "\n",
    "k=re(\n",
    "    rp(filename,n,text)\n",
    ")\n",
    "\n",
    "\"\"\" ---------------------------------------------- \"\"\"\n",
    "\n",
    "\n",
    "from IPython.display import Image,display\n",
    "\n",
    "i1=Image(filename='fileName1.png',width=400,height =400)\n",
    "display(i1)\n",
    "\n",
    "v=2\n",
    "print(\"figura %d\" %(v), \"Sequência ii)\")\n",
    "v+=1    \n",
    "\n",
    "\"\"\" ########################################      \"\"\"\n",
    "\n",
    "                # Código R #\n",
    "# ===================================================== #\n",
    "\n",
    "text=rs([\"\"\"                 \n",
    "unlink(\"fileName1.png\")\n",
    "\"\"\"])\n",
    "\n",
    "# ===================================================== #\n",
    "\n",
    "\"\"\" ########################################      \"\"\"\n",
    "\n",
    "k=re(\n",
    "    rp(filename,n,text)\n",
    ")"
   ]
  },
  {
   "cell_type": "markdown",
   "metadata": {},
   "source": [
    "O código em `R` para a função `stem` é disponibilizado por meio dos links [1](https://www.r-bloggers.com/matlab-style-stem-plot-with-r/) e [2](http://mpastell.com/2009/09/11/matlab-style-stem-plot-with-r/)."
   ]
  },
  {
   "cell_type": "markdown",
   "metadata": {},
   "source": [
    "B) Sequência degrau unitário "
   ]
  },
  {
   "cell_type": "markdown",
   "metadata": {},
   "source": [
    "$$u[n]=\\begin{cases} 1, & \\mbox{if } n \\geq 0 \\\\ 0, & \\mbox{if } n < 0\\end{cases}$$"
   ]
  },
  {
   "cell_type": "code",
   "execution_count": 47,
   "metadata": {},
   "outputs": [
    {
     "data": {
      "image/png": "[encoded data removed]",
      "text/plain": [
       "<Figure size 432x288 with 1 Axes>"
      ]
     },
     "metadata": {
      "needs_background": "light"
     },
     "output_type": "display_data"
    },
    {
     "name": "stdout",
     "output_type": "stream",
     "text": [
      "Figura 3 representa a função do item B)\n"
     ]
    }
   ],
   "source": [
    "\" Perfil do tempo (domínio) do sinal\"\n",
    "N=14\n",
    "From=-6\n",
    "To=From+(N-1)\n",
    "\n",
    "\" Formato do dado na forma de vetor \"\n",
    "x=np.linspace(start=From,\n",
    "              stop=To,\n",
    "              num=N\n",
    "             )\n",
    "\n",
    "\n",
    "\n",
    "\n",
    "\" Formato do sinal na forma de vetor \"\n",
    "\n",
    "y=np.zeros(shape=(N))\n",
    "\n",
    "X=np.arange(0,8,1)\n",
    "\n",
    "\" y e x estão relacionados por uma mesma indexação \"\n",
    "\n",
    "# no Python, não há um recurso igual ao match\n",
    "for i in X :\n",
    "    y[\n",
    "        np.where(\n",
    "            x==i\n",
    "        )[0]\n",
    "    ]=1.0\n",
    "\n",
    "# corrigiram-se os valores de y nos índices em que os valores\n",
    "# do tempo requerem valor de y não nulo.\n",
    "\n",
    "#import matplotlib.pyplot as plt\n",
    "\n",
    "markerline, stemlines, baseline=plt.stem(x,\n",
    "                                         y,\n",
    "                                         markerfmt='or',\n",
    "                                         linefmt='-r',\n",
    "                                         basefmt=\"k\")\n",
    "#basefmt=\" \" oculta a baseline\n",
    "#markerline.set_markerfacecolor('none')\n",
    "plt.title('Sequência degrau unitário')\n",
    "plt.ylabel('y')\n",
    "plt.xlabel('t')\n",
    "\n",
    "plt.show()\n",
    "\n",
    "print(\"Figura 3 representa a função do item B)\")"
   ]
  },
  {
   "cell_type": "markdown",
   "metadata": {},
   "source": [
    "C) Sequência exponencial\n",
    "\n",
    "$$y[n]=A\\alpha^{n}u[n]$$"
   ]
  },
  {
   "cell_type": "markdown",
   "metadata": {},
   "source": [
    "C.1) $0<\\alpha<1$ e $A>0$\n",
    "\n",
    "Nesse caso, é esperado que os valores da sequência sejam positivos e decresçam com o aumento de $n$.\n",
    "\n",
    "Digamos $\\alpha=0.9 , A=2.0$"
   ]
  },
  {
   "cell_type": "code",
   "execution_count": 52,
   "metadata": {},
   "outputs": [
    {
     "data": {
      "image/png": "[encoded data removed]",
      "text/plain": [
       "<Figure size 432x288 with 1 Axes>"
      ]
     },
     "metadata": {
      "needs_background": "light"
     },
     "output_type": "display_data"
    },
    {
     "name": "stdout",
     "output_type": "stream",
     "text": [
      "Figura 4 representa a função do item C.1)\n"
     ]
    }
   ],
   "source": [
    "\" Perfil do tempo (domínio) do sinal\"\n",
    "N=14\n",
    "From=-6\n",
    "To=From+(N-1)\n",
    "\n",
    "\" Formato do dado na forma de vetor \"\n",
    "x=np.linspace(start=From,\n",
    "              stop=To,\n",
    "              num=N\n",
    "             )\n",
    "\n",
    "\n",
    "\n",
    "\n",
    "\" Formato do sinal na forma de vetor \"\n",
    "\n",
    "u=np.zeros(shape=(N))\n",
    "\n",
    "X=np.arange(0,N,1)\n",
    "\n",
    "\" y e x estão relacionados por uma mesma indexação \"\n",
    "\n",
    "# no Python, não há um recurso igual ao match\n",
    "for i in X :\n",
    "    u[\n",
    "        np.where(\n",
    "            x==i\n",
    "        )[0]\n",
    "    ]=1.0\n",
    "    \n",
    "for i in np.arange(0,N,1):\n",
    "    u[i]=2.0*u[i]*(0.9**x[i])\n",
    "y=u\n",
    "\n",
    "\n",
    "markerline, stemlines, baseline=plt.stem(x,\n",
    "                                         y,\n",
    "                                         markerfmt='or',\n",
    "                                         linefmt='-r',\n",
    "                                         basefmt=\"k\")\n",
    "#basefmt=\" \" oculta a baseline\n",
    "#markerline.set_markerfacecolor('none')\n",
    "plt.title('Sequência exponencial sobre degrau unitário')\n",
    "plt.ylabel('y')\n",
    "plt.xlabel('t')\n",
    "\n",
    "plt.show()\n",
    "\n",
    "print(\"Figura 4 representa a função do item C.1)\")\n"
   ]
  },
  {
   "cell_type": "markdown",
   "metadata": {},
   "source": [
    "C.2) $-1<\\alpha<0$ e $A\\neq0$\n",
    "\n",
    "Nesse caso, é esperado que os valores da sequência sejam alternantes entre números positivos e negativos, e que decresçam sua magnitude com o aumento de $n$.\n",
    "\n",
    "\n",
    "Digamos $\\alpha=-0.9 , A=2.0$"
   ]
  },
  {
   "cell_type": "code",
   "execution_count": 55,
   "metadata": {},
   "outputs": [
    {
     "data": {
      "image/png": "[encoded data removed]",
      "text/plain": [
       "<Figure size 432x288 with 1 Axes>"
      ]
     },
     "metadata": {
      "needs_background": "light"
     },
     "output_type": "display_data"
    },
    {
     "name": "stdout",
     "output_type": "stream",
     "text": [
      "Figura 5 representa a função do item C.2)\n"
     ]
    }
   ],
   "source": [
    "\" Perfil do tempo (domínio) do sinal\"\n",
    "N=14\n",
    "From=-6\n",
    "To=From+(N-1)\n",
    "\n",
    "\" Formato do dado na forma de vetor \"\n",
    "x=np.linspace(start=From,\n",
    "              stop=To,\n",
    "              num=N\n",
    "             )\n",
    "\n",
    "\n",
    "\n",
    "\n",
    "\" Formato do sinal na forma de vetor \"\n",
    "\n",
    "u=np.zeros(shape=(N))\n",
    "\n",
    "X=np.arange(0,N,1)\n",
    "\n",
    "\" y e x estão relacionados por uma mesma indexação \"\n",
    "\n",
    "# no Python, não há um recurso igual ao match\n",
    "for i in X :\n",
    "    u[\n",
    "        np.where(\n",
    "            x==i\n",
    "        )[0]\n",
    "    ]=1.0\n",
    "    \n",
    "for i in np.arange(0,N,1):\n",
    "    u[i]=2.0*u[i]*((-0.9)**x[i])\n",
    "y=u\n",
    "\n",
    "\n",
    "markerline, stemlines, baseline=plt.stem(x,\n",
    "                                         y,\n",
    "                                         markerfmt='or',\n",
    "                                         linefmt='-r',\n",
    "                                         basefmt=\"k\")\n",
    "#basefmt=\" \" oculta a baseline\n",
    "#markerline.set_markerfacecolor('none')\n",
    "plt.title('Sequência exponencial sobre degrau unitário')\n",
    "plt.ylabel('y')\n",
    "plt.xlabel('t')\n",
    "\n",
    "plt.show()\n",
    "\n",
    "print(\"Figura 5 representa a função do item C.2)\")\n"
   ]
  },
  {
   "cell_type": "markdown",
   "metadata": {},
   "source": [
    "C.3) $\\alpha>1$ e $A\\neq0$\n",
    "\n",
    "Nesse caso, é esperado que a magnitude dos valores da sequência cresça com o aumento de $n$.\n",
    "\n",
    "Digamos $\\alpha=1.5 , A=2.0$"
   ]
  },
  {
   "cell_type": "code",
   "execution_count": 57,
   "metadata": {},
   "outputs": [
    {
     "data": {
      "image/png": "[encoded data removed]",
      "text/plain": [
       "<Figure size 432x288 with 1 Axes>"
      ]
     },
     "metadata": {
      "needs_background": "light"
     },
     "output_type": "display_data"
    },
    {
     "name": "stdout",
     "output_type": "stream",
     "text": [
      "Figura 6 representa a função do item C.3)\n"
     ]
    }
   ],
   "source": [
    "\" Perfil do tempo (domínio) do sinal\"\n",
    "N=14\n",
    "From=-6\n",
    "To=From+(N-1)\n",
    "\n",
    "\" Formato do dado na forma de vetor \"\n",
    "x=np.linspace(start=From,\n",
    "              stop=To,\n",
    "              num=N\n",
    "             )\n",
    "\n",
    "\n",
    "\n",
    "\n",
    "\" Formato do sinal na forma de vetor \"\n",
    "\n",
    "u=np.zeros(shape=(N))\n",
    "\n",
    "X=np.arange(0,N,1)\n",
    "\n",
    "\" y e x estão relacionados por uma mesma indexação \"\n",
    "\n",
    "# no Python, não há um recurso igual ao match\n",
    "for i in X :\n",
    "    u[\n",
    "        np.where(\n",
    "            x==i\n",
    "        )[0]\n",
    "    ]=1.0\n",
    "    \n",
    "for i in np.arange(0,N,1):\n",
    "    u[i]=2.0*u[i]*((1.5)**x[i])\n",
    "y=u\n",
    "\n",
    "\n",
    "markerline, stemlines, baseline=plt.stem(x,\n",
    "                                         y,\n",
    "                                         markerfmt='or',\n",
    "                                         linefmt='-r',\n",
    "                                         basefmt=\"k\")\n",
    "#basefmt=\" \" oculta a baseline\n",
    "#markerline.set_markerfacecolor('none')\n",
    "plt.title('Sequência exponencial sobre degrau unitário')\n",
    "plt.ylabel('y')\n",
    "plt.xlabel('t')\n",
    "\n",
    "plt.show()\n",
    "\n",
    "print(\"Figura 6 representa a função do item C.3)\")"
   ]
  },
  {
   "cell_type": "markdown",
   "metadata": {},
   "source": [
    "C.4) $\\alpha<-1$ e $A\\neq0$\n",
    "\n",
    "Nesse caso, é esperado que a magnitude dos valores da sequência cresça com o aumento de $n$.\n",
    "\n",
    "Digamos $\\alpha=-1.5 , A=2.0$"
   ]
  },
  {
   "cell_type": "code",
   "execution_count": 58,
   "metadata": {},
   "outputs": [
    {
     "data": {
      "image/png": "[encoded data removed]",
      "text/plain": [
       "<Figure size 432x288 with 1 Axes>"
      ]
     },
     "metadata": {
      "needs_background": "light"
     },
     "output_type": "display_data"
    },
    {
     "name": "stdout",
     "output_type": "stream",
     "text": [
      "Figura 7 representa a função do item C.4)\n"
     ]
    }
   ],
   "source": [
    "\" Perfil do tempo (domínio) do sinal\"\n",
    "N=14\n",
    "From=-6\n",
    "To=From+(N-1)\n",
    "\n",
    "\" Formato do dado na forma de vetor \"\n",
    "x=np.linspace(start=From,\n",
    "              stop=To,\n",
    "              num=N\n",
    "             )\n",
    "\n",
    "\n",
    "\n",
    "\n",
    "\" Formato do sinal na forma de vetor \"\n",
    "\n",
    "u=np.zeros(shape=(N))\n",
    "\n",
    "X=np.arange(0,N,1)\n",
    "\n",
    "\" y e x estão relacionados por uma mesma indexação \"\n",
    "\n",
    "# no Python, não há um recurso igual ao match\n",
    "for i in X :\n",
    "    u[\n",
    "        np.where(\n",
    "            x==i\n",
    "        )[0]\n",
    "    ]=1.0\n",
    "    \n",
    "for i in np.arange(0,N,1):\n",
    "    u[i]=2.0*u[i]*((1.5)**x[i])\n",
    "y=u\n",
    "\n",
    "\n",
    "markerline, stemlines, baseline=plt.stem(x,\n",
    "                                         y,\n",
    "                                         markerfmt='or',\n",
    "                                         linefmt='-r',\n",
    "                                         basefmt=\"k\")\n",
    "#basefmt=\" \" oculta a baseline\n",
    "#markerline.set_markerfacecolor('none')\n",
    "plt.title('Sequência exponencial sobre degrau unitário')\n",
    "plt.ylabel('y')\n",
    "plt.xlabel('t')\n",
    "\n",
    "plt.show()\n",
    "\n",
    "print(\"Figura 7 representa a função do item C.4)\")"
   ]
  }
 ],
 "metadata": {
  "kernelspec": {
   "display_name": "Python 3",
   "language": "python",
   "name": "python3"
  },
  "language_info": {
   "codemirror_mode": {
    "name": "ipython",
    "version": 3
   },
   "file_extension": ".py",
   "mimetype": "text/x-python",
   "name": "python",
   "nbconvert_exporter": "python",
   "pygments_lexer": "ipython3",
   "version": "3.7.3"
  }
 },
 "nbformat": 4,
 "nbformat_minor": 2
}
