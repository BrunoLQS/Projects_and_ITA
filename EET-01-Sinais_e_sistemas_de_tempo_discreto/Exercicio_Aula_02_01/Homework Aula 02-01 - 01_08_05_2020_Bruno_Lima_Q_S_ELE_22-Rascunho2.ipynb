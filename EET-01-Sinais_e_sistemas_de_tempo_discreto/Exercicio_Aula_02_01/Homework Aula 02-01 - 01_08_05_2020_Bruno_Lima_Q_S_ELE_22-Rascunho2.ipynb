{
 "cells": [
  {
   "cell_type": "markdown",
   "metadata": {},
   "source": [
    "## EET-01-Sinais e sistemas de tempo discreto\n",
    "\n",
    "\n",
    "### Aluno: Bruno Lima Queiroz Santos"
   ]
  },
  {
   "cell_type": "markdown",
   "metadata": {},
   "source": [
    "#### Exercício Aula 02 - 01"
   ]
  },
  {
   "cell_type": "markdown",
   "metadata": {},
   "source": [
    "a) Obtenha y[n], usando o matlab (ou octave), para o exemplo de convolução apresentado em sala de aula."
   ]
  },
  {
   "cell_type": "markdown",
   "metadata": {},
   "source": [
    "`%%writefile -a header_rpy2.py` seria ideal para apendar, mas será melhor sem o flag para manter apenas o necessário escrito durante uma possível série de execuções."
   ]
  },
  {
   "cell_type": "markdown",
   "metadata": {},
   "source": [
    "*Observação:* As funções definidas dentro de um file usado como *módulo* conseguem acessar os valores das variáveis do seu file sem a necessidade de passagem como argumento. O outro bônus é que as correspondências definidas no file usado como *módulo* são imutáveis para as funções definidas no próprio *módulo*."
   ]
  },
  {
   "cell_type": "code",
   "execution_count": 1,
   "metadata": {},
   "outputs": [
    {
     "name": "stdout",
     "output_type": "stream",
     "text": [
      "Writing header_rpy2.py\n"
     ]
    }
   ],
   "source": [
    "%%writefile header_rpy2.py\n",
    "\n",
    "import rpy2.rinterface as ri\n",
    "#import os\n",
    "\n",
    "ri.initr()\n",
    "\n",
    "rb=ri.baseenv\n",
    "rg=ri.globalenv\n",
    "rs=ri.StrSexpVector\n",
    "rp=rb.get(\"parse\")\n",
    "re=rb[\"eval\"]\n",
    "rint=ri.IntSexpVector\n",
    "\n",
    "\"\"\"~~~~~~~~~~~~~~~~~~~~~~~~~~~~~~~~\"\"\"\n",
    "\n",
    "filename=rs([\"\"]) \n",
    "n=rint([\"-1\"]) \n",
    "\n",
    "\"\"\"~~~~~~~~~~~~~~~~~~~~~~~~~~~~~~~~\"\"\"\n",
    "\n",
    "# comentários denotam cuidados\n",
    "# tomados se fosse uma declaração\n",
    "# fora de um script que não é módulo\n",
    "def r(text): \n",
    "    #rs=ri.StrSexpVector\n",
    "    text=rs([text])\n",
    "    #filename=rs([\"\"]) \n",
    "    #n=rint([\"-1\"]) \n",
    "    k=re(\n",
    "        rp(filename,n,text)\n",
    "    )\n",
    "    return None\n",
    "\n",
    "\n",
    "# função de auto destruição do file módulo.\n",
    "def endR():\n",
    "    'os.remove(\"header_rpy2.py\")'\n",
    "    #ri.endr()\n",
    "    r(\"\"\"\n",
    "        unlink(\"header_rpy2.py\")\n",
    "    \"\"\")\n",
    "    return None\n",
    "\n",
    "\n",
    "# caso se sinta à vontade, pode eliminá-lo logo,\n",
    "# pois as informações já foram transmitidas para o console.\n",
    "#os.remove(\"header_rpy2.py\")\n",
    "\n",
    "\n",
    "r(\"\"\"\n",
    "unlink(\"header_rpy2.py\")\n",
    "\"\"\")\n",
    "\n",
    "# without os.\n",
    "\n",
    "\n",
    "\n",
    "### Poderiam ter sido usadas classes."
   ]
  },
  {
   "cell_type": "markdown",
   "metadata": {},
   "source": [
    "Os códigos foram anotados dessa forma para explicitar o conteúdo."
   ]
  },
  {
   "cell_type": "code",
   "execution_count": 2,
   "metadata": {},
   "outputs": [],
   "source": [
    "from header_rpy2 import *"
   ]
  },
  {
   "cell_type": "markdown",
   "metadata": {},
   "source": [
    "Normalmente, não é perigoso reexecutar o código acima, mesmo que o arquivo tenha sido destruído, pois a variável ainda armazena o objeto. Dessa forma, as definições podem ser redefinidas, o que pode ser valioso diante de um conflito entre as definições ocorridas ao longo do programa."
   ]
  },
  {
   "cell_type": "code",
   "execution_count": 3,
   "metadata": {},
   "outputs": [],
   "source": [
    "r(\"\"\"\n",
    "from<- -25\n",
    "to <- 25\n",
    "N <- to- from +1\n",
    "\n",
    "\n",
    "# x_v <---> Indice <----> t_v\n",
    "# valores de x_t onde ocorre x_v não nulos\n",
    "t<-c(-2,0,3)\n",
    "# valores de x_v não nulos na ordem crescente de t\n",
    "x<-c(1.5, 2.3, -2.3)\n",
    "\n",
    "\n",
    "# domínio do gráfico\n",
    "t_v<-seq(from,to,by=1)\n",
    "\n",
    "#x_v = 0 0 0 0 ... 0 0\n",
    "x_v<-rep(0,N)\n",
    "\n",
    "\n",
    "\n",
    "# x_v <---> Indice <----> t_v\n",
    "\n",
    "\n",
    "\n",
    "#########################################\n",
    "# removendo o primeiro elemento da lista:\n",
    "# x<-x[-1]\n",
    "#########################################\n",
    "\n",
    "\n",
    "#____________ DISTINÇÃO DO R ________________          #\n",
    "\n",
    "# x_v <---> Indice <----> t_v                          #\n",
    "#            get a list of index of values #           #\n",
    "T<-which(t_v %in% t) # vetor dos índices de interesse  #\n",
    "\n",
    "# >>>>>>>>>>>>>>>>>>>>>>>>>>>>>>>>>>>>>>>>>>>          #\n",
    "# Cópia vetorizada de um vetor para outro:             #\n",
    "# Copy part of a vector in a part of another one       #\n",
    "\n",
    "x_v[T]<-x\n",
    " \n",
    "# <<<<<<<<<<<<<<<<<<<<<<<<<<<<<<<<<<<<<<<<<<<          #\n",
    "#_____________________________________________         #\n",
    "\n",
    "\n",
    "\n",
    "\"\"\")"
   ]
  },
  {
   "cell_type": "code",
   "execution_count": 4,
   "metadata": {},
   "outputs": [],
   "source": [
    "r(\"\"\"\n",
    "discrete_signal<-function(t_v,t,x){\n",
    "  #x_v = 0 0 0 0 ... 0 0\n",
    "  x_v<-rep(0,N) \n",
    "  # x_v <---> Indice <----> t_v                          #\n",
    "  #            get a list of index of values #           #\n",
    "  T<-which(t_v %in% t) # vetor dos índices de interesse  # \n",
    "  x_v[T]<-x # Cópia vetorizada de um vetor para outro:   #\n",
    "  return(x_v)\n",
    "}\n",
    "\"\"\")"
   ]
  },
  {
   "cell_type": "code",
   "execution_count": 5,
   "metadata": {},
   "outputs": [],
   "source": [
    "r(\"\"\"\n",
    "# domínio do gráfico\n",
    "\n",
    "from<- -25\n",
    "to <- 25\n",
    "N <- to- from +1\n",
    "t_v<-seq(from,to,by=1)\n",
    "\n",
    "# valores de x_t onde ocorre x_v não nulos\n",
    "t<-c(-2,0,3)\n",
    "\n",
    "# valores de x_v não nulos na ordem crescente de t\n",
    "x<-c(1.5, 2.3, -2.3)\n",
    "\n",
    "\n",
    "\n",
    "x_v<-discrete_signal(t_v,t,x)\n",
    "\"\"\")"
   ]
  },
  {
   "cell_type": "code",
   "execution_count": 6,
   "metadata": {},
   "outputs": [
    {
     "name": "stdout",
     "output_type": "stream",
     "text": [
      "[1] -2  0  3\n",
      "\n"
     ]
    }
   ],
   "source": [
    "r(\"\"\"\n",
    "sink(\"temp.txt\")\n",
    "print(\n",
    "    t_v[(which(\n",
    "                !(\n",
    "                    x_v %in% c(0)\n",
    "                )\n",
    "            )\n",
    "        )]\n",
    ")\n",
    "sink()\n",
    "\"\"\")\n",
    "\n",
    "#from_r print (r_print)\n",
    "f=open(\"temp.txt\",\"r\")\n",
    "print(f.read())\n",
    "\n",
    "r(\"\"\"\n",
    "unlink(\"temp.txt\")\n",
    "\"\"\")\n",
    "\n",
    "f.close()\n",
    "del(f)"
   ]
  },
  {
   "cell_type": "code",
   "execution_count": null,
   "metadata": {},
   "outputs": [],
   "source": []
  }
 ],
 "metadata": {
  "kernelspec": {
   "display_name": "Python 3",
   "language": "python",
   "name": "python3"
  },
  "language_info": {
   "codemirror_mode": {
    "name": "ipython",
    "version": 3
   },
   "file_extension": ".py",
   "mimetype": "text/x-python",
   "name": "python",
   "nbconvert_exporter": "python",
   "pygments_lexer": "ipython3",
   "version": "3.7.3"
  }
 },
 "nbformat": 4,
 "nbformat_minor": 2
}
