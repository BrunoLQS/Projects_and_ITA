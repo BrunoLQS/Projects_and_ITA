{
 "cells": [
  {
   "cell_type": "markdown",
   "metadata": {},
   "source": [
    "## EET-01-Sinais e sistemas de tempo discreto\n",
    "\n",
    "\n",
    "### Aluno: Bruno Lima Queiroz Santos"
   ]
  },
  {
   "cell_type": "markdown",
   "metadata": {},
   "source": [
    "#### Exercício Aula 02 - 01"
   ]
  },
  {
   "cell_type": "markdown",
   "metadata": {},
   "source": [
    "a) Obtenha y[n], usando o matlab (ou octave), para o exemplo de convolução apresentado em sala de aula."
   ]
  },
  {
   "cell_type": "markdown",
   "metadata": {},
   "source": [
    "`%%writefile -a header_rpy2.py` seria ideal para apendar, mas será melhor sem o flag para manter apenas o necessário escrito durante uma possível série de execuções."
   ]
  },
  {
   "cell_type": "markdown",
   "metadata": {},
   "source": [
    "*Observação:* As funções definidas dentro de um file usado como *módulo* conseguem acessar os valores das variáveis do seu file sem a necessidade de passagem como argumento. O outro bônus é que as correspondências definidas no file usado como *módulo* são imutáveis para as funções definidas no próprio *módulo*."
   ]
  },
  {
   "cell_type": "code",
   "execution_count": 1,
   "metadata": {},
   "outputs": [
    {
     "name": "stdout",
     "output_type": "stream",
     "text": [
      "Overwriting header_rpy2.py\n"
     ]
    }
   ],
   "source": [
    "%%writefile header_rpy2.py\n",
    "\n",
    "import rpy2.rinterface as ri\n",
    "#import os\n",
    "\n",
    "ri.initr()\n",
    "\n",
    "rb=ri.baseenv\n",
    "rg=ri.globalenv\n",
    "rs=ri.StrSexpVector\n",
    "rp=rb.get(\"parse\")\n",
    "re=rb[\"eval\"]\n",
    "rint=ri.IntSexpVector\n",
    "\n",
    "\"\"\"~~~~~~~~~~~~~~~~~~~~~~~~~~~~~~~~\"\"\"\n",
    "\n",
    "filename=rs([\"\"]) \n",
    "n=rint([\"-1\"]) \n",
    "\n",
    "\"\"\"~~~~~~~~~~~~~~~~~~~~~~~~~~~~~~~~\"\"\"\n",
    "\n",
    "# comentários denotam cuidados\n",
    "# tomados se fosse uma declaração\n",
    "# fora de um script que não é módulo\n",
    "def r(text): \n",
    "    #rs=ri.StrSexpVector\n",
    "    text=rs([text])\n",
    "    #filename=rs([\"\"]) \n",
    "    #n=rint([\"-1\"]) \n",
    "    k=re(\n",
    "        rp(filename,n,text)\n",
    "    )\n",
    "    return None\n",
    "\n",
    "\n",
    "# função de auto destruição do file módulo.\n",
    "def endR():\n",
    "    'os.remove(\"header_rpy2.py\")'\n",
    "    #ri.endr()\n",
    "    r(\"\"\"\n",
    "        unlink(\"header_rpy2.py\")\n",
    "    \"\"\")\n",
    "    return None\n",
    "\n",
    "\n",
    "# caso se sinta à vontade, pode eliminá-lo logo,\n",
    "# pois as informações já foram transmitidas para o console.\n",
    "#os.remove(\"header_rpy2.py\")\n",
    "\n",
    "\n",
    "r(\"\"\"\n",
    "unlink(\"header_rpy2.py\")\n",
    "\"\"\")\n",
    "\n",
    "# without os.\n",
    "\n",
    "\n",
    "\n",
    "### Poderiam ter sido usadas classes."
   ]
  },
  {
   "cell_type": "markdown",
   "metadata": {},
   "source": [
    "Os códigos foram anotados dessa forma para explicitar o conteúdo."
   ]
  },
  {
   "cell_type": "code",
   "execution_count": 2,
   "metadata": {},
   "outputs": [],
   "source": [
    "from header_rpy2 import *"
   ]
  },
  {
   "cell_type": "markdown",
   "metadata": {},
   "source": [
    "Normalmente, não é perigoso reexecutar o código acima, mesmo que o arquivo tenha sido destruído, pois a variável ainda armazena o objeto. Dessa forma, as definições podem ser redefinidas, o que pode ser valioso diante de um conflito entre as definições ocorridas ao longo do programa."
   ]
  },
  {
   "cell_type": "code",
   "execution_count": 3,
   "metadata": {},
   "outputs": [],
   "source": [
    "r(\"\"\"\n",
    "# x é função INJETIVA do índice n\n",
    "# sendo X um valor x[n]\n",
    "# retorno é n\n",
    "\n",
    "index<-function(X,x){\n",
    "    n<-which(x %in% c(X))\n",
    "    return (n)\n",
    "}\n",
    "\n",
    "\n",
    "# X é o valor t[n]\n",
    "# t é o domínio da função \n",
    "# x é a lista de valores em t tal q y(t)!=0 \n",
    "# y é a lista de valores y(t) !=0\n",
    "\n",
    "Impulse<-function(X,x,y){\n",
    "    if(X %in% x){ # Se X é especial\n",
    "        return (y[index(X,x)])\n",
    "    }\n",
    "  else return (0)\n",
    "}\n",
    "\"\"\")"
   ]
  },
  {
   "cell_type": "code",
   "execution_count": 4,
   "metadata": {},
   "outputs": [],
   "source": [
    "r(\"\"\"\n",
    "\n",
    "# domínio do gráfico\n",
    "\n",
    "from<- -25\n",
    "to <- 25\n",
    "N <- to- from +1\n",
    "t<-seq(from,to,by=1)\n",
    "\n",
    "\n",
    "\n",
    "\n",
    "\"\"\")"
   ]
  },
  {
   "cell_type": "markdown",
   "metadata": {},
   "source": [
    "Abaixo obteve-se o sinal $x[n]$."
   ]
  },
  {
   "cell_type": "code",
   "execution_count": 5,
   "metadata": {},
   "outputs": [],
   "source": [
    "r(\"\"\"\n",
    "# valores de t onde ocorre x_v não nulos\n",
    "T<-c(-2,0,3)\n",
    "\n",
    "# valores de x_v não nulos na ordem crescente de t\n",
    "x<-c(1.5, 2.3, -2.3)\n",
    "\n",
    "# function(X,x,y)\n",
    "x_v<-unlist(lapply(t,Impulse, x= T, y= x))\n",
    "\"\"\")"
   ]
  },
  {
   "cell_type": "markdown",
   "metadata": {},
   "source": [
    "Abaixo, obteve-se o sinal $h[n]$."
   ]
  },
  {
   "cell_type": "code",
   "execution_count": 6,
   "metadata": {},
   "outputs": [],
   "source": [
    "r(\"\"\"\n",
    "# valores de t onde ocorre h_v não nulos\n",
    "T<-c(0,1,2)\n",
    "\n",
    "# valores de h_v não nulos na ordem crescente de t\n",
    "x<-c(1.0, 0.75, 0.5)\n",
    "\n",
    "# function(X,x,y)\n",
    "h_v<-unlist(lapply(t,Impulse, x= T, y= x))\n",
    "\"\"\")"
   ]
  },
  {
   "cell_type": "markdown",
   "metadata": {},
   "source": [
    "Abaixo, registrou-se a função *stem*."
   ]
  },
  {
   "cell_type": "code",
   "execution_count": 7,
   "metadata": {},
   "outputs": [],
   "source": [
    "r(\"\"\"\n",
    "#The function\n",
    "stem <- function(x,y,pch=16,linecol=1,clinecol=1,...){\n",
    "    if (missing(y)){\n",
    "        y = x\n",
    "        x = 1:length(x) \n",
    "    }\n",
    "    plot(x,y,pch=pch,...)\n",
    "    for (i in 1:length(x)){\n",
    "       lines(c(x[i],x[i]), c(0,y[i]),col=linecol)\n",
    "    }\n",
    "    lines(c(x[1]-2,x[length(x)]+2), c(0,0),col=clinecol)\n",
    "}\n",
    "\"\"\")"
   ]
  },
  {
   "cell_type": "code",
   "execution_count": 8,
   "metadata": {},
   "outputs": [
    {
     "data": {
      "image/png": "[encoded data removed]",
      "text/plain": [
       "<IPython.core.display.Image object>"
      ]
     },
     "metadata": {
      "image/png": {
       "width": 300
      }
     },
     "output_type": "display_data"
    },
    {
     "name": "stdout",
     "output_type": "stream",
     "text": [
      "figura: 1 , registro dos sinais x[n] e h[n]\n"
     ]
    }
   ],
   "source": [
    "r(\"\"\"\n",
    "png(file=\"fileName1.png\")\n",
    "par(mfrow=c(1,2))\n",
    "stem(t,x_v,col=4,\n",
    "    linecol=4,clinecol=2,\n",
    "    #main=\"Impulso discreto\",\n",
    "    #sub=\"Impulso de tempo discreto\",\n",
    "    xlab=\"n\",ylab=\"X[n]\"\n",
    ")\n",
    "stem(t,h_v,col=4,\n",
    "    linecol=4,clinecol=2,\n",
    "    #main=\"Impulso discreto\",\n",
    "    #sub=\"Impulso de tempo discreto\",\n",
    "    xlab=\"n\",ylab=\"h[n]\"\n",
    ")\n",
    "dev.off()\n",
    "\"\"\")\n",
    "\n",
    "from IPython.display import Image,display\n",
    "\n",
    "v=1\n",
    "i1=Image(filename='fileName1.png',width=300)\n",
    "display(i1)\n",
    "\n",
    "print(\"figura: %d ,\" %(v), \"registro dos sinais x[n] e h[n]\")\n",
    "v+=1\n",
    "del(i1)\n",
    "\n",
    "r(\"\"\"\n",
    "unlink('fileName1.png')\n",
    "\"\"\")"
   ]
  },
  {
   "cell_type": "markdown",
   "metadata": {},
   "source": [
    "resta obter os termos do somatório e, finalmente, $y$. Até agora, já foram obtidos $x[n]$ e $h[n]$."
   ]
  },
  {
   "cell_type": "markdown",
   "metadata": {},
   "source": [
    "Dessa forma:\n",
    "\n",
    "$$x_{-2}[n]=x[-2]\\delta[(n+2)]$$\n",
    "\n"
   ]
  },
  {
   "cell_type": "markdown",
   "metadata": {},
   "source": [
    "a sequência $x[n]$ já foi anotada em um vetor no range de n.\n",
    "\n",
    "Resta representar o sinal $\\delta[(n+2)]$ cem um vetor no range de n e aplicar a multiplicação."
   ]
  },
  {
   "cell_type": "code",
   "execution_count": 9,
   "metadata": {},
   "outputs": [],
   "source": [
    "r(\"\"\"\n",
    "aux_x<-0\n",
    "aux_y<-0\n",
    "\n",
    "## DIRAC DELTA\n",
    "\n",
    "# valores de t onde ocorre x não nulos\n",
    "T<-c(-2)\n",
    "\n",
    "# valores de x não nulos na ordem crescente de t\n",
    "x<-c(1.0)\n",
    "\n",
    "\n",
    "# function(X,x,y)\n",
    "d_m2<-unlist(lapply(t,Impulse, x= T, y= x))\n",
    "\n",
    "\"\"\")"
   ]
  },
  {
   "cell_type": "markdown",
   "metadata": {},
   "source": [
    "Abaixo, finalmente obteve-se $$x_{-2}[n]=x[-2]\\delta[(n+2)]$$ mediante a *element-wise multiplication*, ou seja, elementos de mesmo índice nos vetores utilizados são operados, gerando um resultado de mesmo índice no vetor resultado."
   ]
  },
  {
   "cell_type": "code",
   "execution_count": 10,
   "metadata": {},
   "outputs": [],
   "source": [
    "r(\"\"\"\n",
    "x_m2<- x_v*d_m2\n",
    "aux_x<-x_m2+aux_x\n",
    "\"\"\")"
   ]
  },
  {
   "cell_type": "markdown",
   "metadata": {},
   "source": [
    "$$y_{-2}[n]=T\\{x_{-2}[n]\\}\\Rightarrow y_{-2}[n]=x[-2]h[n+2]$$.\n",
    "\n",
    "Obteve-se $h[n]$, resta obter $h[n+2]$."
   ]
  },
  {
   "cell_type": "code",
   "execution_count": 11,
   "metadata": {},
   "outputs": [],
   "source": [
    "r(\"\"\"\n",
    "# valores de t onde ocorre h_v não nulos\n",
    "T<-c(0,1,2)\n",
    "\n",
    "# desde que n --> n+2\n",
    "# os valores especiais ocorrem recuados\n",
    "T<- T-2\n",
    "\n",
    "# valores de h_v não nulos na ordem crescente de t\n",
    "x<-c(1.0, 0.75, 0.5)\n",
    "# function(X,x,y)\n",
    "h_v_np2<-unlist(lapply(t,Impulse, x= T, y= x))\n",
    "\"\"\")"
   ]
  },
  {
   "cell_type": "code",
   "execution_count": 12,
   "metadata": {},
   "outputs": [],
   "source": [
    "r(\"\"\"\n",
    "y_m2<- x_v[index(-2,t)]*h_v_np2\n",
    "\n",
    "aux_y<-y_m2+aux_y\n",
    "\"\"\")"
   ]
  },
  {
   "cell_type": "code",
   "execution_count": 13,
   "metadata": {},
   "outputs": [
    {
     "data": {
      "image/png": "[encoded data removed]",
      "text/plain": [
       "<IPython.core.display.Image object>"
      ]
     },
     "metadata": {
      "image/png": {
       "width": 300
      }
     },
     "output_type": "display_data"
    },
    {
     "name": "stdout",
     "output_type": "stream",
     "text": [
      "figura: 2 , registro dos sinais x_-2[n] e h_-2[n]\n"
     ]
    }
   ],
   "source": [
    "r(\"\"\"\n",
    "png(file=\"fileName1.png\")\n",
    "par(mfrow=c(1,2))\n",
    "stem(t,x_m2,col=4,\n",
    "    linecol=4,clinecol=2,\n",
    "    #main=\"Impulso discreto\",\n",
    "    #sub=\"Impulso de tempo discreto\",\n",
    "    xlab=\"n\",ylab=\"x_2[n]\"\n",
    ")\n",
    "stem(t,y_m2,col=4,\n",
    "    linecol=4,clinecol=2,\n",
    "    #main=\"Impulso discreto\",\n",
    "    #sub=\"Impulso de tempo discreto\",\n",
    "    xlab=\"n\",ylab=\"h_-2[n]\"\n",
    ")\n",
    "dev.off()\n",
    "\"\"\")\n",
    "\n",
    "\n",
    "\n",
    "i1=Image(filename='fileName1.png',width=300)\n",
    "display(i1)\n",
    "\n",
    "print(\"figura: %d ,\" %(v), \"registro dos sinais x_-2[n] e h_-2[n]\")\n",
    "v+=1\n",
    "del(i1)\n",
    "\n",
    "r(\"\"\"\n",
    "unlink('fileName1.png')\n",
    "\"\"\")"
   ]
  },
  {
   "cell_type": "code",
   "execution_count": 14,
   "metadata": {},
   "outputs": [],
   "source": [
    "r(\"\"\"\n",
    "# valores de t onde ocorre h_v não nulos\n",
    "T<-c(0,1,2)\n",
    "\n",
    "\n",
    "# desde que n --> n+0\n",
    "# os valores especiais ocorrem recuados\n",
    "T<- T-0\n",
    "\n",
    "# valores de h_v não nulos na ordem crescente de t\n",
    "x<-c(1.0, 0.75, 0.5)\n",
    "\n",
    "# function(X,x,y)\n",
    "h_v_0<-unlist(lapply(t,Impulse, x= T, y= x))\n",
    "\n",
    "y_m0 <- x_v[index(-0,t)]*h_v_0\n",
    "aux_y <- aux_y + y_m0\n",
    "\n",
    "\"\"\")"
   ]
  },
  {
   "cell_type": "code",
   "execution_count": 15,
   "metadata": {},
   "outputs": [],
   "source": [
    "r(\"\"\"\n",
    "\n",
    "## DIRAC DELTA\n",
    "\n",
    "# valores de t onde ocorre x não nulos\n",
    "T<-c(0)\n",
    "\n",
    "# valores de x não nulos na ordem crescente de t\n",
    "x<-c(1.0)\n",
    "\n",
    "# function(X,x,y)\n",
    "d_m0<-unlist(lapply(t,Impulse, x= T, y= x))\n",
    "\n",
    "x_m0<- x_v*d_m0\n",
    "aux_x <- x_m0 + aux_x\n",
    "\n",
    "\"\"\")"
   ]
  },
  {
   "cell_type": "code",
   "execution_count": 16,
   "metadata": {},
   "outputs": [
    {
     "data": {
      "image/png": "[encoded data removed]",
      "text/plain": [
       "<IPython.core.display.Image object>"
      ]
     },
     "metadata": {
      "image/png": {
       "width": 300
      }
     },
     "output_type": "display_data"
    },
    {
     "name": "stdout",
     "output_type": "stream",
     "text": [
      "figura: 3 , registro dos sinais x_0[n] e h_0[n]\n"
     ]
    }
   ],
   "source": [
    "r(\"\"\"\n",
    "png(file=\"fileName1.png\")\n",
    "par(mfrow=c(1,2))\n",
    "stem(t,x_m0,col=4,\n",
    "    linecol=4,clinecol=2,\n",
    "    #main=\"Impulso discreto\",\n",
    "    #sub=\"Impulso de tempo discreto\",\n",
    "    xlab=\"n\",ylab=\"x_0[n]\"\n",
    ")\n",
    "stem(t,y_m0,col=4,\n",
    "    linecol=4,clinecol=2,\n",
    "    #main=\"Impulso discreto\",\n",
    "    #sub=\"Impulso de tempo discreto\",\n",
    "    xlab=\"n\",ylab=\"h_0[n]\"\n",
    ")\n",
    "dev.off()\n",
    "\"\"\")\n",
    "\n",
    "\n",
    "i1=Image(filename='fileName1.png',width=300)\n",
    "display(i1)\n",
    "\n",
    "print(\"figura: %d ,\" %(v), \"registro dos sinais x_0[n] e h_0[n]\")\n",
    "v+=1\n",
    "del(i1)\n",
    "\n",
    "r(\"\"\"\n",
    "unlink('fileName1.png')\n",
    "\"\"\")"
   ]
  },
  {
   "cell_type": "code",
   "execution_count": 17,
   "metadata": {},
   "outputs": [
    {
     "data": {
      "image/png": "[encoded data removed]",
      "text/plain": [
       "<IPython.core.display.Image object>"
      ]
     },
     "metadata": {
      "image/png": {
       "width": 300
      }
     },
     "output_type": "display_data"
    },
    {
     "name": "stdout",
     "output_type": "stream",
     "text": [
      "figura: 4 , registro dos sinais x_3[n] e h_3[n]\n"
     ]
    }
   ],
   "source": [
    "r(\"\"\"\n",
    "# valores de t onde ocorre h_v não nulos\n",
    "T<-c(0,1,2)\n",
    "\n",
    "\n",
    "###################################################\n",
    "# ~~~~~~~~~~~~~~~~~~~~~~~~~~~~~~~~~~~~~~~~~~~~~~~~#\n",
    "# desde que n --> n+3, estamos examinando x_+3[n] #\n",
    "# ~~~~~~~~~~~~~~~~~~~~~~~~~~~~~~~~~~~~~~~~~~~~~~~~#\n",
    "# os valores especiais ocorrem recuados\n",
    "T<- T+3\n",
    "###################################################\n",
    "\n",
    "# valores de h_v não nulos na ordem crescente de t\n",
    "x<-c(1.0, 0.75, 0.5)\n",
    "\n",
    "# function(X,x,y)\n",
    "h_v_p3<-unlist(lapply(t,Impulse, x= T, y= x))\n",
    "\n",
    "\n",
    "\n",
    "y_p3<- x_v[index(3 ,t)]*h_v_p3\n",
    "aux_y <- aux_y + y_p3\n",
    "\n",
    "\n",
    "\n",
    "\n",
    "## DIRAC DELTA\n",
    "\n",
    "###################################################\n",
    "# ~~~~~~~~~~~~~~~~~~~~~~~~~~~~~~~~~~~~~~~~~~~~~~~~#\n",
    "# desde que n --> n+3, estamos examinando x_+3[n] #\n",
    "# ~~~~~~~~~~~~~~~~~~~~~~~~~~~~~~~~~~~~~~~~~~~~~~~~#\n",
    "# valores de t onde ocorre x não nulos\n",
    "T<-c(3)\n",
    "\n",
    "# valores de x não nulos na ordem crescente de t\n",
    "x<-c(1.0)\n",
    "\n",
    "# function(X,x,y)\n",
    "d_p3<-unlist(lapply(t,Impulse, x= T, y= x))\n",
    "\n",
    "\n",
    "\n",
    "x_p3<- x_v*d_p3\n",
    "aux_x<- aux_x + x_p3\n",
    "\n",
    "\n",
    "png(file=\"fileName1.png\")\n",
    "par(mfrow=c(1,2))\n",
    "stem(t,x_p3,col=4,\n",
    "    linecol=4,clinecol=2,\n",
    "    #main=\"Impulso discreto\",\n",
    "    #sub=\"Impulso de tempo discreto\",\n",
    "    xlab=\"n\",ylab=\"x_3[n]\"\n",
    ")\n",
    "stem(t,y_p3,col=4,\n",
    "    linecol=4,clinecol=2,\n",
    "    #main=\"Impulso discreto\",\n",
    "    #sub=\"Impulso de tempo discreto\",\n",
    "    xlab=\"n\",ylab=\"h_3[n]\"\n",
    ")\n",
    "dev.off()\n",
    "\n",
    "\n",
    "\"\"\")\n",
    "\n",
    "\n",
    "i1=Image(filename='fileName1.png',width=300)\n",
    "display(i1)\n",
    "\n",
    "print(\"figura: %d ,\" %(v), \"registro dos sinais x_3[n] e h_3[n]\")\n",
    "v+=1\n",
    "del(i1)\n",
    "\n",
    "r(\"\"\"\n",
    "unlink('fileName1.png')\n",
    "\"\"\")"
   ]
  },
  {
   "cell_type": "code",
   "execution_count": 18,
   "metadata": {},
   "outputs": [
    {
     "data": {
      "image/png": "[encoded data removed]",
      "text/plain": [
       "<IPython.core.display.Image object>"
      ]
     },
     "metadata": {
      "image/png": {
       "width": 300
      }
     },
     "output_type": "display_data"
    },
    {
     "name": "stdout",
     "output_type": "stream",
     "text": [
      "figura: 5 , registro dos sinais x[n] e y[n]\n"
     ]
    }
   ],
   "source": [
    "r(\"\"\"\n",
    "png(file=\"fileName1.png\")\n",
    "par(mfrow=c(1,2))\n",
    "stem(t,aux_x,col=4,\n",
    "    linecol=4,clinecol=2,\n",
    "    #main=\"Impulso discreto\",\n",
    "    #sub=\"Impulso de tempo discreto\",\n",
    "    xlab=\"n\",ylab=\"x[n]\"\n",
    ")\n",
    "stem(t,aux_y,col=4,\n",
    "    linecol=4,clinecol=2,\n",
    "    #main=\"Impulso discreto\",\n",
    "    #sub=\"Impulso de tempo discreto\",\n",
    "    xlab=\"n\",ylab=\"y[n]\"\n",
    ")\n",
    "dev.off()\n",
    "\n",
    "\n",
    "\"\"\")\n",
    "\n",
    "\n",
    "i1=Image(filename='fileName1.png',width=300)\n",
    "display(i1)\n",
    "\n",
    "print(\"figura: %d ,\" %(v), \"registro dos sinais x[n] e y[n]\")\n",
    "v+=1\n",
    "del(i1)\n",
    "\n",
    "r(\"\"\"\n",
    "unlink('fileName1.png')\n",
    "\"\"\")"
   ]
  }
 ],
 "metadata": {
  "kernelspec": {
   "display_name": "Python 3",
   "language": "python",
   "name": "python3"
  },
  "language_info": {
   "codemirror_mode": {
    "name": "ipython",
    "version": 3
   },
   "file_extension": ".py",
   "mimetype": "text/x-python",
   "name": "python",
   "nbconvert_exporter": "python",
   "pygments_lexer": "ipython3",
   "version": "3.7.3"
  }
 },
 "nbformat": 4,
 "nbformat_minor": 2
}
