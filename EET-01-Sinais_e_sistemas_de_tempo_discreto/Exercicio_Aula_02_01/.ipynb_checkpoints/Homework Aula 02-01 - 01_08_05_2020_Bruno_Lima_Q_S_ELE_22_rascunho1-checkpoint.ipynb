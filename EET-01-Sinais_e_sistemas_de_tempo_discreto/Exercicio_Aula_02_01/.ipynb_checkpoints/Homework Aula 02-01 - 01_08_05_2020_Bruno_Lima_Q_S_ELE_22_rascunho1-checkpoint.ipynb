{
 "cells": [
  {
   "cell_type": "markdown",
   "metadata": {},
   "source": [
    "## EET-01-Sinais e sistemas de tempo discreto\n",
    "\n",
    "\n",
    "### Aluno: Bruno Lima Queiroz Santos"
   ]
  },
  {
   "cell_type": "markdown",
   "metadata": {},
   "source": [
    "#### Exercício Aula 02 - 01"
   ]
  },
  {
   "cell_type": "markdown",
   "metadata": {},
   "source": [
    "a) Obtenha y[n], usando o matlab (ou octave), para o exemplo de convolução apresentado em sala de aula."
   ]
  },
  {
   "cell_type": "markdown",
   "metadata": {},
   "source": [
    "`%%writefile -a header_rpy2.py` seria ideal para apendar, mas será melhor sem o flag para manter apenas o necessário escrito durante uma possível série de execuções."
   ]
  },
  {
   "cell_type": "markdown",
   "metadata": {},
   "source": [
    "*Observação:* As funções definidas dentro de um file usado como *módulo* conseguem acessar os valores das variáveis do seu file sem a necessidade de passagem como argumento. O outro bônus é que as correspondências definidas no file usado como *módulo* são imutáveis para as funções definidas no próprio *módulo*."
   ]
  },
  {
   "cell_type": "code",
   "execution_count": 1,
   "metadata": {},
   "outputs": [
    {
     "name": "stdout",
     "output_type": "stream",
     "text": [
      "Writing header_rpy2.py\n"
     ]
    }
   ],
   "source": [
    "%%writefile header_rpy2.py\n",
    "\n",
    "import rpy2.rinterface as ri\n",
    "#import os\n",
    "\n",
    "ri.initr()\n",
    "\n",
    "rb=ri.baseenv\n",
    "rg=ri.globalenv\n",
    "rs=ri.StrSexpVector\n",
    "rp=rb.get(\"parse\")\n",
    "re=rb[\"eval\"]\n",
    "rint=ri.IntSexpVector\n",
    "\n",
    "\"\"\"~~~~~~~~~~~~~~~~~~~~~~~~~~~~~~~~\"\"\"\n",
    "\n",
    "filename=rs([\"\"]) \n",
    "n=rint([\"-1\"]) \n",
    "\n",
    "\"\"\"~~~~~~~~~~~~~~~~~~~~~~~~~~~~~~~~\"\"\"\n",
    "\n",
    "# comentários denotam cuidados\n",
    "# tomados se fosse uma declaração\n",
    "# fora de um script que não é módulo\n",
    "def r(text): \n",
    "    #rs=ri.StrSexpVector\n",
    "    text=rs([text])\n",
    "    #filename=rs([\"\"]) \n",
    "    #n=rint([\"-1\"]) \n",
    "    k=re(\n",
    "        rp(filename,n,text)\n",
    "    )\n",
    "    return None\n",
    "\n",
    "\n",
    "# função de auto destruição do file módulo.\n",
    "def endR():\n",
    "    'os.remove(\"header_rpy2.py\")'\n",
    "    #ri.endr()\n",
    "    r(\"\"\"\n",
    "        unlink(\"header_rpy2.py\")\n",
    "    \"\"\")\n",
    "    return None\n",
    "\n",
    "\n",
    "# caso se sinta à vontade, pode eliminá-lo logo,\n",
    "# pois as informações já foram transmitidas para o console.\n",
    "#os.remove(\"header_rpy2.py\")\n",
    "\n",
    "\n",
    "r(\"\"\"\n",
    "unlink(\"header_rpy2.py\")\n",
    "\"\"\")\n",
    "\n",
    "# without os.\n",
    "\n",
    "\n",
    "\n",
    "### Poderiam ter sido usadas classes."
   ]
  },
  {
   "cell_type": "markdown",
   "metadata": {},
   "source": [
    "Os códigos foram anotados dessa forma para explicitar o conteúdo."
   ]
  },
  {
   "cell_type": "code",
   "execution_count": 2,
   "metadata": {},
   "outputs": [],
   "source": [
    "from header_rpy2 import *"
   ]
  },
  {
   "cell_type": "markdown",
   "metadata": {},
   "source": [
    "Normalmente, não é perigoso reexecutar o código acima, mesmo que o arquivo tenha sido destruído, pois a variável ainda armazena o objeto. Dessa forma, as definições podem ser redefinidas, o que pode ser valioso diante de um conflito entre as definições ocorridas ao longo do programa."
   ]
  },
  {
   "cell_type": "code",
   "execution_count": 3,
   "metadata": {},
   "outputs": [],
   "source": [
    "r(\"\"\"\n",
    "discrete_signal<-function(t_v,t,x){\n",
    "  #x_v = 0 0 0 0 ... 0 0\n",
    "  x_v<-rep(0,length(t_v)) \n",
    "  # x_v <---> Indice <----> t_v                          #\n",
    "  #            get a list of index of values #           #\n",
    "  T<-which(t_v %in% t) # vetor dos índices de interesse  # \n",
    "  x_v[T]<-x # Cópia vetorizada de um vetor para outro:   #\n",
    "  return(x_v)\n",
    "}\n",
    "\"\"\")"
   ]
  },
  {
   "cell_type": "markdown",
   "metadata": {},
   "source": [
    "Abaixo obteve-se o sinal $x[n]$."
   ]
  },
  {
   "cell_type": "code",
   "execution_count": 4,
   "metadata": {},
   "outputs": [],
   "source": [
    "r(\"\"\"\n",
    "# domínio do gráfico\n",
    "\n",
    "from<- -25\n",
    "to <- 25\n",
    "N <- to- from +1\n",
    "t_v<-seq(from,to,by=1)\n",
    "\n",
    "# valores de t_v onde ocorre x_v não nulos\n",
    "t<-c(-2,0,3)\n",
    "\n",
    "# valores de x_v não nulos na ordem crescente de t\n",
    "x<-c(1.5, 2.3, -2.3)\n",
    "\n",
    "\n",
    "x_v<-discrete_signal(t_v,t,x)\n",
    "\n",
    "\n",
    "\"\"\")"
   ]
  },
  {
   "cell_type": "markdown",
   "metadata": {},
   "source": [
    "Abaixo, confirmou-se os valores de $t$ em que $x \\neq 0$."
   ]
  },
  {
   "cell_type": "code",
   "execution_count": 5,
   "metadata": {},
   "outputs": [
    {
     "name": "stdout",
     "output_type": "stream",
     "text": [
      "[1] -2  0  3\n",
      "\n"
     ]
    }
   ],
   "source": [
    "r(\"\"\"\n",
    "sink(\"temp.txt\")\n",
    "print(\n",
    "    t_v[(which(\n",
    "                !(\n",
    "                    x_v %in% c(0)\n",
    "                )\n",
    "            )\n",
    "        )]\n",
    ")\n",
    "sink()\n",
    "\"\"\")\n",
    "\n",
    "#from_r print (r_print)\n",
    "f=open(\"temp.txt\",\"r\")\n",
    "print(f.read())\n",
    "\n",
    "r(\"\"\"\n",
    "unlink(\"temp.txt\")\n",
    "\"\"\")\n",
    "\n",
    "f.close()\n",
    "del(f)"
   ]
  },
  {
   "cell_type": "markdown",
   "metadata": {},
   "source": [
    "Abaixo, obteve-se o sinal $h[n]$."
   ]
  },
  {
   "cell_type": "code",
   "execution_count": 6,
   "metadata": {},
   "outputs": [],
   "source": [
    "r(\"\"\"\n",
    "# valores de t_v onde ocorre h_v não nulos\n",
    "t<-c(0,1,2)\n",
    "\n",
    "# valores de h_v não nulos na ordem crescente de t\n",
    "h<-c(1, 1.5, 0.75)\n",
    "\n",
    "\n",
    "h_v<-discrete_signal(t_v,t,h)\n",
    "\n",
    "\"\"\")"
   ]
  },
  {
   "cell_type": "markdown",
   "metadata": {},
   "source": [
    "Abaixo, registrou-se a função *stem*."
   ]
  },
  {
   "cell_type": "code",
   "execution_count": 7,
   "metadata": {},
   "outputs": [],
   "source": [
    "r(\"\"\"\n",
    "#The function\n",
    "stem <- function(x,y,pch=16,linecol=1,clinecol=1,...){\n",
    "    if (missing(y)){\n",
    "        y = x\n",
    "        x = 1:length(x) \n",
    "    }\n",
    "    plot(x,y,pch=pch,...)\n",
    "    for (i in 1:length(x)){\n",
    "       lines(c(x[i],x[i]), c(0,y[i]),col=linecol)\n",
    "    }\n",
    "    lines(c(x[1]-2,x[length(x)]+2), c(0,0),col=clinecol)\n",
    "}\n",
    "\"\"\")"
   ]
  },
  {
   "cell_type": "code",
   "execution_count": 23,
   "metadata": {},
   "outputs": [
    {
     "data": {
      "image/png": "[encoded data removed]",
      "text/plain": [
       "<IPython.core.display.Image object>"
      ]
     },
     "metadata": {
      "image/png": {
       "width": 300
      }
     },
     "output_type": "display_data"
    },
    {
     "name": "stdout",
     "output_type": "stream",
     "text": [
      "figura: 1 , registro dos sinais x[n] e h[n]\n"
     ]
    }
   ],
   "source": [
    "r(\"\"\"\n",
    "png(file=\"fileName1.png\")\n",
    "par(mfrow=c(1,2))\n",
    "stem(t_v,x_v,col=4,\n",
    "    linecol=4,clinecol=2,\n",
    "    #main=\"Impulso discreto\",\n",
    "    #sub=\"Impulso de tempo discreto\",\n",
    "    xlab=\"t\",ylab=\"X[n]\"\n",
    ")\n",
    "stem(t_v,h_v,col=4,\n",
    "    linecol=4,clinecol=2,\n",
    "    #main=\"Impulso discreto\",\n",
    "    #sub=\"Impulso de tempo discreto\",\n",
    "    xlab=\"t\",ylab=\"h[n]\"\n",
    ")\n",
    "dev.off()\n",
    "\"\"\")\n",
    "\n",
    "from IPython.display import Image,display\n",
    "\n",
    "v=1\n",
    "i1=Image(filename='fileName1.png',width=300)\n",
    "display(i1)\n",
    "\n",
    "print(\"figura: %d ,\" %(v), \"registro dos sinais x[n] e h[n]\")\n",
    "v+=1\n",
    "del(i1)\n",
    "\n",
    "r(\"\"\"\n",
    "unlink('fileName1.png')\n",
    "\"\"\")"
   ]
  },
  {
   "cell_type": "markdown",
   "metadata": {},
   "source": [
    "resta obter os termos do somatório e, finalmente, $y$. Até agora, já foram obtidos $x[n]$ e $h[n]$."
   ]
  },
  {
   "cell_type": "markdown",
   "metadata": {},
   "source": [
    "Dessa forma:\n",
    "\n",
    "$$x_{-2}[n]=x[-2]\\delta[-(n-2)]=x[-2]$$\n",
    "\n",
    "A expressão intermediária pode ser importante para realizarmos a multiplicação elemento a elemento.\n",
    "\n",
    "\n",
    "Por outro lado,\n",
    "`x_{-2}[n]:   x_v[index(t!=-2)]<-0`"
   ]
  },
  {
   "cell_type": "code",
   "execution_count": 36,
   "metadata": {},
   "outputs": [],
   "source": [
    "r(\"\"\"\n",
    "x_m2<-x_v\n",
    "\n",
    "# negando o %in% do which    \n",
    "x_m2[\n",
    "        which(\n",
    "                !(\n",
    "                    t_v %in% c(-2)\n",
    "                )\n",
    "            )\n",
    "    ]<-0\n",
    "\n",
    "#rep(0,length(k))\n",
    "\"\"\")"
   ]
  },
  {
   "cell_type": "markdown",
   "metadata": {},
   "source": [
    "É preciso fazer um shift em t"
   ]
  },
  {
   "cell_type": "code",
   "execution_count": 26,
   "metadata": {},
   "outputs": [
    {
     "ename": "RRuntimeError",
     "evalue": "Error in xy.coords(x, y, xlabel, ylabel, log) : \n  'x' and 'y' lengths differ\n",
     "output_type": "error",
     "traceback": [
      "\u001b[1;31m---------------------------------------------------------------------------\u001b[0m",
      "\u001b[1;31mRRuntimeError\u001b[0m                             Traceback (most recent call last)",
      "\u001b[1;32m<ipython-input-26-fcc67e40d782>\u001b[0m in \u001b[0;36m<module>\u001b[1;34m\u001b[0m\n\u001b[0;32m      9\u001b[0m )\n\u001b[0;32m     10\u001b[0m \u001b[0mdev\u001b[0m\u001b[1;33m.\u001b[0m\u001b[0moff\u001b[0m\u001b[1;33m(\u001b[0m\u001b[1;33m)\u001b[0m\u001b[1;33m\u001b[0m\u001b[1;33m\u001b[0m\u001b[0m\n\u001b[1;32m---> 11\u001b[1;33m \"\"\")\n\u001b[0m\u001b[0;32m     12\u001b[0m \u001b[1;33m\u001b[0m\u001b[0m\n\u001b[0;32m     13\u001b[0m \u001b[1;32mfrom\u001b[0m \u001b[0mIPython\u001b[0m\u001b[1;33m.\u001b[0m\u001b[0mdisplay\u001b[0m \u001b[1;32mimport\u001b[0m \u001b[0mImage\u001b[0m\u001b[1;33m,\u001b[0m\u001b[0mdisplay\u001b[0m\u001b[1;33m\u001b[0m\u001b[1;33m\u001b[0m\u001b[0m\n",
      "\u001b[1;32m~\\Downloads\\Programming\\Scripts\\Principal\\EET-01-Sinais_e_sistemas_de_tempo_discreto\\Exercicio_Aula_02_01\\header_rpy2.py\u001b[0m in \u001b[0;36mr\u001b[1;34m(text)\u001b[0m\n",
      "\u001b[1;31mRRuntimeError\u001b[0m: Error in xy.coords(x, y, xlabel, ylabel, log) : \n  'x' and 'y' lengths differ\n"
     ]
    }
   ],
   "source": [
    "r(\"\"\"\n",
    "png(file=\"fileName1.png\")\n",
    "#par(mfrow=c(1,2))\n",
    "stem(t_v,x_m2,col=4,\n",
    "    linecol=4,clinecol=2,\n",
    "    #main=\"Impulso discreto\",\n",
    "    #sub=\"Impulso de tempo discreto\",\n",
    "    xlab=\"t\",ylab=\"X_-2[n]\"\n",
    ")\n",
    "dev.off()\n",
    "\"\"\")\n",
    "\n",
    "from IPython.display import Image,display\n",
    "\n",
    "v=1\n",
    "i1=Image(filename='fileName1.png',width=300)\n",
    "display(i1)\n",
    "\n",
    "print(\"figura: %d ,\" %(v), \"registro dos sinais x[n] e h[n]\")\n",
    "v+=1\n",
    "del(i1)\n",
    "\n",
    "r(\"\"\"\n",
    "unlink('fileName1.png')\n",
    "\"\"\")"
   ]
  }
 ],
 "metadata": {
  "kernelspec": {
   "display_name": "Python 3",
   "language": "python",
   "name": "python3"
  },
  "language_info": {
   "codemirror_mode": {
    "name": "ipython",
    "version": 3
   },
   "file_extension": ".py",
   "mimetype": "text/x-python",
   "name": "python",
   "nbconvert_exporter": "python",
   "pygments_lexer": "ipython3",
   "version": "3.7.3"
  }
 },
 "nbformat": 4,
 "nbformat_minor": 2
}
