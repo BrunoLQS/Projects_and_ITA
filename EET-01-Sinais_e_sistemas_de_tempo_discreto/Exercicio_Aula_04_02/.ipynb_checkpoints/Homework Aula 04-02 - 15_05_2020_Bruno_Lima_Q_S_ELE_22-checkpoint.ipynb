{
 "cells": [
  {
   "cell_type": "markdown",
   "metadata": {},
   "source": [
    "Nome da disciplina: EET-01 Sinais e Sistemas de Tempo Discreto\n",
    "\n",
    "Nome do aluno: Bruno Lima Queiroz Santos\n",
    "\n",
    "\n",
    "Enunciado do exercício:\n",
    "\n",
    "\n",
    "\n",
    "Represente graficamente (matlab ou octave) x[n] e X(e^{jw}) para os Exemplos 1 e 2 apresentados em aula."
   ]
  },
  {
   "cell_type": "code",
   "execution_count": 1,
   "metadata": {},
   "outputs": [],
   "source": [
    "import numpy as np\n",
    "import matplotlib.pyplot as plt"
   ]
  },
  {
   "cell_type": "markdown",
   "metadata": {},
   "source": [
    "### Exemplo 1\n",
    "\n",
    "$$x[n]=a^{n}u[n] \\;\\;,\\;\\; |a|<1$$"
   ]
  },
  {
   "cell_type": "code",
   "execution_count": 2,
   "metadata": {},
   "outputs": [],
   "source": [
    "From = -10\n",
    "To = 10\n",
    "Length = To - From + 1\n",
    "\n",
    "# vetor de instantes\n",
    "domain = np.linspace(start=From,stop=To, num = Length) # from and to inclusive.\n",
    "\n",
    "\n",
    "# Step function\n",
    "def u(n):\n",
    "    if(n>=0):\n",
    "        return 1.0\n",
    "    else: \n",
    "        return 0\n",
    "\n"
   ]
  },
  {
   "cell_type": "markdown",
   "metadata": {},
   "source": [
    "Digamos $a=0.8$"
   ]
  },
  {
   "cell_type": "code",
   "execution_count": 3,
   "metadata": {},
   "outputs": [],
   "source": [
    "a=0.8\n",
    "y=np.zeros(shape=(Length))\n",
    "x=domain"
   ]
  },
  {
   "cell_type": "code",
   "execution_count": 4,
   "metadata": {},
   "outputs": [],
   "source": [
    "for i in np.arange(0,len(x),1):\n",
    "    n=x[i]\n",
    "    y[i]=u(n)*(a**n)   "
   ]
  },
  {
   "cell_type": "code",
   "execution_count": 5,
   "metadata": {},
   "outputs": [
    {
     "data": {
      "image/png": "[encoded data removed]",
      "text/plain": [
       "<Figure size 432x288 with 1 Axes>"
      ]
     },
     "metadata": {
      "needs_background": "light"
     },
     "output_type": "display_data"
    }
   ],
   "source": [
    "figure, axes = plt.subplots(nrows=1, ncols=1)\n",
    "\n",
    "#plt.sca(axes[0, 0])   \n",
    "plt.sca(axes)\n",
    "\n",
    "markerline, stemlines, baseline=plt.stem(x,\n",
    "                                         y,\n",
    "                                         markerfmt='or',\n",
    "                                         linefmt='-r',\n",
    "                                         basefmt=\" \")\n",
    "markerline.set_markerfacecolor('none')\n",
    "plt.title('Exemplo 1')\n",
    "plt.ylabel('x[n]')\n",
    "plt.xlabel('n')\n",
    "plt.xticks(np.arange(-10, 11, step=2))\n",
    "plt.show()"
   ]
  },
  {
   "cell_type": "markdown",
   "metadata": {},
   "source": [
    "Acima, representou-se x[n] por n"
   ]
  },
  {
   "cell_type": "markdown",
   "metadata": {},
   "source": [
    "Digamos $w=10$, isto é, $X(e^{10j})$"
   ]
  },
  {
   "cell_type": "code",
   "execution_count": 6,
   "metadata": {},
   "outputs": [],
   "source": [
    "# X(e^{jw})\n",
    "w=10\n",
    "\n",
    "Y=np.zeros(shape=(Length))\n",
    "\n",
    "Y=Y.astype(complex)\n",
    "\n",
    "\n",
    "for i in np.arange(0,len(domain),1):\n",
    "    n=domain[i]\n",
    "    Y[i]=y[i]*np.exp(-(w*n)*1j)"
   ]
  },
  {
   "cell_type": "code",
   "execution_count": 7,
   "metadata": {
    "scrolled": true
   },
   "outputs": [
    {
     "data": {
      "image/png": "[encoded data removed]",
      "text/plain": [
       "<Figure size 432x288 with 2 Axes>"
      ]
     },
     "metadata": {
      "needs_background": "light"
     },
     "output_type": "display_data"
    }
   ],
   "source": [
    "figure, axes = plt.subplots(nrows=2, ncols=1)\n",
    "\n",
    "#plt.sca(axes[0, 0])   \n",
    "plt.sca(axes[0])\n",
    "\n",
    "markerline, stemlines, baseline=plt.stem(x,\n",
    "                                         Y.real,\n",
    "                                         markerfmt='or',\n",
    "                                         linefmt='-r',\n",
    "                                         basefmt=\" \")\n",
    "markerline.set_markerfacecolor('none')\n",
    "plt.title('Exemplo 1')\n",
    "plt.ylabel('Re(X(e^{10j}))')\n",
    "plt.xlabel('n')\n",
    "plt.xticks(np.arange(-10, 11, step=2))\n",
    "\n",
    "plt.sca(axes[1])\n",
    "\n",
    "markerline, stemlines, baseline=plt.stem(x,\n",
    "                                         Y.imag,\n",
    "                                         markerfmt='og',\n",
    "                                         linefmt='-g',\n",
    "                                         basefmt=\" \")\n",
    "markerline.set_markerfacecolor('none')\n",
    "plt.title('Exemplo 1')\n",
    "plt.ylabel('Img(X(e^{10j}))')\n",
    "plt.xlabel('n')\n",
    "plt.xticks(np.arange(-10, 11, step=2))\n",
    "\n",
    "\n",
    "#plt.show()\n",
    "figure.tight_layout()"
   ]
  },
  {
   "cell_type": "markdown",
   "metadata": {},
   "source": [
    "Acima, representaram-se, respectivamente, as partes real e imaginária da sucessão X_n(e^{10j})"
   ]
  },
  {
   "cell_type": "markdown",
   "metadata": {},
   "source": [
    "### Exemplo 2\n",
    "\n",
    "$$x[n]=e^{jw_{0}n} \\;\\;,\\;\\; w_{0} \\in Z$$ Digamos, $w_{0}=2$\n",
    "\n",
    "Digamos $w=6$"
   ]
  },
  {
   "cell_type": "code",
   "execution_count": 8,
   "metadata": {},
   "outputs": [],
   "source": [
    "y=np.zeros(shape=(Length))\n",
    "y=y.astype(complex)\n",
    "x=domain\n",
    "\n",
    "w_0=2.0\n",
    "\n",
    "for i in np.arange(0,len(x),1):\n",
    "    n=x[i]\n",
    "    y[i]=np.exp(1j*(w_0*n))  \n",
    "    \n",
    "    \n",
    "Y=np.zeros(shape=(Length))\n",
    "Y=Y.astype(complex)\n",
    "\n",
    "w=6.0\n",
    "\n",
    "for i in np.arange(0,len(x),1):\n",
    "    n=x[i]\n",
    "    Y[i]=y[i]*np.exp(-1j*(w*n))"
   ]
  },
  {
   "cell_type": "code",
   "execution_count": 9,
   "metadata": {
    "scrolled": false
   },
   "outputs": [
    {
     "data": {
      "image/png": "[encoded data removed]",
      "text/plain": [
       "<Figure size 432x288 with 4 Axes>"
      ]
     },
     "metadata": {
      "needs_background": "light"
     },
     "output_type": "display_data"
    }
   ],
   "source": [
    "figure, axes = plt.subplots(nrows=2, ncols=2)\n",
    "\n",
    "#plt.sca(axes[0, 0])   \n",
    "plt.sca(axes[0,0])\n",
    "\n",
    "markerline, stemlines, baseline=plt.stem(x,\n",
    "                                         y.real,\n",
    "                                         markerfmt='or',\n",
    "                                         linefmt='-r',\n",
    "                                         basefmt=\" \")\n",
    "markerline.set_markerfacecolor('none')\n",
    "plt.title('Exemplo 2')\n",
    "plt.ylabel('Re(x[n])')\n",
    "plt.xlabel('n')\n",
    "plt.xticks(np.arange(-10, 11, step=4))\n",
    "\n",
    "plt.sca(axes[0,1])\n",
    "\n",
    "markerline, stemlines, baseline=plt.stem(x,\n",
    "                                         y.imag,\n",
    "                                         markerfmt='og',\n",
    "                                         linefmt='-g',\n",
    "                                         basefmt=\" \")\n",
    "markerline.set_markerfacecolor('none')\n",
    "plt.title('Exemplo 2')\n",
    "plt.ylabel('Img(x[n])')\n",
    "plt.xlabel('n')\n",
    "plt.xticks(np.arange(-10, 11, step=4))\n",
    "\n",
    "\n",
    "\n",
    "plt.sca(axes[1,0])\n",
    "\n",
    "markerline, stemlines, baseline=plt.stem(x,\n",
    "                                         Y.real,\n",
    "                                         markerfmt='or',\n",
    "                                         linefmt='-r',\n",
    "                                         basefmt=\" \")\n",
    "markerline.set_markerfacecolor('none')\n",
    "plt.title('Exemplo 2')\n",
    "plt.ylabel('Re(X(e^{wj}))')\n",
    "plt.xlabel('n')\n",
    "plt.xticks(np.arange(-10, 11, step=4))\n",
    "\n",
    "plt.sca(axes[1,1])\n",
    "\n",
    "markerline, stemlines, baseline=plt.stem(x,\n",
    "                                         Y.imag,\n",
    "                                         markerfmt='og',\n",
    "                                         linefmt='-g',\n",
    "                                         basefmt=\" \")\n",
    "markerline.set_markerfacecolor('none')\n",
    "plt.title('Exemplo 2')\n",
    "plt.ylabel('Img(X(e^{wj}))')\n",
    "plt.xlabel('n')\n",
    "plt.xticks(np.arange(-10, 11, step=4))\n",
    "\n",
    "\n",
    "\n",
    "\n",
    "#plt.show()\n",
    "figure.tight_layout()"
   ]
  },
  {
   "cell_type": "markdown",
   "metadata": {},
   "source": [
    "Acima, representaram-se x[n], com w_0=2, e X(e^{wj}), com w=6, na primeira e segunda linha, respectivamente, sendo a primeira coluna destinada à representação da parte real e a segunda à parte imaginária."
   ]
  }
 ],
 "metadata": {
  "kernelspec": {
   "display_name": "Python 3",
   "language": "python",
   "name": "python3"
  },
  "language_info": {
   "codemirror_mode": {
    "name": "ipython",
    "version": 3
   },
   "file_extension": ".py",
   "mimetype": "text/x-python",
   "name": "python",
   "nbconvert_exporter": "python",
   "pygments_lexer": "ipython3",
   "version": "3.7.3"
  }
 },
 "nbformat": 4,
 "nbformat_minor": 2
}
