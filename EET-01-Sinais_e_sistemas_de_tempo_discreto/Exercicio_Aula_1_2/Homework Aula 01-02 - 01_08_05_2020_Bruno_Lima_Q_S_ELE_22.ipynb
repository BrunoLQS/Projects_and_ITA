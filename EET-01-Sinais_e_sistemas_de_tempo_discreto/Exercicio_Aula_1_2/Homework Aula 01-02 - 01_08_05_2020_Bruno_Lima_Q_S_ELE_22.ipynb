{
 "cells": [
  {
   "cell_type": "markdown",
   "metadata": {},
   "source": [
    "## EET-01-Sinais e sistemas de tempo discreto\n",
    "\n",
    "\n",
    "### Aluno: Bruno Lima Queiroz Santos"
   ]
  },
  {
   "cell_type": "markdown",
   "metadata": {},
   "source": [
    "#### Exercício Aula 01 - 02"
   ]
  },
  {
   "cell_type": "markdown",
   "metadata": {},
   "source": [
    "a) Obtenha a representação gráfica, usando o matlab (ou octave), das sequências apresentadas na Aula 01: *sistema atrasador ideal*, *sistema acumulador*, e *algum exemplo de sistema não linear*."
   ]
  },
  {
   "cell_type": "markdown",
   "metadata": {},
   "source": [
    "i) Sistema atrasador ideal"
   ]
  },
  {
   "cell_type": "markdown",
   "metadata": {},
   "source": [
    "$$y[n]=u[n-nd] \\;\\;,\\;\\; nd >0$$\n",
    "\n",
    "$$nd \\in Z$$\n",
    "\n",
    "digamos d=2, logo :\n",
    "\n",
    "$$y[n]=u[-n]$$\n",
    "\n",
    "Usaremos a sequência degrau unitário:\n",
    "\n",
    "$$u[n]=\\begin{cases} 1, & \\mbox{if } n \\geq 0 \\\\ 0, & \\mbox{if } n < 0\\end{cases}$$"
   ]
  },
  {
   "cell_type": "code",
   "execution_count": 1,
   "metadata": {},
   "outputs": [],
   "source": [
    "from IPython.display import Image,display"
   ]
  },
  {
   "cell_type": "code",
   "execution_count": 2,
   "metadata": {},
   "outputs": [
    {
     "data": {
      "image/png": "[encoded data removed]",
      "text/plain": [
       "<IPython.core.display.Image object>"
      ]
     },
     "metadata": {
      "image/png": {
       "height": 400,
       "width": 400
      }
     },
     "output_type": "display_data"
    },
    {
     "name": "stdout",
     "output_type": "stream",
     "text": [
      "figura 1 Sistema atrasador ideal\n"
     ]
    }
   ],
   "source": [
    "import rpy2.rinterface as ri\n",
    "ri.initr()\n",
    "#rr=ri.parse\n",
    "\n",
    "rb=ri.baseenv\n",
    "rg=ri.globalenv\n",
    "rs=ri.StrSexpVector\n",
    "rp=rb.get(\"parse\")\n",
    "re=rb[\"eval\"]\n",
    "rint=ri.IntSexpVector\n",
    "\n",
    "\"\"\"~~~~~~~~~~~~~~~~~~~~~~~~~~~~~~~~\"\"\"\n",
    "\n",
    "filename=rs([\"\"]) \n",
    "n=rint([\"-1\"]) \n",
    "\"\"\"~~~~~~~~~~~~~~~~~~~~~~~~~~~~~~~~\"\"\"\n",
    "\n",
    "\"\"\" Estruturação da função \"\"\"\n",
    "\n",
    "\"\"\" ########################################      \"\"\"\n",
    "\n",
    "                # Código R #\n",
    "# ===================================================== #\n",
    "\n",
    "text=rs([\"\"\"\n",
    "#The function\n",
    "stem <- function(x,y,pch=16,linecol=1,clinecol=1,...){\n",
    "    if (missing(y)){\n",
    "        y = x\n",
    "        x = 1:length(x) \n",
    "    }\n",
    "    plot(x,y,pch=pch,...)\n",
    "    for (i in 1:length(x)){\n",
    "       lines(c(x[i],x[i]), c(0,y[i]),col=linecol)\n",
    "    }\n",
    "    lines(c(x[1]-2,x[length(x)]+2), c(0,0),col=clinecol)\n",
    "}\n",
    "\"\"\"])\n",
    "\n",
    "# ===================================================== #\n",
    "\n",
    "\"\"\" ########################################      \"\"\"\n",
    "\n",
    "\n",
    "k=rp(filename,n,text)\n",
    "k=re(k) \n",
    "\n",
    "\n",
    "\"\"\" ---------------------------------------------- \"\"\"\n",
    "\n",
    "\n",
    "\"\"\" Execução  \"\"\"\n",
    "\n",
    "\"\"\" ########################################      \"\"\"\n",
    "\n",
    "                # Código R #\n",
    "# ===================================================== #\n",
    "text=rs([\"\"\"                 \n",
    "#An example\n",
    "x <- seq(-25, 25, by = 1)\n",
    "u <- rep(0,51)\n",
    "y <- u\n",
    "X<-which(x %in% seq(0, 25, by = 1))  # vetor dos índices de interesse\n",
    "\n",
    "for (i in seq(1,length(u),by=1))\n",
    "{\n",
    "    u[X[i]]<-1.0 # degrau unitário \n",
    "}\n",
    "\n",
    "for (i in seq(1,length(u),by=1))\n",
    "{\n",
    "    # y[x]<- u[-x]\n",
    "    ## y[index(x)]<-u[index(-x)]\n",
    "    ### y[i]<-u[index(-x)]\n",
    "    j<-which(x == -x[i])\n",
    "    y[i]<-u[j]\n",
    "}\n",
    "\n",
    "png(file=\"fileName1.png\")\n",
    "stem(x,y,col=4,\n",
    "    linecol=4,clinecol=2,\n",
    "    main=\"Sistema atrasador ideal\\n sobre impulso de tempo discreto\",\n",
    "    #sub=\"Impulso de tempo discreto\",\n",
    "    xlab=\"t\"\n",
    ")\n",
    "dev.off()\n",
    "\"\"\"])\n",
    "\n",
    "\n",
    "# ===================================================== #\n",
    "\n",
    "\"\"\" ########################################      \"\"\"\n",
    "\n",
    "k=re(\n",
    "    rp(filename,n,text)\n",
    ")\n",
    "\n",
    "\"\"\" ---------------------------------------------- \"\"\"\n",
    "\n",
    "\n",
    "\n",
    "\n",
    "i1=Image(filename='fileName1.png',width=400,height =400)\n",
    "display(i1)\n",
    "\n",
    "v=1\n",
    "print(\"figura %d\" %(v), \"Sistema atrasador ideal\")\n",
    "v+=1    \n",
    "\n",
    "\"\"\" ########################################      \"\"\"\n",
    "\n",
    "                # Código R #\n",
    "# ===================================================== #\n",
    "\n",
    "text=rs([\"\"\"                 \n",
    "unlink(\"fileName1.png\")\n",
    "\"\"\"])\n",
    "\n",
    "# ===================================================== #\n",
    "\n",
    "\"\"\" ########################################      \"\"\"\n",
    "\n",
    "k=re(\n",
    "    rp(filename,n,text)\n",
    ")"
   ]
  },
  {
   "cell_type": "markdown",
   "metadata": {},
   "source": [
    "ii) Sistema acumulador\n",
    "\n",
    "$$y[n]=\\sum_{k=-\\infty}^{n}u[k]$$\n",
    "\n",
    "Usaremos a sequência degrau unitário:\n",
    "\n",
    "$$u[n]=\\begin{cases} 1, & \\mbox{if } n \\geq 0 \\\\ 0, & \\mbox{if } n < 0\\end{cases}$$\n",
    "\n",
    "logo :\n",
    "\n",
    "$$y[n]=\\begin{cases} n+1, & \\mbox{if } n \\geq 0 \\\\ 0, & \\mbox{if } n < 0\\end{cases}$$"
   ]
  },
  {
   "cell_type": "code",
   "execution_count": 3,
   "metadata": {},
   "outputs": [],
   "source": [
    "rb=ri.baseenv\n",
    "rg=ri.globalenv\n",
    "rs=ri.StrSexpVector\n",
    "rp=rb.get(\"parse\")\n",
    "re=rb[\"eval\"]\n",
    "rint=ri.IntSexpVector\n",
    "\n",
    "\"\"\"~~~~~~~~~~~~~~~~~~~~~~~~~~~~~~~~\"\"\"\n",
    "\n",
    "filename=rs([\"\"]) \n",
    "n=rint([\"-1\"]) "
   ]
  },
  {
   "cell_type": "code",
   "execution_count": 4,
   "metadata": {
    "scrolled": false
   },
   "outputs": [
    {
     "data": {
      "image/png": "[encoded data removed]",
      "text/plain": [
       "<IPython.core.display.Image object>"
      ]
     },
     "metadata": {
      "image/png": {
       "height": 400,
       "width": 400
      }
     },
     "output_type": "display_data"
    },
    {
     "name": "stdout",
     "output_type": "stream",
     "text": [
      "figura 2 Sistema acumulador\n"
     ]
    }
   ],
   "source": [
    "                # Código R #\n",
    "# ===================================================== #\n",
    "text=rs([\"\"\"                 \n",
    "#An example\n",
    "x <- seq(-25, 25, by = 1)\n",
    "u <- rep(0,51)\n",
    "y <- u\n",
    "\n",
    "#  -----------------------------------------------------------------------  #\n",
    "#   X<-which(x %in% seq(0, 25, by = 1))  # vetor dos índices de interesse   #\n",
    "#                                                                           #\n",
    "#for (i in seq(1,length(u),by=1))                                           #\n",
    "#{                                                                          #\n",
    "#    u[X[i]]<-1.0 # degrau unitário                                         #\n",
    "#}                                                                          #\n",
    "#  -----------------------------------------------------------------------  #\n",
    "\n",
    "for (i in seq(1,length(u),by=1))\n",
    "{\n",
    "    # y[x>=0]<- x+1 \n",
    "    ## y[x[i]>=0]<- x[i]+1\n",
    "    if(x[i]>=0){\n",
    "        y[i]<-x[i]+1\n",
    "    }\n",
    "}\n",
    "\n",
    "png(file=\"fileName1.png\")\n",
    "stem(x,y,col=4,\n",
    "    linecol=4,clinecol=2,\n",
    "    main=\"Sistema acumulador\\n sobre impulso de tempo discreto\",\n",
    "    #sub=\"Impulso de tempo discreto\",\n",
    "    xlab=\"t\"\n",
    ")\n",
    "dev.off()\n",
    "\"\"\"])\n",
    "\n",
    "\n",
    "# ===================================================== #\n",
    "\n",
    "\"\"\" ########################################  \n",
    "                Execução\n",
    "\"\"\"\n",
    "\n",
    "k=re(\n",
    "    rp(filename,n,text)\n",
    ")\n",
    "\n",
    "\"\"\" ---------------------------------------------- \"\"\"\n",
    "\n",
    "\n",
    "\n",
    "\n",
    "i1=Image(filename='fileName1.png',width=400,height =400)\n",
    "display(i1)\n",
    "\n",
    "\n",
    "print(\"figura %d\" %(v), \"Sistema acumulador\")\n",
    "v+=1 "
   ]
  },
  {
   "cell_type": "code",
   "execution_count": 5,
   "metadata": {},
   "outputs": [],
   "source": [
    "\n",
    "   \n",
    "\n",
    "\"\"\" ########################################      \"\"\"\n",
    "\n",
    "                # Código R #\n",
    "# ===================================================== #\n",
    "\n",
    "text=rs([\"\"\"                 \n",
    "unlink(\"fileName1.png\")\n",
    "\"\"\"])\n",
    "\n",
    "# ===================================================== #\n",
    "\n",
    "\"\"\" ########################################      \"\"\"\n",
    "\n",
    "k=re(\n",
    "    rp(filename,n,text)\n",
    ")"
   ]
  },
  {
   "cell_type": "markdown",
   "metadata": {},
   "source": [
    "iii) Sistema não linear\n",
    "\n",
    "Consideremos:\n",
    "$$y[n]=x^{2}[n]$$\n",
    "\n",
    "Esse sistema não é linear.\n",
    "\n",
    "Tomemos $x_{1}[n]=1$ e $x_{2}[n]=2$\n",
    "\n",
    "Nesse caso,\n",
    "\n",
    "$$y_{1}[n]=x_{1}^{2}[n]=1$$\n",
    "$$y_{2}[n]=x_{2}^{2}[n]=4$$\n",
    "$$y_{3}[n]=T\\{x_{1}[n]+x_{2}[n]\\}=(x_{1}[n]+x_{2}[n])^{2}=9$$\n",
    "\n",
    "\n",
    "Por outro lado,\n",
    "\n",
    "$$y_{1}[n]+y_{2}[n]=5 \\neq 9$$\n",
    "\n",
    "\n",
    "Logo, o sistema não é linear."
   ]
  },
  {
   "cell_type": "code",
   "execution_count": 6,
   "metadata": {},
   "outputs": [],
   "source": [
    "rb=ri.baseenv\n",
    "rg=ri.globalenv\n",
    "rs=ri.StrSexpVector\n",
    "rp=rb.get(\"parse\")\n",
    "re=rb[\"eval\"]\n",
    "rint=ri.IntSexpVector\n",
    "\n",
    "\"\"\"~~~~~~~~~~~~~~~~~~~~~~~~~~~~~~~~\"\"\"\n",
    "\n",
    "filename=rs([\"\"]) \n",
    "n=rint([\"-1\"]) "
   ]
  },
  {
   "cell_type": "code",
   "execution_count": 7,
   "metadata": {},
   "outputs": [
    {
     "data": {
      "image/png": "[encoded data removed]",
      "text/plain": [
       "<IPython.core.display.Image object>"
      ]
     },
     "metadata": {
      "image/png": {
       "height": 400,
       "width": 400
      }
     },
     "output_type": "display_data"
    },
    {
     "name": "stdout",
     "output_type": "stream",
     "text": [
      "figura 3 Constatação de sistema não linear\n"
     ]
    }
   ],
   "source": [
    "                # Código R #\n",
    "# ===================================================== #\n",
    "text=rs([\"\"\"                 \n",
    "#An example\n",
    "x <- seq(-25, 25, by = 1)\n",
    "\n",
    "u_1 <- rep(1,51)\n",
    "y_1 <- (u_1)**2\n",
    "\n",
    "u_2 <- rep(2,51)\n",
    "y_2 <- (u_2)**2\n",
    "\n",
    "y_3 <- y_1+y_2\n",
    "\n",
    "y_4 <- (u_1 + u_2)**2\n",
    "                                                                        \n",
    " \n",
    "\n",
    "\n",
    "png(file=\"fileName1.png\")\n",
    "par(mfrow=c(2,1))\n",
    "stem(x,y_3,col=4,\n",
    "    linecol=4,clinecol=2,\n",
    "    main=\"Relação linear\\n sobre impulsos de tempo discreto\",\n",
    "    #sub=\"Impulso de tempo discreto\",\n",
    "    xlab=\"t\",ylab=\"y_1+y_2\"\n",
    ")\n",
    "stem(x,y_4,col=4,\n",
    "    linecol=4,clinecol=2,\n",
    "    main=\"Sistema não linear\\n de saídas oriundas de\\n impulsos de tempo discreto\",\n",
    "    #sub=\"Impulso de tempo discreto\",\n",
    "    xlab=\"t\",ylab=\"T(y_1+y_2)\"\n",
    ")\n",
    "dev.off()\n",
    "\"\"\"])\n",
    "\n",
    "\n",
    "# ===================================================== #\n",
    "\n",
    "\"\"\" ########################################  \n",
    "                Execução\n",
    "\"\"\"\n",
    "\n",
    "k=re(\n",
    "    rp(filename,n,text)\n",
    ")\n",
    "\n",
    "\"\"\" ---------------------------------------------- \"\"\"\n",
    "\n",
    "\n",
    "\n",
    "\n",
    "i1=Image(filename='fileName1.png',width=400,height =400)\n",
    "display(i1)\n",
    "\n",
    "\n",
    "print(\"figura %d\" %(v), \"Constatação de sistema não linear\")\n",
    "v+=1 "
   ]
  },
  {
   "cell_type": "code",
   "execution_count": 8,
   "metadata": {},
   "outputs": [],
   "source": [
    "\n",
    "   \n",
    "\n",
    "\"\"\" ########################################      \"\"\"\n",
    "\n",
    "                # Código R #\n",
    "# ===================================================== #\n",
    "\n",
    "text=rs([\"\"\"                 \n",
    "unlink(\"fileName1.png\")\n",
    "\"\"\"])\n",
    "\n",
    "# ===================================================== #\n",
    "\n",
    "\"\"\" ########################################      \"\"\"\n",
    "\n",
    "k=re(\n",
    "    rp(filename,n,text)\n",
    ")"
   ]
  },
  {
   "cell_type": "code",
   "execution_count": 9,
   "metadata": {},
   "outputs": [],
   "source": [
    "rb=ri.baseenv\n",
    "rg=ri.globalenv\n",
    "rs=ri.StrSexpVector\n",
    "rp=rb.get(\"parse\")\n",
    "re=rb[\"eval\"]\n",
    "rint=ri.IntSexpVector\n",
    "\n",
    "\"\"\"~~~~~~~~~~~~~~~~~~~~~~~~~~~~~~~~\"\"\"\n",
    "\n",
    "filename=rs([\"\"]) \n",
    "n=rint([\"-1\"]) "
   ]
  },
  {
   "cell_type": "code",
   "execution_count": 10,
   "metadata": {},
   "outputs": [
    {
     "data": {
      "image/png": "[encoded data removed]",
      "text/plain": [
       "<IPython.core.display.Image object>"
      ]
     },
     "metadata": {
      "image/png": {
       "height": 400,
       "width": 400
      }
     },
     "output_type": "display_data"
    },
    {
     "name": "stdout",
     "output_type": "stream",
     "text": [
      "figura 4 Sistema não linear\n"
     ]
    }
   ],
   "source": [
    "                # Código R #\n",
    "# ===================================================== #\n",
    "text=rs([\"\"\"                 \n",
    "#An example\n",
    "x <- seq(-25, 25, by = 1)\n",
    "u <- rep(0,51)\n",
    "y <- u\n",
    "\n",
    "\n",
    "X<-which(x %in% seq(0, 25, by = 1))  # vetor dos índices de interesse   \n",
    "                                                                         \n",
    "for (i in seq(1,length(u),by=1))                                           \n",
    "{                                                                          \n",
    "    u[X[i]]<-1.0 # degrau unitário                                        \n",
    "}                                                                          \n",
    "\n",
    "\n",
    "y<-u**2\n",
    "\n",
    "png(file=\"fileName1.png\")\n",
    "stem(x,y,col=4,\n",
    "    linecol=4,clinecol=2,\n",
    "    main=\"Sistema não linear\\n sobre impulso de tempo discreto\",\n",
    "    #sub=\"Impulso de tempo discreto\",\n",
    "    xlab=\"t\"\n",
    ")\n",
    "dev.off()\n",
    "\"\"\"])\n",
    "\n",
    "\n",
    "# ===================================================== #\n",
    "\n",
    "\"\"\" ########################################  \n",
    "                Execução\n",
    "\"\"\"\n",
    "\n",
    "k=re(\n",
    "    rp(filename,n,text)\n",
    ")\n",
    "\n",
    "\"\"\" ---------------------------------------------- \"\"\"\n",
    "\n",
    "\n",
    "\n",
    "\n",
    "i1=Image(filename='fileName1.png',width=400,height =400)\n",
    "display(i1)\n",
    "\n",
    "\n",
    "print(\"figura %d\" %(v), \"Sistema não linear\")\n",
    "v+=1 "
   ]
  },
  {
   "cell_type": "code",
   "execution_count": 11,
   "metadata": {},
   "outputs": [],
   "source": [
    "\n",
    "   \n",
    "\n",
    "\"\"\" ########################################      \"\"\"\n",
    "\n",
    "                # Código R #\n",
    "# ===================================================== #\n",
    "\n",
    "text=rs([\"\"\"                 \n",
    "unlink(\"fileName1.png\")\n",
    "\"\"\"])\n",
    "\n",
    "# ===================================================== #\n",
    "\n",
    "\"\"\" ########################################      \"\"\"\n",
    "\n",
    "k=re(\n",
    "    rp(filename,n,text)\n",
    ")"
   ]
  }
 ],
 "metadata": {
  "kernelspec": {
   "display_name": "Python 3",
   "language": "python",
   "name": "python3"
  },
  "language_info": {
   "codemirror_mode": {
    "name": "ipython",
    "version": 3
   },
   "file_extension": ".py",
   "mimetype": "text/x-python",
   "name": "python",
   "nbconvert_exporter": "python",
   "pygments_lexer": "ipython3",
   "version": "3.7.3"
  }
 },
 "nbformat": 4,
 "nbformat_minor": 2
}
