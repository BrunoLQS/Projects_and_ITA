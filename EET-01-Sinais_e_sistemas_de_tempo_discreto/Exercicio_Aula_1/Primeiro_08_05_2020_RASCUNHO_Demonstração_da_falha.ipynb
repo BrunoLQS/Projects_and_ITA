{
 "cells": [
  {
   "cell_type": "markdown",
   "metadata": {},
   "source": [
    "## EET-01-Sinais e sistemas de tempo discreto\n",
    "\n",
    "\n",
    "### Aluno: Bruno Lima Queiroz Santos\n",
    "\n",
    "\n",
    "\n"
   ]
  },
  {
   "cell_type": "markdown",
   "metadata": {},
   "source": [
    "#### Exercício Aula 01 - 01\n"
   ]
  },
  {
   "cell_type": "markdown",
   "metadata": {},
   "source": [
    "a) Representar graficamente as sequências básicas apresentadas na Aula 01 com a função \"stem\" do matlab (ou GNU Octave)."
   ]
  },
  {
   "cell_type": "markdown",
   "metadata": {},
   "source": [
    "----\n"
   ]
  },
  {
   "cell_type": "markdown",
   "metadata": {},
   "source": [
    "i) Sequência pulso unitário, impulso de tempo discreto, ou impulso.\n",
    "\n",
    "$$\\delta[n]=\\begin{cases} 0, & \\mbox{if } n \\neq 0 \\\\ 1, & \\mbox{if } n = 0\\end{cases}$$"
   ]
  },
  {
   "cell_type": "code",
   "execution_count": null,
   "metadata": {},
   "outputs": [],
   "source": [
    "import numpy as np"
   ]
  },
  {
   "cell_type": "code",
   "execution_count": null,
   "metadata": {},
   "outputs": [],
   "source": [
    "\" Perfil do tempo (domínio) do sinal\"\n",
    "N=16\n",
    "From=-7\n",
    "To=From+(N-1)\n",
    "\n",
    "\" Formato do dado na forma de vetor \"\n",
    "x=np.linspace(start=From,\n",
    "              stop=To,\n",
    "              num=N\n",
    "             )\n",
    "\"\"\" Returns \n",
    "num evenly spaced samples, \n",
    "calculated over the interval [start, stop]. \"\"\"\n",
    "\n",
    "\n",
    "\n",
    "\" Formato do sinal na forma de vetor \"\n",
    "\n",
    "y=np.zeros(shape=(N))\n",
    "\n",
    "\n",
    "X=np.array([0])\n",
    "\n",
    "\" y e x estão relacionados por uma mesma indexação \"\n",
    "\n",
    "for i in X :\n",
    "    y[\n",
    "        np.where(\n",
    "            n==i\n",
    "        )[0][0]\n",
    "    ]=1.0"
   ]
  },
  {
   "cell_type": "code",
   "execution_count": null,
   "metadata": {},
   "outputs": [],
   "source": [
    "import matplotlib.pyplot as plt"
   ]
  },
  {
   "cell_type": "code",
   "execution_count": null,
   "metadata": {
    "scrolled": true
   },
   "outputs": [],
   "source": [
    "markerline, stemlines, baseline=plt.stem(x,\n",
    "                                         y,\n",
    "                                         markerfmt='or',\n",
    "                                         linefmt='-r',\n",
    "                                         basefmt=\"k\")\n",
    "#basefmt=\" \" oculta a baseline\n",
    "#markerline.set_markerfacecolor('none')\n",
    "plt.show()\n",
    "\n",
    "print(\"Figura 1 representa a função do item i)\")"
   ]
  },
  {
   "cell_type": "markdown",
   "metadata": {},
   "source": [
    "ii) Segunda sequência pulso unitário, impulso de tempo discreto, ou impulso.\n",
    "\n",
    "$$\\rho[n]=\\begin{cases} 0, & \\mbox{if } n \\neq (-3,1,2,7) \\\\ 1, & \\mbox{if } n = (-3,1,2,7)\\end{cases}$$\n",
    "\n",
    "ou,\n",
    "\n",
    "$$\\rho[n]=a_{-3}\\delta[n+3]+\n",
    "a_{1}\\delta[n-1]+\n",
    "a_{2}\\delta[n-2]+\n",
    "a_{7}\\delta[n-7]$$"
   ]
  },
  {
   "cell_type": "markdown",
   "metadata": {},
   "source": [
    "**Cuidado**, o pacote abaixo não possui suporte para Windows. Apenas a versão 2.9.4 está funcionando, encontra-se atualmente disponível pelo anaconda. (Basta incluir adequadamente a pasta rpy2 referente a essa versão no diretório do Python)."
   ]
  },
  {
   "cell_type": "markdown",
   "metadata": {},
   "source": [
    "A seguir, utiliza-se `R` para a resolução do problema. (Obviamente é um requisito ter essa linguagem também)."
   ]
  },
  {
   "cell_type": "code",
   "execution_count": 22,
   "metadata": {},
   "outputs": [],
   "source": [
    "import rpy2.rinterface as ri\n",
    "ri.initr()\n",
    "rr=ri.parse\n",
    "rR=ri.baseenv[\"eval\"]\n",
    "k=rr(\"\"\"\n",
    "    #The function\n",
    "stem <- function(x,y,pch=16,linecol=1,clinecol=1,...){\n",
    "if (missing(y)){\n",
    "    y = x\n",
    "    x = 1:length(x) }\n",
    "    plot(x,y,pch=pch,...)\n",
    "    for (i in 1:length(x)){\n",
    "       lines(c(x[i],x[i]), c(0,y[i]),col=linecol)\n",
    "    }\n",
    "    lines(c(x[1]-2,x[length(x)]+2), c(0,0),col=clinecol)\n",
    "}\n",
    "    \"\"\")\n",
    "k=rR(k)"
   ]
  },
  {
   "cell_type": "markdown",
   "metadata": {},
   "source": [
    "O código em `R` para a função `stem` e o exemplo abaixo é disponibilizado por meio dos links [1](https://www.r-bloggers.com/matlab-style-stem-plot-with-r/) e [2](http://mpastell.com/2009/09/11/matlab-style-stem-plot-with-r/)."
   ]
  },
  {
   "cell_type": "code",
   "execution_count": null,
   "metadata": {},
   "outputs": [],
   "source": [
    "k=rr(\"\"\"\n",
    "#An example\n",
    "x <- seq(0, 2*pi, by = 0.2)\n",
    "png(file=\"fileName1.png\")\n",
    "par(mfrow=c(2,1))\n",
    "stem(x,sin(x), main = 'Default style')\n",
    "stem(x,sin(x),main='With MATLAB colors', col=4,linecol=4,clinecol=2)\n",
    "dev.off()\n",
    "    \"\"\")\n",
    "k=rR(k)\n",
    "\n",
    "\n",
    "#fig1=open(\"fileName1.png\",\"rb\")\n",
    "#FIG=fig.read()\n",
    "#from IPython.core.displaypub import publish_display_data\n",
    "#publish_display_data(data={'image/png':FIG})\n",
    "\n",
    "from IPython.display import Image,display\n",
    "i1=Image(filename='fileName1.png',width=300,height =300)\n",
    "display(i1) \n",
    "print(\"Figura 2, ilustração de um exemplo\")\n",
    "\n",
    "k=rr(\"\"\"\n",
    "file.remove(\"fileName1.png\")\n",
    "    \"\"\")\n",
    "k=rR(k)"
   ]
  },
  {
   "cell_type": "code",
   "execution_count": 25,
   "metadata": {
    "scrolled": false
   },
   "outputs": [
    {
     "data": {
      "image/png": "[encoded data removed]",
      "text/plain": [
       "<IPython.core.display.Image object>"
      ]
     },
     "metadata": {
      "image/png": {
       "height": 300,
       "width": 300
      }
     },
     "output_type": "display_data"
    },
    {
     "name": "stdout",
     "output_type": "stream",
     "text": [
      "figura 3 ilustração do mesmo exemplo\n"
     ]
    },
    {
     "data": {
      "image/png": "[encoded data removed]",
      "text/plain": [
       "<IPython.core.display.Image object>"
      ]
     },
     "metadata": {
      "image/png": {
       "height": 300,
       "width": 300
      }
     },
     "output_type": "display_data"
    },
    {
     "name": "stdout",
     "output_type": "stream",
     "text": [
      "figura 4 ilustração do mesmo exemplo\n"
     ]
    }
   ],
   "source": [
    "# Com algumas adaptações\n",
    "\n",
    "k=rr(\"\"\"\n",
    "#An example\n",
    "x <- seq(0, 2*pi, by = 0.2)\n",
    "#par(mfrow=c(2,1))\n",
    "png(file=\"fileName1.png\")\n",
    "stem(x,sin(x), main = 'Default style')\n",
    "dev.off()\n",
    "png(file=\"fileName2.png\")\n",
    "stem(x,sin(x),main='With MATLAB colors', col=4,linecol=4,clinecol=2)\n",
    "dev.off()\n",
    "    \"\"\")\n",
    "k=rR(k)\n",
    "\n",
    "\n",
    "#fig1=open(\"fileName1.png\",\"rb\")\n",
    "#FIG=fig.read()\n",
    "#from IPython.core.displaypub import publish_display_data\n",
    "#publish_display_data(data={'image/png':FIG})\n",
    "\n",
    "from IPython.display import Image,display\n",
    "i1=Image(filename='fileName1.png',width=300,height =300)\n",
    "i2=Image(filename='fileName2.png',width=300,height =300)\n",
    "I=[i1,i2]\n",
    "v=3\n",
    "for k in range(0,2,1):\n",
    "    display(I[k])\n",
    "    print(\"figura %d\" %(v), \"ilustração do mesmo exemplo\")\n",
    "    v+=1\n",
    "    \n",
    "k=rr(\"\"\"\n",
    "unlink(\"fileName1.png\")\n",
    "file.remove(\"fileName2.png\")\n",
    "    \"\"\")\n",
    "k=rR(k)\n"
   ]
  },
  {
   "cell_type": "markdown",
   "metadata": {},
   "source": [
    "Retomando item : ii) Segunda sequência pulso unitário, impulso de tempo discreto, ou impulso.\n",
    "\n",
    "$$\\rho[n]=\\begin{cases} 0, & \\mbox{if } n \\neq (-3,1,2,7) \\\\ 1, & \\mbox{if } n = (-3,1,2,7)\\end{cases}$$\n",
    "\n",
    "ou,\n",
    "\n",
    "$$\\rho[n]=a_{-3}\\delta[n+3]+\n",
    "a_{1}\\delta[n-1]+\n",
    "a_{2}\\delta[n-2]+\n",
    "a_{7}\\delta[n-7]$$"
   ]
  },
  {
   "cell_type": "markdown",
   "metadata": {},
   "source": [
    "Digamos:\n",
    "\n",
    "$$(a_{-3},a_{1},a_{2},a_{7})=(2,4,-2,-1.5)$$"
   ]
  },
  {
   "cell_type": "code",
   "execution_count": 77,
   "metadata": {},
   "outputs": [
    {
     "data": {
      "image/png": "[encoded data removed]",
      "text/plain": [
       "<IPython.core.display.Image object>"
      ]
     },
     "metadata": {
      "image/png": {
       "height": 300,
       "width": 300
      }
     },
     "output_type": "display_data"
    },
    {
     "name": "stdout",
     "output_type": "stream",
     "text": [
      "figura 5 Sequência ii)\n"
     ]
    }
   ],
   "source": [
    "k=rr(\"\"\"\n",
    "#An example\n",
    "x <- seq(-4, 8, by = 1)\n",
    "#y <- seq(0,0,length.out=13)\n",
    "y <- rep(0,13)\n",
    "#Y<-c(2,4,−2,−1.5) <--- ERROR RAISING\n",
    "Y<- as.numeric(c(2.0,4.0,-2.0,-1.5))\n",
    "X<-match(c(-3,1,2,7),x)\n",
    "for (i in seq(1,length(Y),by=1))\n",
    "{\n",
    "    y[X[i]]<-Y[i]\n",
    "}\n",
    "png(file=\"fileName1.png\")\n",
    "stem(x,y,main='With MATLAB colors', col=4,linecol=4,clinecol=2)\n",
    "dev.off()\n",
    "    \"\"\")\n",
    "k=rR(k)\n",
    "\n",
    "\n",
    "\n",
    "i1=Image(filename='fileName1.png',width=300,height =300)\n",
    "display(i1)\n",
    "\n",
    "v=5\n",
    "print(\"figura %d\" %(v), \"Sequência ii)\")\n",
    "v+=1    \n",
    "k=rr(\"\"\"\n",
    "unlink(\"fileName1.png\")\n",
    "    \"\"\")\n",
    "k=rR(k)"
   ]
  },
  {
   "cell_type": "code",
   "execution_count": 79,
   "metadata": {},
   "outputs": [
    {
     "data": {
      "image/png": "[encoded data removed]",
      "text/plain": [
       "<IPython.core.display.Image object>"
      ]
     },
     "metadata": {
      "image/png": {
       "height": 300,
       "width": 300
      }
     },
     "output_type": "display_data"
    },
    {
     "name": "stdout",
     "output_type": "stream",
     "text": [
      "figura 5 Sequência ii)\n"
     ]
    }
   ],
   "source": [
    "r_parse=ri.baseenv.get(\"parse\")\n",
    "filename=ri.StrSexpVector([\"\"]) \n",
    "n=ri.IntSexpVector([\"-1\"]) \n",
    "r=ri.baseenv\n",
    "r_eval=r.get(\"eval\",wantfun=True)\n",
    "\n",
    "text=ri.StrSexpVector([\"\"\"                 \n",
    "#An example\n",
    "x <- seq(-4, 8, by = 1)\n",
    "#y <- seq(0,0,length.out=13)\n",
    "y <- rep(0,13)\n",
    "Y<-c(2,4,−2,−1.5) #<--- ERROR RAISING\n",
    "#Y<- as.numeric(c(2.0,4.0,-2.0,-1.5))\n",
    "X<-match(c(-3,1,2,7),x)\n",
    "for (i in seq(1,length(Y),by=1))\n",
    "{\n",
    "    y[X[i]]<-Y[i]\n",
    "}\n",
    "png(file=\"fileName1.png\")\n",
    "stem(x,y,main='With MATLAB colors', col=4,linecol=4,clinecol=2)\n",
    "dev.off()\n",
    "\n",
    "\"\"\"])\n",
    "\n",
    "\n",
    "k=r_parse(filename,n,text)\n",
    "k=r_eval(k) \n",
    "\n",
    "\n",
    "i1=Image(filename='fileName1.png',width=300,height =300)\n",
    "display(i1)\n",
    "\n",
    "v=5\n",
    "print(\"figura %d\" %(v), \"Sequência ii)\")\n",
    "v+=1    \n",
    "k=rr(\"\"\"\n",
    "unlink(\"fileName1.png\")\n",
    "    \"\"\")\n",
    "k=rR(k)"
   ]
  }
 ],
 "metadata": {
  "kernelspec": {
   "display_name": "Python 3",
   "language": "python",
   "name": "python3"
  },
  "language_info": {
   "codemirror_mode": {
    "name": "ipython",
    "version": 3
   },
   "file_extension": ".py",
   "mimetype": "text/x-python",
   "name": "python",
   "nbconvert_exporter": "python",
   "pygments_lexer": "ipython3",
   "version": "3.7.3"
  }
 },
 "nbformat": 4,
 "nbformat_minor": 2
}
