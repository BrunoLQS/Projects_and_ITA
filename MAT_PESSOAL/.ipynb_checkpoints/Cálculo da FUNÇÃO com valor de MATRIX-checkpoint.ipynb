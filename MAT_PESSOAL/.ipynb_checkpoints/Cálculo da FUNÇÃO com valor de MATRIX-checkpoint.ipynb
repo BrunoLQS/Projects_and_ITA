{
 "cells": [
  {
   "cell_type": "markdown",
   "metadata": {},
   "source": [
    "Com respeito à função com valor de Matriz:\n",
    "\n",
    "$f(t)=e^{\\textbf{A}t}$,\n",
    "\n",
    "sendo $\\textbf{A}$ uma matriz quadrada de coeficientes constantes.\n",
    "\n",
    "Ela está relacionada ao sistema de equações lineares diferenciais ordinárias homogênea com coeficientes constantes:\n",
    "\n",
    "$\\textbf{x}^{'}=\\textbf{A} \\cdot \\textbf{x}$,\n",
    "\n",
    "porque qualquer solução é da forma:\n",
    "\n",
    "$\\textbf{x}=e^{\\textbf{A}t}\\cdot \\textbf{C}$, com $\\textbf{C}$ sendo uma matriz coluna constante."
   ]
  },
  {
   "cell_type": "markdown",
   "metadata": {},
   "source": [
    "Além do mais, sabe-se que:\n",
    "\n",
    "$e^{\\textbf{A}t}= \\textbf{I} + \\frac{\\textbf{A}t}{1!} + \\frac{(\\textbf{A}t)^{2}}{2!} + \\ldots $,\n",
    "\n",
    "logo, $f(t)=e^{\\textbf{A}t}$ é uma matriz quadrada.\n",
    "\n",
    "Também,\n",
    "\n",
    "sendo $\\textbf{X}$ uma matriz fundamental de soluções, e, assim, uma matriz quadrada que também satisfaz:\n",
    "\n",
    "$\\textbf{X}^{'}=\\textbf{A} \\cdot \\textbf{X}$, e dadas duas matrizes fundamentais de soluções diferentes, digamos $\\textbf{X},\\textbf{Y}$, então:\n",
    "\n",
    "$\\textbf{Y}=\\textbf{X} \\cdot \\textbf{C}$, com $\\textbf{C}$ sendo uma matriz constante e quadrada de mesma ordem que $\\textbf{X}$. Assim, conclui-se não só que $e^{\\textbf{A}t}$ é uma matriz fundamental de soluções, mas também que :\n",
    "\n",
    "$e^{\\textbf{A}t}=\\textbf{X}(t) \\cdot \\textbf{C}$.\n",
    "\n",
    "Desde que $e^{0}= \\textbf{I}$, então $C = \\textbf{X}^{-1}(0)$. Portanto,\n",
    "\n",
    "$e^{\\textbf{A}t}=\\textbf{X}(t)\\cdot \\textbf{X}^{-1}(0)$, \n",
    "\n",
    "com $\\textbf{X}(t)$ sendo uma matriz fundamental de soluções do sistema de equações diferenciais lineares homogêneo a coeficientes constantes:\n",
    "\n",
    "$\\textbf{X}^{'}=\\textbf{A}\\cdot \\textbf{X}$\n",
    "\n"
   ]
  },
  {
   "cell_type": "markdown",
   "metadata": {},
   "source": [
    "Conclusão:\n",
    "\n",
    "Seja $\\textbf{A}$ uma matriz de entradas constantes,<br></br>\n",
    "$e^{\\textbf{A}t}=\\textbf{X}(t)\\cdot \\textbf{X}^{-1}(0)$\n",
    "\n",
    "$\\Leftrightarrow$\n",
    "\n",
    "$\\textbf{x}^{'}=\\textbf{A}\\cdot \\textbf{x}$,\n",
    "\n",
    "$\\textbf{X}$ é a matriz fundamental de soluções da equação diferencial acima, \n",
    "$\\textbf{A}$ é uma matriz constante.\n",
    "\n",
    "<br></br>\n",
    "<br></br>\n",
    "<br></br>\n",
    "<br></br>\n",
    "<br></br>\n",
    "Além do mais:\n",
    "<br></br>\n",
    "<br></br>\n",
    "<br></br>\n",
    "<br></br>\n",
    "\n",
    "$\\textbf{X}(t)\\cdot \\textbf{X}^{-1}(0)=\\textbf{Y}(t)\\cdot \\textbf{Y}^{-1}(0)$, sendo \n",
    "$\\textbf{X}(t),\\textbf{Y}(t)$ duas matrizes fundamentais de soluções. Logo,\n",
    "\n",
    "<br></br>\n",
    "<br></br>\n",
    "<br></br>\n",
    "$\\textbf{X}(t)\\cdot (\\textbf{X}^{-1}(0)\\cdot \\textbf{Y}(0) ) = \\textbf{Y}(t)$\n",
    "\n",
    "$\\textbf{X}(t) \\cdot \\textbf{C} = \\textbf{Y}(t)$"
   ]
  },
  {
   "cell_type": "code",
   "execution_count": 1,
   "metadata": {},
   "outputs": [],
   "source": [
    "import sympy as sp"
   ]
  },
  {
   "cell_type": "code",
   "execution_count": 2,
   "metadata": {},
   "outputs": [],
   "source": [
    "t=sp.symbols('t')\n",
    "A=sp.Matrix([[1,1,1],\n",
    "             [0,3,2],\n",
    "             [0,0,5]\n",
    "            ])\n"
   ]
  },
  {
   "cell_type": "code",
   "execution_count": 3,
   "metadata": {},
   "outputs": [
    {
     "data": {
      "text/plain": [
       "<bound method MatrixBase.inv of Matrix([\n",
       "[1, 1, 1],\n",
       "[0, 3, 2],\n",
       "[0, 0, 5]])>"
      ]
     },
     "execution_count": 3,
     "metadata": {},
     "output_type": "execute_result"
    }
   ],
   "source": [
    "A.inv\n"
   ]
  },
  {
   "cell_type": "code",
   "execution_count": 4,
   "metadata": {},
   "outputs": [
    {
     "data": {
      "text/latex": [
       "$\\displaystyle \\left[\\begin{matrix}e^{t} & \\frac{e^{3 t}}{2} - \\frac{e^{t}}{2} & \\frac{e^{5 t}}{2} - \\frac{e^{3 t}}{2}\\\\0 & e^{3 t} & e^{5 t} - e^{3 t}\\\\0 & 0 & e^{5 t}\\end{matrix}\\right]$"
      ],
      "text/plain": [
       "Matrix([\n",
       "[exp(t), exp(3*t)/2 - exp(t)/2, exp(5*t)/2 - exp(3*t)/2],\n",
       "[     0,              exp(3*t),     exp(5*t) - exp(3*t)],\n",
       "[     0,                     0,                exp(5*t)]])"
      ]
     },
     "execution_count": 4,
     "metadata": {},
     "output_type": "execute_result"
    }
   ],
   "source": [
    "sp.exp(A*t)"
   ]
  },
  {
   "cell_type": "code",
   "execution_count": 5,
   "metadata": {
    "scrolled": true
   },
   "outputs": [
    {
     "data": {
      "text/latex": [
       "$\\displaystyle \\left[\\begin{matrix}\\frac{\\left(- b - \\sqrt{b^{2} - 4 k σ}\\right) e^{\\frac{t \\left(- b - \\sqrt{b^{2} - 4 k σ}\\right)}{2 σ}}}{2 σ \\left(\\frac{\\left(- b - \\sqrt{b^{2} - 4 k σ}\\right) e^{\\frac{t \\left(- b - \\sqrt{b^{2} - 4 k σ}\\right)}{2 σ}} e^{\\frac{t \\left(- b + \\sqrt{b^{2} - 4 k σ}\\right)}{2 σ}}}{2 σ} - \\frac{\\left(- b + \\sqrt{b^{2} - 4 k σ}\\right) e^{\\frac{t \\left(- b - \\sqrt{b^{2} - 4 k σ}\\right)}{2 σ}} e^{\\frac{t \\left(- b + \\sqrt{b^{2} - 4 k σ}\\right)}{2 σ}}}{2 σ}\\right)} & - \\frac{e^{\\frac{t \\left(- b - \\sqrt{b^{2} - 4 k σ}\\right)}{2 σ}}}{\\frac{\\left(- b - \\sqrt{b^{2} - 4 k σ}\\right) e^{\\frac{t \\left(- b - \\sqrt{b^{2} - 4 k σ}\\right)}{2 σ}} e^{\\frac{t \\left(- b + \\sqrt{b^{2} - 4 k σ}\\right)}{2 σ}}}{2 σ} - \\frac{\\left(- b + \\sqrt{b^{2} - 4 k σ}\\right) e^{\\frac{t \\left(- b - \\sqrt{b^{2} - 4 k σ}\\right)}{2 σ}} e^{\\frac{t \\left(- b + \\sqrt{b^{2} - 4 k σ}\\right)}{2 σ}}}{2 σ}}\\\\- \\frac{\\left(- b + \\sqrt{b^{2} - 4 k σ}\\right) e^{\\frac{t \\left(- b + \\sqrt{b^{2} - 4 k σ}\\right)}{2 σ}}}{2 σ \\left(\\frac{\\left(- b - \\sqrt{b^{2} - 4 k σ}\\right) e^{\\frac{t \\left(- b - \\sqrt{b^{2} - 4 k σ}\\right)}{2 σ}} e^{\\frac{t \\left(- b + \\sqrt{b^{2} - 4 k σ}\\right)}{2 σ}}}{2 σ} - \\frac{\\left(- b + \\sqrt{b^{2} - 4 k σ}\\right) e^{\\frac{t \\left(- b - \\sqrt{b^{2} - 4 k σ}\\right)}{2 σ}} e^{\\frac{t \\left(- b + \\sqrt{b^{2} - 4 k σ}\\right)}{2 σ}}}{2 σ}\\right)} & \\frac{e^{\\frac{t \\left(- b + \\sqrt{b^{2} - 4 k σ}\\right)}{2 σ}}}{\\frac{\\left(- b - \\sqrt{b^{2} - 4 k σ}\\right) e^{\\frac{t \\left(- b - \\sqrt{b^{2} - 4 k σ}\\right)}{2 σ}} e^{\\frac{t \\left(- b + \\sqrt{b^{2} - 4 k σ}\\right)}{2 σ}}}{2 σ} - \\frac{\\left(- b + \\sqrt{b^{2} - 4 k σ}\\right) e^{\\frac{t \\left(- b - \\sqrt{b^{2} - 4 k σ}\\right)}{2 σ}} e^{\\frac{t \\left(- b + \\sqrt{b^{2} - 4 k σ}\\right)}{2 σ}}}{2 σ}}\\end{matrix}\\right]$"
      ],
      "text/plain": [
       "Matrix([\n",
       "[ (-b - sqrt(b**2 - 4*k*σ))*exp(t*(-b - sqrt(b**2 - 4*k*σ))/(2*σ))/(2*σ*((-b - sqrt(b**2 - 4*k*σ))*exp(t*(-b - sqrt(b**2 - 4*k*σ))/(2*σ))*exp(t*(-b + sqrt(b**2 - 4*k*σ))/(2*σ))/(2*σ) - (-b + sqrt(b**2 - 4*k*σ))*exp(t*(-b - sqrt(b**2 - 4*k*σ))/(2*σ))*exp(t*(-b + sqrt(b**2 - 4*k*σ))/(2*σ))/(2*σ))), -exp(t*(-b - sqrt(b**2 - 4*k*σ))/(2*σ))/((-b - sqrt(b**2 - 4*k*σ))*exp(t*(-b - sqrt(b**2 - 4*k*σ))/(2*σ))*exp(t*(-b + sqrt(b**2 - 4*k*σ))/(2*σ))/(2*σ) - (-b + sqrt(b**2 - 4*k*σ))*exp(t*(-b - sqrt(b**2 - 4*k*σ))/(2*σ))*exp(t*(-b + sqrt(b**2 - 4*k*σ))/(2*σ))/(2*σ))],\n",
       "[-(-b + sqrt(b**2 - 4*k*σ))*exp(t*(-b + sqrt(b**2 - 4*k*σ))/(2*σ))/(2*σ*((-b - sqrt(b**2 - 4*k*σ))*exp(t*(-b - sqrt(b**2 - 4*k*σ))/(2*σ))*exp(t*(-b + sqrt(b**2 - 4*k*σ))/(2*σ))/(2*σ) - (-b + sqrt(b**2 - 4*k*σ))*exp(t*(-b - sqrt(b**2 - 4*k*σ))/(2*σ))*exp(t*(-b + sqrt(b**2 - 4*k*σ))/(2*σ))/(2*σ))),  exp(t*(-b + sqrt(b**2 - 4*k*σ))/(2*σ))/((-b - sqrt(b**2 - 4*k*σ))*exp(t*(-b - sqrt(b**2 - 4*k*σ))/(2*σ))*exp(t*(-b + sqrt(b**2 - 4*k*σ))/(2*σ))/(2*σ) - (-b + sqrt(b**2 - 4*k*σ))*exp(t*(-b - sqrt(b**2 - 4*k*σ))/(2*σ))*exp(t*(-b + sqrt(b**2 - 4*k*σ))/(2*σ))/(2*σ))]])"
      ]
     },
     "execution_count": 5,
     "metadata": {},
     "output_type": "execute_result"
    }
   ],
   "source": [
    "import sympy as sp\n",
    "σ,k,b,t=sp.symbols('σ,k,b,t')\n",
    "\n",
    "A=sp.Matrix([[0,1],\n",
    "             [-k/σ,-b/σ]\n",
    "            ])\n",
    "\n",
    "B=sp.exp(A*t)\n",
    "\n",
    "D=sp.sqrt(b**2 -4*k*σ)\n",
    "\n",
    "λ1 = (-b+D)/(2*σ)\n",
    "λ2 = (-b-D)/(2*σ)\n",
    "\n",
    "Xf=sp.Matrix([[sp.exp(λ1*t),sp.exp(λ2*t)],\n",
    "             [λ1*sp.exp(λ1*t),λ2*sp.exp(λ2*t)]\n",
    "            ])\n",
    "\n",
    "Xf.inv()\n"
   ]
  },
  {
   "cell_type": "code",
   "execution_count": 6,
   "metadata": {},
   "outputs": [
    {
     "data": {
      "text/latex": [
       "$\\displaystyle \\left[\\begin{matrix}e^{\\frac{t \\left(- b + \\sqrt{b^{2} - 4 k σ}\\right)}{2 σ}} & e^{\\frac{t \\left(- b - \\sqrt{b^{2} - 4 k σ}\\right)}{2 σ}}\\\\\\frac{\\left(- b + \\sqrt{b^{2} - 4 k σ}\\right) e^{\\frac{t \\left(- b + \\sqrt{b^{2} - 4 k σ}\\right)}{2 σ}}}{2 σ} & \\frac{\\left(- b - \\sqrt{b^{2} - 4 k σ}\\right) e^{\\frac{t \\left(- b - \\sqrt{b^{2} - 4 k σ}\\right)}{2 σ}}}{2 σ}\\end{matrix}\\right]$"
      ],
      "text/plain": [
       "Matrix([\n",
       "[                                exp(t*(-b + sqrt(b**2 - 4*k*σ))/(2*σ)),                                 exp(t*(-b - sqrt(b**2 - 4*k*σ))/(2*σ))],\n",
       "[(-b + sqrt(b**2 - 4*k*σ))*exp(t*(-b + sqrt(b**2 - 4*k*σ))/(2*σ))/(2*σ), (-b - sqrt(b**2 - 4*k*σ))*exp(t*(-b - sqrt(b**2 - 4*k*σ))/(2*σ))/(2*σ)]])"
      ]
     },
     "execution_count": 6,
     "metadata": {},
     "output_type": "execute_result"
    }
   ],
   "source": [
    "Xf"
   ]
  }
 ],
 "metadata": {
  "kernelspec": {
   "display_name": "Python 3",
   "language": "python",
   "name": "python3"
  },
  "language_info": {
   "codemirror_mode": {
    "name": "ipython",
    "version": 3
   },
   "file_extension": ".py",
   "mimetype": "text/x-python",
   "name": "python",
   "nbconvert_exporter": "python",
   "pygments_lexer": "ipython3",
   "version": "3.7.3"
  }
 },
 "nbformat": 4,
 "nbformat_minor": 2
}
