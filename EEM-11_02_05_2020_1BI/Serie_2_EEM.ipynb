{
  "nbformat": 4,
  "nbformat_minor": 0,
  "metadata": {
    "colab": {
      "name": "Serie_2_EEM.ipynb",
      "provenance": [],
      "collapsed_sections": [
        "JAo-eDrkqLjx",
        "IkKdq3BOqvP6",
        "sEm7WipcrmM4",
        "sanFDXi7rwyJ",
        "43SJKLeUOWtM",
        "ye2pcA3wrx1B",
        "2O4tFZv7ryS5",
        "95mutb2mryup",
        "F15K2MFtrzTy"
      ]
    },
    "kernelspec": {
      "name": "python3",
      "display_name": "Python 3"
    }
  },
  "cells": [
    {
      "cell_type": "markdown",
      "metadata": {
        "id": "U_LIHvaTb35S",
        "colab_type": "text"
      },
      "source": [
        "###INSTITUTO TECNOLÓGICO DE AERONÁUTICA – ITA\n",
        "###DIVISÃO DE ENGENHARIA ELETRÔNICA – IEE\n",
        "###DEPARTAMENTO DE MICRO-ONDAS E OPTOELETRÔNICA – IEEM"
      ]
    },
    {
      "cell_type": "markdown",
      "metadata": {
        "id": "cybcJb_EchRu",
        "colab_type": "text"
      },
      "source": [
        "**SÉRIE DE EXERCÍCIOS – S2**\n",
        "\n",
        "**EEM-11**"
      ]
    },
    {
      "cell_type": "markdown",
      "metadata": {
        "id": "KeSa4HcPcklj",
        "colab_type": "text"
      },
      "source": [
        "### Aluno: Bruno Lima Queiroz Santos"
      ]
    },
    {
      "cell_type": "markdown",
      "metadata": {
        "id": "neqA3HUcc-fL",
        "colab_type": "text"
      },
      "source": [
        "### Cabeçalho de código\n"
      ]
    },
    {
      "cell_type": "code",
      "metadata": {
        "id": "y86Th0jjplV8",
        "colab_type": "code",
        "outputId": "0682e2a8-45e4-46ae-902d-8b4a9dcc4093",
        "colab": {
          "base_uri": "https://localhost:8080/",
          "height": 72
        }
      },
      "source": [
        "#@title  { form-width: \"400px\" }\n",
        "!pip install --upgrade pip\n",
        "!pip install sympy --upgrade"
      ],
      "execution_count": 0,
      "outputs": [
        {
          "output_type": "stream",
          "text": [
            "Requirement already up-to-date: pip in /usr/local/lib/python3.6/dist-packages (20.1.1)\n",
            "Requirement already up-to-date: sympy in /usr/local/lib/python3.6/dist-packages (1.6)\n",
            "Requirement already satisfied, skipping upgrade: mpmath>=0.19 in /usr/local/lib/python3.6/dist-packages (from sympy) (1.1.0)\n"
          ],
          "name": "stdout"
        }
      ]
    },
    {
      "cell_type": "code",
      "metadata": {
        "id": "VivN82MiprYc",
        "colab_type": "code",
        "colab": {}
      },
      "source": [
        "#@title  { form-width: \"400px\" }\n",
        "import numpy as np\n",
        "import sympy as sp\n",
        "import sympy.vector as spv\n",
        "import IPython.display as disp\n",
        "from IPython.display import (Image, \n",
        "                            display, Latex)"
      ],
      "execution_count": 0,
      "outputs": []
    },
    {
      "cell_type": "code",
      "metadata": {
        "id": "e7ytQCvny4gg",
        "colab_type": "code",
        "colab": {}
      },
      "source": [
        "def dlatex(arg):\n",
        "  display(Latex(arg))\n",
        "  return None"
      ],
      "execution_count": 0,
      "outputs": []
    },
    {
      "cell_type": "markdown",
      "metadata": {
        "id": "JAo-eDrkqLjx",
        "colab_type": "text"
      },
      "source": [
        "# S2-1"
      ]
    },
    {
      "cell_type": "code",
      "metadata": {
        "id": "kGnS2DOWxFLt",
        "colab_type": "code",
        "colab": {}
      },
      "source": [
        "r_cart=spv.CoordSys3D('r')\n",
        "a=r_cart.create_new('a',\n",
        "                    transformation=None, \n",
        "                    variable_names=(\"x\", \"y\",\"z\"),\n",
        "                    vector_names=(\"x_d\", \"y_d\",\n",
        "                                  \"z_d\")\n",
        "                   )"
      ],
      "execution_count": 0,
      "outputs": []
    },
    {
      "cell_type": "code",
      "metadata": {
        "id": "c547U0aoxe36",
        "colab_type": "code",
        "outputId": "eab56503-00e0-407b-c7b6-264be209009b",
        "colab": {
          "base_uri": "https://localhost:8080/"
        }
      },
      "source": [
        "E_x, E_y, E_z = sp.symbols('E_x, E_y, E_z')\n",
        "σ,ε,ω=sp.symbols('σ,ε,ω')\n",
        "\n",
        "E=(E_x)*a.x_d + (E_y)*a.y_d + (E_z)*a.z_d\n",
        "\n",
        "A=r\"\\overrightarrow{E}=\"\n",
        "A=A+sp.latex(E)\n",
        "dlatex(A)"
      ],
      "execution_count": 0,
      "outputs": [
        {
          "output_type": "display_data",
          "data": {
            "text/latex": "\\overrightarrow{E}=(E_{x})\\mathbf{\\hat{x_d}_{a}} + (E_{y})\\mathbf{\\hat{y_d}_{a}} + (E_{z})\\mathbf{\\hat{z_d}_{a}}",
            "text/plain": [
              "<IPython.core.display.Latex object>"
            ]
          },
          "metadata": {
            "tags": []
          }
        }
      ]
    },
    {
      "cell_type": "code",
      "metadata": {
        "id": "5LVAnHVbzHaz",
        "colab_type": "code",
        "outputId": "0399c08b-f8ba-4c49-b547-fff762755697",
        "colab": {
          "base_uri": "https://localhost:8080/"
        }
      },
      "source": [
        "D= ε*E\n",
        "\n",
        "A=r\"\\overrightarrow{D}=ε(ω)[\"\n",
        "A=A+sp.latex(E)\n",
        "A=A+r\"]\"\n",
        "dlatex(A)"
      ],
      "execution_count": 0,
      "outputs": [
        {
          "output_type": "display_data",
          "data": {
            "text/latex": "\\overrightarrow{D}=ε(ω)[(E_{x})\\mathbf{\\hat{x_d}_{a}} + (E_{y})\\mathbf{\\hat{y_d}_{a}} + (E_{z})\\mathbf{\\hat{z_d}_{a}}]",
            "text/plain": [
              "<IPython.core.display.Latex object>"
            ]
          },
          "metadata": {
            "tags": []
          }
        }
      ]
    },
    {
      "cell_type": "code",
      "metadata": {
        "id": "xH8uAg46zoyM",
        "colab_type": "code",
        "outputId": "7ca90c07-7511-40ee-912c-9eacc98e10ef",
        "colab": {
          "base_uri": "https://localhost:8080/"
        }
      },
      "source": [
        "J_c=σ*E\n",
        "A=r\"\\overrightarrow{J_c}=σ[\"\n",
        "A=A+sp.latex(E)\n",
        "A=A+r\"]\"\n",
        "dlatex(A)"
      ],
      "execution_count": 0,
      "outputs": [
        {
          "output_type": "display_data",
          "data": {
            "text/latex": "\\overrightarrow{J_c}=σ[(E_{x})\\mathbf{\\hat{x_d}_{a}} + (E_{y})\\mathbf{\\hat{y_d}_{a}} + (E_{z})\\mathbf{\\hat{z_d}_{a}}]",
            "text/plain": [
              "<IPython.core.display.Latex object>"
            ]
          },
          "metadata": {
            "tags": []
          }
        }
      ]
    },
    {
      "cell_type": "code",
      "metadata": {
        "id": "f4--Kx9e0Eps",
        "colab_type": "code",
        "outputId": "578a1484-8f9e-4e61-c157-8b3fd050a79e",
        "colab": {
          "base_uri": "https://localhost:8080/"
        }
      },
      "source": [
        "B_x=sp.Function('B_x')(a.x,a.y,a.z)\n",
        "B_y=sp.Function('B_y')(a.x,a.y,a.z)\n",
        "B_z=sp.Function('B_z')(a.x,a.y,a.z)\n",
        "\n",
        "B=(B_x)*a.x_d \n",
        "B=B+(B_y)*a.y_d\n",
        "B=B+(B_z)*a.z_d\n",
        "\n",
        "\n",
        "A=r\"\\nabla \\times \\overrightarrow{B} = \\overrightarrow{J_c} + jω\\overrightarrow{D}\"\n",
        "dlatex(A)\n",
        "print(\"\\n\")\n",
        "A=r\"\\Rightarrow \\nabla \\times \\overrightarrow{B} = σ\\overrightarrow(E) + jωε\\overrightarrow{E}\"\n",
        "dlatex(A)\n",
        "print(\"\\n\")\n",
        "A=r\"\\Rightarrow \\nabla \\times \\overrightarrow{B} = (σ + jωε)\\overrightarrow{E}\"\n",
        "dlatex(A)\n",
        "print(\"\\n\")\n",
        "\n",
        "\n",
        "A=r\"\\nabla \\cdot (\\nabla \\times \\overrightarrow{B}) =\"\n",
        "#############################################\n",
        "A=A+sp.latex(spv.divergence(spv.curl(B)))\n",
        "#############################################\n",
        "A=A+\"\\Rightarrow\"\n",
        "dlatex(A)\n",
        "\n",
        "\n",
        "print(\"\\n\")\n",
        "A=r\"(σ + jωε)\\nabla \\cdot \\overrightarrow{E} = 0 \\Rightarrow \\nabla \\cdot \\overrightarrow{E} = 0\"\n",
        "dlatex(A)\n",
        "print(\"\\n\")\n",
        "A=r\"ρ_{ev}=\\nabla \\cdot \\overrightarrow{J_c} = σ\\nabla\\cdot\\overrightarrow{E} =0\"\n",
        "dlatex(A)"
      ],
      "execution_count": 0,
      "outputs": [
        {
          "output_type": "display_data",
          "data": {
            "text/latex": "\\nabla \\times \\overrightarrow{B} = \\overrightarrow{J_c} + jω\\overrightarrow{D}",
            "text/plain": [
              "<IPython.core.display.Latex object>"
            ]
          },
          "metadata": {
            "tags": []
          }
        },
        {
          "output_type": "stream",
          "text": [
            "\n",
            "\n"
          ],
          "name": "stdout"
        },
        {
          "output_type": "display_data",
          "data": {
            "text/latex": "\\Rightarrow \\nabla \\times \\overrightarrow{B} = σ\\overrightarrow(E) + jωε\\overrightarrow{E}",
            "text/plain": [
              "<IPython.core.display.Latex object>"
            ]
          },
          "metadata": {
            "tags": []
          }
        },
        {
          "output_type": "stream",
          "text": [
            "\n",
            "\n"
          ],
          "name": "stdout"
        },
        {
          "output_type": "display_data",
          "data": {
            "text/latex": "\\Rightarrow \\nabla \\times \\overrightarrow{B} = (σ + jωε)\\overrightarrow{E}",
            "text/plain": [
              "<IPython.core.display.Latex object>"
            ]
          },
          "metadata": {
            "tags": []
          }
        },
        {
          "output_type": "stream",
          "text": [
            "\n",
            "\n"
          ],
          "name": "stdout"
        },
        {
          "output_type": "display_data",
          "data": {
            "text/latex": "\\nabla \\cdot (\\nabla \\times \\overrightarrow{B}) =0\\Rightarrow",
            "text/plain": [
              "<IPython.core.display.Latex object>"
            ]
          },
          "metadata": {
            "tags": []
          }
        },
        {
          "output_type": "stream",
          "text": [
            "\n",
            "\n"
          ],
          "name": "stdout"
        },
        {
          "output_type": "display_data",
          "data": {
            "text/latex": "(σ + jωε)\\nabla \\cdot \\overrightarrow{E} = 0 \\Rightarrow \\nabla \\cdot \\overrightarrow{E} = 0",
            "text/plain": [
              "<IPython.core.display.Latex object>"
            ]
          },
          "metadata": {
            "tags": []
          }
        },
        {
          "output_type": "stream",
          "text": [
            "\n",
            "\n"
          ],
          "name": "stdout"
        },
        {
          "output_type": "display_data",
          "data": {
            "text/latex": "ρ_{ev}=\\nabla \\cdot \\overrightarrow{J_c} = σ\\nabla\\cdot\\overrightarrow{E} =0",
            "text/plain": [
              "<IPython.core.display.Latex object>"
            ]
          },
          "metadata": {
            "tags": []
          }
        }
      ]
    },
    {
      "cell_type": "markdown",
      "metadata": {
        "id": "IkKdq3BOqvP6",
        "colab_type": "text"
      },
      "source": [
        "# S2-2"
      ]
    },
    {
      "cell_type": "markdown",
      "metadata": {
        "id": "dmp1dWBkxBNj",
        "colab_type": "text"
      },
      "source": [
        "a)"
      ]
    },
    {
      "cell_type": "code",
      "metadata": {
        "id": "U_5_KY81fhOb",
        "colab_type": "code",
        "outputId": "b80372df-ef86-4066-dffc-f5464e8af012",
        "colab": {
          "base_uri": "https://localhost:8080/"
        }
      },
      "source": [
        "%whos "
      ],
      "execution_count": 0,
      "outputs": [
        {
          "output_type": "stream",
          "text": [
            "Variable              Type             Data/Info\n",
            "------------------------------------------------\n",
            "A                     str              ρ_{ev}=\\nabla \\cdot \\over<...>cdot\\overrightarrow{E} =0\n",
            "B                     VectorAdd        (B_x(a.x, a.y, a.z))*a.x_<...>B_z(a.x, a.y, a.z))*a.z_d\n",
            "B_1                   VectorMul        (-6.66666666666667e-7*I*sin(200*a.z))*a.y_d\n",
            "B_2                   VectorMul        (-3.33333333333333e-9*I*β*sin(a.z*β))*a.y_d\n",
            "B_x                   B_x              B_x(a.x, a.y, a.z)\n",
            "B_y                   B_y              B_y(a.x, a.y, a.z)\n",
            "B_z                   B_z              B_z(a.x, a.y, a.z)\n",
            "D                     VectorAdd        E_x*ε*a.x_d + E_y*ε*a.y_d + E_z*ε*a.z_d\n",
            "E                     VectorAdd        E_x*a.x_d + E_y*a.y_d + E_z*a.z_d\n",
            "E_1                   VectorMul        (100*cos(200*a.z))*a.x_d\n",
            "E_2                   VectorMul        (100*cos(a.z*β))*a.x_d\n",
            "E_x                   Symbol           E_x\n",
            "E_y                   Symbol           E_y\n",
            "E_z                   Symbol           E_z\n",
            "H                     VectorAdd        (1.0*I*(5.0*(-0.9394 - 2.<...> 9.97*I)))/(μ_0*ω))*a.z_d\n",
            "H_1                   VectorMul        (-6.66666666666667e-7*I*sin(200*a.z)/μ_0)*a.y_d\n",
            "H_2                   VectorMul        (-3.33333333333333e-9*I*β*sin(a.z*β)/μ_0)*a.y_d\n",
            "H_M                   VectorMul        (-4.0e-6*k_0**2*sin(a.y*k_0 + pi/4))*a.z_d\n",
            "H_M_x                 Zero             0\n",
            "H_M_y                 Zero             0\n",
            "H_M_z                 Mul              -4.0e-6*k_0**2*sin(a.y*k_0 + pi/4)\n",
            "I                     ImaginaryUnit    I\n",
            "Image                 type             <class 'IPython.core.display.Image'>\n",
            "J_c                   VectorAdd        E_x*σ*a.x_d + E_y*σ*a.y_d + E_z*σ*a.z_d\n",
            "L_1                   float            0.3065917220235054\n",
            "L_2                   float            0.21637216011539848\n",
            "Latex                 type             <class 'IPython.core.display.Latex'>\n",
            "P_c                   Mul              0.5*a*b*(0.125*k_z*μ_0*ω*<...>*a.z*I*k_z)/(μ_0**2*ω**2)\n",
            "P_d                   Mul              (2.89575500000039e-13*ω**<...>(1.56361928e-22*ω**2 + 2)\n",
            "P_r_e                 Mul              -a*b*ε_0*(-h*k_z/2 + sin(<...>_z)*cos(h*k_z)/2)/(8*k_z)\n",
            "P_r_m                 Add              0.25*I*a*b*(0.125*k_z*μ_0<...>_z)*cos(h*k_z)/2)/(8*k_z)\n",
            "Piecewise             FunctionClass    Piecewise\n",
            "S                     VectorAdd        (-1.0*I*pi*sin(a.z*k_z)**<...>s(a.z*k_z)/(μ_0*ω))*a.z_d\n",
            "S_1                   VectorAdd        (5.0*I*(-13.21*(-4.6827 +<...>- 9.97*I))/(μ_0*ω))*a.z_d\n",
            "S_2                   VectorAdd        (-5.0*I*(-5.0*(-2.344 - 4<...>- 9.97*I))/(μ_0*ω))*a.z_d\n",
            "T                     float            4.1407867494824017e-11\n",
            "X                     list             n=50000\n",
            "Z                     Symbol           Z\n",
            "a                     CoordSys3D       a\n",
            "a_subs                list             n=3\n",
            "aa                    Symbol           a\n",
            "arg                   Add              -0.333333333333333*a.y*pi<...>+ 100000000.0*pi*t + pi/4\n",
            "b                     Symbol           b\n",
            "c                     float            300000000.0\n",
            "conjugate_v           function         <function conjugate_v at 0x7f5e7fc58ea0>\n",
            "cos                   FunctionClass    cos\n",
            "d                     Symbol           d\n",
            "disp                  module           <module 'IPython.display'<...>ages/IPython/display.py'>\n",
            "display               function         <function display at 0x7f5ea2106950>\n",
            "dlatex                function         <function dlatex at 0x7f5e7f455ae8>\n",
            "e                     float            1.0771174812307862\n",
            "e_v                   VectorMul        (-0.00150591069949552*sin<...>0.785398163397448))*a.x_d\n",
            "ex2                   VectorMul        (-0.0015*sin(314159265.35<...>0472*a.y + 0.7854))*a.x_d\n",
            "exp                   FunctionClass    exp\n",
            "f                     float            3000000000.0\n",
            "f_r                   float            852617037.0748993\n",
            "func                  Mul              -ε_0*sin(a.z*k_z)**2*sin(a.x*pi/a)**2/4\n",
            "h                     VectorAdd        ((0.0260732402421436*sin(<...>*a.y - 4.6827*a.z))*a.z_d\n",
            "i                     Symbol           t\n",
            "k_0                   float            505.79641722795674\n",
            "k_0_v                 Mul              0.333333333333333*pi\n",
            "k_z                   Symbol           k_z\n",
            "lt                    str              \\overrightarrow{h}=(\\left<...>}})\\mathbf{\\hat{z_d}_{a}}\n",
            "magnitude_v           function         <function magnitude_v at 0x7f5e7f4c2048>\n",
            "n                     Symbol           n\n",
            "np                    module           <module 'numpy' from '/us<...>kages/numpy/__init__.py'>\n",
            "pi                    Pi               pi\n",
            "plt                   module           <module 'matplotlib.pyplo<...>es/matplotlib/pyplot.py'>\n",
            "r                     float64          13.824884792626728\n",
            "r_cart                CoordSys3D       r\n",
            "re_v                  function         <function re_v at 0x7f5e7f468488>\n",
            "result                float64          9.549160183254857e-10\n",
            "s                     VectorAdd        ((0.522819412352262*sin(4<...>*a.y - 9.3654*a.z))*a.z_d\n",
            "s_m                   VectorAdd        ((1.13086388674258e-17*si<...>*a.y - 9.3654*a.z))*a.z_d\n",
            "scientific_notation   str              1.08e+00\n",
            "sin                   FunctionClass    sin\n",
            "sp                    module           <module 'sympy' from '/us<...>kages/sympy/__init__.py'>\n",
            "spv                   module           <module 'sympy.vector' fr<...>ympy/vector/__init__.py'>\n",
            "subs_1                list             n=2\n",
            "subs_2                list             n=2\n",
            "subs_a                list             n=3\n",
            "subs_a_rev            list             n=3\n",
            "subs_in               list             n=2\n",
            "t                     Symbol           t\n",
            "u                     float            1.8947017034749445\n",
            "v                     VectorAdd        (7.17012e-10*ω)*a.x_d + (9.55e-10*ω - 4.0)*a.y_d\n",
            "v_1                   VectorAdd        (-1.0*I*(-8.0*(-4.6827 + <...> 9.97*I)))/(μ_0*ω))*a.z_d\n",
            "v_2                   VectorAdd        (5.0*I*(-13.21*(-4.6827 +<...>- 9.97*I))/(μ_0*ω))*a.z_d\n",
            "v_f_x                 Float            200400801.603206\n",
            "v_f_y                 Float            500000000.000000\n",
            "v_f_z                 Float            100300902.708124\n",
            "x                     Symbol           x\n",
            "x_max                 float            113097335529.23256\n",
            "y                     Symbol           y\n",
            "y_max                 ndarray          : 1 elems, type `complex128`, 16 bytes\n",
            "z                     Symbol           z\n",
            "α                     float            0.12491365415611329\n",
            "α_db                  float            2.17\n",
            "α_v                   VectorAdd        2.34400000000000*a.x_d + <...> + 4.68270000000000*a.z_d\n",
            "β                     float            0.25\n",
            "β_v                   VectorAdd        4.99000000000000*a.x_d + <...> + 9.97000000000000*a.z_d\n",
            "β_v_x                 float            4.99\n",
            "β_v_y                 float            2.0\n",
            "β_v_z                 float            9.97\n",
            "β_x                   float64          4.9866550056980845\n",
            "β_y                   float64          2.0010144290380847\n",
            "β_z                   float64          9.973310011396169\n",
            "γ                     complex          (7154.989480584659+15350.655621616907j)\n",
            "γ_v                   VectorAdd        (-2.344 - 4.99*I)*a.x_d +<...> (-4.6827 - 9.97*I)*a.z_d\n",
            "ε                     Symbol           ε\n",
            "ε_0                   Symbol           ε_0\n",
            "ε_ceq                 complex          (8.853999999999999e-11-1.7725698029671816e-11j)\n",
            "ε_eq                  float            7.17012e-10\n",
            "ε_r                   Add              -5.79151e-10*I*ω/(7.81809<...>/(7.8180964e-23*ω**2 + 1)\n",
            "ε_r_1                 Add              15.5 + 65.5/(7.8180964e-23*ω**2 + 1)\n",
            "ε_r_2                 Mul              5.79151e-10*ω/(7.8180964e-23*ω**2 + 1)\n",
            "η                     Pow              sqrt(79157.3891851336 - 40924.1954848744*I)\n",
            "λ_0                   float            0.012422360248447204\n",
            "λ_1                   float            0.1\n",
            "λ_2                   float            0.43274432023079695\n",
            "λ_x                   float            1.26\n",
            "λ_y                   float            3.14\n",
            "λ_z                   float            0.63\n",
            "μ                     float            1.2566370614359173e-06\n",
            "μ_0                   Symbol           μ_0\n",
            "μ_c                   complex          (6.283185307179586e-06-5.026548245743669e-06j)\n",
            "σ                     Symbol           σ\n",
            "τ                     Symbol           τ\n",
            "ω                     Symbol           ω\n",
            "ω_r                   float            5357150840.0\n",
            "ω_v                   float            1000000000.0\n"
          ],
          "name": "stdout"
        }
      ]
    },
    {
      "cell_type": "code",
      "metadata": {
        "id": "5WivKjlIgimP",
        "colab_type": "code",
        "colab": {}
      },
      "source": [
        "del(A,B,B_x,B_y,B_z,D,E,E_x,E_z,J_c,ε,σ,ω)\n"
      ],
      "execution_count": 0,
      "outputs": []
    },
    {
      "cell_type": "code",
      "metadata": {
        "id": "jCiZh4BflFLx",
        "colab_type": "code",
        "outputId": "0a16061a-400d-47c5-af32-1268a9a3ee3c",
        "colab": {
          "base_uri": "https://localhost:8080/"
        }
      },
      "source": [
        "ε_r_1,ε_r_2 = sp.symbols('ε_r_1,ε_r_2',real=True)\n",
        "ω,τ=sp.symbols('ω,τ',real=True)\n",
        "ε_r=ε_r_2+ (ε_r_1 - ε_r_2)/(1+1j*ω*τ)\n",
        "\n",
        "ε_r"
      ],
      "execution_count": 0,
      "outputs": [
        {
          "output_type": "execute_result",
          "data": {
            "text/latex": "$\\displaystyle ε_{r 2} + \\frac{ε_{r 1} - ε_{r 2}}{1.0 i τ ω + 1}$",
            "text/plain": [
              "ε_r_2 + (ε_r_1 - ε_r_2)/(1.0*I*τ*ω + 1)"
            ]
          },
          "metadata": {
            "tags": []
          },
          "execution_count": 168
        }
      ]
    },
    {
      "cell_type": "code",
      "metadata": {
        "id": "j4A9e_kKmyye",
        "colab_type": "code",
        "outputId": "b39975df-6d34-4b3b-8ec1-f487d66e2c00",
        "colab": {
          "base_uri": "https://localhost:8080/"
        }
      },
      "source": [
        "x=np.linspace(10e9,30e9,1000)\n",
        "\n",
        "ε_r=ε_r.subs([\n",
        "       (ε_r_1,81),\n",
        "       (ε_r_2,15.5)       \n",
        "])\n",
        "-sp.im(ε_r)"
      ],
      "execution_count": 0,
      "outputs": [
        {
          "output_type": "execute_result",
          "data": {
            "text/latex": "$\\displaystyle \\frac{65.5 τ ω}{1.0 τ^{2} ω^{2} + 1}$",
            "text/plain": [
              "65.5*τ*ω/(1.0*τ**2*ω**2 + 1)"
            ]
          },
          "metadata": {
            "tags": []
          },
          "execution_count": 169
        }
      ]
    },
    {
      "cell_type": "markdown",
      "metadata": {
        "id": "JhfVef5GoZjZ",
        "colab_type": "text"
      },
      "source": [
        "Então, conclui-se que a constante de tempo para o qual o valor é máximo é :\n"
      ]
    },
    {
      "cell_type": "code",
      "metadata": {
        "id": "3A9FG7r4om9I",
        "colab_type": "code",
        "outputId": "b2a5571f-3f1f-4ade-f340-4379f2cfab5d",
        "colab": {
          "base_uri": "https://localhost:8080/"
        }
      },
      "source": [
        "f=18*1e9\n",
        "1/(np.pi*2*f)"
      ],
      "execution_count": 0,
      "outputs": [
        {
          "output_type": "execute_result",
          "data": {
            "text/plain": [
              "8.841941282883074e-12"
            ]
          },
          "metadata": {
            "tags": []
          },
          "execution_count": 170
        }
      ]
    },
    {
      "cell_type": "code",
      "metadata": {
        "id": "llkEpBZcuEMe",
        "colab_type": "code",
        "outputId": "80b2868e-44ee-49ae-bd7a-8a1541f23405",
        "colab": {
          "base_uri": "https://localhost:8080/"
        }
      },
      "source": [
        "ε_r=ε_r.subs([\n",
        "       (τ,8.842e-12)     \n",
        "])\n",
        "ε_r"
      ],
      "execution_count": 0,
      "outputs": [
        {
          "output_type": "execute_result",
          "data": {
            "text/latex": "$\\displaystyle 15.5 + \\frac{65.5}{8.842 \\cdot 10^{-12} i ω + 1}$",
            "text/plain": [
              "15.5 + 65.5/(8.842e-12*I*ω + 1)"
            ]
          },
          "metadata": {
            "tags": []
          },
          "execution_count": 171
        }
      ]
    },
    {
      "cell_type": "code",
      "metadata": {
        "id": "fxQrE_yEuUD-",
        "colab_type": "code",
        "outputId": "bb74e589-7fde-4d68-92e0-cff527dbe9f1",
        "colab": {
          "base_uri": "https://localhost:8080/"
        }
      },
      "source": [
        "ε_r=sp.re(ε_r)+1j*sp.im(ε_r)\n",
        "ε_r"
      ],
      "execution_count": 0,
      "outputs": [
        {
          "output_type": "execute_result",
          "data": {
            "text/latex": "$\\displaystyle - \\frac{5.79151 \\cdot 10^{-10} i ω}{7.8180964 \\cdot 10^{-23} ω^{2} + 1} + 15.5 + \\frac{65.5}{7.8180964 \\cdot 10^{-23} ω^{2} + 1}$",
            "text/plain": [
              "-5.79151e-10*I*ω/(7.8180964e-23*ω**2 + 1) + 15.5 + 65.5/(7.8180964e-23*ω**2 + 1)"
            ]
          },
          "metadata": {
            "tags": []
          },
          "execution_count": 172
        }
      ]
    },
    {
      "cell_type": "code",
      "metadata": {
        "id": "wRJ4Cpr-uh-T",
        "colab_type": "code",
        "colab": {}
      },
      "source": [
        "ε_r_2=-1.0*sp.im(ε_r)\n",
        "ε_r_1=sp.re(ε_r)"
      ],
      "execution_count": 0,
      "outputs": []
    },
    {
      "cell_type": "code",
      "metadata": {
        "id": "iC-NuCAzy6aC",
        "colab_type": "code",
        "colab": {}
      },
      "source": [
        "X=[]\n",
        "y=[]\n",
        "x=np.linspace(5e8,30e10,50000)\n",
        "y.extend([complex(ε_r.subs([(ω,aux)])) for aux in np.pi*2*x])\n",
        "X.extend(x)"
      ],
      "execution_count": 0,
      "outputs": []
    },
    {
      "cell_type": "code",
      "metadata": {
        "id": "l-ypBV5N2h1j",
        "colab_type": "code",
        "outputId": "db9ff225-240d-4901-be65-04e43c4b6104",
        "colab": {
          "base_uri": "https://localhost:8080/"
        }
      },
      "source": [
        "y=np.array(y)\n",
        "import matplotlib.pyplot as plt\n",
        "plt.plot(X, y.real, label=\"ε_1\")\n",
        "plt.plot(X, -y.imag, label=\"ε_2\")\n",
        "x_max=2*np.pi*18e9\n",
        "y_max=complex(ε_r.subs([(ω,x_max)]))\n",
        "y_max=np.array(y_max)\n",
        "plt.plot(18e9,-y_max.imag,color='green', marker='o',linestyle='dashed',\n",
        "         fillstyle='none',label=\"ε_2_max\", markersize=5)\n",
        "plt.legend()\n",
        "plt.xlabel(\"f (Hz)\")\n",
        "plt.ylabel(\"Valor(Si)\")\n",
        "plt.show()"
      ],
      "execution_count": 0,
      "outputs": [
        {
          "output_type": "display_data",
          "data": {
            "image/png": "[encoded data removed]",
            "text/plain": [
              "<Figure size 432x288 with 1 Axes>"
            ]
          },
          "metadata": {
            "tags": [],
            "needs_background": "light"
          }
        }
      ]
    },
    {
      "cell_type": "markdown",
      "metadata": {
        "id": "a40ys_VR73cR",
        "colab_type": "text"
      },
      "source": [
        "O máximo valor de $ε^{´´}$ acontece em $f=0.18 \\cdot 10^{11} \\text{Hz}$"
      ]
    },
    {
      "cell_type": "markdown",
      "metadata": {
        "id": "cr7BwOKjBXqU",
        "colab_type": "text"
      },
      "source": [
        "b)"
      ]
    },
    {
      "cell_type": "code",
      "metadata": {
        "id": "7iDr82ymGB76",
        "colab_type": "code",
        "outputId": "fbf5439b-4f62-4511-acf3-7276252b5f77",
        "colab": {
          "base_uri": "https://localhost:8080/"
        }
      },
      "source": [
        "ε_r_2"
      ],
      "execution_count": 0,
      "outputs": [
        {
          "output_type": "execute_result",
          "data": {
            "text/latex": "$\\displaystyle \\frac{5.79151 \\cdot 10^{-10} ω}{7.8180964 \\cdot 10^{-23} ω^{2} + 1}$",
            "text/plain": [
              "5.79151e-10*ω/(7.8180964e-23*ω**2 + 1)"
            ]
          },
          "metadata": {
            "tags": []
          },
          "execution_count": 176
        }
      ]
    },
    {
      "cell_type": "code",
      "metadata": {
        "id": "cblj0CkTBZrz",
        "colab_type": "code",
        "outputId": "bb2f53d0-41ae-46af-ac44-e91f8660408f",
        "colab": {
          "base_uri": "https://localhost:8080/"
        }
      },
      "source": [
        "# FASOR\n",
        "E=1.0*a.z_d\n",
        "\n",
        "σ=sp.symbols('σ')\n",
        "x,y,z,v=sp.symbols('x,y,z,v')\n",
        "func=E.dot(E)\n",
        "func=func*(ε_r_2+(0/ω)) # σ=0\n",
        "dlatex(sp.latex(func))\n",
        "print(\"\\n\\n\")\n",
        "P_d=sp.simplify((ω/2)*sp.integrate(func,\n",
        "                       (v,0,0.5e-3)))\n",
        "print(\"resposta é : \\n\\n\")\n",
        "P_d"
      ],
      "execution_count": 0,
      "outputs": [
        {
          "output_type": "display_data",
          "data": {
            "text/latex": "\\frac{5.79151 \\cdot 10^{-10} ω}{7.8180964 \\cdot 10^{-23} ω^{2} + 1}",
            "text/plain": [
              "<IPython.core.display.Latex object>"
            ]
          },
          "metadata": {
            "tags": []
          }
        },
        {
          "output_type": "stream",
          "text": [
            "\n",
            "\n",
            "\n",
            "resposta é : \n",
            "\n",
            "\n"
          ],
          "name": "stdout"
        },
        {
          "output_type": "execute_result",
          "data": {
            "text/latex": "$\\displaystyle \\frac{1.4478775 \\cdot 10^{-13} ω^{2}}{7.8180964 \\cdot 10^{-23} ω^{2} + 1}$",
            "text/plain": [
              "1.4478775e-13*ω**2/(7.8180964e-23*ω**2 + 1)"
            ]
          },
          "metadata": {
            "tags": []
          },
          "execution_count": 177
        }
      ]
    },
    {
      "cell_type": "markdown",
      "metadata": {
        "id": "jgPf9m6UK8o0",
        "colab_type": "text"
      },
      "source": [
        "c)"
      ]
    },
    {
      "cell_type": "code",
      "metadata": {
        "id": "2wt4IQHGK-np",
        "colab_type": "code",
        "outputId": "d1371332-471e-4cbe-a228-9c0cc0baa485",
        "colab": {
          "base_uri": "https://localhost:8080/"
        }
      },
      "source": [
        "# FASOR\n",
        "E=1.0*a.z_d\n",
        "\n",
        "σ=sp.symbols('σ')\n",
        "x,y,z,v=sp.symbols('x,y,z,v')\n",
        "func=E.dot(E)\n",
        "func=func*(ε_r_2+(1.0/ω)) # σ=1.0\n",
        "dlatex(sp.latex(func))\n",
        "print(\"\\n\\n\")\n",
        "P_d=sp.simplify((ω/2)*sp.integrate(func,\n",
        "                       (v,0,0.5e-3)))\n",
        "print(\"resposta é : \\n\\n\")\n",
        "P_d"
      ],
      "execution_count": 0,
      "outputs": [
        {
          "output_type": "display_data",
          "data": {
            "text/latex": "\\frac{5.79151 \\cdot 10^{-10} ω}{7.8180964 \\cdot 10^{-23} ω^{2} + 1} + \\frac{1.0}{ω}",
            "text/plain": [
              "<IPython.core.display.Latex object>"
            ]
          },
          "metadata": {
            "tags": []
          }
        },
        {
          "output_type": "stream",
          "text": [
            "\n",
            "\n",
            "\n",
            "resposta é : \n",
            "\n",
            "\n"
          ],
          "name": "stdout"
        },
        {
          "output_type": "execute_result",
          "data": {
            "text/latex": "$\\displaystyle \\frac{2.89575500000039 \\cdot 10^{-13} ω^{2} + 0.0005}{1.56361928 \\cdot 10^{-22} ω^{2} + 2}$",
            "text/plain": [
              "(2.89575500000039e-13*ω**2 + 0.0005)/(1.56361928e-22*ω**2 + 2)"
            ]
          },
          "metadata": {
            "tags": []
          },
          "execution_count": 178
        }
      ]
    },
    {
      "cell_type": "markdown",
      "metadata": {
        "id": "sEm7WipcrmM4",
        "colab_type": "text"
      },
      "source": [
        "# S2-3"
      ]
    },
    {
      "cell_type": "markdown",
      "metadata": {
        "id": "1vQh_bjcLmvx",
        "colab_type": "text"
      },
      "source": [
        "Sabendo-se que:\n",
        "\n",
        "$$Z=\\frac{d}{jωε_{ceq}A}\\Rightarrow ε_{ceq}=\\frac{d}{jωZA}$$"
      ]
    },
    {
      "cell_type": "code",
      "metadata": {
        "id": "Mw-GExQVZ7Mc",
        "colab_type": "code",
        "outputId": "98f8cf99-0cff-4734-94fb-722ac1702128",
        "colab": {
          "base_uri": "https://localhost:8080/"
        }
      },
      "source": [
        "d,ω,Z,A = sp.symbols('d,ω,Z,A')\n",
        "\n",
        "ε_ceq=d/(ω*Z*A*1j)\n",
        "ε_ceq"
      ],
      "execution_count": 0,
      "outputs": [
        {
          "output_type": "execute_result",
          "data": {
            "text/latex": "$\\displaystyle - \\frac{1.0 i d}{A Z ω}$",
            "text/plain": [
              "-1.0*I*d/(A*Z*ω)"
            ]
          },
          "metadata": {
            "tags": []
          },
          "execution_count": 179
        }
      ]
    },
    {
      "cell_type": "code",
      "metadata": {
        "id": "JKKX1MZjdKxV",
        "colab_type": "code",
        "outputId": "f83556b7-1a85-4e10-fb20-ca4293304622",
        "colab": {
          "base_uri": "https://localhost:8080/"
        }
      },
      "source": [
        "subs_in=[(d, 0.01),\n",
        "         (A, 0.001)\n",
        "        ]\n",
        "ε_ceq=ε_ceq.subs(subs_in)\n",
        "ε_ceq"
      ],
      "execution_count": 0,
      "outputs": [
        {
          "output_type": "execute_result",
          "data": {
            "text/latex": "$\\displaystyle - \\frac{10.0 i}{Z ω}$",
            "text/plain": [
              "-10.0*I/(Z*ω)"
            ]
          },
          "metadata": {
            "tags": []
          },
          "execution_count": 180
        }
      ]
    },
    {
      "cell_type": "code",
      "metadata": {
        "id": "rp3ZeQZmd2R5",
        "colab_type": "code",
        "colab": {}
      },
      "source": [
        "subs_1=[(ω,2*np.pi*10e6),\n",
        "        (Z,324.6-29.5j)]\n",
        "\n",
        "subs_2=[(ω,2*np.pi*10e6),\n",
        "        (Z,174.5-136.5j)]"
      ],
      "execution_count": 0,
      "outputs": []
    },
    {
      "cell_type": "code",
      "metadata": {
        "id": "fqH_nWGLgISv",
        "colab_type": "code",
        "outputId": "1045d12b-35e3-4356-c260-fa964d134c59",
        "colab": {
          "base_uri": "https://localhost:8080/"
        }
      },
      "source": [
        "ε=sp.simplify(ε_ceq.subs(subs_1))\n",
        "ε"
      ],
      "execution_count": 0,
      "outputs": [
        {
          "output_type": "execute_result",
          "data": {
            "text/latex": "$\\displaystyle 4.4194970596065 \\cdot 10^{-11} - 4.86294490016363 \\cdot 10^{-10} i$",
            "text/plain": [
              "4.4194970596065e-11 - 4.86294490016363e-10*I"
            ]
          },
          "metadata": {
            "tags": []
          },
          "execution_count": 182
        }
      ]
    },
    {
      "cell_type": "code",
      "metadata": {
        "id": "rlKPa1U3gVTT",
        "colab_type": "code",
        "outputId": "1eb764d2-c6bd-41d3-cc5a-544cdffaa144",
        "colab": {
          "base_uri": "https://localhost:8080/"
        }
      },
      "source": [
        "sp.simplify(ε_ceq.subs(subs_2))"
      ],
      "execution_count": 0,
      "outputs": [
        {
          "output_type": "execute_result",
          "data": {
            "text/latex": "$\\displaystyle 4.42614979514974 \\cdot 10^{-10} - 5.65833801651011 \\cdot 10^{-10} i$",
            "text/plain": [
              "4.42614979514974e-10 - 5.65833801651011e-10*I"
            ]
          },
          "metadata": {
            "tags": []
          },
          "execution_count": 183
        }
      ]
    },
    {
      "cell_type": "code",
      "metadata": {
        "id": "BvTyRp-OgtNz",
        "colab_type": "code",
        "outputId": "cb66c4e6-ee68-4478-9148-7692cd67d49b",
        "colab": {
          "base_uri": "https://localhost:8080/"
        }
      },
      "source": [
        "A=r\"ε_{ceq}=ε_c-jσ/ω\"\n",
        "dlatex(A)\n",
        "print(\"\\n\\n\")\n",
        "\n",
        "A=r\"ε_c=\"\n",
        "A=A+sp.latex(sp.re(ε))\n",
        "dlatex(A)\n",
        "\n",
        "print(\"\\n\\n\")\n",
        "\n",
        "A=r\"σ/(2 \\pi \\text{1MHz})=\"\n",
        "A=A+sp.latex(-sp.im(ε))\n",
        "dlatex(A)"
      ],
      "execution_count": 0,
      "outputs": [
        {
          "output_type": "display_data",
          "data": {
            "text/latex": "ε_{ceq}=ε_c-jσ/ω",
            "text/plain": [
              "<IPython.core.display.Latex object>"
            ]
          },
          "metadata": {
            "tags": []
          }
        },
        {
          "output_type": "stream",
          "text": [
            "\n",
            "\n",
            "\n"
          ],
          "name": "stdout"
        },
        {
          "output_type": "display_data",
          "data": {
            "text/latex": "ε_c=4.4194970596065 \\cdot 10^{-11}",
            "text/plain": [
              "<IPython.core.display.Latex object>"
            ]
          },
          "metadata": {
            "tags": []
          }
        },
        {
          "output_type": "stream",
          "text": [
            "\n",
            "\n",
            "\n"
          ],
          "name": "stdout"
        },
        {
          "output_type": "display_data",
          "data": {
            "text/latex": "σ/(2 \\pi \\text{1MHz})=4.86294490016363 \\cdot 10^{-10}",
            "text/plain": [
              "<IPython.core.display.Latex object>"
            ]
          },
          "metadata": {
            "tags": []
          }
        }
      ]
    },
    {
      "cell_type": "code",
      "metadata": {
        "id": "7OXGPG8aiHXg",
        "colab_type": "code",
        "outputId": "7d0e08a6-47ad-41ef-b251-d1a430fef78b",
        "colab": {
          "base_uri": "https://localhost:8080/"
        }
      },
      "source": [
        "4.86294490016363e-13*2*np.pi*10e6"
      ],
      "execution_count": 0,
      "outputs": [
        {
          "output_type": "execute_result",
          "data": {
            "text/plain": [
              "3.055478394633202e-05"
            ]
          },
          "metadata": {
            "tags": []
          },
          "execution_count": 185
        }
      ]
    },
    {
      "cell_type": "code",
      "metadata": {
        "id": "2Rgfj2GpiUHY",
        "colab_type": "code",
        "outputId": "57e21608-6d03-4686-e42a-b5d2b1ed9d20",
        "colab": {
          "base_uri": "https://localhost:8080/"
        }
      },
      "source": [
        "A=r\"σ=%.6f\\; \\text{S/m}\"%(4.86294490016363e-13*2*np.pi*10e6)\n",
        "dlatex(A)"
      ],
      "execution_count": 0,
      "outputs": [
        {
          "output_type": "display_data",
          "data": {
            "text/latex": "σ=0.000031\\; \\text{S/m}",
            "text/plain": [
              "<IPython.core.display.Latex object>"
            ]
          },
          "metadata": {
            "tags": []
          }
        }
      ]
    },
    {
      "cell_type": "code",
      "metadata": {
        "id": "2O77FHpqinpd",
        "colab_type": "code",
        "outputId": "f82aa003-bb2e-43f5-f3e4-29f303423267",
        "colab": {
          "base_uri": "https://localhost:8080/"
        }
      },
      "source": [
        "A=r\"ε_c=4.4195 \\cdot 10^{-11}\\;\\text{F/m}\"\n",
        "dlatex(A)"
      ],
      "execution_count": 0,
      "outputs": [
        {
          "output_type": "display_data",
          "data": {
            "text/latex": "ε_c=4.4195 \\cdot 10^{-11}\\;\\text{F/m}",
            "text/plain": [
              "<IPython.core.display.Latex object>"
            ]
          },
          "metadata": {
            "tags": []
          }
        }
      ]
    },
    {
      "cell_type": "markdown",
      "metadata": {
        "id": "sanFDXi7rwyJ",
        "colab_type": "text"
      },
      "source": [
        "# S2-4"
      ]
    },
    {
      "cell_type": "markdown",
      "metadata": {
        "id": "1uA9KvdWmdA6",
        "colab_type": "text"
      },
      "source": [
        "a)"
      ]
    },
    {
      "cell_type": "code",
      "metadata": {
        "id": "KFUHYqXcmy17",
        "colab_type": "code",
        "outputId": "e797db77-7034-4131-aea6-3c676db0160d",
        "colab": {
          "base_uri": "https://localhost:8080/"
        }
      },
      "source": [
        "aa=sp.symbols('a',real=True)\n",
        "E=sp.sin(sp.pi*a.x/aa)\n",
        "k_z=sp.symbols('k_z',real=True)\n",
        "E=E*sp.sin(k_z*a.z)\n",
        "E=E*a.y_d\n",
        "E"
      ],
      "execution_count": 0,
      "outputs": [
        {
          "output_type": "execute_result",
          "data": {
            "text/latex": "$\\displaystyle (\\sin{\\left(\\mathbf{{z}_{a}} k_{z} \\right)} \\sin{\\left(\\frac{\\mathbf{{x}_{a}} \\pi}{a} \\right)})\\mathbf{\\hat{y_d}_{a}}$",
            "text/plain": [
              "(sin(a.z*k_z)*sin(a.x*pi/a))*a.y_d"
            ]
          },
          "metadata": {
            "tags": []
          },
          "execution_count": 188
        }
      ]
    },
    {
      "cell_type": "code",
      "metadata": {
        "id": "UWeROHZApG4d",
        "colab_type": "code",
        "colab": {}
      },
      "source": [
        "ω, μ_0 = sp.symbols('ω, μ_0', real=True)"
      ],
      "execution_count": 0,
      "outputs": []
    },
    {
      "cell_type": "code",
      "metadata": {
        "id": "IPsxeT1AroMg",
        "colab_type": "code",
        "outputId": "82e7ba37-0247-4043-ea98-281b946d9bfa",
        "colab": {
          "base_uri": "https://localhost:8080/"
        }
      },
      "source": [
        "H=-(1/(1j*ω*μ_0))*spv.curl(E)\n",
        "H"
      ],
      "execution_count": 0,
      "outputs": [
        {
          "output_type": "execute_result",
          "data": {
            "text/latex": "$\\displaystyle (- \\frac{1.0 i k_{z} \\sin{\\left(\\frac{\\mathbf{{x}_{a}} \\pi}{a} \\right)} \\cos{\\left(\\mathbf{{z}_{a}} k_{z} \\right)}}{μ_{0} ω})\\mathbf{\\hat{x_d}_{a}} + (\\frac{1.0 i \\pi \\sin{\\left(\\mathbf{{z}_{a}} k_{z} \\right)} \\cos{\\left(\\frac{\\mathbf{{x}_{a}} \\pi}{a} \\right)}}{a μ_{0} ω})\\mathbf{\\hat{z_d}_{a}}$",
            "text/plain": [
              "(-1.0*I*k_z*sin(a.x*pi/a)*cos(a.z*k_z)/(μ_0*ω))*a.x_d + (1.0*I*pi*sin(a.z*k_z)*cos(a.x*pi/a)/(a*μ_0*ω))*a.z_d"
            ]
          },
          "metadata": {
            "tags": []
          },
          "execution_count": 190
        }
      ]
    },
    {
      "cell_type": "code",
      "metadata": {
        "id": "HlUHBYpLttdR",
        "colab_type": "code",
        "outputId": "5c3854e5-df70-4b70-c136-2394d56a67a3",
        "colab": {
          "base_uri": "https://localhost:8080/"
        }
      },
      "source": [
        "H.dot(a.x_d)"
      ],
      "execution_count": 0,
      "outputs": [
        {
          "output_type": "execute_result",
          "data": {
            "text/latex": "$\\displaystyle - \\frac{1.0 i k_{z} \\sin{\\left(\\frac{\\mathbf{{x}_{a}} \\pi}{a} \\right)} \\cos{\\left(\\mathbf{{z}_{a}} k_{z} \\right)}}{μ_{0} ω}$",
            "text/plain": [
              "-1.0*I*k_z*sin(a.x*pi/a)*cos(a.z*k_z)/(μ_0*ω)"
            ]
          },
          "metadata": {
            "tags": []
          },
          "execution_count": 191
        }
      ]
    },
    {
      "cell_type": "markdown",
      "metadata": {
        "id": "OnCXFSIOusQM",
        "colab_type": "text"
      },
      "source": [
        "b)"
      ]
    },
    {
      "cell_type": "code",
      "metadata": {
        "id": "n6dv-iN2uuwf",
        "colab_type": "code",
        "colab": {}
      },
      "source": [
        "#E=1.0*a.z_d\n",
        "\n",
        "σ=sp.symbols('σ')\n",
        "#x,y,z,v=sp.symbols('x,y,z,v')\n",
        "ε_0=sp.symbols('ε_0')\n",
        "\n",
        "\n",
        "# ====================================== #\n",
        "# Caixa de configurações dependem do \n",
        "# sistema de coordenadas adotado e\n",
        "# do valor das variáveis.\n",
        "\n",
        "# Assinalando variáveis reais !\n",
        "x,y,z=sp.symbols('x,y,z', real=True)\n",
        "\n",
        "# substituição direta (esquerda --> direita)\n",
        "subs_a=[(a.x,x),\n",
        "        (a.y,y),\n",
        "        (a.z,z)]\n",
        "\n",
        "# substituição reversa ( esquerda --> direita)\n",
        "subs_a_rev=[(x,a.x),\n",
        "        (y,a.y),\n",
        "        (z,a.z)]\n",
        "a_subs=[subs_a,subs_a_rev,a] # LISTAS DE SUBSTITUIÇÕES DIRETAS E REVERSAS.\n",
        "# ====================================== #\n",
        "\n",
        "#def conjugate_v(D,[subs_a,subs_a_rev,a]):\n",
        "def conjugate_v(D,a_subs):\n",
        "  # D é o vetor a ser conjugado.\n",
        "  # subs_a é o assinalamento de variáveis reais.\n",
        "  # subs_a é a reatribuição dos objetos\n",
        "  # a é o sistema de referência.\n",
        "  D_conj=D.to_matrix(a_subs[2])\n",
        "\n",
        "  # ---------------------------------------- #\n",
        "  D_conj=sp.conjugate(D_conj.subs(a_subs[0]))\n",
        "  # ---------------------------------------- #\n",
        "\n",
        "  D_conj=spv.matrix_to_vector(D_conj,a_subs[2])\n",
        "  D_conj=D_conj.subs(a_subs[1])\n",
        "\n",
        "  return D_conj"
      ],
      "execution_count": 0,
      "outputs": []
    },
    {
      "cell_type": "code",
      "metadata": {
        "id": "eYqs10AR0KoX",
        "colab_type": "code",
        "outputId": "9520cbf0-fcd7-4881-896c-a45a989136f3",
        "colab": {
          "base_uri": "https://localhost:8080/"
        }
      },
      "source": [
        "S=E.cross(\n",
        "    conjugate_v(H,\n",
        "                a_subs)\n",
        ")\n",
        "S"
      ],
      "execution_count": 0,
      "outputs": [
        {
          "output_type": "execute_result",
          "data": {
            "text/latex": "$\\displaystyle (- \\frac{1.0 i \\pi \\sin^{2}{\\left(\\mathbf{{z}_{a}} k_{z} \\right)} \\sin{\\left(\\frac{\\mathbf{{x}_{a}} \\pi}{a} \\right)} \\cos{\\left(\\frac{\\mathbf{{x}_{a}} \\pi}{a} \\right)}}{a μ_{0} ω})\\mathbf{\\hat{x_d}_{a}} + (- \\frac{1.0 i k_{z} \\sin{\\left(\\mathbf{{z}_{a}} k_{z} \\right)} \\sin^{2}{\\left(\\frac{\\mathbf{{x}_{a}} \\pi}{a} \\right)} \\cos{\\left(\\mathbf{{z}_{a}} k_{z} \\right)}}{μ_{0} ω})\\mathbf{\\hat{z_d}_{a}}$",
            "text/plain": [
              "(-1.0*I*pi*sin(a.z*k_z)**2*sin(a.x*pi/a)*cos(a.x*pi/a)/(a*μ_0*ω))*a.x_d + (-1.0*I*k_z*sin(a.z*k_z)*sin(a.x*pi/a)**2*cos(a.z*k_z)/(μ_0*ω))*a.z_d"
            ]
          },
          "metadata": {
            "tags": []
          },
          "execution_count": 193
        }
      ]
    },
    {
      "cell_type": "code",
      "metadata": {
        "id": "HSi96GTP3dy7",
        "colab_type": "code",
        "outputId": "eec2a547-2603-4a57-8814-6fe8c5f97895",
        "colab": {
          "base_uri": "https://localhost:8080/"
        }
      },
      "source": [
        "spv.divergence(S) # desnecessário"
      ],
      "execution_count": 0,
      "outputs": [
        {
          "output_type": "execute_result",
          "data": {
            "text/latex": "$\\displaystyle \\frac{1.0 i k_{z}^{2} \\sin^{2}{\\left(\\mathbf{{z}_{a}} k_{z} \\right)} \\sin^{2}{\\left(\\frac{\\mathbf{{x}_{a}} \\pi}{a} \\right)}}{μ_{0} ω} - \\frac{1.0 i k_{z}^{2} \\sin^{2}{\\left(\\frac{\\mathbf{{x}_{a}} \\pi}{a} \\right)} \\cos^{2}{\\left(\\mathbf{{z}_{a}} k_{z} \\right)}}{μ_{0} ω} + \\frac{1.0 i \\pi^{2} \\sin^{2}{\\left(\\mathbf{{z}_{a}} k_{z} \\right)} \\sin^{2}{\\left(\\frac{\\mathbf{{x}_{a}} \\pi}{a} \\right)}}{a^{2} μ_{0} ω} - \\frac{1.0 i \\pi^{2} \\sin^{2}{\\left(\\mathbf{{z}_{a}} k_{z} \\right)} \\cos^{2}{\\left(\\frac{\\mathbf{{x}_{a}} \\pi}{a} \\right)}}{a^{2} μ_{0} ω}$",
            "text/plain": [
              "1.0*I*k_z**2*sin(a.z*k_z)**2*sin(a.x*pi/a)**2/(μ_0*ω) - 1.0*I*k_z**2*sin(a.x*pi/a)**2*cos(a.z*k_z)**2/(μ_0*ω) + 1.0*I*pi**2*sin(a.z*k_z)**2*sin(a.x*pi/a)**2/(a**2*μ_0*ω) - 1.0*I*pi**2*sin(a.z*k_z)**2*cos(a.x*pi/a)**2/(a**2*μ_0*ω)"
            ]
          },
          "metadata": {
            "tags": []
          },
          "execution_count": 194
        }
      ]
    },
    {
      "cell_type": "code",
      "metadata": {
        "id": "lc5cPru_3ufM",
        "colab_type": "code",
        "colab": {}
      },
      "source": [
        "func=S.dot(-a.z_d)#regra da mão direita sobre um volume fechado\n",
        "aa,b=sp.symbols('a,b',real=True)\n",
        "P_c=(1/2)*sp.integrate(func,\n",
        "                   (a.x,0,aa),\n",
        "                   (a.y,0,b)\n",
        "                   )"
      ],
      "execution_count": 0,
      "outputs": []
    },
    {
      "cell_type": "code",
      "metadata": {
        "id": "1RIRmwu80Jxr",
        "colab_type": "code",
        "outputId": "8fef8602-4ed9-4d5f-d081-b159e0e8fc7a",
        "colab": {
          "base_uri": "https://localhost:8080/"
        }
      },
      "source": [
        "P_c"
      ],
      "execution_count": 0,
      "outputs": [
        {
          "output_type": "execute_result",
          "data": {
            "text/latex": "$\\displaystyle 0.5 \\left(\\begin{cases} \\frac{a b \\left(0.125 k_{z} μ_{0} ω e^{4 \\mathbf{{z}_{a}} i k_{z}} - 0.125 k_{z} μ_{0} ω\\right) e^{- 2 \\mathbf{{z}_{a}} i k_{z}}}{μ_{0}^{2} ω^{2}} & \\text{for}\\: \\pi^{4} μ_{0}^{4} ω^{4} e^{4 \\mathbf{{z}_{a}} i k_{z}} \\neq 0 \\\\b \\left(a \\left(- \\frac{0.125 k_{z} e^{2 \\mathbf{{z}_{a}} i k_{z}}}{μ_{0} ω} + \\frac{0.125 k_{z} e^{- 2 \\mathbf{{z}_{a}} i k_{z}}}{μ_{0} ω}\\right) + \\frac{a \\left(0.125 k_{z} μ_{0} ω e^{4 \\mathbf{{z}_{a}} i k_{z}} - 0.125 k_{z} μ_{0} ω\\right) e^{- 2 \\mathbf{{z}_{a}} i k_{z}}}{μ_{0}^{2} ω^{2}}\\right) & \\text{otherwise} \\end{cases}\\right)$",
            "text/plain": [
              "0.5*Piecewise((a*b*(0.125*k_z*μ_0*ω*exp(4*a.z*I*k_z) - 0.125*k_z*μ_0*ω)*exp(-2*a.z*I*k_z)/(μ_0**2*ω**2), Ne(pi**4*μ_0**4*ω**4*exp(4*a.z*I*k_z), 0)), (b*(a*(-0.125*k_z*exp(2*a.z*I*k_z)/(μ_0*ω) + 0.125*k_z*exp(-2*a.z*I*k_z)/(μ_0*ω)) + a*(0.125*k_z*μ_0*ω*exp(4*a.z*I*k_z) - 0.125*k_z*μ_0*ω)*exp(-2*a.z*I*k_z)/(μ_0**2*ω**2)), True))"
            ]
          },
          "metadata": {
            "tags": []
          },
          "execution_count": 196
        }
      ]
    },
    {
      "cell_type": "code",
      "metadata": {
        "id": "0ENMQxb759qJ",
        "colab_type": "code",
        "outputId": "a6a2fd00-2031-4268-e230-deb0539d606d",
        "colab": {
          "base_uri": "https://localhost:8080/"
        }
      },
      "source": [
        "print(P_c)"
      ],
      "execution_count": 0,
      "outputs": [
        {
          "output_type": "stream",
          "text": [
            "0.5*Piecewise((a*b*(0.125*k_z*μ_0*ω*exp(4*a.z*I*k_z) - 0.125*k_z*μ_0*ω)*exp(-2*a.z*I*k_z)/(μ_0**2*ω**2), Ne(pi**4*μ_0**4*ω**4*exp(4*a.z*I*k_z), 0)), (b*(a*(-0.125*k_z*exp(2*a.z*I*k_z)/(μ_0*ω) + 0.125*k_z*exp(-2*a.z*I*k_z)/(μ_0*ω)) + a*(0.125*k_z*μ_0*ω*exp(4*a.z*I*k_z) - 0.125*k_z*μ_0*ω)*exp(-2*a.z*I*k_z)/(μ_0**2*ω**2)), True))\n"
          ],
          "name": "stdout"
        }
      ]
    },
    {
      "cell_type": "code",
      "metadata": {
        "id": "NXq_2fS888xZ",
        "colab_type": "code",
        "colab": {}
      },
      "source": [
        "from sympy import (exp,sin,cos,I,Piecewise)"
      ],
      "execution_count": 0,
      "outputs": []
    },
    {
      "cell_type": "code",
      "metadata": {
        "id": "dKD2xxwC9Q6i",
        "colab_type": "code",
        "outputId": "bd2a24d1-4a44-4039-aa6e-6019fbf0ae95",
        "colab": {
          "base_uri": "https://localhost:8080/"
        }
      },
      "source": [
        "# CUIDADO: FAÇA aa, em vez de a.\n",
        "P_c=0.5*(\n",
        "    aa*b*(0.125*k_z*μ_0*ω*exp(4*a.z*I*k_z) - 0.125*k_z*μ_0*ω)*exp(-2*a.z*I*k_z)/(μ_0**2*ω**2)\n",
        "    )\n",
        "P_c"
      ],
      "execution_count": 0,
      "outputs": [
        {
          "output_type": "execute_result",
          "data": {
            "text/latex": "$\\displaystyle \\frac{0.5 a b \\left(0.125 k_{z} μ_{0} ω e^{4 \\mathbf{{z}_{a}} i k_{z}} - 0.125 k_{z} μ_{0} ω\\right) e^{- 2 \\mathbf{{z}_{a}} i k_{z}}}{μ_{0}^{2} ω^{2}}$",
            "text/plain": [
              "0.5*a*b*(0.125*k_z*μ_0*ω*exp(4*a.z*I*k_z) - 0.125*k_z*μ_0*ω)*exp(-2*a.z*I*k_z)/(μ_0**2*ω**2)"
            ]
          },
          "metadata": {
            "tags": []
          },
          "execution_count": 199
        }
      ]
    },
    {
      "cell_type": "code",
      "metadata": {
        "id": "uIf0dq4HB5qw",
        "colab_type": "code",
        "outputId": "488767b6-a125-4884-8fb5-eb87825c8c78",
        "colab": {
          "base_uri": "https://localhost:8080/"
        }
      },
      "source": [
        "h=sp.symbols('h',real=True)\n",
        "P_c.subs(a.z,-h)"
      ],
      "execution_count": 0,
      "outputs": [
        {
          "output_type": "execute_result",
          "data": {
            "text/latex": "$\\displaystyle \\frac{0.5 a b \\left(- 0.125 k_{z} μ_{0} ω + 0.125 k_{z} μ_{0} ω e^{- 4 i h k_{z}}\\right) e^{2 i h k_{z}}}{μ_{0}^{2} ω^{2}}$",
            "text/plain": [
              "0.5*a*b*(-0.125*k_z*μ_0*ω + 0.125*k_z*μ_0*ω*exp(-4*I*h*k_z))*exp(2*I*h*k_z)/(μ_0**2*ω**2)"
            ]
          },
          "metadata": {
            "tags": []
          },
          "execution_count": 200
        }
      ]
    },
    {
      "cell_type": "markdown",
      "metadata": {
        "id": "NI58cKleHZAB",
        "colab_type": "text"
      },
      "source": [
        "c)"
      ]
    },
    {
      "cell_type": "code",
      "metadata": {
        "id": "HjmmOGRsHbPv",
        "colab_type": "code",
        "outputId": "24a8154c-7807-4db0-9dbf-52eb54a7096b",
        "colab": {
          "base_uri": "https://localhost:8080/"
        }
      },
      "source": [
        "ε_0=sp.symbols('ε_0')\n",
        "func=E.dot(\n",
        "    conjugate_v(E,a_subs)\n",
        ")\n",
        "func=-func*(ε_0/4)\n",
        "#P_r_e=2*ω*1j\n",
        "P_r_e=sp.integrate(\n",
        "    func,\n",
        "    (a.x,0,aa),\n",
        "    (a.y,0,b),\n",
        "    (a.z,0,-h)\n",
        ")\n",
        "P_r_e"
      ],
      "execution_count": 0,
      "outputs": [
        {
          "output_type": "execute_result",
          "data": {
            "text/latex": "$\\displaystyle \\begin{cases} - \\frac{a b ε_{0} \\left(- \\frac{h k_{z}}{2} + \\frac{\\sin{\\left(h k_{z} \\right)} \\cos{\\left(h k_{z} \\right)}}{2}\\right)}{8 k_{z}} & \\text{for}\\: k_{z} \\neq 0 \\\\0 & \\text{otherwise} \\end{cases}$",
            "text/plain": [
              "Piecewise((-a*b*ε_0*(-h*k_z/2 + sin(h*k_z)*cos(h*k_z)/2)/(8*k_z), Ne(k_z, 0)), (0, True))"
            ]
          },
          "metadata": {
            "tags": []
          },
          "execution_count": 201
        }
      ]
    },
    {
      "cell_type": "code",
      "metadata": {
        "id": "gYfd9v9_LRuN",
        "colab_type": "code",
        "outputId": "d9821d2b-7d64-4477-9201-73da6dba6fcc",
        "colab": {
          "base_uri": "https://localhost:8080/"
        }
      },
      "source": [
        "print(P_r_e)"
      ],
      "execution_count": 0,
      "outputs": [
        {
          "output_type": "stream",
          "text": [
            "Piecewise((-a*b*ε_0*(-h*k_z/2 + sin(h*k_z)*cos(h*k_z)/2)/(8*k_z), Ne(k_z, 0)), (0, True))\n"
          ],
          "name": "stdout"
        }
      ]
    },
    {
      "cell_type": "code",
      "metadata": {
        "id": "0EolO2gJLXjy",
        "colab_type": "code",
        "outputId": "6bf4d7b2-fbbe-4915-8b6e-f802344c05a5",
        "colab": {
          "base_uri": "https://localhost:8080/"
        }
      },
      "source": [
        "P_r_e=(-aa*b*ε_0*(-h*k_z/2 + sin(h*k_z)*cos(h*k_z)/2)/(8*k_z))# CUIDADO COM o ' a '\n",
        "P_r_e"
      ],
      "execution_count": 0,
      "outputs": [
        {
          "output_type": "execute_result",
          "data": {
            "text/latex": "$\\displaystyle - \\frac{a b ε_{0} \\left(- \\frac{h k_{z}}{2} + \\frac{\\sin{\\left(h k_{z} \\right)} \\cos{\\left(h k_{z} \\right)}}{2}\\right)}{8 k_{z}}$",
            "text/plain": [
              "-a*b*ε_0*(-h*k_z/2 + sin(h*k_z)*cos(h*k_z)/2)/(8*k_z)"
            ]
          },
          "metadata": {
            "tags": []
          },
          "execution_count": 203
        }
      ]
    },
    {
      "cell_type": "markdown",
      "metadata": {
        "id": "KMeFvQS7BCsT",
        "colab_type": "text"
      },
      "source": [
        "d)"
      ]
    },
    {
      "cell_type": "code",
      "metadata": {
        "id": "ZJ4hWGdfMvdT",
        "colab_type": "code",
        "outputId": "3af27f7a-2d4c-4fec-d84e-a39e13f6cfc4",
        "colab": {
          "base_uri": "https://localhost:8080/"
        }
      },
      "source": [
        "P_r_m=(P_r_e-P_c/(2j*ω))\n",
        "P_r_m"
      ],
      "execution_count": 0,
      "outputs": [
        {
          "output_type": "execute_result",
          "data": {
            "text/latex": "$\\displaystyle \\frac{0.25 i a b \\left(0.125 k_{z} μ_{0} ω e^{4 \\mathbf{{z}_{a}} i k_{z}} - 0.125 k_{z} μ_{0} ω\\right) e^{- 2 \\mathbf{{z}_{a}} i k_{z}}}{μ_{0}^{2} ω^{3}} - \\frac{a b ε_{0} \\left(- \\frac{h k_{z}}{2} + \\frac{\\sin{\\left(h k_{z} \\right)} \\cos{\\left(h k_{z} \\right)}}{2}\\right)}{8 k_{z}}$",
            "text/plain": [
              "0.25*I*a*b*(0.125*k_z*μ_0*ω*exp(4*a.z*I*k_z) - 0.125*k_z*μ_0*ω)*exp(-2*a.z*I*k_z)/(μ_0**2*ω**3) - a*b*ε_0*(-h*k_z/2 + sin(h*k_z)*cos(h*k_z)/2)/(8*k_z)"
            ]
          },
          "metadata": {
            "tags": []
          },
          "execution_count": 204
        }
      ]
    },
    {
      "cell_type": "code",
      "metadata": {
        "id": "UKBI9ftfPK0w",
        "colab_type": "code",
        "outputId": "290fb097-0df0-4f36-bc9d-47d9cd78e5ae",
        "colab": {
          "base_uri": "https://localhost:8080/"
        }
      },
      "source": [
        "sp.simplify(P_r_m)"
      ],
      "execution_count": 0,
      "outputs": [
        {
          "output_type": "execute_result",
          "data": {
            "text/latex": "$\\displaystyle \\frac{a b \\left(- 0.5 i k_{z}^{2} \\left(1 - e^{4 \\mathbf{{z}_{a}} i k_{z}}\\right) + ε_{0} μ_{0} ω^{2} \\left(h k_{z} - \\frac{\\sin{\\left(2 h k_{z} \\right)}}{2}\\right) e^{2 \\mathbf{{z}_{a}} i k_{z}}\\right) e^{- 2 \\mathbf{{z}_{a}} i k_{z}}}{16 k_{z} μ_{0} ω^{2}}$",
            "text/plain": [
              "a*b*(-0.5*I*k_z**2*(1 - exp(4*a.z*I*k_z)) + ε_0*μ_0*ω**2*(h*k_z - sin(2*h*k_z)/2)*exp(2*a.z*I*k_z))*exp(-2*a.z*I*k_z)/(16*k_z*μ_0*ω**2)"
            ]
          },
          "metadata": {
            "tags": []
          },
          "execution_count": 205
        }
      ]
    },
    {
      "cell_type": "markdown",
      "metadata": {
        "id": "43SJKLeUOWtM",
        "colab_type": "text"
      },
      "source": [
        "# S2-5"
      ]
    },
    {
      "cell_type": "code",
      "metadata": {
        "id": "Tm5TZvtIeabP",
        "colab_type": "code",
        "outputId": "b140ef82-3e67-4028-bce1-341c354e212d",
        "colab": {
          "base_uri": "https://localhost:8080/"
        }
      },
      "source": [
        "z,t=sp.symbols('z,t',real=True)\n",
        "E_1=(200*cos(200*a.z)-100*cos(-200*a.z))*a.x_d\n",
        "E_1"
      ],
      "execution_count": 0,
      "outputs": [
        {
          "output_type": "execute_result",
          "data": {
            "text/latex": "$\\displaystyle (100 \\cos{\\left(200 \\mathbf{{z}_{a}} \\right)})\\mathbf{\\hat{x_d}_{a}}$",
            "text/plain": [
              "(100*cos(200*a.z))*a.x_d"
            ]
          },
          "metadata": {
            "tags": []
          },
          "execution_count": 206
        }
      ]
    },
    {
      "cell_type": "code",
      "metadata": {
        "id": "Ttp55Noikkyj",
        "colab_type": "code",
        "outputId": "c223d0e4-783a-4e81-e944-66d402cbbc00",
        "colab": {
          "base_uri": "https://localhost:8080/"
        }
      },
      "source": [
        "A=sp.symbols('A')\n",
        "ω,β=sp.symbols('ω,β',real=True)\n",
        "E_2=A*cos(β*a.z)*a.x_d\n",
        "E_2"
      ],
      "execution_count": 0,
      "outputs": [
        {
          "output_type": "execute_result",
          "data": {
            "text/latex": "$\\displaystyle (A \\cos{\\left(\\mathbf{{z}_{a}} β \\right)})\\mathbf{\\hat{x_d}_{a}}$",
            "text/plain": [
              "(A*cos(a.z*β))*a.x_d"
            ]
          },
          "metadata": {
            "tags": []
          },
          "execution_count": 207
        }
      ]
    },
    {
      "cell_type": "markdown",
      "metadata": {
        "id": "vr40UCbcmEZh",
        "colab_type": "text"
      },
      "source": [
        "Na interface: $Z=0$"
      ]
    },
    {
      "cell_type": "code",
      "metadata": {
        "id": "F4Gr6Q7Tk-Bl",
        "colab_type": "code",
        "outputId": "27bbf778-a5d9-4a78-c169-ffd53469122a",
        "colab": {
          "base_uri": "https://localhost:8080/"
        }
      },
      "source": [
        "lt=sp.latex(a.z_d)\n",
        "lt=lt+r\"\\times\"\n",
        "lt=lt+r\"(\\overrightarrow{E_2}-\\overrightarrow{E_1})=0\"\n",
        "dlatex(lt)\n",
        "\n",
        "print(\"\\n\\n\")\n",
        "\n",
        "lt=sp.latex(a.z_d)\n",
        "lt=lt+r\"\\times(\"\n",
        "lt=lt+r\"\\overrightarrow{E_2}-\\overrightarrow{E_1})=\"\n",
        "lt=lt+sp.latex(a.z_d.cross(E_2.subs(a.z,0)))\n",
        "lt=lt+r\"-\"\n",
        "lt=lt+sp.latex(a.z_d.cross(E_1.subs(a.z,0)))\n",
        "lt=lt+r\"=\\hat{0}\"\n",
        "dlatex(lt)\n",
        "\n",
        "print(\"\\n\\n\")\n",
        "\n",
        "lt=r\"A=100\"\n",
        "dlatex(lt)\n",
        "\n"
      ],
      "execution_count": 0,
      "outputs": [
        {
          "output_type": "display_data",
          "data": {
            "text/latex": "\\mathbf{\\hat{z_d}_{a}}\\times(\\overrightarrow{E_2}-\\overrightarrow{E_1})=0",
            "text/plain": [
              "<IPython.core.display.Latex object>"
            ]
          },
          "metadata": {
            "tags": []
          }
        },
        {
          "output_type": "stream",
          "text": [
            "\n",
            "\n",
            "\n"
          ],
          "name": "stdout"
        },
        {
          "output_type": "display_data",
          "data": {
            "text/latex": "\\mathbf{\\hat{z_d}_{a}}\\times(\\overrightarrow{E_2}-\\overrightarrow{E_1})=(A)\\mathbf{\\hat{y_d}_{a}}-(100)\\mathbf{\\hat{y_d}_{a}}=\\hat{0}",
            "text/plain": [
              "<IPython.core.display.Latex object>"
            ]
          },
          "metadata": {
            "tags": []
          }
        },
        {
          "output_type": "stream",
          "text": [
            "\n",
            "\n",
            "\n"
          ],
          "name": "stdout"
        },
        {
          "output_type": "display_data",
          "data": {
            "text/latex": "A=100",
            "text/plain": [
              "<IPython.core.display.Latex object>"
            ]
          },
          "metadata": {
            "tags": []
          }
        }
      ]
    },
    {
      "cell_type": "code",
      "metadata": {
        "id": "rST7a1JcmDmY",
        "colab_type": "code",
        "outputId": "da0bc903-a126-46d5-d00d-3ee6851c378d",
        "colab": {
          "base_uri": "https://localhost:8080/"
        }
      },
      "source": [
        "A=100\n",
        "E_2=A*cos(β*a.z)*a.x_d\n",
        "E_2"
      ],
      "execution_count": 0,
      "outputs": [
        {
          "output_type": "execute_result",
          "data": {
            "text/latex": "$\\displaystyle (100 \\cos{\\left(\\mathbf{{z}_{a}} β \\right)})\\mathbf{\\hat{x_d}_{a}}$",
            "text/plain": [
              "(100*cos(a.z*β))*a.x_d"
            ]
          },
          "metadata": {
            "tags": []
          },
          "execution_count": 209
        }
      ]
    },
    {
      "cell_type": "markdown",
      "metadata": {
        "id": "b3kplkJ1ohox",
        "colab_type": "text"
      },
      "source": [
        "Aplicando a condição de contorno para o campo elétrico instantâneo, obtém-se:"
      ]
    },
    {
      "cell_type": "code",
      "metadata": {
        "id": "LbrCQ3SYop6B",
        "colab_type": "code",
        "outputId": "e780d7e8-deaa-4a20-a532-186c3cf4cc29",
        "colab": {
          "base_uri": "https://localhost:8080/"
        }
      },
      "source": [
        "ω=3e10\n",
        "lt=r\"ω=\"\n",
        "lt=lt+sp.latex(ω)\n",
        "dlatex(lt)\n",
        "print(\"\\n\\n\")\n",
        "lt=r\"ω=3\\cdot 10^{10}\"\n",
        "dlatex(lt)"
      ],
      "execution_count": 0,
      "outputs": [
        {
          "output_type": "display_data",
          "data": {
            "text/latex": "ω=30000000000.0",
            "text/plain": [
              "<IPython.core.display.Latex object>"
            ]
          },
          "metadata": {
            "tags": []
          }
        },
        {
          "output_type": "stream",
          "text": [
            "\n",
            "\n",
            "\n"
          ],
          "name": "stdout"
        },
        {
          "output_type": "display_data",
          "data": {
            "text/latex": "ω=3\\cdot 10^{10}",
            "text/plain": [
              "<IPython.core.display.Latex object>"
            ]
          },
          "metadata": {
            "tags": []
          }
        }
      ]
    },
    {
      "cell_type": "markdown",
      "metadata": {
        "id": "T1YIgtiN0pEN",
        "colab_type": "text"
      },
      "source": [
        "Lei de Faraday"
      ]
    },
    {
      "cell_type": "code",
      "metadata": {
        "id": "A_Hj3gYTpH-g",
        "colab_type": "code",
        "outputId": "c076c5d0-ce51-4c1b-e6e3-62b163add1c3",
        "colab": {
          "base_uri": "https://localhost:8080/"
        }
      },
      "source": [
        "\n",
        "B_1=(-1/(1j*ω))*spv.curl(E_1)\n",
        "dlatex(sp.latex(B_1))\n",
        "\n",
        "print(\"\\n\\n\")\n",
        "\n",
        "B_2=(-1/(1j*ω))*spv.curl(E_2)\n",
        "dlatex(sp.latex(B_2))\n"
      ],
      "execution_count": 0,
      "outputs": [
        {
          "output_type": "display_data",
          "data": {
            "text/latex": "(- 6.66666666666667 \\cdot 10^{-7} i \\sin{\\left(200 \\mathbf{{z}_{a}} \\right)})\\mathbf{\\hat{y_d}_{a}}",
            "text/plain": [
              "<IPython.core.display.Latex object>"
            ]
          },
          "metadata": {
            "tags": []
          }
        },
        {
          "output_type": "stream",
          "text": [
            "\n",
            "\n",
            "\n"
          ],
          "name": "stdout"
        },
        {
          "output_type": "display_data",
          "data": {
            "text/latex": "(- 3.33333333333333 \\cdot 10^{-9} i β \\sin{\\left(\\mathbf{{z}_{a}} β \\right)})\\mathbf{\\hat{y_d}_{a}}",
            "text/plain": [
              "<IPython.core.display.Latex object>"
            ]
          },
          "metadata": {
            "tags": []
          }
        }
      ]
    },
    {
      "cell_type": "code",
      "metadata": {
        "id": "pRluFt0G3Dqe",
        "colab_type": "code",
        "outputId": "04a24f11-bb23-4e8c-f50c-666f7eaf3d35",
        "colab": {
          "base_uri": "https://localhost:8080/"
        }
      },
      "source": [
        "μ_0=sp.symbols('μ_0',real=True)\n",
        "\n",
        "H_1=(1/μ_0)*B_1\n",
        "dlatex(sp.latex(H_1))\n",
        "\n",
        "print(\"\\n\\n\")\n",
        "\n",
        "H_2=(1/μ_0)*B_2\n",
        "dlatex(sp.latex(H_2))"
      ],
      "execution_count": 0,
      "outputs": [
        {
          "output_type": "display_data",
          "data": {
            "text/latex": "(- \\frac{6.66666666666667 \\cdot 10^{-7} i \\sin{\\left(200 \\mathbf{{z}_{a}} \\right)}}{μ_{0}})\\mathbf{\\hat{y_d}_{a}}",
            "text/plain": [
              "<IPython.core.display.Latex object>"
            ]
          },
          "metadata": {
            "tags": []
          }
        },
        {
          "output_type": "stream",
          "text": [
            "\n",
            "\n",
            "\n"
          ],
          "name": "stdout"
        },
        {
          "output_type": "display_data",
          "data": {
            "text/latex": "(- \\frac{3.33333333333333 \\cdot 10^{-9} i β \\sin{\\left(\\mathbf{{z}_{a}} β \\right)}}{μ_{0}})\\mathbf{\\hat{y_d}_{a}}",
            "text/plain": [
              "<IPython.core.display.Latex object>"
            ]
          },
          "metadata": {
            "tags": []
          }
        }
      ]
    },
    {
      "cell_type": "code",
      "metadata": {
        "id": "_OxQOa_i7U28",
        "colab_type": "code",
        "outputId": "04945a32-abe5-467f-d38b-f68f9ca559cd",
        "colab": {
          "base_uri": "https://localhost:8080/"
        }
      },
      "source": [
        "# J_s = 0\n",
        "\n",
        "a.z_d.cross(H_2-H_1)"
      ],
      "execution_count": 0,
      "outputs": [
        {
          "output_type": "execute_result",
          "data": {
            "text/latex": "$\\displaystyle (\\frac{3.33333333333333 \\cdot 10^{-9} i β \\sin{\\left(\\mathbf{{z}_{a}} β \\right)}}{μ_{0}} - \\frac{6.66666666666667 \\cdot 10^{-7} i \\sin{\\left(200 \\mathbf{{z}_{a}} \\right)}}{μ_{0}})\\mathbf{\\hat{x_d}_{a}}$",
            "text/plain": [
              "(3.33333333333333e-9*I*β*sin(a.z*β)/μ_0 - 6.66666666666667e-7*I*sin(200*a.z)/μ_0)*a.x_d"
            ]
          },
          "metadata": {
            "tags": []
          },
          "execution_count": 213
        }
      ]
    },
    {
      "cell_type": "markdown",
      "metadata": {
        "id": "vG0sRuK38Qkt",
        "colab_type": "text"
      },
      "source": [
        "Como a expressão acima deve ser 0, $β=200$."
      ]
    },
    {
      "cell_type": "markdown",
      "metadata": {
        "id": "ye2pcA3wrx1B",
        "colab_type": "text"
      },
      "source": [
        "# S2-6"
      ]
    },
    {
      "cell_type": "markdown",
      "metadata": {
        "id": "3kWT6ESmOV4O",
        "colab_type": "text"
      },
      "source": [
        "$$\\nabla^{2}\\overrightarrow{H}-\\gamma^{2}\\overrightarrow{H}=0$$\n",
        "\n",
        "$$\\gamma=jk_0$$\n",
        "\n",
        "$$\\overrightarrow{H}=\\overrightarrow{H_0}e^{-\\gamma \\cdot r}$$\n",
        "\n"
      ]
    },
    {
      "cell_type": "code",
      "metadata": {
        "id": "O7WyFAiqOVRI",
        "colab_type": "code",
        "outputId": "1d9fde86-5976-49b2-e7f0-80d0e93aa0bd",
        "colab": {
          "base_uri": "https://localhost:8080/"
        }
      },
      "source": [
        "from sympy import pi\n",
        "k_0=sp.symbols('k_0',real=True)\n",
        "H=(4e-6)*cos(-k_0*a.y+pi/4)*a.z_d\n",
        "\n",
        "H_M_x=spv.gradient(H.dot(a.x_d))\n",
        "H_M_y=spv.gradient(H.dot(a.y_d))\n",
        "H_M_z=spv.gradient(H.dot(a.z_d))\n",
        "H_M_x=spv.divergence(H_M_x)\n",
        "H_M_y=spv.divergence(H_M_y)\n",
        "H_M_z=spv.divergence(H_M_z)\n",
        "H_M=(H_M_x)*a.x_d\n",
        "H_M=H_M+(H_M_y)*a.y_d\n",
        "H_M=H_M+(H_M_z)*a.z_d\n",
        "\n",
        "-(k_0**2)*H"
      ],
      "execution_count": 0,
      "outputs": [
        {
          "output_type": "execute_result",
          "data": {
            "text/latex": "$\\displaystyle (- 4.0 \\cdot 10^{-6} k_{0}^{2} \\sin{\\left(\\mathbf{{y}_{a}} k_{0} + \\frac{\\pi}{4} \\right)})\\mathbf{\\hat{z_d}_{a}}$",
            "text/plain": [
              "(-4.0e-6*k_0**2*sin(a.y*k_0 + pi/4))*a.z_d"
            ]
          },
          "metadata": {
            "tags": []
          },
          "execution_count": 214
        }
      ]
    },
    {
      "cell_type": "code",
      "metadata": {
        "id": "FOLgXZvOElLS",
        "colab_type": "code",
        "outputId": "d9ddc207-df78-4b15-93a5-f8b8e4a990df",
        "colab": {
          "base_uri": "https://localhost:8080/"
        }
      },
      "source": [
        "H_M"
      ],
      "execution_count": 0,
      "outputs": [
        {
          "output_type": "execute_result",
          "data": {
            "text/latex": "$\\displaystyle (- 4.0 \\cdot 10^{-6} k_{0}^{2} \\sin{\\left(\\mathbf{{y}_{a}} k_{0} + \\frac{\\pi}{4} \\right)})\\mathbf{\\hat{z_d}_{a}}$",
            "text/plain": [
              "(-4.0e-6*k_0**2*sin(a.y*k_0 + pi/4))*a.z_d"
            ]
          },
          "metadata": {
            "tags": []
          },
          "execution_count": 215
        }
      ]
    },
    {
      "cell_type": "code",
      "metadata": {
        "id": "oq5tvjYeE5DB",
        "colab_type": "code",
        "outputId": "f3d1c0e5-e61f-4c9c-bad8-440f01cd6b3c",
        "colab": {
          "base_uri": "https://localhost:8080/"
        }
      },
      "source": [
        "lt=r\"k_0^{2}=ω^{2}μ_0ε_0\"\n",
        "dlatex(lt)\n",
        "lt=r\"k_0=ω/c\"\n",
        "dlatex(lt)"
      ],
      "execution_count": 0,
      "outputs": [
        {
          "output_type": "display_data",
          "data": {
            "text/latex": "k_0^{2}=ω^{2}μ_0ε_0",
            "text/plain": [
              "<IPython.core.display.Latex object>"
            ]
          },
          "metadata": {
            "tags": []
          }
        },
        {
          "output_type": "display_data",
          "data": {
            "text/latex": "k_0=ω/c",
            "text/plain": [
              "<IPython.core.display.Latex object>"
            ]
          },
          "metadata": {
            "tags": []
          }
        }
      ]
    },
    {
      "cell_type": "code",
      "metadata": {
        "id": "h4Jjf9ShFcuY",
        "colab_type": "code",
        "outputId": "20330fb0-0106-4dbe-e056-bf4af177b123",
        "colab": {
          "base_uri": "https://localhost:8080/"
        }
      },
      "source": [
        "ω=10.0*1e7*pi\n",
        "c=3e8\n",
        "k_0_v=ω/c\n",
        "k_0_v"
      ],
      "execution_count": 0,
      "outputs": [
        {
          "output_type": "execute_result",
          "data": {
            "text/latex": "$\\displaystyle 0.333333333333333 \\pi$",
            "text/plain": [
              "0.333333333333333*pi"
            ]
          },
          "metadata": {
            "tags": []
          },
          "execution_count": 217
        }
      ]
    },
    {
      "cell_type": "code",
      "metadata": {
        "id": "04zkDqEVF5bE",
        "colab_type": "code",
        "outputId": "1e4137e0-149d-499d-fe0c-267ee505582c",
        "colab": {
          "base_uri": "https://localhost:8080/"
        }
      },
      "source": [
        "lt=r\"k_0=%.3f \\;\\text{(SI)}\" %(k_0_v)\n",
        "dlatex(lt)"
      ],
      "execution_count": 0,
      "outputs": [
        {
          "output_type": "display_data",
          "data": {
            "text/latex": "k_0=1.047 \\;\\text{(SI)}",
            "text/plain": [
              "<IPython.core.display.Latex object>"
            ]
          },
          "metadata": {
            "tags": []
          }
        }
      ]
    },
    {
      "cell_type": "markdown",
      "metadata": {
        "id": "d4knRV0Ag2IR",
        "colab_type": "text"
      },
      "source": [
        "$$\\overrightarrow{h}=4 \\times 10^{-6} \\cos(\\text{arg})$$\n",
        "$$\\overrightarrow{h}=0 \\Leftrightarrow arg =  \\pi/2 + n \\pi \\; , \\; n \\in Z $$"
      ]
    },
    {
      "cell_type": "code",
      "metadata": {
        "id": "AlxYhEA0GQ5H",
        "colab_type": "code",
        "outputId": "478e1766-faca-4dc5-a4df-2ad7d0f6e6b3",
        "colab": {
          "base_uri": "https://localhost:8080/"
        }
      },
      "source": [
        "\n",
        "arg=ω*t-k_0_v*a.y+pi/4\n",
        "arg\n"
      ],
      "execution_count": 0,
      "outputs": [
        {
          "output_type": "execute_result",
          "data": {
            "text/latex": "$\\displaystyle - 0.333333333333333 \\mathbf{{y}_{a}} \\pi + 100000000.0 \\pi t + \\frac{\\pi}{4}$",
            "text/plain": [
              "-0.333333333333333*a.y*pi + 100000000.0*pi*t + pi/4"
            ]
          },
          "metadata": {
            "tags": []
          },
          "execution_count": 219
        }
      ]
    },
    {
      "cell_type": "code",
      "metadata": {
        "id": "C9VLvxXNhbBY",
        "colab_type": "code",
        "outputId": "30b93feb-071c-409b-8234-4d8e8703795c",
        "colab": {
          "base_uri": "https://localhost:8080/"
        }
      },
      "source": [
        "lt=arg.subs([\n",
        "          (pi,np.pi),\n",
        "          (t,3.03-3)\n",
        "          ])\n",
        "lt=sp.latex(lt)+r\"\\;=\\;\\pi/2 + n \\pi \\; , \\; n \\in Z\"\n",
        "dlatex(lt)"
      ],
      "execution_count": 0,
      "outputs": [
        {
          "output_type": "display_data",
          "data": {
            "text/latex": "9424778.74616748 - 1.0471975511966 \\mathbf{{y}_{a}}\\;=\\;\\pi/2 + n \\pi \\; , \\; n \\in Z",
            "text/plain": [
              "<IPython.core.display.Latex object>"
            ]
          },
          "metadata": {
            "tags": []
          }
        }
      ]
    },
    {
      "cell_type": "code",
      "metadata": {
        "id": "vtN8StNtgvLc",
        "colab_type": "code",
        "outputId": "699520ac-8da8-4f52-defe-c934f9666838",
        "colab": {
          "base_uri": "https://localhost:8080/"
        }
      },
      "source": [
        "9424778.74616748/1.0471975511966"
      ],
      "execution_count": 0,
      "outputs": [
        {
          "output_type": "execute_result",
          "data": {
            "text/plain": [
              "9000000.749999918"
            ]
          },
          "metadata": {
            "tags": []
          },
          "execution_count": 221
        }
      ]
    },
    {
      "cell_type": "code",
      "metadata": {
        "id": "R-QBwZ5ah-HI",
        "colab_type": "code",
        "outputId": "aa6276cd-03d6-4630-bc4d-f1010cce54b0",
        "colab": {
          "base_uri": "https://localhost:8080/"
        }
      },
      "source": [
        "n=sp.symbols('n', real=True)\n",
        "9000000.749999918-(np.pi/2 + n*np.pi)/1.0471975511966"
      ],
      "execution_count": 0,
      "outputs": [
        {
          "output_type": "execute_result",
          "data": {
            "text/latex": "$\\displaystyle 8999999.24999992 - 2.99999999999999 n$",
            "text/plain": [
              "8999999.24999992 - 2.99999999999999*n"
            ]
          },
          "metadata": {
            "tags": []
          },
          "execution_count": 222
        }
      ]
    },
    {
      "cell_type": "code",
      "metadata": {
        "id": "jJTAhcuhiZxg",
        "colab_type": "code",
        "outputId": "330e4c1d-da8f-4b2e-cd47-cc8237967a25",
        "colab": {
          "base_uri": "https://localhost:8080/"
        }
      },
      "source": [
        "lt=r\"y\\;=\\;\"\n",
        "lt=lt+sp.latex(9000000.749999918-(np.pi/2 + n*np.pi)/1.0471975511966)\n",
        "dlatex(lt)\n",
        "# RAÍZES de h(y) em t=3e-3 s."
      ],
      "execution_count": 0,
      "outputs": [
        {
          "output_type": "display_data",
          "data": {
            "text/latex": "y\\;=\\;8999999.24999992 - 2.99999999999999 n",
            "text/plain": [
              "<IPython.core.display.Latex object>"
            ]
          },
          "metadata": {
            "tags": []
          }
        }
      ]
    },
    {
      "cell_type": "markdown",
      "metadata": {
        "id": "unIn7d7Zi0TZ",
        "colab_type": "text"
      },
      "source": [
        "b)"
      ]
    },
    {
      "cell_type": "code",
      "metadata": {
        "id": "dzUJpZtvisxZ",
        "colab_type": "code",
        "outputId": "b8ae9cb8-86c0-4447-8aba-98b63a0e96fe",
        "colab": {
          "base_uri": "https://localhost:8080/"
        }
      },
      "source": [
        "H"
      ],
      "execution_count": 0,
      "outputs": [
        {
          "output_type": "execute_result",
          "data": {
            "text/latex": "$\\displaystyle (4.0 \\cdot 10^{-6} \\sin{\\left(\\mathbf{{y}_{a}} k_{0} + \\frac{\\pi}{4} \\right)})\\mathbf{\\hat{z_d}_{a}}$",
            "text/plain": [
              "(4.0e-6*sin(a.y*k_0 + pi/4))*a.z_d"
            ]
          },
          "metadata": {
            "tags": []
          },
          "execution_count": 224
        }
      ]
    },
    {
      "cell_type": "markdown",
      "metadata": {
        "id": "WXoj_UDfj1yc",
        "colab_type": "text"
      },
      "source": [
        "$$\\nabla \\times \\overrightarrow{H} = \\overrightarrow{J} + jω\\overrightarrow{D}$$\n",
        "$$\\overrightarrow{D}=ε_0\\overrightarrow{E}$$\n",
        "$$\\overrightarrow{J}=σ_0\\overrightarrow{E}= 0, \\;\\;\\;σ_0=0$$\n",
        "$$\\Rightarrow \\nabla \\times \\overrightarrow{H} = jωε_0\\overrightarrow{E}$$\n",
        "\n",
        "Ou ainda,\n",
        "\n",
        "$$\\overrightarrow{E}=(-1/jωε_0)\\nabla \\times \\overrightarrow{H}$$"
      ]
    },
    {
      "cell_type": "code",
      "metadata": {
        "id": "o5AONDWPjdYK",
        "colab_type": "code",
        "outputId": "49280d15-31c6-400f-e4d9-d7a0df2c3aa9",
        "colab": {
          "base_uri": "https://localhost:8080/"
        }
      },
      "source": [
        "ε_0=sp.symbols('ε_0',real=True)\n",
        "E=(-1/(1j*ω*ε_0))*spv.curl(H)\n",
        "E"
      ],
      "execution_count": 0,
      "outputs": [
        {
          "output_type": "execute_result",
          "data": {
            "text/latex": "$\\displaystyle (\\frac{4.0 \\cdot 10^{-14} i k_{0} \\cos{\\left(\\mathbf{{y}_{a}} k_{0} + \\frac{\\pi}{4} \\right)}}{\\pi ε_{0}})\\mathbf{\\hat{x_d}_{a}}$",
            "text/plain": [
              "(4.0e-14*I*k_0*cos(a.y*k_0 + pi/4)/(pi*ε_0))*a.x_d"
            ]
          },
          "metadata": {
            "tags": []
          },
          "execution_count": 225
        }
      ]
    },
    {
      "cell_type": "markdown",
      "metadata": {
        "id": "qZ1ARWy1lQKT",
        "colab_type": "text"
      },
      "source": [
        "$$\\overrightarrow{e}=Re\\{Ee^{jωt}\\}$$"
      ]
    },
    {
      "cell_type": "code",
      "metadata": {
        "id": "MpEtkWtJlgam",
        "colab_type": "code",
        "colab": {}
      },
      "source": [
        "#@title  { form-width: \"400px\" }\n",
        "# ====================================== #\n",
        "# Caixa de configurações dependem do \n",
        "# sistema de coordenadas adotado e\n",
        "# do valor das variáveis.\n",
        "\n",
        "# Assinalando variáveis reais !\n",
        "x,y,z=sp.symbols('x,y,z', real=True)\n",
        "\n",
        "# substituição direta (esquerda --> direita)\n",
        "subs_a=[(a.x,x),\n",
        "        (a.y,y),\n",
        "        (a.z,z)]\n",
        "\n",
        "# substituição reversa ( esquerda --> direita)\n",
        "subs_a_rev=[(x,a.x),\n",
        "        (y,a.y),\n",
        "        (z,a.z)]\n",
        "a_subs=[subs_a,subs_a_rev,a]\n",
        "# ====================================== #\n",
        "\n",
        "def re_v(D,a_subs):\n",
        "  # D é o vetor a ser conjugado.\n",
        "  # subs_a é o assinalamento de variáveis reais.\n",
        "  # subs_a é a reatribuição dos objetos\n",
        "  # a é o sistema de referência.\n",
        "  D=D.to_matrix(a_subs[2]) # Não é o objeto em D que é atribuído.\n",
        "\n",
        "  # ---------------------------------------- #\n",
        "  D=sp.re(D.subs(a_subs[0]))\n",
        "  # ---------------------------------------- #\n",
        "\n",
        "  D=spv.matrix_to_vector(D,a_subs[2])\n",
        "  D=D.subs(a_subs[1])\n",
        "\n",
        "  return D "
      ],
      "execution_count": 0,
      "outputs": []
    },
    {
      "cell_type": "code",
      "metadata": {
        "id": "HMDr6vPGmjfQ",
        "colab_type": "code",
        "colab": {}
      },
      "source": [
        "e=re_v(\n",
        "    E*(sp.exp(1j*ω*t)),\n",
        "    a_subs\n",
        ")"
      ],
      "execution_count": 0,
      "outputs": []
    },
    {
      "cell_type": "code",
      "metadata": {
        "id": "eHuoZWONm8T7",
        "colab_type": "code",
        "outputId": "1a8f0e8b-440a-4d2f-c72b-1a8c75669cc7",
        "colab": {
          "base_uri": "https://localhost:8080/"
        }
      },
      "source": [
        "lt=r\"\\overrightarrow{e}=\"\n",
        "lt=lt+sp.latex(e)\n",
        "dlatex(lt)"
      ],
      "execution_count": 0,
      "outputs": [
        {
          "output_type": "display_data",
          "data": {
            "text/latex": "\\overrightarrow{e}=(- \\frac{4.0 \\cdot 10^{-14} k_{0} \\sin{\\left(100000000 \\pi t \\right)} \\cos{\\left(\\mathbf{{y}_{a}} k_{0} + \\frac{\\pi}{4} \\right)}}{\\pi ε_{0}})\\mathbf{\\hat{x_d}_{a}}",
            "text/plain": [
              "<IPython.core.display.Latex object>"
            ]
          },
          "metadata": {
            "tags": []
          }
        }
      ]
    },
    {
      "cell_type": "code",
      "metadata": {
        "id": "fJW5W9AknPxH",
        "colab_type": "code",
        "outputId": "316cec44-db8a-4d0c-8e01-db738720abdb",
        "colab": {
          "base_uri": "https://localhost:8080/"
        }
      },
      "source": [
        "e"
      ],
      "execution_count": 0,
      "outputs": [
        {
          "output_type": "execute_result",
          "data": {
            "text/latex": "$\\displaystyle (- \\frac{4.0 \\cdot 10^{-14} k_{0} \\sin{\\left(100000000 \\pi t \\right)} \\cos{\\left(\\mathbf{{y}_{a}} k_{0} + \\frac{\\pi}{4} \\right)}}{\\pi ε_{0}})\\mathbf{\\hat{x_d}_{a}}$",
            "text/plain": [
              "(-4.0e-14*k_0*sin(100000000*pi*t)*cos(a.y*k_0 + pi/4)/(pi*ε_0))*a.x_d"
            ]
          },
          "metadata": {
            "tags": []
          },
          "execution_count": 229
        }
      ]
    },
    {
      "cell_type": "code",
      "metadata": {
        "id": "1gjpAkXGnR9l",
        "colab_type": "code",
        "outputId": "b8321991-48ac-4a60-b38f-515f8bba3992",
        "colab": {
          "base_uri": "https://localhost:8080/"
        }
      },
      "source": [
        "e_v=e.subs([\n",
        "    (k_0,k_0_v),\n",
        "    (ε_0,8.854e-12),\n",
        "    (pi,np.pi)\n",
        "])\n",
        "e_v"
      ],
      "execution_count": 0,
      "outputs": [
        {
          "output_type": "execute_result",
          "data": {
            "text/latex": "$\\displaystyle (- 0.00150591069949552 \\sin{\\left(314159265.358979 t \\right)} \\cos{\\left(1.0471975511966 \\mathbf{{y}_{a}} + 0.785398163397448 \\right)})\\mathbf{\\hat{x_d}_{a}}$",
            "text/plain": [
              "(-0.00150591069949552*sin(314159265.358979*t)*cos(1.0471975511966*a.y + 0.785398163397448))*a.x_d"
            ]
          },
          "metadata": {
            "tags": []
          },
          "execution_count": 230
        }
      ]
    },
    {
      "cell_type": "code",
      "metadata": {
        "id": "RhbBvOSqoSYC",
        "colab_type": "code",
        "outputId": "a1c6073f-3534-4ec8-c3dd-df0dd80959fa",
        "colab": {
          "base_uri": "https://localhost:8080/"
        }
      },
      "source": [
        "ex2=e_v\n",
        "for i in sp.preorder_traversal(e_v):\n",
        "    if isinstance(i, sp.Float):\n",
        "        ex2 = ex2.subs(i, round(i, 4))\n",
        "ex2"
      ],
      "execution_count": 0,
      "outputs": [
        {
          "output_type": "execute_result",
          "data": {
            "text/latex": "$\\displaystyle (- 0.0015 \\sin{\\left(314159265.359 t \\right)} \\cos{\\left(1.0472 \\mathbf{{y}_{a}} + 0.7854 \\right)})\\mathbf{\\hat{x_d}_{a}}$",
            "text/plain": [
              "(-0.0015*sin(314159265.359*t)*cos(1.0472*a.y + 0.7854))*a.x_d"
            ]
          },
          "metadata": {
            "tags": []
          },
          "execution_count": 231
        }
      ]
    },
    {
      "cell_type": "markdown",
      "metadata": {
        "id": "Hf4dLQ9PpuyJ",
        "colab_type": "text"
      },
      "source": [
        "[Reference](https://stackoverflow.com/questions/43804701/round-floats-within-an-expression)"
      ]
    },
    {
      "cell_type": "code",
      "metadata": {
        "id": "yB775bS6r83R",
        "colab_type": "code",
        "outputId": "16a5f872-9521-45d7-9a0c-aa581d075170",
        "colab": {
          "base_uri": "https://localhost:8080/"
        }
      },
      "source": [
        "print(ex2)"
      ],
      "execution_count": 0,
      "outputs": [
        {
          "output_type": "stream",
          "text": [
            "(-0.0015*sin(314159265.359*t)*cos(1.0472*a.y + 0.7854))*a.x_d\n"
          ],
          "name": "stdout"
        }
      ]
    },
    {
      "cell_type": "code",
      "metadata": {
        "id": "AdGgPVwRwSn9",
        "colab_type": "code",
        "outputId": "7e5260d0-67f4-49ab-8188-21e3328120a0",
        "colab": {
          "base_uri": "https://localhost:8080/"
        }
      },
      "source": [
        "round(np.log10(314159265.359),1)"
      ],
      "execution_count": 0,
      "outputs": [
        {
          "output_type": "execute_result",
          "data": {
            "text/plain": [
              "8.5"
            ]
          },
          "metadata": {
            "tags": []
          },
          "execution_count": 233
        }
      ]
    },
    {
      "cell_type": "code",
      "metadata": {
        "id": "r5mNwU3Put2r",
        "colab_type": "code",
        "outputId": "7fa09063-b17e-4ccd-a177-a2798ac993b6",
        "colab": {
          "base_uri": "https://localhost:8080/"
        }
      },
      "source": [
        "ex2 # Campo elétrico instantâneo"
      ],
      "execution_count": 0,
      "outputs": [
        {
          "output_type": "execute_result",
          "data": {
            "text/latex": "$\\displaystyle (- 0.0015 \\sin{\\left(314159265.359 t \\right)} \\cos{\\left(1.0472 \\mathbf{{y}_{a}} + 0.7854 \\right)})\\mathbf{\\hat{x_d}_{a}}$",
            "text/plain": [
              "(-0.0015*sin(314159265.359*t)*cos(1.0472*a.y + 0.7854))*a.x_d"
            ]
          },
          "metadata": {
            "tags": []
          },
          "execution_count": 234
        }
      ]
    },
    {
      "cell_type": "markdown",
      "metadata": {
        "id": "MMrdkUuiwypd",
        "colab_type": "text"
      },
      "source": [
        "A direção é dada por $\\hat{n}=\\frac{(\\overrightarrow{E} \\times \\overrightarrow{H})}\n",
        "{|(\\overrightarrow{E} \\times \\overrightarrow{H})|}$"
      ]
    },
    {
      "cell_type": "code",
      "metadata": {
        "id": "LJl3s-Wew-R_",
        "colab_type": "code",
        "outputId": "2280a5f4-808f-4f4c-a2ea-14caf45afd00",
        "colab": {
          "base_uri": "https://localhost:8080/"
        }
      },
      "source": [
        "E"
      ],
      "execution_count": 0,
      "outputs": [
        {
          "output_type": "execute_result",
          "data": {
            "text/latex": "$\\displaystyle (\\frac{4.0 \\cdot 10^{-14} i k_{0} \\cos{\\left(\\mathbf{{y}_{a}} k_{0} + \\frac{\\pi}{4} \\right)}}{\\pi ε_{0}})\\mathbf{\\hat{x_d}_{a}}$",
            "text/plain": [
              "(4.0e-14*I*k_0*cos(a.y*k_0 + pi/4)/(pi*ε_0))*a.x_d"
            ]
          },
          "metadata": {
            "tags": []
          },
          "execution_count": 235
        }
      ]
    },
    {
      "cell_type": "code",
      "metadata": {
        "id": "wLQtpIc5xfca",
        "colab_type": "code",
        "outputId": "c9f527cd-594e-42e1-a9f2-7d44a6344098",
        "colab": {
          "base_uri": "https://localhost:8080/"
        }
      },
      "source": [
        "H"
      ],
      "execution_count": 0,
      "outputs": [
        {
          "output_type": "execute_result",
          "data": {
            "text/latex": "$\\displaystyle (4.0 \\cdot 10^{-6} \\sin{\\left(\\mathbf{{y}_{a}} k_{0} + \\frac{\\pi}{4} \\right)})\\mathbf{\\hat{z_d}_{a}}$",
            "text/plain": [
              "(4.0e-6*sin(a.y*k_0 + pi/4))*a.z_d"
            ]
          },
          "metadata": {
            "tags": []
          },
          "execution_count": 236
        }
      ]
    },
    {
      "cell_type": "code",
      "metadata": {
        "id": "P1wWyEajyHqr",
        "colab_type": "code",
        "colab": {}
      },
      "source": [
        "#@title  { form-width: \"400px\" }\n",
        "# ====================================== #\n",
        "# Caixa de configurações dependem do \n",
        "# sistema de coordenadas adotado e\n",
        "# do valor das variáveis.\n",
        "\n",
        "# Assinalando variáveis reais !\n",
        "x,y,z=sp.symbols('x,y,z', real=True)\n",
        "\n",
        "# substituição direta (esquerda --> direita)\n",
        "subs_a=[(a.x,x),\n",
        "        (a.y,y),\n",
        "        (a.z,z)]\n",
        "\n",
        "# substituição reversa ( esquerda --> direita)\n",
        "subs_a_rev=[(x,a.x),\n",
        "        (y,a.y),\n",
        "        (z,a.z)]\n",
        "a_subs=[subs_a,subs_a_rev,a]\n",
        "# ====================================== #\n",
        "\n",
        "def magnitude_v(D,a_subs):\n",
        "  D_magnitude=sp.sqrt(D.dot(conjugate_v(D,a_subs)))\n",
        "  return(D_magnitude)"
      ],
      "execution_count": 0,
      "outputs": []
    },
    {
      "cell_type": "code",
      "metadata": {
        "id": "Kdb7cjyyyXA7",
        "colab_type": "code",
        "outputId": "68ac30c7-5edb-434b-850e-24c76a01465c",
        "colab": {
          "base_uri": "https://localhost:8080/"
        }
      },
      "source": [
        "E.cross(H)/(magnitude_v(E.cross(H),a_subs))"
      ],
      "execution_count": 0,
      "outputs": [
        {
          "output_type": "execute_result",
          "data": {
            "text/latex": "$\\displaystyle (- \\frac{1.0 i k_{0} \\sin{\\left(\\mathbf{{y}_{a}} k_{0} + \\frac{\\pi}{4} \\right)} \\cos{\\left(\\mathbf{{y}_{a}} k_{0} + \\frac{\\pi}{4} \\right)}}{ε_{0} \\sqrt{\\frac{\\sin^{2}{\\left(\\mathbf{{y}_{a}} k_{0} + \\frac{\\pi}{4} \\right)} \\cos^{2}{\\left(\\mathbf{{y}_{a}} k_{0} + \\frac{\\pi}{4} \\right)}}{ε_{0}^{2}}} \\left|{k_{0}}\\right|})\\mathbf{\\hat{y_d}_{a}}$",
            "text/plain": [
              "(-1.0*I*k_0*sin(a.y*k_0 + pi/4)*cos(a.y*k_0 + pi/4)/(ε_0*sqrt(sin(a.y*k_0 + pi/4)**2*cos(a.y*k_0 + pi/4)**2/ε_0**2)*Abs(k_0)))*a.y_d"
            ]
          },
          "metadata": {
            "tags": []
          },
          "execution_count": 238
        }
      ]
    },
    {
      "cell_type": "markdown",
      "metadata": {
        "id": "o9Uiglbty3aM",
        "colab_type": "text"
      },
      "source": [
        "Pode-se concluir que $$\\hat{n}=\\hat{y}$$"
      ]
    },
    {
      "cell_type": "markdown",
      "metadata": {
        "id": "2O4tFZv7ryS5",
        "colab_type": "text"
      },
      "source": [
        "# S2-7"
      ]
    },
    {
      "cell_type": "markdown",
      "metadata": {
        "id": "D_3uiAqNKCX4",
        "colab_type": "text"
      },
      "source": [
        "a)"
      ]
    },
    {
      "cell_type": "markdown",
      "metadata": {
        "id": "5rHOAX_1GFXO",
        "colab_type": "text"
      },
      "source": [
        "$$\\overrightarrow{β}=β_x \\hat{x}+β_y \\hat{y}+β_z \\hat{z}$$"
      ]
    },
    {
      "cell_type": "code",
      "metadata": {
        "id": "fAlFdeO0EYp7",
        "colab_type": "code",
        "outputId": "b8e68f5c-85f4-4928-9d95-0b3fdbbdfb82",
        "colab": {
          "base_uri": "https://localhost:8080/"
        }
      },
      "source": [
        "λ_x, λ_y, λ_z = [1.26, 3.14, 0.63]\n",
        "\n",
        "β_x, β_y, β_z = (2*np.pi)/np.array([λ_x, λ_y, λ_z ])\n",
        "\n",
        "β_v=(β_x)*a.x_d+(β_y)*a.y_d+(β_z)*a.z_d\n",
        "β_v"
      ],
      "execution_count": 0,
      "outputs": [
        {
          "output_type": "execute_result",
          "data": {
            "text/latex": "$\\displaystyle (4.98665500569808)\\mathbf{\\hat{x_d}_{a}} + (2.00101442903808)\\mathbf{\\hat{y_d}_{a}} + (9.97331001139617)\\mathbf{\\hat{z_d}_{a}}$",
            "text/plain": [
              "4.98665500569808*a.x_d + 2.00101442903808*a.y_d + 9.97331001139617*a.z_d"
            ]
          },
          "metadata": {
            "tags": []
          },
          "execution_count": 239
        }
      ]
    },
    {
      "cell_type": "code",
      "metadata": {
        "id": "JNO1c9aZGmwT",
        "colab_type": "code",
        "outputId": "81336a8c-2e86-4bdd-b954-c846fc51771c",
        "colab": {
          "base_uri": "https://localhost:8080/"
        }
      },
      "source": [
        "E_x=sp.Function('E_x')(a.x,a.y,a.z)\n",
        "E_y, E_z = [8.0, 5.0]\n",
        "E=(E_x)*a.x_d+(E_y)*a.y_d+(E_z)*a.z_d\n",
        "E"
      ],
      "execution_count": 0,
      "outputs": [
        {
          "output_type": "execute_result",
          "data": {
            "text/latex": "$\\displaystyle (\\operatorname{E_{x}}{\\left(\\mathbf{{x}_{a}},\\mathbf{{y}_{a}},\\mathbf{{z}_{a}} \\right)})\\mathbf{\\hat{x_d}_{a}} + (8.0)\\mathbf{\\hat{y_d}_{a}} + (5.0)\\mathbf{\\hat{z_d}_{a}}$",
            "text/plain": [
              "(E_x(a.x, a.y, a.z))*a.x_d + 8.00000000000000*a.y_d + 5.00000000000000*a.z_d"
            ]
          },
          "metadata": {
            "tags": []
          },
          "execution_count": 240
        }
      ]
    },
    {
      "cell_type": "code",
      "metadata": {
        "id": "MVTpxuGXI4fd",
        "colab_type": "code",
        "outputId": "0cbf0088-b27f-4d75-82a5-927510e69486",
        "colab": {
          "base_uri": "https://localhost:8080/"
        }
      },
      "source": [
        "E_x"
      ],
      "execution_count": 0,
      "outputs": [
        {
          "output_type": "execute_result",
          "data": {
            "text/latex": "$\\displaystyle \\operatorname{E_{x}}{\\left(\\mathbf{{x}_{a}},\\mathbf{{y}_{a}},\\mathbf{{z}_{a}} \\right)}$",
            "text/plain": [
              "E_x(a.x, a.y, a.z)"
            ]
          },
          "metadata": {
            "tags": []
          },
          "execution_count": 241
        }
      ]
    },
    {
      "cell_type": "markdown",
      "metadata": {
        "id": "kAH0xMolJn61",
        "colab_type": "text"
      },
      "source": [
        "$$\\overrightarrow{β}\\cdot\\overrightarrow{E}=0$$"
      ]
    },
    {
      "cell_type": "code",
      "metadata": {
        "id": "nOTPM4ZHJr-9",
        "colab_type": "code",
        "outputId": "1bc58eb8-5f23-4f69-c83b-a9b5e8fa8725",
        "colab": {
          "base_uri": "https://localhost:8080/"
        }
      },
      "source": [
        "β_v.dot(E)"
      ],
      "execution_count": 0,
      "outputs": [
        {
          "output_type": "execute_result",
          "data": {
            "text/latex": "$\\displaystyle 4.98665500569808 \\operatorname{E_{x}}{\\left(\\mathbf{{x}_{a}},\\mathbf{{y}_{a}},\\mathbf{{z}_{a}} \\right)} + 65.8746654892855$",
            "text/plain": [
              "4.98665500569808*E_x(a.x, a.y, a.z) + 65.8746654892855"
            ]
          },
          "metadata": {
            "tags": []
          },
          "execution_count": 242
        }
      ]
    },
    {
      "cell_type": "code",
      "metadata": {
        "id": "BlniG3m_KAMw",
        "colab_type": "code",
        "outputId": "0342384f-3343-4335-8e08-f9ee2fe381a5",
        "colab": {
          "base_uri": "https://localhost:8080/"
        }
      },
      "source": [
        "E_x= -65.8746654892855/4.98665500569808\n",
        "E_x"
      ],
      "execution_count": 0,
      "outputs": [
        {
          "output_type": "execute_result",
          "data": {
            "text/plain": [
              "-13.210191082802556"
            ]
          },
          "metadata": {
            "tags": []
          },
          "execution_count": 243
        }
      ]
    },
    {
      "cell_type": "code",
      "metadata": {
        "id": "e7dwM3mJKMqg",
        "colab_type": "code",
        "outputId": "2033f08d-c1dd-4d79-d3ee-9ef47c83dbfc",
        "colab": {
          "base_uri": "https://localhost:8080/"
        }
      },
      "source": [
        "round(E_x,2)"
      ],
      "execution_count": 0,
      "outputs": [
        {
          "output_type": "execute_result",
          "data": {
            "text/plain": [
              "-13.21"
            ]
          },
          "metadata": {
            "tags": []
          },
          "execution_count": 244
        }
      ]
    },
    {
      "cell_type": "markdown",
      "metadata": {
        "id": "aqjwhNI0KTos",
        "colab_type": "text"
      },
      "source": [
        "$$E_{0x}=-13.21 \\;(\\text{V/m})$$"
      ]
    },
    {
      "cell_type": "markdown",
      "metadata": {
        "id": "jXMhtmEYKe4N",
        "colab_type": "text"
      },
      "source": [
        "b)"
      ]
    },
    {
      "cell_type": "code",
      "metadata": {
        "id": "C81j54K6MAKz",
        "colab_type": "code",
        "colab": {}
      },
      "source": [
        "E_x=round(E_x,2)"
      ],
      "execution_count": 0,
      "outputs": []
    },
    {
      "cell_type": "code",
      "metadata": {
        "id": "-9uPNxfVL2Os",
        "colab_type": "code",
        "outputId": "c7fcb767-a2bb-47ea-fe2b-e0c293df11bf",
        "colab": {
          "base_uri": "https://localhost:8080/"
        }
      },
      "source": [
        "E=(E_x)*a.x_d+(E_y)*a.y_d+(E_z)*a.z_d\n",
        "E"
      ],
      "execution_count": 0,
      "outputs": [
        {
          "output_type": "execute_result",
          "data": {
            "text/latex": "$\\displaystyle (-13.21)\\mathbf{\\hat{x_d}_{a}} + (8.0)\\mathbf{\\hat{y_d}_{a}} + (5.0)\\mathbf{\\hat{z_d}_{a}}$",
            "text/plain": [
              "(-13.2100000000000)*a.x_d + 8.00000000000000*a.y_d + 5.00000000000000*a.z_d"
            ]
          },
          "metadata": {
            "tags": []
          },
          "execution_count": 246
        }
      ]
    },
    {
      "cell_type": "code",
      "metadata": {
        "id": "H9j7WbOGMJXJ",
        "colab_type": "code",
        "colab": {}
      },
      "source": [
        "ω=sp.symbols('ω',real=True)\n",
        "t=sp.symbols('t',real=True)\n",
        "ω_v=1.000e9\n",
        "\n",
        "\n"
      ],
      "execution_count": 0,
      "outputs": []
    },
    {
      "cell_type": "markdown",
      "metadata": {
        "id": "fMucC-ggOBXa",
        "colab_type": "text"
      },
      "source": [
        "Meio dielétrico:\n",
        "\n",
        "$$μ=μ_0$$\n",
        "\n",
        "Lei de Faraday:\n",
        "$$\\nabla \\times \\overrightarrow{E}=-jω\\overrightarrow{B}$$\n",
        "\n",
        "Relação constitutiva:\n",
        "\n",
        "$$\\overrightarrow{B}=\\mu_0\\overrightarrow{H}$$\n",
        "\n",
        "$$\\Rightarrow \\nabla \\times \\overrightarrow{E}=-jω\\mu_0\\overrightarrow{H}$$\n",
        "\n",
        "$$\\Rightarrow \\overrightarrow{H}=(-1/jω\\mu_0)\\nabla \\times \\overrightarrow{E}$$\n"
      ]
    },
    {
      "cell_type": "code",
      "metadata": {
        "id": "LPHymVyXRhL-",
        "colab_type": "code",
        "outputId": "8eabf2d6-41bf-4c39-96b7-1ff09887890e",
        "colab": {
          "base_uri": "https://localhost:8080/"
        }
      },
      "source": [
        "β_v"
      ],
      "execution_count": 0,
      "outputs": [
        {
          "output_type": "execute_result",
          "data": {
            "text/latex": "$\\displaystyle (4.98665500569808)\\mathbf{\\hat{x_d}_{a}} + (2.00101442903808)\\mathbf{\\hat{y_d}_{a}} + (9.97331001139617)\\mathbf{\\hat{z_d}_{a}}$",
            "text/plain": [
              "4.98665500569808*a.x_d + 2.00101442903808*a.y_d + 9.97331001139617*a.z_d"
            ]
          },
          "metadata": {
            "tags": []
          },
          "execution_count": 248
        }
      ]
    },
    {
      "cell_type": "code",
      "metadata": {
        "id": "mNleRkZ6Uz-w",
        "colab_type": "code",
        "outputId": "1aeaac40-1152-4f43-bc84-5d0e250983ea",
        "colab": {
          "base_uri": "https://localhost:8080/"
        }
      },
      "source": [
        "β_v_x=round(4.98665500569808,2)\n",
        "β_v_y=round(2.00101442903808,2)\n",
        "β_v_z=round(9.97331001139617,2)\n",
        "β_v=(β_v_x)*a.x_d+(β_v_y)*a.y_d+(β_v_z)*a.z_d\n",
        "β_v"
      ],
      "execution_count": 0,
      "outputs": [
        {
          "output_type": "execute_result",
          "data": {
            "text/latex": "$\\displaystyle (4.99)\\mathbf{\\hat{x_d}_{a}} + (2.0)\\mathbf{\\hat{y_d}_{a}} + (9.97)\\mathbf{\\hat{z_d}_{a}}$",
            "text/plain": [
              "4.99000000000000*a.x_d + 2.00000000000000*a.y_d + 9.97000000000000*a.z_d"
            ]
          },
          "metadata": {
            "tags": []
          },
          "execution_count": 249
        }
      ]
    },
    {
      "cell_type": "code",
      "metadata": {
        "id": "gZSeKEePtSZl",
        "colab_type": "code",
        "outputId": "ef6c3cb2-021c-4256-f3fe-1084e39d8524",
        "colab": {
          "base_uri": "https://localhost:8080/"
        }
      },
      "source": [
        "β=sp.sqrt(β_v.dot(\n",
        "    conjugate_v(β_v,a_subs)\n",
        "))\n",
        "β=round(β,3)\n",
        "β"
      ],
      "execution_count": 0,
      "outputs": [
        {
          "output_type": "execute_result",
          "data": {
            "text/latex": "$\\displaystyle 11.327$",
            "text/plain": [
              "11.327"
            ]
          },
          "metadata": {
            "tags": []
          },
          "execution_count": 250
        }
      ]
    },
    {
      "cell_type": "markdown",
      "metadata": {
        "id": "gaAJIht9z6dW",
        "colab_type": "text"
      },
      "source": [
        "$$\\alpha^{2}-\\beta^{2}+j2\\alpha\\beta = -\\omega^{2}\\mu_{0}ε_{ceq}$$\n",
        "$$\\alpha^{2}-\\beta^{2}+j2\\alpha\\beta = -\\omega^{2}\\mu_{0}ε_{r}ε_0 + j\\sigma\\mu_{0}\\omega$$\n",
        "\n",
        "$$\\Rightarrow \\alpha = \\sqrt{\\beta^{2}-\\omega^{2}\\mu_{0}ε_{r}ε_0}$$\n",
        "$$\\Rightarrow \\alpha = \\sqrt{\\beta^{2}-\\omega^{2}ε_{r}/c^{2}}$$"
      ]
    },
    {
      "cell_type": "code",
      "metadata": {
        "id": "_JBkektn1ffO",
        "colab_type": "code",
        "outputId": "c8497da9-a729-4911-ce91-c6a9b50adf17",
        "colab": {
          "base_uri": "https://localhost:8080/"
        }
      },
      "source": [
        "α=β**2 -(ω_v**2)*9/(3e8)**2 \n",
        "α=(α)**(1/2)\n",
        "α=round(α,3)\n",
        "α"
      ],
      "execution_count": 0,
      "outputs": [
        {
          "output_type": "execute_result",
          "data": {
            "text/latex": "$\\displaystyle 5.32$",
            "text/plain": [
              "5.320"
            ]
          },
          "metadata": {
            "tags": []
          },
          "execution_count": 251
        }
      ]
    },
    {
      "cell_type": "code",
      "metadata": {
        "id": "7h7ZGm312wXj",
        "colab_type": "code",
        "outputId": "6ad12187-9ba0-453d-9590-c397d21376aa",
        "colab": {
          "base_uri": "https://localhost:8080/"
        }
      },
      "source": [
        "α_v=(α/β)*β_v # α_v//β_v\n",
        "α_v"
      ],
      "execution_count": 0,
      "outputs": [
        {
          "output_type": "execute_result",
          "data": {
            "text/latex": "$\\displaystyle (2.3436785697937)\\mathbf{\\hat{x_d}_{a}} + (0.939350128173828)\\mathbf{\\hat{y_d}_{a}} + (4.68266038894653)\\mathbf{\\hat{z_d}_{a}}$",
            "text/plain": [
              "2.34367856979370*a.x_d + 0.939350128173828*a.y_d + 4.68266038894653*a.z_d"
            ]
          },
          "metadata": {
            "tags": []
          },
          "execution_count": 252
        }
      ]
    },
    {
      "cell_type": "code",
      "metadata": {
        "id": "HvK33YAA_VgO",
        "colab_type": "code",
        "outputId": "4ee4e7f2-e7fa-456a-a5be-1a130cbb336d",
        "colab": {
          "base_uri": "https://localhost:8080/"
        }
      },
      "source": [
        "α_v=2.344*a.x_d+0.9394*a.y_d+4.6827*a.z_d\n",
        "α_v"
      ],
      "execution_count": 0,
      "outputs": [
        {
          "output_type": "execute_result",
          "data": {
            "text/latex": "$\\displaystyle (2.344)\\mathbf{\\hat{x_d}_{a}} + (0.9394)\\mathbf{\\hat{y_d}_{a}} + (4.6827)\\mathbf{\\hat{z_d}_{a}}$",
            "text/plain": [
              "2.34400000000000*a.x_d + 0.939400000000000*a.y_d + 4.68270000000000*a.z_d"
            ]
          },
          "metadata": {
            "tags": []
          },
          "execution_count": 253
        }
      ]
    },
    {
      "cell_type": "code",
      "metadata": {
        "id": "5KMamfNMQhlV",
        "colab_type": "code",
        "outputId": "1439d15a-9946-4714-8d76-2173c595e6f9",
        "colab": {
          "base_uri": "https://localhost:8080/"
        }
      },
      "source": [
        "γ_v=-(α_v+1j*β_v)\n",
        "r=(a.x)*a.x_d+(a.y)*a.y_d+(a.z)*a.z_d\n",
        "E=E*sp.exp(γ_v.dot(r))\n",
        "E"
      ],
      "execution_count": 0,
      "outputs": [
        {
          "output_type": "execute_result",
          "data": {
            "text/latex": "$\\displaystyle (- 13.21 e^{\\mathbf{{x}_{a}} \\left(-2.344 - 4.99 i\\right) + \\mathbf{{y}_{a}} \\left(-0.9394 - 2.0 i\\right) + \\mathbf{{z}_{a}} \\left(-4.6827 - 9.97 i\\right)})\\mathbf{\\hat{x_d}_{a}} + (8.0 e^{\\mathbf{{x}_{a}} \\left(-2.344 - 4.99 i\\right) + \\mathbf{{y}_{a}} \\left(-0.9394 - 2.0 i\\right) + \\mathbf{{z}_{a}} \\left(-4.6827 - 9.97 i\\right)})\\mathbf{\\hat{y_d}_{a}} + (5.0 e^{\\mathbf{{x}_{a}} \\left(-2.344 - 4.99 i\\right) + \\mathbf{{y}_{a}} \\left(-0.9394 - 2.0 i\\right) + \\mathbf{{z}_{a}} \\left(-4.6827 - 9.97 i\\right)})\\mathbf{\\hat{z_d}_{a}}$",
            "text/plain": [
              "(-13.21*exp(a.x*(-2.344 - 4.99*I) + a.y*(-0.9394 - 2.0*I) + a.z*(-4.6827 - 9.97*I)))*a.x_d + (8.0*exp(a.x*(-2.344 - 4.99*I) + a.y*(-0.9394 - 2.0*I) + a.z*(-4.6827 - 9.97*I)))*a.y_d + (5.0*exp(a.x*(-2.344 - 4.99*I) + a.y*(-0.9394 - 2.0*I) + a.z*(-4.6827 - 9.97*I)))*a.z_d"
            ]
          },
          "metadata": {
            "tags": []
          },
          "execution_count": 254
        }
      ]
    },
    {
      "cell_type": "markdown",
      "metadata": {
        "id": "S2hsVrfrV0hm",
        "colab_type": "text"
      },
      "source": [
        "Fasor do campo elétrico:"
      ]
    },
    {
      "cell_type": "code",
      "metadata": {
        "id": "6JmSkgKDVdS0",
        "colab_type": "code",
        "outputId": "4665a35f-101c-49cb-9376-774412f6eddf",
        "colab": {
          "base_uri": "https://localhost:8080/"
        }
      },
      "source": [
        "E"
      ],
      "execution_count": 0,
      "outputs": [
        {
          "output_type": "execute_result",
          "data": {
            "text/latex": "$\\displaystyle (- 13.21 e^{\\mathbf{{x}_{a}} \\left(-2.344 - 4.99 i\\right) + \\mathbf{{y}_{a}} \\left(-0.9394 - 2.0 i\\right) + \\mathbf{{z}_{a}} \\left(-4.6827 - 9.97 i\\right)})\\mathbf{\\hat{x_d}_{a}} + (8.0 e^{\\mathbf{{x}_{a}} \\left(-2.344 - 4.99 i\\right) + \\mathbf{{y}_{a}} \\left(-0.9394 - 2.0 i\\right) + \\mathbf{{z}_{a}} \\left(-4.6827 - 9.97 i\\right)})\\mathbf{\\hat{y_d}_{a}} + (5.0 e^{\\mathbf{{x}_{a}} \\left(-2.344 - 4.99 i\\right) + \\mathbf{{y}_{a}} \\left(-0.9394 - 2.0 i\\right) + \\mathbf{{z}_{a}} \\left(-4.6827 - 9.97 i\\right)})\\mathbf{\\hat{z_d}_{a}}$",
            "text/plain": [
              "(-13.21*exp(a.x*(-2.344 - 4.99*I) + a.y*(-0.9394 - 2.0*I) + a.z*(-4.6827 - 9.97*I)))*a.x_d + (8.0*exp(a.x*(-2.344 - 4.99*I) + a.y*(-0.9394 - 2.0*I) + a.z*(-4.6827 - 9.97*I)))*a.y_d + (5.0*exp(a.x*(-2.344 - 4.99*I) + a.y*(-0.9394 - 2.0*I) + a.z*(-4.6827 - 9.97*I)))*a.z_d"
            ]
          },
          "metadata": {
            "tags": []
          },
          "execution_count": 255
        }
      ]
    },
    {
      "cell_type": "code",
      "metadata": {
        "id": "R0slNVjmV4L1",
        "colab_type": "code",
        "outputId": "03112455-0d51-413a-a177-d623322df43c",
        "colab": {
          "base_uri": "https://localhost:8080/"
        }
      },
      "source": [
        "#@title  { form-width: \"400px\" }\n",
        "# ====================================== #\n",
        "# Caixa de configurações dependem do \n",
        "# sistema de coordenadas adotado e\n",
        "# do valor das variáveis.\n",
        "\n",
        "# Assinalando variáveis reais !\n",
        "x,y,z=sp.symbols('x,y,z', real=True)\n",
        "\n",
        "# substituição direta (esquerda --> direita)\n",
        "subs_a=[(a.x,x),\n",
        "        (a.y,y),\n",
        "        (a.z,z)]\n",
        "\n",
        "# substituição reversa ( esquerda --> direita)\n",
        "subs_a_rev=[(x,a.x),\n",
        "        (y,a.y),\n",
        "        (z,a.z)]\n",
        "a_subs=[subs_a,subs_a_rev,a]\n",
        "# ====================================== #\n",
        "\n",
        "def re_v(D,a_subs):\n",
        "  # D é o vetor a ser conjugado.\n",
        "  # subs_a é o assinalamento de variáveis reais.\n",
        "  # subs_a é a reatribuição dos objetos\n",
        "  # a é o sistema de referência.\n",
        "  D=D.to_matrix(a_subs[2]) # Não é o objeto em D que é atribuído.\n",
        "\n",
        "  # ---------------------------------------- #\n",
        "  D=sp.re(D.subs(a_subs[0]))\n",
        "  # ---------------------------------------- #\n",
        "  D=spv.matrix_to_vector(D,a_subs[2])\n",
        "  D=D.subs(a_subs[1])\n",
        "\n",
        "  D=sp.simplify(D.subs(a_subs[0]))\n",
        "  D=D.subs(a_subs[1])\n",
        "\n",
        "  return D \n",
        "e=re_v(E*sp.exp(+1j*ω*t),a_subs)\n",
        "e"
      ],
      "execution_count": 0,
      "outputs": [
        {
          "output_type": "execute_result",
          "data": {
            "text/latex": "$\\displaystyle (- 13.21 e^{- 2.344 \\mathbf{{x}_{a}} - 0.9394 \\mathbf{{y}_{a}} - 4.6827 \\mathbf{{z}_{a}}} \\cos{\\left(4.99 \\mathbf{{x}_{a}} + 2.0 \\mathbf{{y}_{a}} + 9.97 \\mathbf{{z}_{a}} - 1.0 t ω \\right)})\\mathbf{\\hat{x_d}_{a}} + (8.0 e^{- 2.344 \\mathbf{{x}_{a}} - 0.9394 \\mathbf{{y}_{a}} - 4.6827 \\mathbf{{z}_{a}}} \\cos{\\left(4.99 \\mathbf{{x}_{a}} + 2.0 \\mathbf{{y}_{a}} + 9.97 \\mathbf{{z}_{a}} - 1.0 t ω \\right)})\\mathbf{\\hat{y_d}_{a}} + (5.0 e^{- 2.344 \\mathbf{{x}_{a}} - 0.9394 \\mathbf{{y}_{a}} - 4.6827 \\mathbf{{z}_{a}}} \\cos{\\left(4.99 \\mathbf{{x}_{a}} + 2.0 \\mathbf{{y}_{a}} + 9.97 \\mathbf{{z}_{a}} - 1.0 t ω \\right)})\\mathbf{\\hat{z_d}_{a}}$",
            "text/plain": [
              "(-13.21*exp(-2.344*a.x - 0.9394*a.y - 4.6827*a.z)*cos(4.99*a.x + 2.0*a.y + 9.97*a.z - 1.0*t*ω))*a.x_d + (8.0*exp(-2.344*a.x - 0.9394*a.y - 4.6827*a.z)*cos(4.99*a.x + 2.0*a.y + 9.97*a.z - 1.0*t*ω))*a.y_d + (5.0*exp(-2.344*a.x - 0.9394*a.y - 4.6827*a.z)*cos(4.99*a.x + 2.0*a.y + 9.97*a.z - 1.0*t*ω))*a.z_d"
            ]
          },
          "metadata": {
            "tags": []
          },
          "execution_count": 256
        }
      ]
    },
    {
      "cell_type": "code",
      "metadata": {
        "id": "aDIHDeM7XR48",
        "colab_type": "code",
        "outputId": "37118f31-a7b1-4a75-b079-1fbb018c5a72",
        "colab": {
          "base_uri": "https://localhost:8080/"
        }
      },
      "source": [
        "lt=r\"\\overrightarrow{e}=\"\n",
        "lt=lt+sp.latex(e.subs(ω,1e9))\n",
        "dlatex(lt)"
      ],
      "execution_count": 0,
      "outputs": [
        {
          "output_type": "display_data",
          "data": {
            "text/latex": "\\overrightarrow{e}=(- 13.21 e^{- 2.344 \\mathbf{{x}_{a}} - 0.9394 \\mathbf{{y}_{a}} - 4.6827 \\mathbf{{z}_{a}}} \\cos{\\left(4.99 \\mathbf{{x}_{a}} + 2.0 \\mathbf{{y}_{a}} + 9.97 \\mathbf{{z}_{a}} - 1000000000.0 t \\right)})\\mathbf{\\hat{x_d}_{a}} + (8.0 e^{- 2.344 \\mathbf{{x}_{a}} - 0.9394 \\mathbf{{y}_{a}} - 4.6827 \\mathbf{{z}_{a}}} \\cos{\\left(4.99 \\mathbf{{x}_{a}} + 2.0 \\mathbf{{y}_{a}} + 9.97 \\mathbf{{z}_{a}} - 1000000000.0 t \\right)})\\mathbf{\\hat{y_d}_{a}} + (5.0 e^{- 2.344 \\mathbf{{x}_{a}} - 0.9394 \\mathbf{{y}_{a}} - 4.6827 \\mathbf{{z}_{a}}} \\cos{\\left(4.99 \\mathbf{{x}_{a}} + 2.0 \\mathbf{{y}_{a}} + 9.97 \\mathbf{{z}_{a}} - 1000000000.0 t \\right)})\\mathbf{\\hat{z_d}_{a}}",
            "text/plain": [
              "<IPython.core.display.Latex object>"
            ]
          },
          "metadata": {
            "tags": []
          }
        }
      ]
    },
    {
      "cell_type": "code",
      "metadata": {
        "id": "2SuhgN6FPgOk",
        "colab_type": "code",
        "outputId": "1bdb2a79-9472-409b-864b-64c62b7602a5",
        "colab": {
          "base_uri": "https://localhost:8080/"
        }
      },
      "source": [
        "μ_0=sp.symbols('μ_0',real=True)\n",
        "H=(-1/(1j*ω*μ_0))*spv.curl(E)\n",
        "H"
      ],
      "execution_count": 0,
      "outputs": [
        {
          "output_type": "execute_result",
          "data": {
            "text/latex": "$\\displaystyle (\\frac{1.0 i \\left(5.0 \\left(-0.9394 - 2.0 i\\right) e^{\\mathbf{{x}_{a}} \\left(-2.344 - 4.99 i\\right) + \\mathbf{{y}_{a}} \\left(-0.9394 - 2.0 i\\right) + \\mathbf{{z}_{a}} \\left(-4.6827 - 9.97 i\\right)} - 8.0 \\left(-4.6827 - 9.97 i\\right) e^{\\mathbf{{x}_{a}} \\left(-2.344 - 4.99 i\\right) + \\mathbf{{y}_{a}} \\left(-0.9394 - 2.0 i\\right) + \\mathbf{{z}_{a}} \\left(-4.6827 - 9.97 i\\right)}\\right)}{μ_{0} ω})\\mathbf{\\hat{x_d}_{a}} + (\\frac{1.0 i \\left(- 5.0 \\left(-2.344 - 4.99 i\\right) e^{\\mathbf{{x}_{a}} \\left(-2.344 - 4.99 i\\right) + \\mathbf{{y}_{a}} \\left(-0.9394 - 2.0 i\\right) + \\mathbf{{z}_{a}} \\left(-4.6827 - 9.97 i\\right)} - 13.21 \\left(-4.6827 - 9.97 i\\right) e^{\\mathbf{{x}_{a}} \\left(-2.344 - 4.99 i\\right) + \\mathbf{{y}_{a}} \\left(-0.9394 - 2.0 i\\right) + \\mathbf{{z}_{a}} \\left(-4.6827 - 9.97 i\\right)}\\right)}{μ_{0} ω})\\mathbf{\\hat{y_d}_{a}} + (\\frac{1.0 i \\left(8.0 \\left(-2.344 - 4.99 i\\right) e^{\\mathbf{{x}_{a}} \\left(-2.344 - 4.99 i\\right) + \\mathbf{{y}_{a}} \\left(-0.9394 - 2.0 i\\right) + \\mathbf{{z}_{a}} \\left(-4.6827 - 9.97 i\\right)} + 13.21 \\left(-0.9394 - 2.0 i\\right) e^{\\mathbf{{x}_{a}} \\left(-2.344 - 4.99 i\\right) + \\mathbf{{y}_{a}} \\left(-0.9394 - 2.0 i\\right) + \\mathbf{{z}_{a}} \\left(-4.6827 - 9.97 i\\right)}\\right)}{μ_{0} ω})\\mathbf{\\hat{z_d}_{a}}$",
            "text/plain": [
              "(1.0*I*(5.0*(-0.9394 - 2.0*I)*exp(a.x*(-2.344 - 4.99*I) + a.y*(-0.9394 - 2.0*I) + a.z*(-4.6827 - 9.97*I)) - 8.0*(-4.6827 - 9.97*I)*exp(a.x*(-2.344 - 4.99*I) + a.y*(-0.9394 - 2.0*I) + a.z*(-4.6827 - 9.97*I)))/(μ_0*ω))*a.x_d + (1.0*I*(-5.0*(-2.344 - 4.99*I)*exp(a.x*(-2.344 - 4.99*I) + a.y*(-0.9394 - 2.0*I) + a.z*(-4.6827 - 9.97*I)) - 13.21*(-4.6827 - 9.97*I)*exp(a.x*(-2.344 - 4.99*I) + a.y*(-0.9394 - 2.0*I) + a.z*(-4.6827 - 9.97*I)))/(μ_0*ω))*a.y_d + (1.0*I*(8.0*(-2.344 - 4.99*I)*exp(a.x*(-2.344 - 4.99*I) + a.y*(-0.9394 - 2.0*I) + a.z*(-4.6827 - 9.97*I)) + 13.21*(-0.9394 - 2.0*I)*exp(a.x*(-2.344 - 4.99*I) + a.y*(-0.9394 - 2.0*I) + a.z*(-4.6827 - 9.97*I)))/(μ_0*ω))*a.z_d"
            ]
          },
          "metadata": {
            "tags": []
          },
          "execution_count": 258
        }
      ]
    },
    {
      "cell_type": "code",
      "metadata": {
        "id": "d0RFsS4ri5SE",
        "colab_type": "code",
        "outputId": "25f1fd82-6ab8-4245-8e11-cbb0ccaf4c2a",
        "colab": {
          "base_uri": "https://localhost:8080/"
        }
      },
      "source": [
        "h=re_v(H*sp.exp(+1j*ω*t),a_subs)\n",
        "h"
      ],
      "execution_count": 0,
      "outputs": [
        {
          "output_type": "execute_result",
          "data": {
            "text/latex": "$\\displaystyle (\\frac{1.0 \\left(\\left(32.7646 \\sin{\\left(4.99 \\mathbf{{x}_{a}} + 2.0 \\mathbf{{y}_{a}} + 9.97 \\mathbf{{z}_{a}} \\right)} - 69.76 \\cos{\\left(4.99 \\mathbf{{x}_{a}} + 2.0 \\mathbf{{y}_{a}} + 9.97 \\mathbf{{z}_{a}} \\right)}\\right) \\cos{\\left(1.0 t ω \\right)} - \\left(69.76 \\sin{\\left(4.99 \\mathbf{{x}_{a}} + 2.0 \\mathbf{{y}_{a}} + 9.97 \\mathbf{{z}_{a}} \\right)} + 32.7646 \\cos{\\left(4.99 \\mathbf{{x}_{a}} + 2.0 \\mathbf{{y}_{a}} + 9.97 \\mathbf{{z}_{a}} \\right)}\\right) \\sin{\\left(1.0 t ω \\right)}\\right) e^{- 2.344 \\mathbf{{x}_{a}} - 0.9394 \\mathbf{{y}_{a}} - 4.6827 \\mathbf{{z}_{a}}}}{μ_{0} ω})\\mathbf{\\hat{x_d}_{a}} + (\\frac{1.0 \\left(\\left(73.578467 \\sin{\\left(4.99 \\mathbf{{x}_{a}} + 2.0 \\mathbf{{y}_{a}} + 9.97 \\mathbf{{z}_{a}} \\right)} - 156.6537 \\cos{\\left(4.99 \\mathbf{{x}_{a}} + 2.0 \\mathbf{{y}_{a}} + 9.97 \\mathbf{{z}_{a}} \\right)}\\right) \\cos{\\left(1.0 t ω \\right)} - \\left(156.6537 \\sin{\\left(4.99 \\mathbf{{x}_{a}} + 2.0 \\mathbf{{y}_{a}} + 9.97 \\mathbf{{z}_{a}} \\right)} + 73.578467 \\cos{\\left(4.99 \\mathbf{{x}_{a}} + 2.0 \\mathbf{{y}_{a}} + 9.97 \\mathbf{{z}_{a}} \\right)}\\right) \\sin{\\left(1.0 t ω \\right)}\\right) e^{- 2.344 \\mathbf{{x}_{a}} - 0.9394 \\mathbf{{y}_{a}} - 4.6827 \\mathbf{{z}_{a}}}}{μ_{0} ω})\\mathbf{\\hat{y_d}_{a}} + (\\frac{1.0 \\left(- \\left(31.161474 \\sin{\\left(4.99 \\mathbf{{x}_{a}} + 2.0 \\mathbf{{y}_{a}} + 9.97 \\mathbf{{z}_{a}} \\right)} - 66.34 \\cos{\\left(4.99 \\mathbf{{x}_{a}} + 2.0 \\mathbf{{y}_{a}} + 9.97 \\mathbf{{z}_{a}} \\right)}\\right) \\cos{\\left(1.0 t ω \\right)} + \\left(66.34 \\sin{\\left(4.99 \\mathbf{{x}_{a}} + 2.0 \\mathbf{{y}_{a}} + 9.97 \\mathbf{{z}_{a}} \\right)} + 31.161474 \\cos{\\left(4.99 \\mathbf{{x}_{a}} + 2.0 \\mathbf{{y}_{a}} + 9.97 \\mathbf{{z}_{a}} \\right)}\\right) \\sin{\\left(1.0 t ω \\right)}\\right) e^{- 2.344 \\mathbf{{x}_{a}} - 0.9394 \\mathbf{{y}_{a}} - 4.6827 \\mathbf{{z}_{a}}}}{μ_{0} ω})\\mathbf{\\hat{z_d}_{a}}$",
            "text/plain": [
              "(1.0*((32.7646*sin(4.99*a.x + 2.0*a.y + 9.97*a.z) - 69.76*cos(4.99*a.x + 2.0*a.y + 9.97*a.z))*cos(1.0*t*ω) - (69.76*sin(4.99*a.x + 2.0*a.y + 9.97*a.z) + 32.7646*cos(4.99*a.x + 2.0*a.y + 9.97*a.z))*sin(1.0*t*ω))*exp(-2.344*a.x - 0.9394*a.y - 4.6827*a.z)/(μ_0*ω))*a.x_d + (1.0*((73.578467*sin(4.99*a.x + 2.0*a.y + 9.97*a.z) - 156.6537*cos(4.99*a.x + 2.0*a.y + 9.97*a.z))*cos(1.0*t*ω) - (156.6537*sin(4.99*a.x + 2.0*a.y + 9.97*a.z) + 73.578467*cos(4.99*a.x + 2.0*a.y + 9.97*a.z))*sin(1.0*t*ω))*exp(-2.344*a.x - 0.9394*a.y - 4.6827*a.z)/(μ_0*ω))*a.y_d + (1.0*(-(31.161474*sin(4.99*a.x + 2.0*a.y + 9.97*a.z) - 66.34*cos(4.99*a.x + 2.0*a.y + 9.97*a.z))*cos(1.0*t*ω) + (66.34*sin(4.99*a.x + 2.0*a.y + 9.97*a.z) + 31.161474*cos(4.99*a.x + 2.0*a.y + 9.97*a.z))*sin(1.0*t*ω))*exp(-2.344*a.x - 0.9394*a.y - 4.6827*a.z)/(μ_0*ω))*a.z_d"
            ]
          },
          "metadata": {
            "tags": []
          },
          "execution_count": 259
        }
      ]
    },
    {
      "cell_type": "code",
      "metadata": {
        "id": "-0KCQmctA9Af",
        "colab_type": "code",
        "outputId": "278f6db6-eed9-4f6a-ca0e-2fce409311f1",
        "colab": {
          "base_uri": "https://localhost:8080/"
        }
      },
      "source": [
        "h=sp.simplify(h)\n",
        "h"
      ],
      "execution_count": 0,
      "outputs": [
        {
          "output_type": "execute_result",
          "data": {
            "text/latex": "$\\displaystyle (\\frac{\\left(32.7646 \\sin{\\left(4.99 \\mathbf{{x}_{a}} + 2.0 \\mathbf{{y}_{a}} + 9.97 \\mathbf{{z}_{a}} - 1.0 t ω \\right)} - 69.76 \\cos{\\left(4.99 \\mathbf{{x}_{a}} + 2.0 \\mathbf{{y}_{a}} + 9.97 \\mathbf{{z}_{a}} - 1.0 t ω \\right)}\\right) e^{- 2.344 \\mathbf{{x}_{a}} - 0.9394 \\mathbf{{y}_{a}} - 4.6827 \\mathbf{{z}_{a}}}}{μ_{0} ω})\\mathbf{\\hat{x_d}_{a}} + (\\frac{\\left(73.578467 \\sin{\\left(4.99 \\mathbf{{x}_{a}} + 2.0 \\mathbf{{y}_{a}} + 9.97 \\mathbf{{z}_{a}} - 1.0 t ω \\right)} - 156.6537 \\cos{\\left(4.99 \\mathbf{{x}_{a}} + 2.0 \\mathbf{{y}_{a}} + 9.97 \\mathbf{{z}_{a}} - 1.0 t ω \\right)}\\right) e^{- 2.344 \\mathbf{{x}_{a}} - 0.9394 \\mathbf{{y}_{a}} - 4.6827 \\mathbf{{z}_{a}}}}{μ_{0} ω})\\mathbf{\\hat{y_d}_{a}} + (\\frac{\\left(- 31.161474 \\sin{\\left(4.99 \\mathbf{{x}_{a}} + 2.0 \\mathbf{{y}_{a}} + 9.97 \\mathbf{{z}_{a}} - 1.0 t ω \\right)} + 66.34 \\cos{\\left(4.99 \\mathbf{{x}_{a}} + 2.0 \\mathbf{{y}_{a}} + 9.97 \\mathbf{{z}_{a}} - 1.0 t ω \\right)}\\right) e^{- 2.344 \\mathbf{{x}_{a}} - 0.9394 \\mathbf{{y}_{a}} - 4.6827 \\mathbf{{z}_{a}}}}{μ_{0} ω})\\mathbf{\\hat{z_d}_{a}}$",
            "text/plain": [
              "((32.7646*sin(4.99*a.x + 2.0*a.y + 9.97*a.z - 1.0*t*ω) - 69.76*cos(4.99*a.x + 2.0*a.y + 9.97*a.z - 1.0*t*ω))*exp(-2.344*a.x - 0.9394*a.y - 4.6827*a.z)/(μ_0*ω))*a.x_d + ((73.578467*sin(4.99*a.x + 2.0*a.y + 9.97*a.z - 1.0*t*ω) - 156.6537*cos(4.99*a.x + 2.0*a.y + 9.97*a.z - 1.0*t*ω))*exp(-2.344*a.x - 0.9394*a.y - 4.6827*a.z)/(μ_0*ω))*a.y_d + ((-31.161474*sin(4.99*a.x + 2.0*a.y + 9.97*a.z - 1.0*t*ω) + 66.34*cos(4.99*a.x + 2.0*a.y + 9.97*a.z - 1.0*t*ω))*exp(-2.344*a.x - 0.9394*a.y - 4.6827*a.z)/(μ_0*ω))*a.z_d"
            ]
          },
          "metadata": {
            "tags": []
          },
          "execution_count": 260
        }
      ]
    },
    {
      "cell_type": "code",
      "metadata": {
        "id": "cnop7JAAjF7i",
        "colab_type": "code",
        "outputId": "36616665-620d-4bd1-d53f-1bcb462bd8ad",
        "colab": {
          "base_uri": "https://localhost:8080/"
        }
      },
      "source": [
        "lt=r\"\\overrightarrow{h}=\"\n",
        "lt=lt+sp.latex(h)\n",
        "dlatex(lt)"
      ],
      "execution_count": 0,
      "outputs": [
        {
          "output_type": "display_data",
          "data": {
            "text/latex": "\\overrightarrow{h}=(\\frac{\\left(32.7646 \\sin{\\left(4.99 \\mathbf{{x}_{a}} + 2.0 \\mathbf{{y}_{a}} + 9.97 \\mathbf{{z}_{a}} - 1.0 t ω \\right)} - 69.76 \\cos{\\left(4.99 \\mathbf{{x}_{a}} + 2.0 \\mathbf{{y}_{a}} + 9.97 \\mathbf{{z}_{a}} - 1.0 t ω \\right)}\\right) e^{- 2.344 \\mathbf{{x}_{a}} - 0.9394 \\mathbf{{y}_{a}} - 4.6827 \\mathbf{{z}_{a}}}}{μ_{0} ω})\\mathbf{\\hat{x_d}_{a}} + (\\frac{\\left(73.578467 \\sin{\\left(4.99 \\mathbf{{x}_{a}} + 2.0 \\mathbf{{y}_{a}} + 9.97 \\mathbf{{z}_{a}} - 1.0 t ω \\right)} - 156.6537 \\cos{\\left(4.99 \\mathbf{{x}_{a}} + 2.0 \\mathbf{{y}_{a}} + 9.97 \\mathbf{{z}_{a}} - 1.0 t ω \\right)}\\right) e^{- 2.344 \\mathbf{{x}_{a}} - 0.9394 \\mathbf{{y}_{a}} - 4.6827 \\mathbf{{z}_{a}}}}{μ_{0} ω})\\mathbf{\\hat{y_d}_{a}} + (\\frac{\\left(- 31.161474 \\sin{\\left(4.99 \\mathbf{{x}_{a}} + 2.0 \\mathbf{{y}_{a}} + 9.97 \\mathbf{{z}_{a}} - 1.0 t ω \\right)} + 66.34 \\cos{\\left(4.99 \\mathbf{{x}_{a}} + 2.0 \\mathbf{{y}_{a}} + 9.97 \\mathbf{{z}_{a}} - 1.0 t ω \\right)}\\right) e^{- 2.344 \\mathbf{{x}_{a}} - 0.9394 \\mathbf{{y}_{a}} - 4.6827 \\mathbf{{z}_{a}}}}{μ_{0} ω})\\mathbf{\\hat{z_d}_{a}}",
            "text/plain": [
              "<IPython.core.display.Latex object>"
            ]
          },
          "metadata": {
            "tags": []
          }
        }
      ]
    },
    {
      "cell_type": "code",
      "metadata": {
        "id": "sGB5mGSTBjDR",
        "colab_type": "code",
        "outputId": "9e8be33c-5752-46df-eb5c-c7a9bb812c69",
        "colab": {
          "base_uri": "https://localhost:8080/"
        }
      },
      "source": [
        "h=sp.simplify(h.subs([(ω,ω_v),\n",
        "                    (μ_0,4*np.pi*1e-7)]))\n",
        "h"
      ],
      "execution_count": 0,
      "outputs": [
        {
          "output_type": "execute_result",
          "data": {
            "text/latex": "$\\displaystyle (\\left(0.0260732402421436 \\sin{\\left(4.99 \\mathbf{{x}_{a}} + 2.0 \\mathbf{{y}_{a}} + 9.97 \\mathbf{{z}_{a}} - 1000000000.0 t \\right)} - 0.0555132441504531 \\cos{\\left(4.99 \\mathbf{{x}_{a}} + 2.0 \\mathbf{{y}_{a}} + 9.97 \\mathbf{{z}_{a}} - 1000000000.0 t \\right)}\\right) e^{- 2.344 \\mathbf{{x}_{a}} - 0.9394 \\mathbf{{y}_{a}} - 4.6827 \\mathbf{{z}_{a}}})\\mathbf{\\hat{x_d}_{a}} + (\\left(0.0585518836408695 \\sin{\\left(4.99 \\mathbf{{x}_{a}} + 2.0 \\mathbf{{y}_{a}} + 9.97 \\mathbf{{z}_{a}} - 1000000000.0 t \\right)} - 0.124661053543174 \\cos{\\left(4.99 \\mathbf{{x}_{a}} + 2.0 \\mathbf{{y}_{a}} + 9.97 \\mathbf{{z}_{a}} - 1000000000.0 t \\right)}\\right) e^{- 2.344 \\mathbf{{x}_{a}} - 0.9394 \\mathbf{{y}_{a}} - 4.6827 \\mathbf{{z}_{a}}})\\mathbf{\\hat{y_d}_{a}} + (\\left(- 0.0247975131056479 \\sin{\\left(4.99 \\mathbf{{x}_{a}} + 2.0 \\mathbf{{y}_{a}} + 9.97 \\mathbf{{z}_{a}} - 1000000000.0 t \\right)} + 0.0527916946235817 \\cos{\\left(4.99 \\mathbf{{x}_{a}} + 2.0 \\mathbf{{y}_{a}} + 9.97 \\mathbf{{z}_{a}} - 1000000000.0 t \\right)}\\right) e^{- 2.344 \\mathbf{{x}_{a}} - 0.9394 \\mathbf{{y}_{a}} - 4.6827 \\mathbf{{z}_{a}}})\\mathbf{\\hat{z_d}_{a}}$",
            "text/plain": [
              "((0.0260732402421436*sin(4.99*a.x + 2.0*a.y + 9.97*a.z - 1000000000.0*t) - 0.0555132441504531*cos(4.99*a.x + 2.0*a.y + 9.97*a.z - 1000000000.0*t))*exp(-2.344*a.x - 0.9394*a.y - 4.6827*a.z))*a.x_d + ((0.0585518836408695*sin(4.99*a.x + 2.0*a.y + 9.97*a.z - 1000000000.0*t) - 0.124661053543174*cos(4.99*a.x + 2.0*a.y + 9.97*a.z - 1000000000.0*t))*exp(-2.344*a.x - 0.9394*a.y - 4.6827*a.z))*a.y_d + ((-0.0247975131056479*sin(4.99*a.x + 2.0*a.y + 9.97*a.z - 1000000000.0*t) + 0.0527916946235817*cos(4.99*a.x + 2.0*a.y + 9.97*a.z - 1000000000.0*t))*exp(-2.344*a.x - 0.9394*a.y - 4.6827*a.z))*a.z_d"
            ]
          },
          "metadata": {
            "tags": []
          },
          "execution_count": 262
        }
      ]
    },
    {
      "cell_type": "code",
      "metadata": {
        "id": "T7BKlhYSF7LL",
        "colab_type": "code",
        "outputId": "eb42d6d2-2b45-4a2f-ab11-3c507e3206bd",
        "colab": {
          "base_uri": "https://localhost:8080/"
        }
      },
      "source": [
        "lt=r\"\\overrightarrow{h}=\"\n",
        "lt=lt+sp.latex(h)\n",
        "dlatex(lt)"
      ],
      "execution_count": 0,
      "outputs": [
        {
          "output_type": "display_data",
          "data": {
            "text/latex": "\\overrightarrow{h}=(\\left(0.0260732402421436 \\sin{\\left(4.99 \\mathbf{{x}_{a}} + 2.0 \\mathbf{{y}_{a}} + 9.97 \\mathbf{{z}_{a}} - 1000000000.0 t \\right)} - 0.0555132441504531 \\cos{\\left(4.99 \\mathbf{{x}_{a}} + 2.0 \\mathbf{{y}_{a}} + 9.97 \\mathbf{{z}_{a}} - 1000000000.0 t \\right)}\\right) e^{- 2.344 \\mathbf{{x}_{a}} - 0.9394 \\mathbf{{y}_{a}} - 4.6827 \\mathbf{{z}_{a}}})\\mathbf{\\hat{x_d}_{a}} + (\\left(0.0585518836408695 \\sin{\\left(4.99 \\mathbf{{x}_{a}} + 2.0 \\mathbf{{y}_{a}} + 9.97 \\mathbf{{z}_{a}} - 1000000000.0 t \\right)} - 0.124661053543174 \\cos{\\left(4.99 \\mathbf{{x}_{a}} + 2.0 \\mathbf{{y}_{a}} + 9.97 \\mathbf{{z}_{a}} - 1000000000.0 t \\right)}\\right) e^{- 2.344 \\mathbf{{x}_{a}} - 0.9394 \\mathbf{{y}_{a}} - 4.6827 \\mathbf{{z}_{a}}})\\mathbf{\\hat{y_d}_{a}} + (\\left(- 0.0247975131056479 \\sin{\\left(4.99 \\mathbf{{x}_{a}} + 2.0 \\mathbf{{y}_{a}} + 9.97 \\mathbf{{z}_{a}} - 1000000000.0 t \\right)} + 0.0527916946235817 \\cos{\\left(4.99 \\mathbf{{x}_{a}} + 2.0 \\mathbf{{y}_{a}} + 9.97 \\mathbf{{z}_{a}} - 1000000000.0 t \\right)}\\right) e^{- 2.344 \\mathbf{{x}_{a}} - 0.9394 \\mathbf{{y}_{a}} - 4.6827 \\mathbf{{z}_{a}}})\\mathbf{\\hat{z_d}_{a}}",
            "text/plain": [
              "<IPython.core.display.Latex object>"
            ]
          },
          "metadata": {
            "tags": []
          }
        }
      ]
    },
    {
      "cell_type": "markdown",
      "metadata": {
        "id": "UoDyuOV8KiFX",
        "colab_type": "text"
      },
      "source": [
        "c)"
      ]
    },
    {
      "cell_type": "code",
      "metadata": {
        "id": "wPaBhsuWkNvR",
        "colab_type": "code",
        "colab": {}
      },
      "source": [
        "v_f_x=ω_v/(β_v.dot(a.x_d))\n",
        "v_f_y=ω_v/(β_v.dot(a.y_d))\n",
        "v_f_z=ω_v/(β_v.dot(a.z_d))"
      ],
      "execution_count": 0,
      "outputs": []
    },
    {
      "cell_type": "code",
      "metadata": {
        "id": "LCLRWJUNJ6I3",
        "colab_type": "code",
        "outputId": "f8b67216-bc74-40f5-cbc2-55a5b809d934",
        "colab": {
          "base_uri": "https://localhost:8080/"
        }
      },
      "source": [
        "v_f_x"
      ],
      "execution_count": 0,
      "outputs": [
        {
          "output_type": "execute_result",
          "data": {
            "text/latex": "$\\displaystyle 200400801.603206$",
            "text/plain": [
              "200400801.603206"
            ]
          },
          "metadata": {
            "tags": []
          },
          "execution_count": 265
        }
      ]
    },
    {
      "cell_type": "code",
      "metadata": {
        "id": "gVfq0lq1KVVN",
        "colab_type": "code",
        "outputId": "d1b7c667-f35c-4576-8e55-0cc1daab4c6f",
        "colab": {
          "base_uri": "https://localhost:8080/"
        }
      },
      "source": [
        "np.log10(200400801.603206)"
      ],
      "execution_count": 0,
      "outputs": [
        {
          "output_type": "execute_result",
          "data": {
            "text/plain": [
              "8.30189945437661"
            ]
          },
          "metadata": {
            "tags": []
          },
          "execution_count": 266
        }
      ]
    },
    {
      "cell_type": "markdown",
      "metadata": {
        "id": "ViJQssU4KY2Z",
        "colab_type": "text"
      },
      "source": [
        "$v_{x}=2.0 \\times 10^{8}\\text{m/s}$"
      ]
    },
    {
      "cell_type": "code",
      "metadata": {
        "id": "xEi7_TPvKqmT",
        "colab_type": "code",
        "outputId": "06ca3fca-c5e2-43f7-e585-9ec295dba109",
        "colab": {
          "base_uri": "https://localhost:8080/"
        }
      },
      "source": [
        "v_f_y"
      ],
      "execution_count": 0,
      "outputs": [
        {
          "output_type": "execute_result",
          "data": {
            "text/latex": "$\\displaystyle 500000000.0$",
            "text/plain": [
              "500000000.000000"
            ]
          },
          "metadata": {
            "tags": []
          },
          "execution_count": 267
        }
      ]
    },
    {
      "cell_type": "code",
      "metadata": {
        "id": "-alMTimyKaes",
        "colab_type": "code",
        "outputId": "0a67d40e-e94f-4b12-a575-907547b6febf",
        "colab": {
          "base_uri": "https://localhost:8080/"
        }
      },
      "source": [
        "np.log10(500000000.0)"
      ],
      "execution_count": 0,
      "outputs": [
        {
          "output_type": "execute_result",
          "data": {
            "text/plain": [
              "8.698970004336019"
            ]
          },
          "metadata": {
            "tags": []
          },
          "execution_count": 268
        }
      ]
    },
    {
      "cell_type": "markdown",
      "metadata": {
        "id": "P6dMa9lqK0oN",
        "colab_type": "text"
      },
      "source": [
        "$v_{y}=5.0 \\times 10^{8} \\text{m/s}$"
      ]
    },
    {
      "cell_type": "code",
      "metadata": {
        "id": "vHget32WLRQn",
        "colab_type": "code",
        "outputId": "003bc0c9-7da4-41ed-f5bd-92f01875b97a",
        "colab": {
          "base_uri": "https://localhost:8080/"
        }
      },
      "source": [
        "scientific_notation = \"{:.2e}\".format(v_f_z)\n",
        "print(scientific_notation)"
      ],
      "execution_count": 0,
      "outputs": [
        {
          "output_type": "stream",
          "text": [
            "1.00e+8\n"
          ],
          "name": "stdout"
        }
      ]
    },
    {
      "cell_type": "markdown",
      "metadata": {
        "id": "LF-08HVKLecV",
        "colab_type": "text"
      },
      "source": [
        "$v_{z}=1.0 \\times 10^{8} \\text{m/s}$"
      ]
    },
    {
      "cell_type": "markdown",
      "metadata": {
        "id": "LIVOER4MKk0A",
        "colab_type": "text"
      },
      "source": [
        "d)"
      ]
    },
    {
      "cell_type": "code",
      "metadata": {
        "id": "fjp3nl0BkhVU",
        "colab_type": "code",
        "outputId": "26937c82-3338-408f-d49e-a4e13b0cf0c3",
        "colab": {
          "base_uri": "https://localhost:8080/"
        }
      },
      "source": [
        "E"
      ],
      "execution_count": 0,
      "outputs": [
        {
          "output_type": "execute_result",
          "data": {
            "text/latex": "$\\displaystyle (- 13.21 e^{\\mathbf{{x}_{a}} \\left(-2.344 - 4.99 i\\right) + \\mathbf{{y}_{a}} \\left(-0.9394 - 2.0 i\\right) + \\mathbf{{z}_{a}} \\left(-4.6827 - 9.97 i\\right)})\\mathbf{\\hat{x_d}_{a}} + (8.0 e^{\\mathbf{{x}_{a}} \\left(-2.344 - 4.99 i\\right) + \\mathbf{{y}_{a}} \\left(-0.9394 - 2.0 i\\right) + \\mathbf{{z}_{a}} \\left(-4.6827 - 9.97 i\\right)})\\mathbf{\\hat{y_d}_{a}} + (5.0 e^{\\mathbf{{x}_{a}} \\left(-2.344 - 4.99 i\\right) + \\mathbf{{y}_{a}} \\left(-0.9394 - 2.0 i\\right) + \\mathbf{{z}_{a}} \\left(-4.6827 - 9.97 i\\right)})\\mathbf{\\hat{z_d}_{a}}$",
            "text/plain": [
              "(-13.21*exp(a.x*(-2.344 - 4.99*I) + a.y*(-0.9394 - 2.0*I) + a.z*(-4.6827 - 9.97*I)))*a.x_d + (8.0*exp(a.x*(-2.344 - 4.99*I) + a.y*(-0.9394 - 2.0*I) + a.z*(-4.6827 - 9.97*I)))*a.y_d + (5.0*exp(a.x*(-2.344 - 4.99*I) + a.y*(-0.9394 - 2.0*I) + a.z*(-4.6827 - 9.97*I)))*a.z_d"
            ]
          },
          "metadata": {
            "tags": []
          },
          "execution_count": 270
        }
      ]
    },
    {
      "cell_type": "code",
      "metadata": {
        "id": "SVLUuGANkkzz",
        "colab_type": "code",
        "outputId": "62af211c-97a1-4886-ff39-87d03d6b40d2",
        "colab": {
          "base_uri": "https://localhost:8080/"
        }
      },
      "source": [
        "H"
      ],
      "execution_count": 0,
      "outputs": [
        {
          "output_type": "execute_result",
          "data": {
            "text/latex": "$\\displaystyle (\\frac{1.0 i \\left(5.0 \\left(-0.9394 - 2.0 i\\right) e^{\\mathbf{{x}_{a}} \\left(-2.344 - 4.99 i\\right) + \\mathbf{{y}_{a}} \\left(-0.9394 - 2.0 i\\right) + \\mathbf{{z}_{a}} \\left(-4.6827 - 9.97 i\\right)} - 8.0 \\left(-4.6827 - 9.97 i\\right) e^{\\mathbf{{x}_{a}} \\left(-2.344 - 4.99 i\\right) + \\mathbf{{y}_{a}} \\left(-0.9394 - 2.0 i\\right) + \\mathbf{{z}_{a}} \\left(-4.6827 - 9.97 i\\right)}\\right)}{μ_{0} ω})\\mathbf{\\hat{x_d}_{a}} + (\\frac{1.0 i \\left(- 5.0 \\left(-2.344 - 4.99 i\\right) e^{\\mathbf{{x}_{a}} \\left(-2.344 - 4.99 i\\right) + \\mathbf{{y}_{a}} \\left(-0.9394 - 2.0 i\\right) + \\mathbf{{z}_{a}} \\left(-4.6827 - 9.97 i\\right)} - 13.21 \\left(-4.6827 - 9.97 i\\right) e^{\\mathbf{{x}_{a}} \\left(-2.344 - 4.99 i\\right) + \\mathbf{{y}_{a}} \\left(-0.9394 - 2.0 i\\right) + \\mathbf{{z}_{a}} \\left(-4.6827 - 9.97 i\\right)}\\right)}{μ_{0} ω})\\mathbf{\\hat{y_d}_{a}} + (\\frac{1.0 i \\left(8.0 \\left(-2.344 - 4.99 i\\right) e^{\\mathbf{{x}_{a}} \\left(-2.344 - 4.99 i\\right) + \\mathbf{{y}_{a}} \\left(-0.9394 - 2.0 i\\right) + \\mathbf{{z}_{a}} \\left(-4.6827 - 9.97 i\\right)} + 13.21 \\left(-0.9394 - 2.0 i\\right) e^{\\mathbf{{x}_{a}} \\left(-2.344 - 4.99 i\\right) + \\mathbf{{y}_{a}} \\left(-0.9394 - 2.0 i\\right) + \\mathbf{{z}_{a}} \\left(-4.6827 - 9.97 i\\right)}\\right)}{μ_{0} ω})\\mathbf{\\hat{z_d}_{a}}$",
            "text/plain": [
              "(1.0*I*(5.0*(-0.9394 - 2.0*I)*exp(a.x*(-2.344 - 4.99*I) + a.y*(-0.9394 - 2.0*I) + a.z*(-4.6827 - 9.97*I)) - 8.0*(-4.6827 - 9.97*I)*exp(a.x*(-2.344 - 4.99*I) + a.y*(-0.9394 - 2.0*I) + a.z*(-4.6827 - 9.97*I)))/(μ_0*ω))*a.x_d + (1.0*I*(-5.0*(-2.344 - 4.99*I)*exp(a.x*(-2.344 - 4.99*I) + a.y*(-0.9394 - 2.0*I) + a.z*(-4.6827 - 9.97*I)) - 13.21*(-4.6827 - 9.97*I)*exp(a.x*(-2.344 - 4.99*I) + a.y*(-0.9394 - 2.0*I) + a.z*(-4.6827 - 9.97*I)))/(μ_0*ω))*a.y_d + (1.0*I*(8.0*(-2.344 - 4.99*I)*exp(a.x*(-2.344 - 4.99*I) + a.y*(-0.9394 - 2.0*I) + a.z*(-4.6827 - 9.97*I)) + 13.21*(-0.9394 - 2.0*I)*exp(a.x*(-2.344 - 4.99*I) + a.y*(-0.9394 - 2.0*I) + a.z*(-4.6827 - 9.97*I)))/(μ_0*ω))*a.z_d"
            ]
          },
          "metadata": {
            "tags": []
          },
          "execution_count": 271
        }
      ]
    },
    {
      "cell_type": "markdown",
      "metadata": {
        "id": "xABrAaMzSnrK",
        "colab_type": "text"
      },
      "source": [
        "Utilizando a fórmula vista em aula para o vetor de poyting instantâneo."
      ]
    },
    {
      "cell_type": "code",
      "metadata": {
        "id": "QtyNd4NXkmIc",
        "colab_type": "code",
        "outputId": "d929bb78-c16d-4f6b-aaa6-66ba9f30cc6d",
        "colab": {
          "base_uri": "https://localhost:8080/"
        }
      },
      "source": [
        "S_1=E.cross(\n",
        "    conjugate_v(H,a_subs)\n",
        ")\n",
        "S_2=E.cross(\n",
        "    H*sp.exp(1j*2*ω*t)\n",
        ")\n",
        "s=(1/2)*re_v(S_1+S_2,a_subs)\n",
        "s"
      ],
      "execution_count": 0,
      "outputs": [
        {
          "output_type": "execute_result",
          "data": {
            "text/latex": "$\\displaystyle (\\frac{0.5 \\left(1313.9885 \\sin^{2}{\\left(4.99 \\mathbf{{x}_{a}} + 2.0 \\mathbf{{y}_{a}} + 9.97 \\mathbf{{z}_{a}} \\right)} + 2.8421709430404 \\cdot 10^{-14} \\sin{\\left(9.98 \\mathbf{{x}_{a}} + 4.0 \\mathbf{{y}_{a}} + 19.94 \\mathbf{{z}_{a}} \\right)} - 617.184127 \\sin{\\left(9.98 \\mathbf{{x}_{a}} + 4.0 \\mathbf{{y}_{a}} + 19.94 \\mathbf{{z}_{a}} - 2.0 t ω \\right)} + 1313.9885 \\cos^{2}{\\left(4.99 \\mathbf{{x}_{a}} + 2.0 \\mathbf{{y}_{a}} + 9.97 \\mathbf{{z}_{a}} \\right)} + 1313.9885 \\cos{\\left(9.98 \\mathbf{{x}_{a}} + 4.0 \\mathbf{{y}_{a}} + 19.94 \\mathbf{{z}_{a}} - 2.0 t ω \\right)}\\right) e^{- 4.688 \\mathbf{{x}_{a}} - 1.8788 \\mathbf{{y}_{a}} - 9.3654 \\mathbf{{z}_{a}}}}{μ_{0} ω})\\mathbf{\\hat{x_d}_{a}} + (\\frac{0.5 \\left(527.5514 \\sin^{2}{\\left(4.99 \\mathbf{{x}_{a}} + 2.0 \\mathbf{{y}_{a}} + 9.97 \\mathbf{{z}_{a}} \\right)} + 2.8421709430404 \\cdot 10^{-14} \\sin{\\left(9.98 \\mathbf{{x}_{a}} + 4.0 \\mathbf{{y}_{a}} + 19.94 \\mathbf{{z}_{a}} \\right)} - 247.82007154 \\sin{\\left(9.98 \\mathbf{{x}_{a}} + 4.0 \\mathbf{{y}_{a}} + 19.94 \\mathbf{{z}_{a}} - 2.0 t ω \\right)} + 527.5514 \\cos^{2}{\\left(4.99 \\mathbf{{x}_{a}} + 2.0 \\mathbf{{y}_{a}} + 9.97 \\mathbf{{z}_{a}} \\right)} + 527.5514 \\cos{\\left(9.98 \\mathbf{{x}_{a}} + 4.0 \\mathbf{{y}_{a}} + 19.94 \\mathbf{{z}_{a}} - 2.0 t ω \\right)}\\right) e^{- 4.688 \\mathbf{{x}_{a}} - 1.8788 \\mathbf{{y}_{a}} - 9.3654 \\mathbf{{z}_{a}}}}{μ_{0} ω})\\mathbf{\\hat{y_d}_{a}} + (\\frac{0.5 \\left(2627.475377 \\sin^{2}{\\left(4.99 \\mathbf{{x}_{a}} + 2.0 \\mathbf{{y}_{a}} + 9.97 \\mathbf{{z}_{a}} \\right)} - 5.6843418860808 \\cdot 10^{-14} \\sin{\\left(9.98 \\mathbf{{x}_{a}} + 4.0 \\mathbf{{y}_{a}} + 19.94 \\mathbf{{z}_{a}} \\right)} - 1234.08834907 \\sin{\\left(9.98 \\mathbf{{x}_{a}} + 4.0 \\mathbf{{y}_{a}} + 19.94 \\mathbf{{z}_{a}} - 2.0 t ω \\right)} + 2627.475377 \\cos^{2}{\\left(4.99 \\mathbf{{x}_{a}} + 2.0 \\mathbf{{y}_{a}} + 9.97 \\mathbf{{z}_{a}} \\right)} + 2627.475377 \\cos{\\left(9.98 \\mathbf{{x}_{a}} + 4.0 \\mathbf{{y}_{a}} + 19.94 \\mathbf{{z}_{a}} - 2.0 t ω \\right)}\\right) e^{- 4.688 \\mathbf{{x}_{a}} - 1.8788 \\mathbf{{y}_{a}} - 9.3654 \\mathbf{{z}_{a}}}}{μ_{0} ω})\\mathbf{\\hat{z_d}_{a}}$",
            "text/plain": [
              "(0.5*(1313.9885*sin(4.99*a.x + 2.0*a.y + 9.97*a.z)**2 + 2.8421709430404e-14*sin(9.98*a.x + 4.0*a.y + 19.94*a.z) - 617.184127*sin(9.98*a.x + 4.0*a.y + 19.94*a.z - 2.0*t*ω) + 1313.9885*cos(4.99*a.x + 2.0*a.y + 9.97*a.z)**2 + 1313.9885*cos(9.98*a.x + 4.0*a.y + 19.94*a.z - 2.0*t*ω))*exp(-4.688*a.x - 1.8788*a.y - 9.3654*a.z)/(μ_0*ω))*a.x_d + (0.5*(527.5514*sin(4.99*a.x + 2.0*a.y + 9.97*a.z)**2 + 2.8421709430404e-14*sin(9.98*a.x + 4.0*a.y + 19.94*a.z) - 247.82007154*sin(9.98*a.x + 4.0*a.y + 19.94*a.z - 2.0*t*ω) + 527.5514*cos(4.99*a.x + 2.0*a.y + 9.97*a.z)**2 + 527.5514*cos(9.98*a.x + 4.0*a.y + 19.94*a.z - 2.0*t*ω))*exp(-4.688*a.x - 1.8788*a.y - 9.3654*a.z)/(μ_0*ω))*a.y_d + (0.5*(2627.475377*sin(4.99*a.x + 2.0*a.y + 9.97*a.z)**2 - 5.6843418860808e-14*sin(9.98*a.x + 4.0*a.y + 19.94*a.z) - 1234.08834907*sin(9.98*a.x + 4.0*a.y + 19.94*a.z - 2.0*t*ω) + 2627.475377*cos(4.99*a.x + 2.0*a.y + 9.97*a.z)**2 + 2627.475377*cos(9.98*a.x + 4.0*a.y + 19.94*a.z - 2.0*t*ω))*exp(-4.688*a.x - 1.8788*a.y - 9.3654*a.z)/(μ_0*ω))*a.z_d"
            ]
          },
          "metadata": {
            "tags": []
          },
          "execution_count": 272
        }
      ]
    },
    {
      "cell_type": "code",
      "metadata": {
        "id": "lnaaw3jkQJQk",
        "colab_type": "code",
        "outputId": "19689e22-d94b-4c41-b3a1-7e8aa0d19e31",
        "colab": {
          "base_uri": "https://localhost:8080/"
        }
      },
      "source": [
        "sp.simplify(s)"
      ],
      "execution_count": 0,
      "outputs": [
        {
          "output_type": "execute_result",
          "data": {
            "text/latex": "$\\displaystyle (\\frac{\\left(1.4210854715202 \\cdot 10^{-14} \\sin{\\left(9.98 \\mathbf{{x}_{a}} + 4.0 \\mathbf{{y}_{a}} + 19.94 \\mathbf{{z}_{a}} \\right)} - 308.5920635 \\sin{\\left(9.98 \\mathbf{{x}_{a}} + 4.0 \\mathbf{{y}_{a}} + 19.94 \\mathbf{{z}_{a}} - 2.0 t ω \\right)} + 656.99425 \\cos{\\left(9.98 \\mathbf{{x}_{a}} + 4.0 \\mathbf{{y}_{a}} + 19.94 \\mathbf{{z}_{a}} - 2.0 t ω \\right)} + 656.99425\\right) e^{- 4.688 \\mathbf{{x}_{a}} - 1.8788 \\mathbf{{y}_{a}} - 9.3654 \\mathbf{{z}_{a}}}}{μ_{0} ω})\\mathbf{\\hat{x_d}_{a}} + (\\frac{\\left(1.4210854715202 \\cdot 10^{-14} \\sin{\\left(9.98 \\mathbf{{x}_{a}} + 4.0 \\mathbf{{y}_{a}} + 19.94 \\mathbf{{z}_{a}} \\right)} - 123.91003577 \\sin{\\left(9.98 \\mathbf{{x}_{a}} + 4.0 \\mathbf{{y}_{a}} + 19.94 \\mathbf{{z}_{a}} - 2.0 t ω \\right)} + 263.7757 \\cos{\\left(9.98 \\mathbf{{x}_{a}} + 4.0 \\mathbf{{y}_{a}} + 19.94 \\mathbf{{z}_{a}} - 2.0 t ω \\right)} + 263.7757\\right) e^{- 4.688 \\mathbf{{x}_{a}} - 1.8788 \\mathbf{{y}_{a}} - 9.3654 \\mathbf{{z}_{a}}}}{μ_{0} ω})\\mathbf{\\hat{y_d}_{a}} + (\\frac{\\left(- 2.8421709430404 \\cdot 10^{-14} \\sin{\\left(9.98 \\mathbf{{x}_{a}} + 4.0 \\mathbf{{y}_{a}} + 19.94 \\mathbf{{z}_{a}} \\right)} - 617.044174535 \\sin{\\left(9.98 \\mathbf{{x}_{a}} + 4.0 \\mathbf{{y}_{a}} + 19.94 \\mathbf{{z}_{a}} - 2.0 t ω \\right)} + 1313.7376885 \\cos{\\left(9.98 \\mathbf{{x}_{a}} + 4.0 \\mathbf{{y}_{a}} + 19.94 \\mathbf{{z}_{a}} - 2.0 t ω \\right)} + 1313.7376885\\right) e^{- 4.688 \\mathbf{{x}_{a}} - 1.8788 \\mathbf{{y}_{a}} - 9.3654 \\mathbf{{z}_{a}}}}{μ_{0} ω})\\mathbf{\\hat{z_d}_{a}}$",
            "text/plain": [
              "((1.4210854715202e-14*sin(9.98*a.x + 4.0*a.y + 19.94*a.z) - 308.5920635*sin(9.98*a.x + 4.0*a.y + 19.94*a.z - 2.0*t*ω) + 656.99425*cos(9.98*a.x + 4.0*a.y + 19.94*a.z - 2.0*t*ω) + 656.99425)*exp(-4.688*a.x - 1.8788*a.y - 9.3654*a.z)/(μ_0*ω))*a.x_d + ((1.4210854715202e-14*sin(9.98*a.x + 4.0*a.y + 19.94*a.z) - 123.91003577*sin(9.98*a.x + 4.0*a.y + 19.94*a.z - 2.0*t*ω) + 263.7757*cos(9.98*a.x + 4.0*a.y + 19.94*a.z - 2.0*t*ω) + 263.7757)*exp(-4.688*a.x - 1.8788*a.y - 9.3654*a.z)/(μ_0*ω))*a.y_d + ((-2.8421709430404e-14*sin(9.98*a.x + 4.0*a.y + 19.94*a.z) - 617.044174535*sin(9.98*a.x + 4.0*a.y + 19.94*a.z - 2.0*t*ω) + 1313.7376885*cos(9.98*a.x + 4.0*a.y + 19.94*a.z - 2.0*t*ω) + 1313.7376885)*exp(-4.688*a.x - 1.8788*a.y - 9.3654*a.z)/(μ_0*ω))*a.z_d"
            ]
          },
          "metadata": {
            "tags": []
          },
          "execution_count": 273
        }
      ]
    },
    {
      "cell_type": "code",
      "metadata": {
        "id": "9UUJlwkSQOTZ",
        "colab_type": "code",
        "outputId": "5ed4c6a7-b4ea-40a7-99f0-80f68348e8e2",
        "colab": {
          "base_uri": "https://localhost:8080/"
        }
      },
      "source": [
        "s=s.subs([(ω,ω_v),\n",
        "        (μ_0,4*np.pi*1e-7)])\n",
        "s"
      ],
      "execution_count": 0,
      "outputs": [
        {
          "output_type": "execute_result",
          "data": {
            "text/latex": "$\\displaystyle (\\left(0.522819412352262 \\sin^{2}{\\left(4.99 \\mathbf{{x}_{a}} + 2.0 \\mathbf{{y}_{a}} + 9.97 \\mathbf{{z}_{a}} \\right)} + 1.13086388674258 \\cdot 10^{-17} \\sin{\\left(9.98 \\mathbf{{x}_{a}} + 4.0 \\mathbf{{y}_{a}} + 19.94 \\mathbf{{z}_{a}} \\right)} - 0.245569761524765 \\sin{\\left(9.98 \\mathbf{{x}_{a}} + 4.0 \\mathbf{{y}_{a}} + 19.94 \\mathbf{{z}_{a}} - 2000000000.0 t \\right)} + 0.522819412352262 \\cos^{2}{\\left(4.99 \\mathbf{{x}_{a}} + 2.0 \\mathbf{{y}_{a}} + 9.97 \\mathbf{{z}_{a}} \\right)} + 0.522819412352262 \\cos{\\left(9.98 \\mathbf{{x}_{a}} + 4.0 \\mathbf{{y}_{a}} + 19.94 \\mathbf{{z}_{a}} - 2000000000.0 t \\right)}\\right) e^{- 4.688 \\mathbf{{x}_{a}} - 1.8788 \\mathbf{{y}_{a}} - 9.3654 \\mathbf{{z}_{a}}})\\mathbf{\\hat{x_d}_{a}} + (\\left(0.209906032612624 \\sin^{2}{\\left(4.99 \\mathbf{{x}_{a}} + 2.0 \\mathbf{{y}_{a}} + 9.97 \\mathbf{{z}_{a}} \\right)} + 1.13086388674258 \\cdot 10^{-17} \\sin{\\left(9.98 \\mathbf{{x}_{a}} + 4.0 \\mathbf{{y}_{a}} + 19.94 \\mathbf{{z}_{a}} \\right)} - 0.0986044734574453 \\sin{\\left(9.98 \\mathbf{{x}_{a}} + 4.0 \\mathbf{{y}_{a}} + 19.94 \\mathbf{{z}_{a}} - 2000000000.0 t \\right)} + 0.209906032612624 \\cos^{2}{\\left(4.99 \\mathbf{{x}_{a}} + 2.0 \\mathbf{{y}_{a}} + 9.97 \\mathbf{{z}_{a}} \\right)} + 0.209906032612624 \\cos{\\left(9.98 \\mathbf{{x}_{a}} + 4.0 \\mathbf{{y}_{a}} + 19.94 \\mathbf{{z}_{a}} - 2000000000.0 t \\right)}\\right) e^{- 4.688 \\mathbf{{x}_{a}} - 1.8788 \\mathbf{{y}_{a}} - 9.3654 \\mathbf{{z}_{a}}})\\mathbf{\\hat{y_d}_{a}} + (\\left(1.04543923525448 \\sin^{2}{\\left(4.99 \\mathbf{{x}_{a}} + 2.0 \\mathbf{{y}_{a}} + 9.97 \\mathbf{{z}_{a}} \\right)} - 2.26172777348517 \\cdot 10^{-17} \\sin{\\left(9.98 \\mathbf{{x}_{a}} + 4.0 \\mathbf{{y}_{a}} + 19.94 \\mathbf{{z}_{a}} \\right)} - 0.491028152416517 \\sin{\\left(9.98 \\mathbf{{x}_{a}} + 4.0 \\mathbf{{y}_{a}} + 19.94 \\mathbf{{z}_{a}} - 2000000000.0 t \\right)} + 1.04543923525448 \\cos^{2}{\\left(4.99 \\mathbf{{x}_{a}} + 2.0 \\mathbf{{y}_{a}} + 9.97 \\mathbf{{z}_{a}} \\right)} + 1.04543923525448 \\cos{\\left(9.98 \\mathbf{{x}_{a}} + 4.0 \\mathbf{{y}_{a}} + 19.94 \\mathbf{{z}_{a}} - 2000000000.0 t \\right)}\\right) e^{- 4.688 \\mathbf{{x}_{a}} - 1.8788 \\mathbf{{y}_{a}} - 9.3654 \\mathbf{{z}_{a}}})\\mathbf{\\hat{z_d}_{a}}$",
            "text/plain": [
              "((0.522819412352262*sin(4.99*a.x + 2.0*a.y + 9.97*a.z)**2 + 1.13086388674258e-17*sin(9.98*a.x + 4.0*a.y + 19.94*a.z) - 0.245569761524765*sin(9.98*a.x + 4.0*a.y + 19.94*a.z - 2000000000.0*t) + 0.522819412352262*cos(4.99*a.x + 2.0*a.y + 9.97*a.z)**2 + 0.522819412352262*cos(9.98*a.x + 4.0*a.y + 19.94*a.z - 2000000000.0*t))*exp(-4.688*a.x - 1.8788*a.y - 9.3654*a.z))*a.x_d + ((0.209906032612624*sin(4.99*a.x + 2.0*a.y + 9.97*a.z)**2 + 1.13086388674258e-17*sin(9.98*a.x + 4.0*a.y + 19.94*a.z) - 0.0986044734574453*sin(9.98*a.x + 4.0*a.y + 19.94*a.z - 2000000000.0*t) + 0.209906032612624*cos(4.99*a.x + 2.0*a.y + 9.97*a.z)**2 + 0.209906032612624*cos(9.98*a.x + 4.0*a.y + 19.94*a.z - 2000000000.0*t))*exp(-4.688*a.x - 1.8788*a.y - 9.3654*a.z))*a.y_d + ((1.04543923525448*sin(4.99*a.x + 2.0*a.y + 9.97*a.z)**2 - 2.26172777348517e-17*sin(9.98*a.x + 4.0*a.y + 19.94*a.z) - 0.491028152416517*sin(9.98*a.x + 4.0*a.y + 19.94*a.z - 2000000000.0*t) + 1.04543923525448*cos(4.99*a.x + 2.0*a.y + 9.97*a.z)**2 + 1.04543923525448*cos(9.98*a.x + 4.0*a.y + 19.94*a.z - 2000000000.0*t))*exp(-4.688*a.x - 1.8788*a.y - 9.3654*a.z))*a.z_d"
            ]
          },
          "metadata": {
            "tags": []
          },
          "execution_count": 274
        }
      ]
    },
    {
      "cell_type": "code",
      "metadata": {
        "id": "4ih5Lh94Q9VQ",
        "colab_type": "code",
        "outputId": "c3916305-c90e-47e8-996e-cb5eeeca32c4",
        "colab": {
          "base_uri": "https://localhost:8080/"
        }
      },
      "source": [
        "sp.simplify(s) # VALOR INSTANTÂNEO"
      ],
      "execution_count": 0,
      "outputs": [
        {
          "output_type": "execute_result",
          "data": {
            "text/latex": "$\\displaystyle (\\left(1.13086388674258 \\cdot 10^{-17} \\sin{\\left(9.98 \\mathbf{{x}_{a}} + 4.0 \\mathbf{{y}_{a}} + 19.94 \\mathbf{{z}_{a}} \\right)} - 0.245569761524765 \\sin{\\left(9.98 \\mathbf{{x}_{a}} + 4.0 \\mathbf{{y}_{a}} + 19.94 \\mathbf{{z}_{a}} - 2000000000.0 t \\right)} + 0.522819412352262 \\cos{\\left(9.98 \\mathbf{{x}_{a}} + 4.0 \\mathbf{{y}_{a}} + 19.94 \\mathbf{{z}_{a}} - 2000000000.0 t \\right)} + 0.522819412352262\\right) e^{- 4.688 \\mathbf{{x}_{a}} - 1.8788 \\mathbf{{y}_{a}} - 9.3654 \\mathbf{{z}_{a}}})\\mathbf{\\hat{x_d}_{a}} + (\\left(1.13086388674258 \\cdot 10^{-17} \\sin{\\left(9.98 \\mathbf{{x}_{a}} + 4.0 \\mathbf{{y}_{a}} + 19.94 \\mathbf{{z}_{a}} \\right)} - 0.0986044734574453 \\sin{\\left(9.98 \\mathbf{{x}_{a}} + 4.0 \\mathbf{{y}_{a}} + 19.94 \\mathbf{{z}_{a}} - 2000000000.0 t \\right)} + 0.209906032612624 \\cos{\\left(9.98 \\mathbf{{x}_{a}} + 4.0 \\mathbf{{y}_{a}} + 19.94 \\mathbf{{z}_{a}} - 2000000000.0 t \\right)} + 0.209906032612624\\right) e^{- 4.688 \\mathbf{{x}_{a}} - 1.8788 \\mathbf{{y}_{a}} - 9.3654 \\mathbf{{z}_{a}}})\\mathbf{\\hat{y_d}_{a}} + (\\left(- 2.26172777348517 \\cdot 10^{-17} \\sin{\\left(9.98 \\mathbf{{x}_{a}} + 4.0 \\mathbf{{y}_{a}} + 19.94 \\mathbf{{z}_{a}} \\right)} - 0.491028152416517 \\sin{\\left(9.98 \\mathbf{{x}_{a}} + 4.0 \\mathbf{{y}_{a}} + 19.94 \\mathbf{{z}_{a}} - 2000000000.0 t \\right)} + 1.04543923525448 \\cos{\\left(9.98 \\mathbf{{x}_{a}} + 4.0 \\mathbf{{y}_{a}} + 19.94 \\mathbf{{z}_{a}} - 2000000000.0 t \\right)} + 1.04543923525448\\right) e^{- 4.688 \\mathbf{{x}_{a}} - 1.8788 \\mathbf{{y}_{a}} - 9.3654 \\mathbf{{z}_{a}}})\\mathbf{\\hat{z_d}_{a}}$",
            "text/plain": [
              "((1.13086388674258e-17*sin(9.98*a.x + 4.0*a.y + 19.94*a.z) - 0.245569761524765*sin(9.98*a.x + 4.0*a.y + 19.94*a.z - 2000000000.0*t) + 0.522819412352262*cos(9.98*a.x + 4.0*a.y + 19.94*a.z - 2000000000.0*t) + 0.522819412352262)*exp(-4.688*a.x - 1.8788*a.y - 9.3654*a.z))*a.x_d + ((1.13086388674258e-17*sin(9.98*a.x + 4.0*a.y + 19.94*a.z) - 0.0986044734574453*sin(9.98*a.x + 4.0*a.y + 19.94*a.z - 2000000000.0*t) + 0.209906032612624*cos(9.98*a.x + 4.0*a.y + 19.94*a.z - 2000000000.0*t) + 0.209906032612624)*exp(-4.688*a.x - 1.8788*a.y - 9.3654*a.z))*a.y_d + ((-2.26172777348517e-17*sin(9.98*a.x + 4.0*a.y + 19.94*a.z) - 0.491028152416517*sin(9.98*a.x + 4.0*a.y + 19.94*a.z - 2000000000.0*t) + 1.04543923525448*cos(9.98*a.x + 4.0*a.y + 19.94*a.z - 2000000000.0*t) + 1.04543923525448)*exp(-4.688*a.x - 1.8788*a.y - 9.3654*a.z))*a.z_d"
            ]
          },
          "metadata": {
            "tags": []
          },
          "execution_count": 275
        }
      ]
    },
    {
      "cell_type": "markdown",
      "metadata": {
        "id": "httaiTYOk61O",
        "colab_type": "text"
      },
      "source": [
        "VETOR DE POYNTING INSTANTÂNEO acima."
      ]
    },
    {
      "cell_type": "markdown",
      "metadata": {
        "id": "i63oLDHmKmdo",
        "colab_type": "text"
      },
      "source": [
        "e)"
      ]
    },
    {
      "cell_type": "markdown",
      "metadata": {
        "id": "QIMGtF8dljaw",
        "colab_type": "text"
      },
      "source": [
        "VALOR MÉDIO DO VETOR DE POYNTING INSTANTÂNEO"
      ]
    },
    {
      "cell_type": "code",
      "metadata": {
        "id": "k-OzwQy2kt-X",
        "colab_type": "code",
        "outputId": "b5a60b29-d326-4f05-c0bd-00a449459bda",
        "colab": {
          "base_uri": "https://localhost:8080/"
        }
      },
      "source": [
        "H=(-1/(1j*ω*μ_0))*spv.curl(E)\n",
        "v_1=conjugate_v(H,a_subs)\n",
        "v_2=E.cross(v_1) \n",
        "s_m=(1/2)*re_v(v_2,a_subs)\n",
        "s_m"
      ],
      "execution_count": 0,
      "outputs": [
        {
          "output_type": "execute_result",
          "data": {
            "text/latex": "$\\displaystyle (\\frac{0.5 \\left(2.8421709430404 \\cdot 10^{-14} \\sin{\\left(9.98 \\mathbf{{x}_{a}} + 4.0 \\mathbf{{y}_{a}} + 19.94 \\mathbf{{z}_{a}} \\right)} + 1313.9885\\right) e^{- 4.688 \\mathbf{{x}_{a}} - 1.8788 \\mathbf{{y}_{a}} - 9.3654 \\mathbf{{z}_{a}}}}{μ_{0} ω})\\mathbf{\\hat{x_d}_{a}} + (\\frac{0.5 \\left(2.8421709430404 \\cdot 10^{-14} \\sin{\\left(9.98 \\mathbf{{x}_{a}} + 4.0 \\mathbf{{y}_{a}} + 19.94 \\mathbf{{z}_{a}} \\right)} + 527.5514\\right) e^{- 4.688 \\mathbf{{x}_{a}} - 1.8788 \\mathbf{{y}_{a}} - 9.3654 \\mathbf{{z}_{a}}}}{μ_{0} ω})\\mathbf{\\hat{y_d}_{a}} + (\\frac{0.5 \\left(2627.475377 - 5.6843418860808 \\cdot 10^{-14} \\sin{\\left(9.98 \\mathbf{{x}_{a}} + 4.0 \\mathbf{{y}_{a}} + 19.94 \\mathbf{{z}_{a}} \\right)}\\right) e^{- 4.688 \\mathbf{{x}_{a}} - 1.8788 \\mathbf{{y}_{a}} - 9.3654 \\mathbf{{z}_{a}}}}{μ_{0} ω})\\mathbf{\\hat{z_d}_{a}}$",
            "text/plain": [
              "(0.5*(2.8421709430404e-14*sin(9.98*a.x + 4.0*a.y + 19.94*a.z) + 1313.9885)*exp(-4.688*a.x - 1.8788*a.y - 9.3654*a.z)/(μ_0*ω))*a.x_d + (0.5*(2.8421709430404e-14*sin(9.98*a.x + 4.0*a.y + 19.94*a.z) + 527.5514)*exp(-4.688*a.x - 1.8788*a.y - 9.3654*a.z)/(μ_0*ω))*a.y_d + (0.5*(2627.475377 - 5.6843418860808e-14*sin(9.98*a.x + 4.0*a.y + 19.94*a.z))*exp(-4.688*a.x - 1.8788*a.y - 9.3654*a.z)/(μ_0*ω))*a.z_d"
            ]
          },
          "metadata": {
            "tags": []
          },
          "execution_count": 276
        }
      ]
    },
    {
      "cell_type": "code",
      "metadata": {
        "id": "uh3gA2EsXXtk",
        "colab_type": "code",
        "outputId": "612bc38c-ffe8-4b2a-ca83-ff95fad86319",
        "colab": {
          "base_uri": "https://localhost:8080/"
        }
      },
      "source": [
        "s_m=sp.simplify(s_m)\n",
        "s_m"
      ],
      "execution_count": 0,
      "outputs": [
        {
          "output_type": "execute_result",
          "data": {
            "text/latex": "$\\displaystyle (\\frac{\\left(1.4210854715202 \\cdot 10^{-14} \\sin{\\left(9.98 \\mathbf{{x}_{a}} + 4.0 \\mathbf{{y}_{a}} + 19.94 \\mathbf{{z}_{a}} \\right)} + 656.99425\\right) e^{- 4.688 \\mathbf{{x}_{a}} - 1.8788 \\mathbf{{y}_{a}} - 9.3654 \\mathbf{{z}_{a}}}}{μ_{0} ω})\\mathbf{\\hat{x_d}_{a}} + (\\frac{\\left(1.4210854715202 \\cdot 10^{-14} \\sin{\\left(9.98 \\mathbf{{x}_{a}} + 4.0 \\mathbf{{y}_{a}} + 19.94 \\mathbf{{z}_{a}} \\right)} + 263.7757\\right) e^{- 4.688 \\mathbf{{x}_{a}} - 1.8788 \\mathbf{{y}_{a}} - 9.3654 \\mathbf{{z}_{a}}}}{μ_{0} ω})\\mathbf{\\hat{y_d}_{a}} + (\\frac{\\left(1313.7376885 - 2.8421709430404 \\cdot 10^{-14} \\sin{\\left(9.98 \\mathbf{{x}_{a}} + 4.0 \\mathbf{{y}_{a}} + 19.94 \\mathbf{{z}_{a}} \\right)}\\right) e^{- 4.688 \\mathbf{{x}_{a}} - 1.8788 \\mathbf{{y}_{a}} - 9.3654 \\mathbf{{z}_{a}}}}{μ_{0} ω})\\mathbf{\\hat{z_d}_{a}}$",
            "text/plain": [
              "((1.4210854715202e-14*sin(9.98*a.x + 4.0*a.y + 19.94*a.z) + 656.99425)*exp(-4.688*a.x - 1.8788*a.y - 9.3654*a.z)/(μ_0*ω))*a.x_d + ((1.4210854715202e-14*sin(9.98*a.x + 4.0*a.y + 19.94*a.z) + 263.7757)*exp(-4.688*a.x - 1.8788*a.y - 9.3654*a.z)/(μ_0*ω))*a.y_d + ((1313.7376885 - 2.8421709430404e-14*sin(9.98*a.x + 4.0*a.y + 19.94*a.z))*exp(-4.688*a.x - 1.8788*a.y - 9.3654*a.z)/(μ_0*ω))*a.z_d"
            ]
          },
          "metadata": {
            "tags": []
          },
          "execution_count": 277
        }
      ]
    },
    {
      "cell_type": "code",
      "metadata": {
        "id": "q1744gkfWn0R",
        "colab_type": "code",
        "outputId": "316b19ff-0093-4115-d3b1-5a047ba44ef0",
        "colab": {
          "base_uri": "https://localhost:8080/"
        }
      },
      "source": [
        "s_m=s_m.subs([\n",
        "          (ω,1e9),\n",
        "          (μ_0,4*np.pi*1e-7)\n",
        "])\n",
        "s_m # valor médio."
      ],
      "execution_count": 0,
      "outputs": [
        {
          "output_type": "execute_result",
          "data": {
            "text/latex": "$\\displaystyle (\\left(1.13086388674258 \\cdot 10^{-17} \\sin{\\left(9.98 \\mathbf{{x}_{a}} + 4.0 \\mathbf{{y}_{a}} + 19.94 \\mathbf{{z}_{a}} \\right)} + 0.522819412352262\\right) e^{- 4.688 \\mathbf{{x}_{a}} - 1.8788 \\mathbf{{y}_{a}} - 9.3654 \\mathbf{{z}_{a}}})\\mathbf{\\hat{x_d}_{a}} + (\\left(1.13086388674258 \\cdot 10^{-17} \\sin{\\left(9.98 \\mathbf{{x}_{a}} + 4.0 \\mathbf{{y}_{a}} + 19.94 \\mathbf{{z}_{a}} \\right)} + 0.209906032612624\\right) e^{- 4.688 \\mathbf{{x}_{a}} - 1.8788 \\mathbf{{y}_{a}} - 9.3654 \\mathbf{{z}_{a}}})\\mathbf{\\hat{y_d}_{a}} + (\\left(1.04543923525448 - 2.26172777348517 \\cdot 10^{-17} \\sin{\\left(9.98 \\mathbf{{x}_{a}} + 4.0 \\mathbf{{y}_{a}} + 19.94 \\mathbf{{z}_{a}} \\right)}\\right) e^{- 4.688 \\mathbf{{x}_{a}} - 1.8788 \\mathbf{{y}_{a}} - 9.3654 \\mathbf{{z}_{a}}})\\mathbf{\\hat{z_d}_{a}}$",
            "text/plain": [
              "((1.13086388674258e-17*sin(9.98*a.x + 4.0*a.y + 19.94*a.z) + 0.522819412352262)*exp(-4.688*a.x - 1.8788*a.y - 9.3654*a.z))*a.x_d + ((1.13086388674258e-17*sin(9.98*a.x + 4.0*a.y + 19.94*a.z) + 0.209906032612624)*exp(-4.688*a.x - 1.8788*a.y - 9.3654*a.z))*a.y_d + ((1.04543923525448 - 2.26172777348517e-17*sin(9.98*a.x + 4.0*a.y + 19.94*a.z))*exp(-4.688*a.x - 1.8788*a.y - 9.3654*a.z))*a.z_d"
            ]
          },
          "metadata": {
            "tags": []
          },
          "execution_count": 278
        }
      ]
    },
    {
      "cell_type": "markdown",
      "metadata": {
        "id": "95mutb2mryup",
        "colab_type": "text"
      },
      "source": [
        "# S2-8"
      ]
    },
    {
      "cell_type": "markdown",
      "metadata": {
        "id": "xnFCDa_-Ksts",
        "colab_type": "text"
      },
      "source": [
        "a)"
      ]
    },
    {
      "cell_type": "code",
      "metadata": {
        "id": "jurXyMurZSHk",
        "colab_type": "code",
        "outputId": "2353c109-bf04-42d9-ee5c-17232fb3c6b1",
        "colab": {
          "base_uri": "https://localhost:8080/"
        }
      },
      "source": [
        "σ=1.112e-2\n",
        "ω=2*np.pi*100e9\n",
        "μ_c=(5-4j)*4*np.pi*1e-7\n",
        "ε_ceq=(10-2j)*8.854e-12-1j*(σ/ω)\n",
        "η=sp.sqrt(μ_c/ε_ceq)\n",
        "η"
      ],
      "execution_count": 0,
      "outputs": [
        {
          "output_type": "execute_result",
          "data": {
            "text/latex": "$\\displaystyle \\sqrt{79157.3891851336 - 40924.1954848744 i}$",
            "text/plain": [
              "sqrt(79157.3891851336 - 40924.1954848744*I)"
            ]
          },
          "metadata": {
            "tags": []
          },
          "execution_count": 279
        }
      ]
    },
    {
      "cell_type": "code",
      "metadata": {
        "id": "evImzw1ObPTP",
        "colab_type": "code",
        "outputId": "730efa31-373d-4ca2-973b-8c3061ca498a",
        "colab": {
          "base_uri": "https://localhost:8080/"
        }
      },
      "source": [
        "μ_c/ε_ceq"
      ],
      "execution_count": 0,
      "outputs": [
        {
          "output_type": "execute_result",
          "data": {
            "text/plain": [
              "(79157.38918513361-40924.19548487443j)"
            ]
          },
          "metadata": {
            "tags": []
          },
          "execution_count": 280
        }
      ]
    },
    {
      "cell_type": "code",
      "metadata": {
        "id": "-BX1f06lbftp",
        "colab_type": "code",
        "outputId": "2c32f188-1545-4632-9f01-1a346a8a21e4",
        "colab": {
          "base_uri": "https://localhost:8080/"
        }
      },
      "source": [
        "np.roots([1,0,-μ_c/ε_ceq])"
      ],
      "execution_count": 0,
      "outputs": [
        {
          "output_type": "execute_result",
          "data": {
            "text/plain": [
              "array([ 290.05852326-70.5447215j, -290.05852326+70.5447215j])"
            ]
          },
          "metadata": {
            "tags": []
          },
          "execution_count": 281
        }
      ]
    },
    {
      "cell_type": "markdown",
      "metadata": {
        "id": "KAvL9sXZb0WW",
        "colab_type": "text"
      },
      "source": [
        "$$η=290.05852326-70.5447215j \\;\\; \\Omega$$\n",
        "\n",
        "Interpretação física"
      ]
    },
    {
      "cell_type": "code",
      "metadata": {
        "id": "kvIVIdb6c1lU",
        "colab_type": "code",
        "outputId": "23633e0c-1ca3-47a8-8c8f-25861311bd41",
        "colab": {
          "base_uri": "https://localhost:8080/"
        }
      },
      "source": [
        "γ=(1j*μ_c*ω)/(290.05852326-70.5447215j)\n",
        "γ"
      ],
      "execution_count": 0,
      "outputs": [
        {
          "output_type": "execute_result",
          "data": {
            "text/plain": [
              "(7154.989480584659+15350.655621616907j)"
            ]
          },
          "metadata": {
            "tags": []
          },
          "execution_count": 282
        }
      ]
    },
    {
      "cell_type": "code",
      "metadata": {
        "id": "FiPTMruIdTce",
        "colab_type": "code",
        "colab": {}
      },
      "source": [
        "α=7154.989480584659"
      ],
      "execution_count": 0,
      "outputs": []
    },
    {
      "cell_type": "markdown",
      "metadata": {
        "id": "DIYTiSNoKuSd",
        "colab_type": "text"
      },
      "source": [
        "b)"
      ]
    },
    {
      "cell_type": "markdown",
      "metadata": {
        "id": "5R3Be0jMd86q",
        "colab_type": "text"
      },
      "source": [
        "$$Q_{db}=-8.686 \\times α  r$$"
      ]
    },
    {
      "cell_type": "code",
      "metadata": {
        "id": "tMap6wi4ed1k",
        "colab_type": "code",
        "outputId": "3efd0d35-e8fe-400d-f3f9-915ddf8309e2",
        "colab": {
          "base_uri": "https://localhost:8080/"
        }
      },
      "source": [
        "r=20/(-8.686*α)\n",
        "r"
      ],
      "execution_count": 0,
      "outputs": [
        {
          "output_type": "execute_result",
          "data": {
            "text/plain": [
              "-0.00032181121205378726"
            ]
          },
          "metadata": {
            "tags": []
          },
          "execution_count": 284
        }
      ]
    },
    {
      "cell_type": "markdown",
      "metadata": {
        "id": "Rwx5JUrEfMKV",
        "colab_type": "text"
      },
      "source": [
        "O deslocamento realizado deve ser de $0.00032$ m"
      ]
    },
    {
      "cell_type": "markdown",
      "metadata": {
        "id": "F15K2MFtrzTy",
        "colab_type": "text"
      },
      "source": [
        "# S2-9"
      ]
    },
    {
      "cell_type": "markdown",
      "metadata": {
        "id": "csULt4UyK6PC",
        "colab_type": "text"
      },
      "source": [
        "a)"
      ]
    },
    {
      "cell_type": "markdown",
      "metadata": {
        "id": "D5fNj8qnPILF",
        "colab_type": "text"
      },
      "source": [
        "$\\log_{10}(|\\frac{I_2}{I_1}|)=-\\alpha \\times (2 \\cdot 8.686) \\cdot r= -\\alpha_{dB} \\cdot r$"
      ]
    },
    {
      "cell_type": "code",
      "metadata": {
        "id": "I9TwNlfPPw80",
        "colab_type": "code",
        "outputId": "2e7f28cd-3397-4e75-9ad7-7754d33df45b",
        "colab": {
          "base_uri": "https://localhost:8080/"
        }
      },
      "source": [
        "α_db=2.17\n",
        "r=10*np.log10(0.1*(1/100))/(-α_db)\n",
        "r"
      ],
      "execution_count": 0,
      "outputs": [
        {
          "output_type": "execute_result",
          "data": {
            "text/plain": [
              "13.824884792626728"
            ]
          },
          "metadata": {
            "tags": []
          },
          "execution_count": 285
        }
      ]
    },
    {
      "cell_type": "markdown",
      "metadata": {
        "id": "f_kqkAaaSewu",
        "colab_type": "text"
      },
      "source": [
        "Profundidade de 13.82 m"
      ]
    },
    {
      "cell_type": "markdown",
      "metadata": {
        "id": "gfs3s50kK4-i",
        "colab_type": "text"
      },
      "source": [
        "b)"
      ]
    },
    {
      "cell_type": "markdown",
      "metadata": {
        "id": "z4NOpjuWS-w5",
        "colab_type": "text"
      },
      "source": [
        "$$\\alpha^{2}-\\beta^{2}=-\\omega^{2}\\mu^{´}ε_{eq}^{´}$$\n",
        "$$2\\alpha \\beta=\\omega^{2}\\mu^{´}ε_{eq}^{´}\\tan(\\delta_{e})$$"
      ]
    },
    {
      "cell_type": "markdown",
      "metadata": {
        "id": "aGC-Q_XbURIA",
        "colab_type": "text"
      },
      "source": [
        "$$\\alpha_{dB}=2.17$$\n",
        "$$\\beta=2.5/10\\Rightarrow \\beta=0.25$$\n",
        "$$\\omega=\\sqrt{\\frac{\\beta^{2}-\\alpha^{2}}{\\mu^{´}ε_{eq}^{´}}}$$"
      ]
    },
    {
      "cell_type": "code",
      "metadata": {
        "id": "KMO-qk3kU041",
        "colab_type": "code",
        "outputId": "2358e983-77ff-4705-8c62-7e22dc1ccecd",
        "colab": {
          "base_uri": "https://localhost:8080/"
        }
      },
      "source": [
        "β=0.25\n",
        "α_db=2.17\n",
        "α=(α_db)/(2*8.686)\n",
        "μ=4*np.pi*1e-7\n",
        "ε_eq=81*8.852e-12\n",
        "ω=(β**2-α**2)/(μ*ε_eq)\n",
        "ω=np.sqrt(ω)\n",
        "ω"
      ],
      "execution_count": 0,
      "outputs": [
        {
          "output_type": "execute_result",
          "data": {
            "text/plain": [
              "7214436.870193808"
            ]
          },
          "metadata": {
            "tags": []
          },
          "execution_count": 286
        }
      ]
    },
    {
      "cell_type": "code",
      "metadata": {
        "id": "l7fpEnEZZRAv",
        "colab_type": "code",
        "colab": {}
      },
      "source": [
        "σ=4.0"
      ],
      "execution_count": 0,
      "outputs": []
    },
    {
      "cell_type": "code",
      "metadata": {
        "id": "mC1MjmeUWlKs",
        "colab_type": "code",
        "outputId": "94d7f5b2-299c-4eff-db28-35325162ea94",
        "colab": {
          "base_uri": "https://localhost:8080/"
        }
      },
      "source": [
        "scientific_notation = \"{:.2e}\".format(ω)\n",
        "print(scientific_notation)"
      ],
      "execution_count": 0,
      "outputs": [
        {
          "output_type": "stream",
          "text": [
            "7.21e+06\n"
          ],
          "name": "stdout"
        }
      ]
    },
    {
      "cell_type": "code",
      "metadata": {
        "id": "Gs54lEkXW6GS",
        "colab_type": "code",
        "outputId": "ca1b4436-8610-411a-9b62-7d17c2dffb40",
        "colab": {
          "base_uri": "https://localhost:8080/"
        }
      },
      "source": [
        "f=ω/(2*np.pi)\n",
        "scientific_notation = \"{:.2e}\".format(f)\n",
        "print(scientific_notation)"
      ],
      "execution_count": 0,
      "outputs": [
        {
          "output_type": "stream",
          "text": [
            "1.15e+06\n"
          ],
          "name": "stdout"
        }
      ]
    },
    {
      "cell_type": "markdown",
      "metadata": {
        "id": "GrNhdHitW4Lo",
        "colab_type": "text"
      },
      "source": [
        "Frequência: $f=1.15 \\times 10^{6} \\; \\text{Hz}= 1.15 \\; \\text{MHz}$ "
      ]
    },
    {
      "cell_type": "markdown",
      "metadata": {
        "id": "QgKDEMxSKvsZ",
        "colab_type": "text"
      },
      "source": [
        "c)"
      ]
    },
    {
      "cell_type": "markdown",
      "metadata": {
        "id": "LuPc4-DRXloA",
        "colab_type": "text"
      },
      "source": [
        "$$\\overrightarrow{J_d}=j\\omega(ε^{´}-jε^{''})\\overrightarrow{E}$$\n",
        "$$\\overrightarrow{J_c}=\\sigma\\overrightarrow{E}$$"
      ]
    },
    {
      "cell_type": "markdown",
      "metadata": {
        "id": "vBU24d2Uet_l",
        "colab_type": "text"
      },
      "source": [
        "$$2\\alpha \\beta=\\omega^{2}\\mu^{´}ε_{eq}^{´}\\tan(\\delta_{e})$$\n",
        "$$\\Rightarrow ε_{eq}^{´}\\tan(\\delta_{e}) =(2\\alpha \\beta)/(\\omega^{2}\\mu^{´}) $$"
      ]
    },
    {
      "cell_type": "code",
      "metadata": {
        "id": "zfjXAcuAe9oP",
        "colab_type": "code",
        "outputId": "2bd7e715-4b53-480c-886f-aeccce9fa184",
        "colab": {
          "base_uri": "https://localhost:8080/"
        }
      },
      "source": [
        "result=2*α*β\n",
        "result=result/(μ*ω**2)\n",
        "result"
      ],
      "execution_count": 0,
      "outputs": [
        {
          "output_type": "execute_result",
          "data": {
            "text/plain": [
              "9.549160183254857e-10"
            ]
          },
          "metadata": {
            "tags": []
          },
          "execution_count": 290
        }
      ]
    },
    {
      "cell_type": "code",
      "metadata": {
        "id": "TS2v5mkwfW49",
        "colab_type": "code",
        "outputId": "6ace2a9e-0c9d-4543-e875-fb5122f8c67a",
        "colab": {
          "base_uri": "https://localhost:8080/"
        }
      },
      "source": [
        "scientific_notation = \"{:.2e}\".format(result)\n",
        "print(scientific_notation)"
      ],
      "execution_count": 0,
      "outputs": [
        {
          "output_type": "stream",
          "text": [
            "9.55e-10\n"
          ],
          "name": "stdout"
        }
      ]
    },
    {
      "cell_type": "markdown",
      "metadata": {
        "id": "TZriH79Ufady",
        "colab_type": "text"
      },
      "source": [
        "Assim,\n",
        "$$ε^{''}+\\sigma/\\omega = 9.55 \\times 10^{-10}$$"
      ]
    },
    {
      "cell_type": "code",
      "metadata": {
        "id": "mAr4SqlufulC",
        "colab_type": "code",
        "outputId": "aa2f59b0-7f94-4746-f983-50577b6f05ec",
        "colab": {
          "base_uri": "https://localhost:8080/"
        }
      },
      "source": [
        "σ/ω"
      ],
      "execution_count": 0,
      "outputs": [
        {
          "output_type": "execute_result",
          "data": {
            "text/plain": [
              "5.544438286688542e-07"
            ]
          },
          "metadata": {
            "tags": []
          },
          "execution_count": 292
        }
      ]
    },
    {
      "cell_type": "code",
      "metadata": {
        "id": "UJySBC1whELN",
        "colab_type": "code",
        "colab": {}
      },
      "source": [
        "ω=sp.symbols('ω',real=True)"
      ],
      "execution_count": 0,
      "outputs": []
    },
    {
      "cell_type": "code",
      "metadata": {
        "id": "4RnEiitRgfIL",
        "colab_type": "code",
        "outputId": "621a98f9-a5a1-4ae8-b9af-d5b434bdfdef",
        "colab": {
          "base_uri": "https://localhost:8080/"
        }
      },
      "source": [
        "ε_eq=81*8.852e-12\n",
        "ε_eq"
      ],
      "execution_count": 0,
      "outputs": [
        {
          "output_type": "execute_result",
          "data": {
            "text/plain": [
              "7.17012e-10"
            ]
          },
          "metadata": {
            "tags": []
          },
          "execution_count": 294
        }
      ]
    },
    {
      "cell_type": "markdown",
      "metadata": {
        "id": "-27OiklmgSH3",
        "colab_type": "text"
      },
      "source": [
        "Portanto, $$\\overrightarrow{J_d}=j\\omega(ε^{´})\\overrightarrow{E}+(9.55 \\times 10^{-10}\\omega-4))\\overrightarrow{E}$$\n",
        "\n",
        "$$\\overrightarrow{J_c}=\\sigma\\overrightarrow{E}$$"
      ]
    },
    {
      "cell_type": "markdown",
      "metadata": {
        "id": "cFCfuZ86ipoy",
        "colab_type": "text"
      },
      "source": [
        "$$\\omega_{r}=\\frac{8}{9.55 \\times 10^{-10}} \\; \\text{(SI)}$$ \n",
        "para possuírem mesma parte real."
      ]
    },
    {
      "cell_type": "code",
      "metadata": {
        "id": "2MggUerciZmz",
        "colab_type": "code",
        "outputId": "06ee24bb-a77e-4fc0-d1fe-c3700b3b44b5",
        "colab": {
          "base_uri": "https://localhost:8080/"
        }
      },
      "source": [
        "ω_r=8/(9.55e-10)\n",
        "ω_r"
      ],
      "execution_count": 0,
      "outputs": [
        {
          "output_type": "execute_result",
          "data": {
            "text/plain": [
              "8376963350.785341"
            ]
          },
          "metadata": {
            "tags": []
          },
          "execution_count": 295
        }
      ]
    },
    {
      "cell_type": "code",
      "metadata": {
        "id": "vJ8TYtIsjBt-",
        "colab_type": "code",
        "outputId": "7e4e0221-77f0-41c5-ddc0-f5dfd8aa62a3",
        "colab": {
          "base_uri": "https://localhost:8080/"
        }
      },
      "source": [
        "scientific_notation = \"{:.2e}\".format(ω_r)\n",
        "print(scientific_notation)"
      ],
      "execution_count": 0,
      "outputs": [
        {
          "output_type": "stream",
          "text": [
            "8.38e+09\n"
          ],
          "name": "stdout"
        }
      ]
    },
    {
      "cell_type": "code",
      "metadata": {
        "id": "W8GtC7QGjGkz",
        "colab_type": "code",
        "outputId": "0b303a34-28f4-4c0c-e8a5-6decdb57f4ac",
        "colab": {
          "base_uri": "https://localhost:8080/"
        }
      },
      "source": [
        "ω_r*ε_eq"
      ],
      "execution_count": 0,
      "outputs": [
        {
          "output_type": "execute_result",
          "data": {
            "text/plain": [
              "6.006383246073299"
            ]
          },
          "metadata": {
            "tags": []
          },
          "execution_count": 297
        }
      ]
    },
    {
      "cell_type": "code",
      "metadata": {
        "id": "4buejH3YjaSe",
        "colab_type": "code",
        "outputId": "eb6202a6-c486-4e4b-b297-31fedb868c63",
        "colab": {
          "base_uri": "https://localhost:8080/"
        }
      },
      "source": [
        "v=(ω*ε_eq)*a.x_d+(9.55e-10*ω-4.0)*a.y_d\n",
        "v"
      ],
      "execution_count": 0,
      "outputs": [
        {
          "output_type": "execute_result",
          "data": {
            "text/latex": "$\\displaystyle (7.17012 \\cdot 10^{-10} ω)\\mathbf{\\hat{x_d}_{a}} + (9.55 \\cdot 10^{-10} ω - 4.0)\\mathbf{\\hat{y_d}_{a}}$",
            "text/plain": [
              "(7.17012e-10*ω)*a.x_d + (9.55e-10*ω - 4.0)*a.y_d"
            ]
          },
          "metadata": {
            "tags": []
          },
          "execution_count": 298
        }
      ]
    },
    {
      "cell_type": "code",
      "metadata": {
        "id": "eqq4yUw6jt50",
        "colab_type": "code",
        "outputId": "a78875e6-b6c2-4bf0-ed92-366cebda27fb",
        "colab": {
          "base_uri": "https://localhost:8080/"
        }
      },
      "source": [
        "sp.simplify(v.dot(v)) # COEFICIENTE DE MÓDULO AO QUADRADO DA DENSIDADE DE CORRENTE DE DESLOCAMENTO"
      ],
      "execution_count": 0,
      "outputs": [
        {
          "output_type": "execute_result",
          "data": {
            "text/latex": "$\\displaystyle 1.426131208144 \\cdot 10^{-18} ω^{2} - 7.64 \\cdot 10^{-9} ω + 16.0$",
            "text/plain": [
              "1.426131208144e-18*ω**2 - 7.64e-9*ω + 16.0"
            ]
          },
          "metadata": {
            "tags": []
          },
          "execution_count": 299
        }
      ]
    },
    {
      "cell_type": "code",
      "metadata": {
        "id": "C8o6z0T8j3HZ",
        "colab_type": "code",
        "outputId": "933e9b30-31b4-4dd5-e73b-f38389662083",
        "colab": {
          "base_uri": "https://localhost:8080/"
        }
      },
      "source": [
        "np.roots([1.426131208144e-18,-7.64e-9,0]) # Coecifiente ao quadrado ... da dens... de correntente condução é 16.0"
      ],
      "execution_count": 0,
      "outputs": [
        {
          "output_type": "execute_result",
          "data": {
            "text/plain": [
              "array([5.35715084e+09, 0.00000000e+00])"
            ]
          },
          "metadata": {
            "tags": []
          },
          "execution_count": 300
        }
      ]
    },
    {
      "cell_type": "markdown",
      "metadata": {
        "id": "RUa9S0Fqks5t",
        "colab_type": "text"
      },
      "source": [
        "Portanto:\n",
        "\n",
        "$$\\omega=5.35715084 \\times 10^{09} \\; \\text{(SI)} \\Rightarrow |\\overrightarrow{J_{c}}|=|\\overrightarrow{J_{d}}|$$\n"
      ]
    },
    {
      "cell_type": "code",
      "metadata": {
        "id": "u6tj6EagliRz",
        "colab_type": "code",
        "outputId": "77a155d7-9da3-4cee-ceee-b9120bf31b1b",
        "colab": {
          "base_uri": "https://localhost:8080/"
        }
      },
      "source": [
        "ω_r=5.35715084e+09\n",
        "f_r=ω_r/(2*np.pi)\n",
        "f_r"
      ],
      "execution_count": 0,
      "outputs": [
        {
          "output_type": "execute_result",
          "data": {
            "text/plain": [
              "852617037.0748993"
            ]
          },
          "metadata": {
            "tags": []
          },
          "execution_count": 301
        }
      ]
    },
    {
      "cell_type": "code",
      "metadata": {
        "id": "nTTgPxMPlrQw",
        "colab_type": "code",
        "outputId": "eb0c627e-e7c9-4ebf-920e-965da218b510",
        "colab": {
          "base_uri": "https://localhost:8080/"
        }
      },
      "source": [
        "scientific_notation = \"{:.2e}\".format(f_r)\n",
        "print(scientific_notation)"
      ],
      "execution_count": 0,
      "outputs": [
        {
          "output_type": "stream",
          "text": [
            "8.53e+08\n"
          ],
          "name": "stdout"
        }
      ]
    },
    {
      "cell_type": "markdown",
      "metadata": {
        "id": "xcX-1EDilyZJ",
        "colab_type": "text"
      },
      "source": [
        "$$f=853.0 \\times 10^{06} \\; \\text{(Hz)} \\Rightarrow |\\overrightarrow{J_{c}}|=|\\overrightarrow{J_{d}}|$$\n",
        "\n",
        "$$f=853.0 \\; \\text{(MHz)} \\Rightarrow |\\overrightarrow{J_{c}}|=|\\overrightarrow{J_{d}}|$$"
      ]
    },
    {
      "cell_type": "markdown",
      "metadata": {
        "id": "9bajdDwmrz1o",
        "colab_type": "text"
      },
      "source": [
        "# S2-10"
      ]
    },
    {
      "cell_type": "markdown",
      "metadata": {
        "id": "ulHyAmCZLDa5",
        "colab_type": "text"
      },
      "source": [
        "a)"
      ]
    },
    {
      "cell_type": "code",
      "metadata": {
        "id": "FAA57iWuoRYj",
        "colab_type": "code",
        "outputId": "2d1b182c-1ba9-441f-9718-148289478025",
        "colab": {
          "base_uri": "https://localhost:8080/",
          "height": 35
        }
      },
      "source": [
        "c=3e8\n",
        "f=24.15e9\n",
        "T=1/f\n",
        "T"
      ],
      "execution_count": 0,
      "outputs": [
        {
          "output_type": "execute_result",
          "data": {
            "text/plain": [
              "4.1407867494824017e-11"
            ]
          },
          "metadata": {
            "tags": []
          },
          "execution_count": 303
        }
      ]
    },
    {
      "cell_type": "code",
      "metadata": {
        "id": "b3p9fn89opni",
        "colab_type": "code",
        "outputId": "2de5c0fe-22f7-486a-aba2-b1693eacdcbd",
        "colab": {
          "base_uri": "https://localhost:8080/",
          "height": 35
        }
      },
      "source": [
        "scientific_notation = \"{:.2e}\".format(T)\n",
        "print(scientific_notation)"
      ],
      "execution_count": 0,
      "outputs": [
        {
          "output_type": "stream",
          "text": [
            "4.14e-11\n"
          ],
          "name": "stdout"
        }
      ]
    },
    {
      "cell_type": "code",
      "metadata": {
        "id": "RItZ8Lz7os7L",
        "colab_type": "code",
        "outputId": "7b391587-1202-44e9-8f7a-25f47abcc33b",
        "colab": {
          "base_uri": "https://localhost:8080/",
          "height": 35
        }
      },
      "source": [
        "λ_0=c/f\n",
        "scientific_notation = \"{:.2e}\".format(λ_0)\n",
        "print(scientific_notation)"
      ],
      "execution_count": 0,
      "outputs": [
        {
          "output_type": "stream",
          "text": [
            "1.24e-02\n"
          ],
          "name": "stdout"
        }
      ]
    },
    {
      "cell_type": "code",
      "metadata": {
        "id": "QXDK6IWBo3L-",
        "colab_type": "code",
        "outputId": "54a484ef-4cd2-4469-b804-e86540736749",
        "colab": {
          "base_uri": "https://localhost:8080/",
          "height": 35
        }
      },
      "source": [
        "k_0=(2*np.pi)/(λ_0)\n",
        "scientific_notation = \"{:.2e}\".format(k_0)\n",
        "print(scientific_notation)"
      ],
      "execution_count": 0,
      "outputs": [
        {
          "output_type": "stream",
          "text": [
            "5.06e+02\n"
          ],
          "name": "stdout"
        }
      ]
    },
    {
      "cell_type": "markdown",
      "metadata": {
        "id": "EOgh3nLopBKI",
        "colab_type": "text"
      },
      "source": [
        "$T=41.4\\;\\text{ps}$, $λ_0=1.24 \\times 10^{-2} \\; \\text{m}$, $k_0=5.06 \\times 10^{2} \\; \\text{m}^{-1}$"
      ]
    },
    {
      "cell_type": "markdown",
      "metadata": {
        "id": "SxLju2AuLEKw",
        "colab_type": "text"
      },
      "source": [
        "b)"
      ]
    },
    {
      "cell_type": "code",
      "metadata": {
        "id": "eaUkkPAsptlf",
        "colab_type": "code",
        "outputId": "6de1081c-f719-49da-a04a-817dfe8e1c7b",
        "colab": {
          "base_uri": "https://localhost:8080/",
          "height": 35
        }
      },
      "source": [
        "f=489.25e6\n",
        "λ_1=c/f\n",
        "scientific_notation = \"{:.2e}\".format(λ_1)\n",
        "print(scientific_notation)"
      ],
      "execution_count": 0,
      "outputs": [
        {
          "output_type": "stream",
          "text": [
            "6.13e-01\n"
          ],
          "name": "stdout"
        }
      ]
    },
    {
      "cell_type": "code",
      "metadata": {
        "id": "Xa9VCpwVrcJD",
        "colab_type": "code",
        "outputId": "e772e8d7-d2f4-4dcc-c2dc-3c723cac8692",
        "colab": {
          "base_uri": "https://localhost:8080/",
          "height": 35
        }
      },
      "source": [
        "L_1=λ_1/2\n",
        "scientific_notation = \"{:.2e}\".format(L_1)\n",
        "print(scientific_notation)"
      ],
      "execution_count": 0,
      "outputs": [
        {
          "output_type": "stream",
          "text": [
            "3.07e-01\n"
          ],
          "name": "stdout"
        }
      ]
    },
    {
      "cell_type": "code",
      "metadata": {
        "id": "Yu2vjJ4ep1-O",
        "colab_type": "code",
        "outputId": "86c08308-9187-4fac-e91c-5d8f096526d6",
        "colab": {
          "base_uri": "https://localhost:8080/",
          "height": 35
        }
      },
      "source": [
        "f=693.25e6\n",
        "λ_2=c/f\n",
        "scientific_notation = \"{:.2e}\".format(λ_2)\n",
        "print(scientific_notation)"
      ],
      "execution_count": 0,
      "outputs": [
        {
          "output_type": "stream",
          "text": [
            "4.33e-01\n"
          ],
          "name": "stdout"
        }
      ]
    },
    {
      "cell_type": "code",
      "metadata": {
        "id": "RhjytUfwrgvf",
        "colab_type": "code",
        "outputId": "925a6dc0-cbd5-4321-c535-60bbb821d670",
        "colab": {
          "base_uri": "https://localhost:8080/",
          "height": 35
        }
      },
      "source": [
        "L_2=λ_2/2\n",
        "scientific_notation = \"{:.2e}\".format(L_2)\n",
        "print(scientific_notation)"
      ],
      "execution_count": 0,
      "outputs": [
        {
          "output_type": "stream",
          "text": [
            "2.16e-01\n"
          ],
          "name": "stdout"
        }
      ]
    },
    {
      "cell_type": "markdown",
      "metadata": {
        "id": "BDSm2te7rwgv",
        "colab_type": "text"
      },
      "source": [
        "Portanto, os comprimentos \"ótimos\" dos dipolos para receberem os sinais das estações canal 17 e canal 51 são, respectivamente, $3.07 \\times 10^{-1} \\; \\text{m}$ e $2.16 \\times 10^{-1} \\; \\text{m}$."
      ]
    },
    {
      "cell_type": "markdown",
      "metadata": {
        "id": "gVtzFQ3uLE82",
        "colab_type": "text"
      },
      "source": [
        "c)"
      ]
    },
    {
      "cell_type": "code",
      "metadata": {
        "id": "vQ8C8FqhUQLz",
        "colab_type": "code",
        "outputId": "9f23bdb0-b759-4973-f681-14300f778fba",
        "colab": {
          "base_uri": "https://localhost:8080/",
          "height": 35
        }
      },
      "source": [
        "λ_1=10e-2\n",
        "f=c/λ_1\n",
        "scientific_notation = \"{:.2e}\".format(f)\n",
        "print(scientific_notation)"
      ],
      "execution_count": 0,
      "outputs": [
        {
          "output_type": "stream",
          "text": [
            "3.00e+09\n"
          ],
          "name": "stdout"
        }
      ]
    },
    {
      "cell_type": "markdown",
      "metadata": {
        "id": "0IHI46C3tWbQ",
        "colab_type": "text"
      },
      "source": [
        "Frequência $f = 3 \\text{GHz}$."
      ]
    },
    {
      "cell_type": "markdown",
      "metadata": {
        "id": "CV1qBoKXtdAy",
        "colab_type": "text"
      },
      "source": [
        "$120 \\pi \\sqrt{\\mu_r/ε_r}= |\\overrightarrow{E_{u}}|/|\\overrightarrow{H_{v}}|=500$\n",
        "\n",
        "$$\\sqrt{\\mu_r/ε_r}=\\frac{500}{120\\pi}$$"
      ]
    },
    {
      "cell_type": "markdown",
      "metadata": {
        "id": "fc4f_Zosu1tV",
        "colab_type": "text"
      },
      "source": [
        "$$\\sqrt{\\mu_r ε_r} = \\frac{c}{c_n} = \\frac{\\lambda}{\\lambda_n}=10/7$$\n",
        "\n",
        "$$\\Rightarrow \\mu_r = (10/7) \\times (\\frac{500}{120\\pi})$$\n",
        "\n",
        "$$\\Rightarrow ε_r = (10/7) \\times (\\frac{120\\pi}{500})$$"
      ]
    },
    {
      "cell_type": "code",
      "metadata": {
        "id": "mDrLVfeAunSx",
        "colab_type": "code",
        "colab": {}
      },
      "source": [
        "u=(10/7)*(500/(120*np.pi))\n",
        "e=(10/7)*((500/(120*np.pi))**-1)"
      ],
      "execution_count": 0,
      "outputs": []
    },
    {
      "cell_type": "code",
      "metadata": {
        "id": "mDWAcnCKv3jy",
        "colab_type": "code",
        "outputId": "777925c5-e21c-4298-ce9a-353218ae57f9",
        "colab": {
          "base_uri": "https://localhost:8080/",
          "height": 35
        }
      },
      "source": [
        "u\n",
        "scientific_notation = \"{:.2e}\".format(u)\n",
        "print(scientific_notation)"
      ],
      "execution_count": 0,
      "outputs": [
        {
          "output_type": "stream",
          "text": [
            "1.89e+00\n"
          ],
          "name": "stdout"
        }
      ]
    },
    {
      "cell_type": "code",
      "metadata": {
        "id": "xgdGLjOjv7lI",
        "colab_type": "code",
        "outputId": "a8e912ff-ab43-474f-d695-ab1a173872fb",
        "colab": {
          "base_uri": "https://localhost:8080/",
          "height": 35
        }
      },
      "source": [
        "e\n",
        "scientific_notation = \"{:.2e}\".format(e)\n",
        "print(scientific_notation)"
      ],
      "execution_count": 0,
      "outputs": [
        {
          "output_type": "stream",
          "text": [
            "1.08e+00\n"
          ],
          "name": "stdout"
        }
      ]
    },
    {
      "cell_type": "markdown",
      "metadata": {
        "id": "kl9qod3hwClk",
        "colab_type": "text"
      },
      "source": [
        "$$\\Rightarrow \\mu_r = 1.89 \\; \\text{SI}$$\n",
        "\n",
        "$$\\Rightarrow ε_r = 1.08\\; \\text{SI}$$"
      ]
    }
  ]
}